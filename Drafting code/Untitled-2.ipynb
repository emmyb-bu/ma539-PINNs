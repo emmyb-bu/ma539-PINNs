{
 "cells": [
  {
   "cell_type": "code",
   "execution_count": 1,
   "metadata": {},
   "outputs": [],
   "source": [
    "using Lux, Optimisers, Random, ForwardDiff, Statistics, LinearAlgebra, Plots, PlotThemes; theme(:dao)\n",
    "const FD = ForwardDiff;"
   ]
  },
  {
   "cell_type": "code",
   "execution_count": 2,
   "metadata": {},
   "outputs": [],
   "source": [
    "rng = Random.MersenneTwister();"
   ]
  },
  {
   "cell_type": "code",
   "execution_count": 107,
   "metadata": {},
   "outputs": [
    {
     "data": {
      "text/plain": [
       "Chain(\n",
       "    layer_1 = Dense(2 => 40, tanh_fast),  \u001b[90m# 120 parameters\u001b[39m\n",
       "    layer_2 = Dense(40 => 40, tanh_fast),  \u001b[90m# 1_640 parameters\u001b[39m\n",
       "    layer_3 = Dense(40 => 40, tanh_fast),  \u001b[90m# 1_640 parameters\u001b[39m\n",
       "    layer_4 = Dense(40 => 40, tanh_fast),  \u001b[90m# 1_640 parameters\u001b[39m\n",
       "    layer_5 = Dense(40 => 40, tanh_fast),  \u001b[90m# 1_640 parameters\u001b[39m\n",
       "    layer_6 = Dense(40 => 2),           \u001b[90m# 82 parameters\u001b[39m\n",
       ") \u001b[90m        # Total: \u001b[39m6_762 parameters,\n",
       "\u001b[90m          #        plus \u001b[39m0 states, \u001b[90msummarysize \u001b[39m96 bytes."
      ]
     },
     "metadata": {},
     "output_type": "display_data"
    }
   ],
   "source": [
    "nNeurons = 40;\n",
    "ψmodel = Chain(\n",
    "    Dense(2 => nNeurons, tanh), #input [x,t]\n",
    "    Dense(nNeurons => nNeurons, tanh),\n",
    "    Dense(nNeurons => nNeurons, tanh),\n",
    "    Dense(nNeurons => nNeurons, tanh),\n",
    "    Dense(nNeurons => nNeurons, tanh),\n",
    "    # Dense(nNeurons => nNeurons, tanh),\n",
    "    # Dense(nNeurons => nNeurons, tanh),\n",
    "    # Dense(nNeurons => nNeurons, tanh),\n",
    "    Dense(nNeurons => 2, identity), #output [re(ψ), im(ψ)]\n",
    ")"
   ]
  },
  {
   "cell_type": "code",
   "execution_count": 108,
   "metadata": {},
   "outputs": [],
   "source": [
    "ps, st = Lux.setup(rng, ψmodel);"
   ]
  },
  {
   "cell_type": "code",
   "execution_count": 29,
   "metadata": {},
   "outputs": [
    {
     "data": {
      "text/plain": [
       "([-0.5463319434658296, -0.009438995703147546], (layer_1 = NamedTuple(), layer_2 = NamedTuple(), layer_3 = NamedTuple(), layer_4 = NamedTuple(), layer_5 = NamedTuple(), layer_6 = NamedTuple()))"
      ]
     },
     "metadata": {},
     "output_type": "display_data"
    }
   ],
   "source": [
    "xtest = randn(2);\n",
    "y, st = Lux.apply(ψmodel, xtest, ps, st)"
   ]
  },
  {
   "cell_type": "code",
   "execution_count": 30,
   "metadata": {},
   "outputs": [
    {
     "data": {
      "text/plain": [
       "vector_hessian (generic function with 1 method)"
      ]
     },
     "metadata": {},
     "output_type": "display_data"
    }
   ],
   "source": [
    "function vector_hessian(f, x)\n",
    "    n = length(x)\n",
    "    out = ForwardDiff.jacobian(x -> ForwardDiff.jacobian(f, x), x)\n",
    "    return reshape(out, n, n, n)\n",
    "end"
   ]
  },
  {
   "cell_type": "code",
   "execution_count": 31,
   "metadata": {},
   "outputs": [],
   "source": [
    "# ψNN(x,t) = [x^2 + t, t+exp(x)]"
   ]
  },
  {
   "cell_type": "markdown",
   "metadata": {},
   "source": [
    "Let $E$ be some units of energy. The dimension-less Schrodinger equation is:\n",
    "$$\n",
    "i \\frac{\\partial \\psi}{\\partial \\tau} = -\\frac{1}{2} \\frac{\\partial^2\\psi}{\\partial \\xi^2} + (V(\\beta\\xi)/E)\\psi\n",
    "\\\\\n",
    "\\beta = \\frac{\\hbar}{\\sqrt{m E}}\n",
    "\\\\\n",
    "x = \\beta \\xi\n",
    "\\\\\n",
    "t = \\frac{\\hbar}{E} \\tau\n",
    "$$"
   ]
  },
  {
   "cell_type": "code",
   "execution_count": 32,
   "metadata": {},
   "outputs": [],
   "source": [
    "# ForwardDiff.derivative(x -> ψNN(x,1.0),1.0)"
   ]
  },
  {
   "cell_type": "code",
   "execution_count": 33,
   "metadata": {},
   "outputs": [],
   "source": [
    "# ψNN(x,t) = (Lux.apply(ψmodel, [x,t], ps, st)[1])\n",
    "# ∂ψ∂t(ψ,x,t) = FD.derivative(t -> ψ(x,t),t) |> X -> complex(X...);\n",
    "# ∂²ψ∂x²(ψ,x,t) = FD.derivative(x->FD.derivative(x->ψ(x,t),x),x) |> X -> complex(X...);\n",
    "# V(x) = 0;\n",
    "# TDSE(ψ,x,t) = 1.0im*∂ψ∂t(ψ,x,t) - (-∂²ψ∂x²(ψ,x,t)/2 + V(x)*complex(ψ(x,t)...));"
   ]
  },
  {
   "cell_type": "code",
   "execution_count": 109,
   "metadata": {},
   "outputs": [],
   "source": [
    "Ncollocation = 2000;\n",
    "Tmax = 50.0;\n",
    "collocationPts =(hcat(rand(Ncollocation), Tmax*rand(Ncollocation)))';\n",
    "# collocationPts =(collect∘eachrow)(hcat(rand(Ncollocation), Tmax*rand(Ncollocation)));\n",
    "N∂t₀ = 200;\n",
    "N∂x = 200;\n",
    "ψ₀(x) = (collect∘reim)( sin(π*x) + sin(2π*x));\n",
    "∂xt0 = hcat(rand(N∂t₀),zeros(N∂t₀));\n",
    "ψ₀∂xt0 = collect(hcat(ψ₀.(∂xt0[:,1])...)');\n",
    "∂x0t = vcat(hcat(zeros(N∂x),Tmax*rand(N∂x)),hcat(ones(N∂x),Tmax*rand(N∂x)));\n",
    "ψ∂x0t = zeros(size(∂x0t));\n",
    "∂xt = (collect∘eachrow)(vcat(∂xt0,∂x0t));\n",
    "∂ψxt = (collect∘eachrow)(vcat(ψ₀∂xt0,ψ∂x0t));"
   ]
  },
  {
   "cell_type": "code",
   "execution_count": 35,
   "metadata": {},
   "outputs": [],
   "source": [
    "using Zygote\n"
   ]
  },
  {
   "cell_type": "code",
   "execution_count": 36,
   "metadata": {},
   "outputs": [
    {
     "data": {
      "text/plain": [
       "([-0.9386943331096035 -0.9711432182205229 … -0.9729987954261998 -0.9821710537221409; -0.019634630174917136 -0.1294542742379175 … -0.08819264830132056 -0.1559961930031844], [-0.04267869484772131 -0.05592463562306113 … 0.0 0.0; 0.00027890076461791315 -0.004437645901432934 … 0.0 0.0; … ; 0.0 0.0 … -0.01658967713111277 -0.03733407148504703; 0.0 0.0 … -0.0008229254293490153 -0.0021216527518573883])"
      ]
     },
     "metadata": {},
     "output_type": "display_data"
    }
   ],
   "source": [
    "Zygote.forward_jacobian(X->Lux.apply(ψmodel, X, ps, st)[1],collocationPts)"
   ]
  },
  {
   "cell_type": "code",
   "execution_count": 110,
   "metadata": {},
   "outputs": [
    {
     "data": {
      "text/plain": [
       "test_loss (generic function with 1 method)"
      ]
     },
     "metadata": {},
     "output_type": "display_data"
    }
   ],
   "source": [
    "∂ψ∂t(ψ,x,t) = FD.derivative(t -> ψ(x,t),t) |> X -> complex(X...);\n",
    "# ∂²ψ∂x²(ψ,x,t) = jacobian(x->ψ(x,t),x)# |> X -> complex(X...)\n",
    "#jacobian(x->jacobian(x->ψ(x,t),x)[1],x)[1]# |> X -> complex(X...);\n",
    "# ∂²ψ∂x²(ψ,x,t) = jacobian(x->jacobian(x->ψ(x,t),x)[1],x)[1]# |> X -> complex(X...);\n",
    "∂²ψ∂x²(ψ,x,t) = FD.derivative(x->FD.derivative(x->ψ(x,t),x),x) |> X -> complex(X...);\n",
    "# ∂ψ∂t(ψ,x,t) = Zygote.forward_jacobian(t -> ψ(x,t),t)[2];\n",
    "# ∂²ψ∂x²(ψ,x,t) = Zygote.forward_jacobian(x -> Zygote.forward_jacobian(x -> ψ(x,t),x)[2],x)[2];\n",
    "V(x) = 0;\n",
    "# ψNN(x,t) = Lux.apply(ψmodel,[x,t],ps,st)[1]\n",
    "# ψ(randn(2)...)\n",
    "TDSE(ψ,x,t) = 1.0im*∂ψ∂t(ψ,x,t) - (-∂²ψ∂x²(ψ,x,t)/2 + V(x)*complex(ψ(x,t)...));\n",
    "function test_loss(model, ps,st)\n",
    "    ψNN(x,t) = Lux.apply(model, [x,t], ps, st)[1];\n",
    "    return mean([abs(TDSE(ψNN,X...))^2 for X ∈ eachcol(collocationPts)]) + mean([norm(ψNN(∂xt[i]...) - ∂ψxt[i])^2 for i ∈ eachindex(∂xt)])\n",
    "end"
   ]
  },
  {
   "cell_type": "code",
   "execution_count": 87,
   "metadata": {},
   "outputs": [
    {
     "data": {
      "text/plain": [
       "3482"
      ]
     },
     "metadata": {},
     "output_type": "display_data"
    }
   ],
   "source": [
    "Lux.parameterlength(ps)"
   ]
  },
  {
   "cell_type": "code",
   "execution_count": 121,
   "metadata": {},
   "outputs": [
    {
     "data": {
      "text/plain": [
       "2×2000 adjoint(::Matrix{Float64}) with eltype Float64:\n",
       "  0.866551   0.523369   0.354321  …  0.0553568   0.607814  0.226238\n",
       " 32.6654    35.0028    18.9057       2.78744    24.2515    1.45689"
      ]
     },
     "metadata": {},
     "output_type": "display_data"
    }
   ],
   "source": [
    "collocationPts"
   ]
  },
  {
   "cell_type": "code",
   "execution_count": 122,
   "metadata": {},
   "outputs": [
    {
     "ename": "InterruptException",
     "evalue": "InterruptException:",
     "output_type": "error",
     "traceback": [
      "InterruptException:\n",
      "\n",
      "Stacktrace:\n",
      "  [1] (::var\"#307#309\"{Vector{ForwardDiff.Dual{ForwardDiff.Tag{var\"#306#308\", Float64}, Float64, 12}}})(xt::Matrix{ForwardDiff.Dual{ForwardDiff.Tag{var\"#307#309\"{Vector{ForwardDiff.Dual{ForwardDiff.Tag{var\"#306#308\", Float64}, Float64, 12}}}, Float64}, Float64, 12}})\n",
      "    @ Main ~/Documents/GitHub/ma539-PINNs/Drafting code/Untitled-2.ipynb:2\n",
      "  [2] chunk_mode_jacobian(f::var\"#307#309\"{Vector{ForwardDiff.Dual{ForwardDiff.Tag{var\"#306#308\", Float64}, Float64, 12}}}, x::Adjoint{Float64, Matrix{Float64}}, cfg::ForwardDiff.JacobianConfig{ForwardDiff.Tag{var\"#307#309\"{Vector{ForwardDiff.Dual{ForwardDiff.Tag{var\"#306#308\", Float64}, Float64, 12}}}, Float64}, Float64, 12, Matrix{ForwardDiff.Dual{ForwardDiff.Tag{var\"#307#309\"{Vector{ForwardDiff.Dual{ForwardDiff.Tag{var\"#306#308\", Float64}, Float64, 12}}}, Float64}, Float64, 12}}})\n",
      "    @ ForwardDiff ~/.julia/packages/ForwardDiff/pDtsf/src/jacobian.jl:227\n",
      "  [3] jacobian(f::Function, x::Adjoint{Float64, Matrix{Float64}}, cfg::ForwardDiff.JacobianConfig{ForwardDiff.Tag{var\"#307#309\"{Vector{ForwardDiff.Dual{ForwardDiff.Tag{var\"#306#308\", Float64}, Float64, 12}}}, Float64}, Float64, 12, Matrix{ForwardDiff.Dual{ForwardDiff.Tag{var\"#307#309\"{Vector{ForwardDiff.Dual{ForwardDiff.Tag{var\"#306#308\", Float64}, Float64, 12}}}, Float64}, Float64, 12}}}, ::Val{true})\n",
      "    @ ForwardDiff ~/.julia/packages/ForwardDiff/pDtsf/src/jacobian.jl:23\n",
      "  [4] jacobian(f::Function, x::Adjoint{Float64, Matrix{Float64}}, cfg::ForwardDiff.JacobianConfig{ForwardDiff.Tag{var\"#307#309\"{Vector{ForwardDiff.Dual{ForwardDiff.Tag{var\"#306#308\", Float64}, Float64, 12}}}, Float64}, Float64, 12, Matrix{ForwardDiff.Dual{ForwardDiff.Tag{var\"#307#309\"{Vector{ForwardDiff.Dual{ForwardDiff.Tag{var\"#306#308\", Float64}, Float64, 12}}}, Float64}, Float64, 12}}}) (repeats 2 times)\n",
      "    @ ForwardDiff ~/.julia/packages/ForwardDiff/pDtsf/src/jacobian.jl:19\n",
      "  [5] (::var\"#306#308\")(p::Vector{ForwardDiff.Dual{ForwardDiff.Tag{var\"#306#308\", Float64}, Float64, 12}})\n",
      "    @ Main ~/Documents/GitHub/ma539-PINNs/Drafting code/Untitled-2.ipynb:2\n",
      "  [6] chunk_mode_jacobian(f::var\"#306#308\", x::Vector{Float64}, cfg::ForwardDiff.JacobianConfig{ForwardDiff.Tag{var\"#306#308\", Float64}, Float64, 12, Vector{ForwardDiff.Dual{ForwardDiff.Tag{var\"#306#308\", Float64}, Float64, 12}}})\n",
      "    @ ForwardDiff ~/.julia/packages/ForwardDiff/pDtsf/src/jacobian.jl:227\n",
      "  [7] jacobian(f::Function, x::Vector{Float64}, cfg::ForwardDiff.JacobianConfig{ForwardDiff.Tag{var\"#306#308\", Float64}, Float64, 12, Vector{ForwardDiff.Dual{ForwardDiff.Tag{var\"#306#308\", Float64}, Float64, 12}}}, ::Val{true})\n",
      "    @ ForwardDiff ~/.julia/packages/ForwardDiff/pDtsf/src/jacobian.jl:23\n",
      "  [8] jacobian(f::Function, x::Vector{Float64}, cfg::ForwardDiff.JacobianConfig{ForwardDiff.Tag{var\"#306#308\", Float64}, Float64, 12, Vector{ForwardDiff.Dual{ForwardDiff.Tag{var\"#306#308\", Float64}, Float64, 12}}}) (repeats 2 times)\n",
      "    @ ForwardDiff ~/.julia/packages/ForwardDiff/pDtsf/src/jacobian.jl:19\n",
      "  [9] eval\n",
      "    @ ./boot.jl:368 [inlined]\n",
      " [10] include_string(mapexpr::typeof(REPL.softscope), mod::Module, code::String, filename::String)\n",
      "    @ Base ./loading.jl:1428\n",
      " [11] #invokelatest#2\n",
      "    @ ./essentials.jl:729 [inlined]\n",
      " [12] invokelatest\n",
      "    @ ./essentials.jl:726 [inlined]\n",
      " [13] (::VSCodeServer.var\"#198#199\"{VSCodeServer.NotebookRunCellArguments, String})()\n",
      "    @ VSCodeServer ~/.vscode/extensions/julialang.language-julia-1.38.2/scripts/packages/VSCodeServer/src/serve_notebook.jl:19\n",
      " [14] withpath(f::VSCodeServer.var\"#198#199\"{VSCodeServer.NotebookRunCellArguments, String}, path::String)\n",
      "    @ VSCodeServer ~/.vscode/extensions/julialang.language-julia-1.38.2/scripts/packages/VSCodeServer/src/repl.jl:249\n",
      " [15] notebook_runcell_request(conn::VSCodeServer.JSONRPC.JSONRPCEndpoint{Base.PipeEndpoint, Base.PipeEndpoint}, params::VSCodeServer.NotebookRunCellArguments)\n",
      "    @ VSCodeServer ~/.vscode/extensions/julialang.language-julia-1.38.2/scripts/packages/VSCodeServer/src/serve_notebook.jl:13\n",
      " [16] dispatch_msg(x::VSCodeServer.JSONRPC.JSONRPCEndpoint{Base.PipeEndpoint, Base.PipeEndpoint}, dispatcher::VSCodeServer.JSONRPC.MsgDispatcher, msg::Dict{String, Any})\n",
      "    @ VSCodeServer.JSONRPC ~/.vscode/extensions/julialang.language-julia-1.38.2/scripts/packages/JSONRPC/src/typed.jl:67\n",
      " [17] serve_notebook(pipename::String, outputchannel_logger::Base.CoreLogging.SimpleLogger; crashreporting_pipename::String)\n",
      "    @ VSCodeServer ~/.vscode/extensions/julialang.language-julia-1.38.2/scripts/packages/VSCodeServer/src/serve_notebook.jl:139\n",
      " [18] top-level scope\n",
      "    @ ~/.vscode/extensions/julialang.language-julia-1.38.2/scripts/notebook/notebook.jl:32"
     ]
    }
   ],
   "source": [
    "# FD.jacobian(xt->Lux.apply(ψmodel, xt, vector_to_parameters(rand(Lux.parameterlength(ps)),ps), st)[1],randn(2))\n",
    "FD.jacobian(p->FD.jacobian(xt->Lux.apply(ψmodel, xt, vector_to_parameters(p,ps), st)[1],collocationPts),rand(Lux.parameterlength(ps)))\n"
   ]
  },
  {
   "cell_type": "code",
   "execution_count": 113,
   "metadata": {},
   "outputs": [
    {
     "data": {
      "text/plain": [
       "([21.160055817392802, 22.957637205516605], [4.8239597349716905e-48 3.482877054538366e-48; 6.014605209072231e-48 4.340556853379437e-48; … ; 1.0 0.0; 0.0 1.0])"
      ]
     },
     "metadata": {},
     "output_type": "display_data"
    }
   ],
   "source": [
    "Zygote.forward_jacobian(p->Lux.apply(ψmodel, randn(2), vector_to_parameters(p,ps), st)[1],rand(Lux.parameterlength(ps)))"
   ]
  },
  {
   "cell_type": "code",
   "execution_count": 38,
   "metadata": {},
   "outputs": [],
   "source": [
    "using Functors"
   ]
  },
  {
   "cell_type": "code",
   "execution_count": 81,
   "metadata": {},
   "outputs": [
    {
     "data": {
      "text/plain": [
       "vector_to_parameters (generic function with 1 method)"
      ]
     },
     "metadata": {},
     "output_type": "display_data"
    }
   ],
   "source": [
    "function vector_to_parameters(ps_new::AbstractVector, ps::NamedTuple)\n",
    "    @assert length(ps_new) == Lux.parameterlength(ps)\n",
    "    i = 1\n",
    "    function get_ps(x)\n",
    "        z = reshape(view(ps_new, i:(i + length(x) - 1)), size(x))\n",
    "        i += length(x)\n",
    "        return z\n",
    "    end\n",
    "    return fmap(get_ps, ps)\n",
    "end\n"
   ]
  },
  {
   "cell_type": "code",
   "execution_count": 40,
   "metadata": {},
   "outputs": [
    {
     "data": {
      "text/plain": [
       "6762"
      ]
     },
     "metadata": {},
     "output_type": "display_data"
    }
   ],
   "source": [
    "Lux.parameterlength(ps)"
   ]
  },
  {
   "cell_type": "code",
   "execution_count": 62,
   "metadata": {},
   "outputs": [
    {
     "ename": "MethodError",
     "evalue": "MethodError: no method matching TDSE(::var\"#ψNN#94\"{Chain{NamedTuple{(:layer_1, :layer_2, :layer_3, :layer_4, :layer_5, :layer_6), Tuple{Dense{true, typeof(NNlib.tanh_fast), typeof(Lux.glorot_uniform), typeof(Lux.zeros32)}, Dense{true, typeof(NNlib.tanh_fast), typeof(Lux.glorot_uniform), typeof(Lux.zeros32)}, Dense{true, typeof(NNlib.tanh_fast), typeof(Lux.glorot_uniform), typeof(Lux.zeros32)}, Dense{true, typeof(NNlib.tanh_fast), typeof(Lux.glorot_uniform), typeof(Lux.zeros32)}, Dense{true, typeof(NNlib.tanh_fast), typeof(Lux.glorot_uniform), typeof(Lux.zeros32)}, Dense{true, typeof(identity), typeof(Lux.glorot_uniform), typeof(Lux.zeros32)}}}}, NamedTuple{(:layer_1, :layer_2, :layer_3, :layer_4, :layer_5, :layer_6), NTuple{6, NamedTuple{(:weight, :bias), Tuple{Matrix{Float32}, Matrix{Float32}}}}}}, ::Float64)\nClosest candidates are:\n  TDSE(::Any, ::Any, !Matched::Any) at ~/Documents/GitHub/ma539-PINNs/Drafting code/Untitled-2.ipynb:11",
     "output_type": "error",
     "traceback": [
      "MethodError: no method matching TDSE(::var\"#ψNN#94\"{Chain{NamedTuple{(:layer_1, :layer_2, :layer_3, :layer_4, :layer_5, :layer_6), Tuple{Dense{true, typeof(NNlib.tanh_fast), typeof(Lux.glorot_uniform), typeof(Lux.zeros32)}, Dense{true, typeof(NNlib.tanh_fast), typeof(Lux.glorot_uniform), typeof(Lux.zeros32)}, Dense{true, typeof(NNlib.tanh_fast), typeof(Lux.glorot_uniform), typeof(Lux.zeros32)}, Dense{true, typeof(NNlib.tanh_fast), typeof(Lux.glorot_uniform), typeof(Lux.zeros32)}, Dense{true, typeof(NNlib.tanh_fast), typeof(Lux.glorot_uniform), typeof(Lux.zeros32)}, Dense{true, typeof(identity), typeof(Lux.glorot_uniform), typeof(Lux.zeros32)}}}}, NamedTuple{(:layer_1, :layer_2, :layer_3, :layer_4, :layer_5, :layer_6), NTuple{6, NamedTuple{(:weight, :bias), Tuple{Matrix{Float32}, Matrix{Float32}}}}}}, ::Float64)\n",
      "Closest candidates are:\n",
      "  TDSE(::Any, ::Any, !Matched::Any) at ~/Documents/GitHub/ma539-PINNs/Drafting code/Untitled-2.ipynb:11\n",
      "\n",
      "Stacktrace:\n",
      " [1] (::var\"#92#95\"{var\"#ψNN#94\"{Chain{NamedTuple{(:layer_1, :layer_2, :layer_3, :layer_4, :layer_5, :layer_6), Tuple{Dense{true, typeof(NNlib.tanh_fast), typeof(Lux.glorot_uniform), typeof(Lux.zeros32)}, Dense{true, typeof(NNlib.tanh_fast), typeof(Lux.glorot_uniform), typeof(Lux.zeros32)}, Dense{true, typeof(NNlib.tanh_fast), typeof(Lux.glorot_uniform), typeof(Lux.zeros32)}, Dense{true, typeof(NNlib.tanh_fast), typeof(Lux.glorot_uniform), typeof(Lux.zeros32)}, Dense{true, typeof(NNlib.tanh_fast), typeof(Lux.glorot_uniform), typeof(Lux.zeros32)}, Dense{true, typeof(identity), typeof(Lux.glorot_uniform), typeof(Lux.zeros32)}}}}, NamedTuple{(:layer_1, :layer_2, :layer_3, :layer_4, :layer_5, :layer_6), NTuple{6, NamedTuple{(:weight, :bias), Tuple{Matrix{Float32}, Matrix{Float32}}}}}}})(X::Float64)\n",
      "   @ Main ./none:0\n",
      " [2] iterate\n",
      "   @ ./generator.jl:47 [inlined]\n",
      " [3] collect(itr::Base.Generator{Adjoint{Float64, Matrix{Float64}}, var\"#92#95\"{var\"#ψNN#94\"{Chain{NamedTuple{(:layer_1, :layer_2, :layer_3, :layer_4, :layer_5, :layer_6), Tuple{Dense{true, typeof(NNlib.tanh_fast), typeof(Lux.glorot_uniform), typeof(Lux.zeros32)}, Dense{true, typeof(NNlib.tanh_fast), typeof(Lux.glorot_uniform), typeof(Lux.zeros32)}, Dense{true, typeof(NNlib.tanh_fast), typeof(Lux.glorot_uniform), typeof(Lux.zeros32)}, Dense{true, typeof(NNlib.tanh_fast), typeof(Lux.glorot_uniform), typeof(Lux.zeros32)}, Dense{true, typeof(NNlib.tanh_fast), typeof(Lux.glorot_uniform), typeof(Lux.zeros32)}, Dense{true, typeof(identity), typeof(Lux.glorot_uniform), typeof(Lux.zeros32)}}}}, NamedTuple{(:layer_1, :layer_2, :layer_3, :layer_4, :layer_5, :layer_6), NTuple{6, NamedTuple{(:weight, :bias), Tuple{Matrix{Float32}, Matrix{Float32}}}}}}}})\n",
      "   @ Base ./array.jl:787\n",
      " [4] compute_loss(model::Chain{NamedTuple{(:layer_1, :layer_2, :layer_3, :layer_4, :layer_5, :layer_6), Tuple{Dense{true, typeof(NNlib.tanh_fast), typeof(Lux.glorot_uniform), typeof(Lux.zeros32)}, Dense{true, typeof(NNlib.tanh_fast), typeof(Lux.glorot_uniform), typeof(Lux.zeros32)}, Dense{true, typeof(NNlib.tanh_fast), typeof(Lux.glorot_uniform), typeof(Lux.zeros32)}, Dense{true, typeof(NNlib.tanh_fast), typeof(Lux.glorot_uniform), typeof(Lux.zeros32)}, Dense{true, typeof(NNlib.tanh_fast), typeof(Lux.glorot_uniform), typeof(Lux.zeros32)}, Dense{true, typeof(identity), typeof(Lux.glorot_uniform), typeof(Lux.zeros32)}}}}, ps::NamedTuple{(:layer_1, :layer_2, :layer_3, :layer_4, :layer_5, :layer_6), NTuple{6, NamedTuple{(:weight, :bias), Tuple{Matrix{Float32}, Matrix{Float32}}}}})\n",
      "   @ Main ~/Documents/GitHub/ma539-PINNs/Drafting code/Untitled-2.ipynb:12\n",
      " [5] top-level scope\n",
      "   @ ~/Documents/GitHub/ma539-PINNs/Drafting code/Untitled-2.ipynb:1"
     ]
    }
   ],
   "source": [
    "compute_loss(ψmodel,ps)"
   ]
  },
  {
   "cell_type": "code",
   "execution_count": 41,
   "metadata": {},
   "outputs": [
    {
     "data": {
      "text/plain": [
       "(layer_1 = (weight = [-0.3341394518471913 -0.959535099077391; -2.0649836615936334 0.9130030256698906; … ; -0.8218147831993521 -1.0276216701282244; 0.2035529653169453 0.6210605470574763], bias = [1.1571222548279825; -0.7003308533370008; … ; -0.3458674671509429; 0.2419867821390955;;]), layer_2 = (weight = [0.14631867840400598 -1.1554440676217943 … 0.4790631476911913 -1.0550385450006197; 0.6395470552774881 0.36373337425077 … 0.12366047892052763 -1.4635137015630055; … ; 1.5491884883155003 0.9596500732926697 … 1.4465237941010687 0.5995978546216176; -1.2862714220541562 -0.9444494210098276 … 0.3762352068045805 -1.1675687274498285], bias = [0.806028532242976; 0.5714699659201834; … ; 0.8780499917201813; -1.1426190116977124;;]), layer_3 = (weight = [-0.37834022796868894 -0.6482517815268778 … 0.7764456061962671 -1.4355551876832038; -0.8207355700043611 0.44607185193543714 … -0.42071195143002854 -0.5868160510982586; … ; 0.5236192007274761 -1.0079934605978926 … -0.13820260890063274 -0.030499888299793394; 0.36095220069724104 -2.845531339637575 … -0.44372590950364793 -1.3237700017956926], bias = [-1.582736650590552; 1.1995166402001658; … ; 1.4377393499618516; -1.0334245460441414;;]), layer_4 = (weight = [1.2559000256456319 0.8928041120210605 … 1.5333226884799642 -0.3254211857683382; -0.7355532086488599 -0.042427810881176795 … -1.998598112021222 0.41066637684308827; … ; -0.6815455366101864 -0.7290906186956103 … 0.23096141099145792 -1.162787824963416; 1.0519942325281235 0.6893149709120231 … -0.13697099575281407 -0.0342687134265511], bias = [1.3818497879511258; -0.844891970043803; … ; -2.2114810117692603; -0.4555281148309697;;]), layer_5 = (weight = [-0.6984972891474053 0.24693919213267415 … -1.3939033009919315 0.19375199435250176; -0.4192350340626683 -0.15199850389037362 … 1.9563411373735087 -0.4194654834251251; … ; -0.5253387574474114 0.10013079400221057 … 1.481942266573957 0.3891797721919192; -0.1486884297315828 -1.3600223041909374 … 1.2646783864080837 0.9768360308803442], bias = [1.027195994859539; 0.0581197739855993; … ; -0.3416928384354785; -0.1694810014733281;;]), layer_6 = (weight = [1.5488574945290237 0.5374913854244651 … -1.3205686972824735 -2.909941715954928; 0.8839977659028396 0.28738930969655513 … -1.590271358979834 -0.38773865187937295], bias = [-0.8182801106029117; -2.14926973606278;;]))"
      ]
     },
     "metadata": {},
     "output_type": "display_data"
    }
   ],
   "source": [
    "vector_to_parameters(randn(6762),ps)"
   ]
  },
  {
   "cell_type": "code",
   "execution_count": 42,
   "metadata": {},
   "outputs": [
    {
     "ename": "InterruptException",
     "evalue": "InterruptException:",
     "output_type": "error",
     "traceback": [
      "InterruptException:\n",
      "\n",
      "Stacktrace:\n",
      "  [1] Array\n",
      "    @ ./boot.jl:459 [inlined]\n",
      "  [2] Array\n",
      "    @ ./boot.jl:468 [inlined]\n",
      "  [3] Array\n",
      "    @ ./boot.jl:476 [inlined]\n",
      "  [4] similar\n",
      "    @ ./abstractarray.jl:841 [inlined]\n",
      "  [5] similar\n",
      "    @ ./abstractarray.jl:840 [inlined]\n",
      "  [6] similar\n",
      "    @ ./broadcast.jl:212 [inlined]\n",
      "  [7] similar\n",
      "    @ ./broadcast.jl:211 [inlined]\n",
      "  [8] copy\n",
      "    @ ./broadcast.jl:885 [inlined]\n",
      "  [9] materialize\n",
      "    @ ./broadcast.jl:860 [inlined]\n",
      " [10] Dense\n",
      "    @ ~/.julia/packages/Lux/oZ6u5/src/layers/basic.jl:239 [inlined]\n",
      " [11] apply(model::Dense{true, typeof(NNlib.tanh_fast), typeof(Lux.glorot_uniform), typeof(Lux.zeros32)}, x::Vector{ForwardDiff.Dual{ForwardDiff.Tag{var\"#56#59\"{var\"#ψNN#63\"{Chain{NamedTuple{(:layer_1, :layer_2, :layer_3, :layer_4, :layer_5, :layer_6), Tuple{Dense{true, typeof(NNlib.tanh_fast), typeof(Lux.glorot_uniform), typeof(Lux.zeros32)}, Dense{true, typeof(NNlib.tanh_fast), typeof(Lux.glorot_uniform), typeof(Lux.zeros32)}, Dense{true, typeof(NNlib.tanh_fast), typeof(Lux.glorot_uniform), typeof(Lux.zeros32)}, Dense{true, typeof(NNlib.tanh_fast), typeof(Lux.glorot_uniform), typeof(Lux.zeros32)}, Dense{true, typeof(NNlib.tanh_fast), typeof(Lux.glorot_uniform), typeof(Lux.zeros32)}, Dense{true, typeof(identity), typeof(Lux.glorot_uniform), typeof(Lux.zeros32)}}}}, NamedTuple{(:layer_1, :layer_2, :layer_3, :layer_4, :layer_5, :layer_6), NTuple{6, NamedTuple{(:weight, :bias), Tuple{Base.ReshapedArray{ForwardDiff.Dual{ForwardDiff.Tag{var\"#74#75\", Float64}, Float64, 12}, 2, SubArray{ForwardDiff.Dual{ForwardDiff.Tag{var\"#74#75\", Float64}, Float64, 12}, 1, Vector{ForwardDiff.Dual{ForwardDiff.Tag{var\"#74#75\", Float64}, Float64, 12}}, Tuple{UnitRange{Int64}}, true}, Tuple{}}, Base.ReshapedArray{ForwardDiff.Dual{ForwardDiff.Tag{var\"#74#75\", Float64}, Float64, 12}, 2, SubArray{ForwardDiff.Dual{ForwardDiff.Tag{var\"#74#75\", Float64}, Float64, 12}, 1, Vector{ForwardDiff.Dual{ForwardDiff.Tag{var\"#74#75\", Float64}, Float64, 12}}, Tuple{UnitRange{Int64}}, true}, Tuple{}}}}}}}, Float64}, ForwardDiff.Dual{ForwardDiff.Tag{var\"#55#58\"{var\"#ψNN#63\"{Chain{NamedTuple{(:layer_1, :layer_2, :layer_3, :layer_4, :layer_5, :layer_6), Tuple{Dense{true, typeof(NNlib.tanh_fast), typeof(Lux.glorot_uniform), typeof(Lux.zeros32)}, Dense{true, typeof(NNlib.tanh_fast), typeof(Lux.glorot_uniform), typeof(Lux.zeros32)}, Dense{true, typeof(NNlib.tanh_fast), typeof(Lux.glorot_uniform), typeof(Lux.zeros32)}, Dense{true, typeof(NNlib.tanh_fast), typeof(Lux.glorot_uniform), typeof(Lux.zeros32)}, Dense{true, typeof(NNlib.tanh_fast), typeof(Lux.glorot_uniform), typeof(Lux.zeros32)}, Dense{true, typeof(identity), typeof(Lux.glorot_uniform), typeof(Lux.zeros32)}}}}, NamedTuple{(:layer_1, :layer_2, :layer_3, :layer_4, :layer_5, :layer_6), NTuple{6, NamedTuple{(:weight, :bias), Tuple{Base.ReshapedArray{ForwardDiff.Dual{ForwardDiff.Tag{var\"#74#75\", Float64}, Float64, 12}, 2, SubArray{ForwardDiff.Dual{ForwardDiff.Tag{var\"#74#75\", Float64}, Float64, 12}, 1, Vector{ForwardDiff.Dual{ForwardDiff.Tag{var\"#74#75\", Float64}, Float64, 12}}, Tuple{UnitRange{Int64}}, true}, Tuple{}}, Base.ReshapedArray{ForwardDiff.Dual{ForwardDiff.Tag{var\"#74#75\", Float64}, Float64, 12}, 2, SubArray{ForwardDiff.Dual{ForwardDiff.Tag{var\"#74#75\", Float64}, Float64, 12}, 1, Vector{ForwardDiff.Dual{ForwardDiff.Tag{var\"#74#75\", Float64}, Float64, 12}}, Tuple{UnitRange{Int64}}, true}, Tuple{}}}}}}}, Float64}, Float64}, Float64, 1}}, ForwardDiff.Dual{ForwardDiff.Tag{var\"#55#58\"{var\"#ψNN#63\"{Chain{NamedTuple{(:layer_1, :layer_2, :layer_3, :layer_4, :layer_5, :layer_6), Tuple{Dense{true, typeof(NNlib.tanh_fast), typeof(Lux.glorot_uniform), typeof(Lux.zeros32)}, Dense{true, typeof(NNlib.tanh_fast), typeof(Lux.glorot_uniform), typeof(Lux.zeros32)}, Dense{true, typeof(NNlib.tanh_fast), typeof(Lux.glorot_uniform), typeof(Lux.zeros32)}, Dense{true, typeof(NNlib.tanh_fast), typeof(Lux.glorot_uniform), typeof(Lux.zeros32)}, Dense{true, typeof(NNlib.tanh_fast), typeof(Lux.glorot_uniform), typeof(Lux.zeros32)}, Dense{true, typeof(identity), typeof(Lux.glorot_uniform), typeof(Lux.zeros32)}}}}, NamedTuple{(:layer_1, :layer_2, :layer_3, :layer_4, :layer_5, :layer_6), NTuple{6, NamedTuple{(:weight, :bias), Tuple{Base.ReshapedArray{ForwardDiff.Dual{ForwardDiff.Tag{var\"#74#75\", Float64}, Float64, 12}, 2, SubArray{ForwardDiff.Dual{ForwardDiff.Tag{var\"#74#75\", Float64}, Float64, 12}, 1, Vector{ForwardDiff.Dual{ForwardDiff.Tag{var\"#74#75\", Float64}, Float64, 12}}, Tuple{UnitRange{Int64}}, true}, Tuple{}}, Base.ReshapedArray{ForwardDiff.Dual{ForwardDiff.Tag{var\"#74#75\", Float64}, Float64, 12}, 2, SubArray{ForwardDiff.Dual{ForwardDiff.Tag{var\"#74#75\", Float64}, Float64, 12}, 1, Vector{ForwardDiff.Dual{ForwardDiff.Tag{var\"#74#75\", Float64}, Float64, 12}}, Tuple{UnitRange{Int64}}, true}, Tuple{}}}}}}}, Float64}, Float64}, ForwardDiff.Dual{ForwardDiff.Tag{var\"#74#75\", Float64}, Float64, 12}, 1}, 1}}, ps::NamedTuple{(:weight, :bias), Tuple{Base.ReshapedArray{ForwardDiff.Dual{ForwardDiff.Tag{var\"#74#75\", Float64}, Float64, 12}, 2, SubArray{ForwardDiff.Dual{ForwardDiff.Tag{var\"#74#75\", Float64}, Float64, 12}, 1, Vector{ForwardDiff.Dual{ForwardDiff.Tag{var\"#74#75\", Float64}, Float64, 12}}, Tuple{UnitRange{Int64}}, true}, Tuple{}}, Base.ReshapedArray{ForwardDiff.Dual{ForwardDiff.Tag{var\"#74#75\", Float64}, Float64, 12}, 2, SubArray{ForwardDiff.Dual{ForwardDiff.Tag{var\"#74#75\", Float64}, Float64, 12}, 1, Vector{ForwardDiff.Dual{ForwardDiff.Tag{var\"#74#75\", Float64}, Float64, 12}}, Tuple{UnitRange{Int64}}, true}, Tuple{}}}}, st::NamedTuple{(), Tuple{}})\n",
      "    @ Lux ~/.julia/packages/Lux/oZ6u5/src/core.jl:86\n",
      " [12] macro expansion\n",
      "    @ ~/.julia/packages/Lux/oZ6u5/src/layers/containers.jl:0 [inlined]\n",
      " [13] applychain(layers::NamedTuple{(:layer_1, :layer_2, :layer_3, :layer_4, :layer_5, :layer_6), Tuple{Dense{true, typeof(NNlib.tanh_fast), typeof(Lux.glorot_uniform), typeof(Lux.zeros32)}, Dense{true, typeof(NNlib.tanh_fast), typeof(Lux.glorot_uniform), typeof(Lux.zeros32)}, Dense{true, typeof(NNlib.tanh_fast), typeof(Lux.glorot_uniform), typeof(Lux.zeros32)}, Dense{true, typeof(NNlib.tanh_fast), typeof(Lux.glorot_uniform), typeof(Lux.zeros32)}, Dense{true, typeof(NNlib.tanh_fast), typeof(Lux.glorot_uniform), typeof(Lux.zeros32)}, Dense{true, typeof(identity), typeof(Lux.glorot_uniform), typeof(Lux.zeros32)}}}, x::Vector{ForwardDiff.Dual{ForwardDiff.Tag{var\"#56#59\"{var\"#ψNN#63\"{Chain{NamedTuple{(:layer_1, :layer_2, :layer_3, :layer_4, :layer_5, :layer_6), Tuple{Dense{true, typeof(NNlib.tanh_fast), typeof(Lux.glorot_uniform), typeof(Lux.zeros32)}, Dense{true, typeof(NNlib.tanh_fast), typeof(Lux.glorot_uniform), typeof(Lux.zeros32)}, Dense{true, typeof(NNlib.tanh_fast), typeof(Lux.glorot_uniform), typeof(Lux.zeros32)}, Dense{true, typeof(NNlib.tanh_fast), typeof(Lux.glorot_uniform), typeof(Lux.zeros32)}, Dense{true, typeof(NNlib.tanh_fast), typeof(Lux.glorot_uniform), typeof(Lux.zeros32)}, Dense{true, typeof(identity), typeof(Lux.glorot_uniform), typeof(Lux.zeros32)}}}}, NamedTuple{(:layer_1, :layer_2, :layer_3, :layer_4, :layer_5, :layer_6), NTuple{6, NamedTuple{(:weight, :bias), Tuple{Base.ReshapedArray{ForwardDiff.Dual{ForwardDiff.Tag{var\"#74#75\", Float64}, Float64, 12}, 2, SubArray{ForwardDiff.Dual{ForwardDiff.Tag{var\"#74#75\", Float64}, Float64, 12}, 1, Vector{ForwardDiff.Dual{ForwardDiff.Tag{var\"#74#75\", Float64}, Float64, 12}}, Tuple{UnitRange{Int64}}, true}, Tuple{}}, Base.ReshapedArray{ForwardDiff.Dual{ForwardDiff.Tag{var\"#74#75\", Float64}, Float64, 12}, 2, SubArray{ForwardDiff.Dual{ForwardDiff.Tag{var\"#74#75\", Float64}, Float64, 12}, 1, Vector{ForwardDiff.Dual{ForwardDiff.Tag{var\"#74#75\", Float64}, Float64, 12}}, Tuple{UnitRange{Int64}}, true}, Tuple{}}}}}}}, Float64}, ForwardDiff.Dual{ForwardDiff.Tag{var\"#55#58\"{var\"#ψNN#63\"{Chain{NamedTuple{(:layer_1, :layer_2, :layer_3, :layer_4, :layer_5, :layer_6), Tuple{Dense{true, typeof(NNlib.tanh_fast), typeof(Lux.glorot_uniform), typeof(Lux.zeros32)}, Dense{true, typeof(NNlib.tanh_fast), typeof(Lux.glorot_uniform), typeof(Lux.zeros32)}, Dense{true, typeof(NNlib.tanh_fast), typeof(Lux.glorot_uniform), typeof(Lux.zeros32)}, Dense{true, typeof(NNlib.tanh_fast), typeof(Lux.glorot_uniform), typeof(Lux.zeros32)}, Dense{true, typeof(NNlib.tanh_fast), typeof(Lux.glorot_uniform), typeof(Lux.zeros32)}, Dense{true, typeof(identity), typeof(Lux.glorot_uniform), typeof(Lux.zeros32)}}}}, NamedTuple{(:layer_1, :layer_2, :layer_3, :layer_4, :layer_5, :layer_6), NTuple{6, NamedTuple{(:weight, :bias), Tuple{Base.ReshapedArray{ForwardDiff.Dual{ForwardDiff.Tag{var\"#74#75\", Float64}, Float64, 12}, 2, SubArray{ForwardDiff.Dual{ForwardDiff.Tag{var\"#74#75\", Float64}, Float64, 12}, 1, Vector{ForwardDiff.Dual{ForwardDiff.Tag{var\"#74#75\", Float64}, Float64, 12}}, Tuple{UnitRange{Int64}}, true}, Tuple{}}, Base.ReshapedArray{ForwardDiff.Dual{ForwardDiff.Tag{var\"#74#75\", Float64}, Float64, 12}, 2, SubArray{ForwardDiff.Dual{ForwardDiff.Tag{var\"#74#75\", Float64}, Float64, 12}, 1, Vector{ForwardDiff.Dual{ForwardDiff.Tag{var\"#74#75\", Float64}, Float64, 12}}, Tuple{UnitRange{Int64}}, true}, Tuple{}}}}}}}, Float64}, Float64}, Float64, 1}}, ForwardDiff.Dual{ForwardDiff.Tag{var\"#55#58\"{var\"#ψNN#63\"{Chain{NamedTuple{(:layer_1, :layer_2, :layer_3, :layer_4, :layer_5, :layer_6), Tuple{Dense{true, typeof(NNlib.tanh_fast), typeof(Lux.glorot_uniform), typeof(Lux.zeros32)}, Dense{true, typeof(NNlib.tanh_fast), typeof(Lux.glorot_uniform), typeof(Lux.zeros32)}, Dense{true, typeof(NNlib.tanh_fast), typeof(Lux.glorot_uniform), typeof(Lux.zeros32)}, Dense{true, typeof(NNlib.tanh_fast), typeof(Lux.glorot_uniform), typeof(Lux.zeros32)}, Dense{true, typeof(NNlib.tanh_fast), typeof(Lux.glorot_uniform), typeof(Lux.zeros32)}, Dense{true, typeof(identity), typeof(Lux.glorot_uniform), typeof(Lux.zeros32)}}}}, NamedTuple{(:layer_1, :layer_2, :layer_3, :layer_4, :layer_5, :layer_6), NTuple{6, NamedTuple{(:weight, :bias), Tuple{Base.ReshapedArray{ForwardDiff.Dual{ForwardDiff.Tag{var\"#74#75\", Float64}, Float64, 12}, 2, SubArray{ForwardDiff.Dual{ForwardDiff.Tag{var\"#74#75\", Float64}, Float64, 12}, 1, Vector{ForwardDiff.Dual{ForwardDiff.Tag{var\"#74#75\", Float64}, Float64, 12}}, Tuple{UnitRange{Int64}}, true}, Tuple{}}, Base.ReshapedArray{ForwardDiff.Dual{ForwardDiff.Tag{var\"#74#75\", Float64}, Float64, 12}, 2, SubArray{ForwardDiff.Dual{ForwardDiff.Tag{var\"#74#75\", Float64}, Float64, 12}, 1, Vector{ForwardDiff.Dual{ForwardDiff.Tag{var\"#74#75\", Float64}, Float64, 12}}, Tuple{UnitRange{Int64}}, true}, Tuple{}}}}}}}, Float64}, Float64}, Float64, 1}, 1}}, ps::NamedTuple{(:layer_1, :layer_2, :layer_3, :layer_4, :layer_5, :layer_6), NTuple{6, NamedTuple{(:weight, :bias), Tuple{Base.ReshapedArray{ForwardDiff.Dual{ForwardDiff.Tag{var\"#74#75\", Float64}, Float64, 12}, 2, SubArray{ForwardDiff.Dual{ForwardDiff.Tag{var\"#74#75\", Float64}, Float64, 12}, 1, Vector{ForwardDiff.Dual{ForwardDiff.Tag{var\"#74#75\", Float64}, Float64, 12}}, Tuple{UnitRange{Int64}}, true}, Tuple{}}, Base.ReshapedArray{ForwardDiff.Dual{ForwardDiff.Tag{var\"#74#75\", Float64}, Float64, 12}, 2, SubArray{ForwardDiff.Dual{ForwardDiff.Tag{var\"#74#75\", Float64}, Float64, 12}, 1, Vector{ForwardDiff.Dual{ForwardDiff.Tag{var\"#74#75\", Float64}, Float64, 12}}, Tuple{UnitRange{Int64}}, true}, Tuple{}}}}}}, st::NamedTuple{(:layer_1, :layer_2, :layer_3, :layer_4, :layer_5, :layer_6), NTuple{6, NamedTuple{(), Tuple{}}}})\n",
      "    @ Lux ~/.julia/packages/Lux/oZ6u5/src/layers/containers.jl:460\n",
      " [14] Chain\n",
      "    @ ~/.julia/packages/Lux/oZ6u5/src/layers/containers.jl:457 [inlined]\n",
      " [15] apply(model::Chain{NamedTuple{(:layer_1, :layer_2, :layer_3, :layer_4, :layer_5, :layer_6), Tuple{Dense{true, typeof(NNlib.tanh_fast), typeof(Lux.glorot_uniform), typeof(Lux.zeros32)}, Dense{true, typeof(NNlib.tanh_fast), typeof(Lux.glorot_uniform), typeof(Lux.zeros32)}, Dense{true, typeof(NNlib.tanh_fast), typeof(Lux.glorot_uniform), typeof(Lux.zeros32)}, Dense{true, typeof(NNlib.tanh_fast), typeof(Lux.glorot_uniform), typeof(Lux.zeros32)}, Dense{true, typeof(NNlib.tanh_fast), typeof(Lux.glorot_uniform), typeof(Lux.zeros32)}, Dense{true, typeof(identity), typeof(Lux.glorot_uniform), typeof(Lux.zeros32)}}}}, x::Vector{ForwardDiff.Dual{ForwardDiff.Tag{var\"#56#59\"{var\"#ψNN#63\"{Chain{NamedTuple{(:layer_1, :layer_2, :layer_3, :layer_4, :layer_5, :layer_6), Tuple{Dense{true, typeof(NNlib.tanh_fast), typeof(Lux.glorot_uniform), typeof(Lux.zeros32)}, Dense{true, typeof(NNlib.tanh_fast), typeof(Lux.glorot_uniform), typeof(Lux.zeros32)}, Dense{true, typeof(NNlib.tanh_fast), typeof(Lux.glorot_uniform), typeof(Lux.zeros32)}, Dense{true, typeof(NNlib.tanh_fast), typeof(Lux.glorot_uniform), typeof(Lux.zeros32)}, Dense{true, typeof(NNlib.tanh_fast), typeof(Lux.glorot_uniform), typeof(Lux.zeros32)}, Dense{true, typeof(identity), typeof(Lux.glorot_uniform), typeof(Lux.zeros32)}}}}, NamedTuple{(:layer_1, :layer_2, :layer_3, :layer_4, :layer_5, :layer_6), NTuple{6, NamedTuple{(:weight, :bias), Tuple{Base.ReshapedArray{ForwardDiff.Dual{ForwardDiff.Tag{var\"#74#75\", Float64}, Float64, 12}, 2, SubArray{ForwardDiff.Dual{ForwardDiff.Tag{var\"#74#75\", Float64}, Float64, 12}, 1, Vector{ForwardDiff.Dual{ForwardDiff.Tag{var\"#74#75\", Float64}, Float64, 12}}, Tuple{UnitRange{Int64}}, true}, Tuple{}}, Base.ReshapedArray{ForwardDiff.Dual{ForwardDiff.Tag{var\"#74#75\", Float64}, Float64, 12}, 2, SubArray{ForwardDiff.Dual{ForwardDiff.Tag{var\"#74#75\", Float64}, Float64, 12}, 1, Vector{ForwardDiff.Dual{ForwardDiff.Tag{var\"#74#75\", Float64}, Float64, 12}}, Tuple{UnitRange{Int64}}, true}, Tuple{}}}}}}}, Float64}, ForwardDiff.Dual{ForwardDiff.Tag{var\"#55#58\"{var\"#ψNN#63\"{Chain{NamedTuple{(:layer_1, :layer_2, :layer_3, :layer_4, :layer_5, :layer_6), Tuple{Dense{true, typeof(NNlib.tanh_fast), typeof(Lux.glorot_uniform), typeof(Lux.zeros32)}, Dense{true, typeof(NNlib.tanh_fast), typeof(Lux.glorot_uniform), typeof(Lux.zeros32)}, Dense{true, typeof(NNlib.tanh_fast), typeof(Lux.glorot_uniform), typeof(Lux.zeros32)}, Dense{true, typeof(NNlib.tanh_fast), typeof(Lux.glorot_uniform), typeof(Lux.zeros32)}, Dense{true, typeof(NNlib.tanh_fast), typeof(Lux.glorot_uniform), typeof(Lux.zeros32)}, Dense{true, typeof(identity), typeof(Lux.glorot_uniform), typeof(Lux.zeros32)}}}}, NamedTuple{(:layer_1, :layer_2, :layer_3, :layer_4, :layer_5, :layer_6), NTuple{6, NamedTuple{(:weight, :bias), Tuple{Base.ReshapedArray{ForwardDiff.Dual{ForwardDiff.Tag{var\"#74#75\", Float64}, Float64, 12}, 2, SubArray{ForwardDiff.Dual{ForwardDiff.Tag{var\"#74#75\", Float64}, Float64, 12}, 1, Vector{ForwardDiff.Dual{ForwardDiff.Tag{var\"#74#75\", Float64}, Float64, 12}}, Tuple{UnitRange{Int64}}, true}, Tuple{}}, Base.ReshapedArray{ForwardDiff.Dual{ForwardDiff.Tag{var\"#74#75\", Float64}, Float64, 12}, 2, SubArray{ForwardDiff.Dual{ForwardDiff.Tag{var\"#74#75\", Float64}, Float64, 12}, 1, Vector{ForwardDiff.Dual{ForwardDiff.Tag{var\"#74#75\", Float64}, Float64, 12}}, Tuple{UnitRange{Int64}}, true}, Tuple{}}}}}}}, Float64}, Float64}, Float64, 1}}, ForwardDiff.Dual{ForwardDiff.Tag{var\"#55#58\"{var\"#ψNN#63\"{Chain{NamedTuple{(:layer_1, :layer_2, :layer_3, :layer_4, :layer_5, :layer_6), Tuple{Dense{true, typeof(NNlib.tanh_fast), typeof(Lux.glorot_uniform), typeof(Lux.zeros32)}, Dense{true, typeof(NNlib.tanh_fast), typeof(Lux.glorot_uniform), typeof(Lux.zeros32)}, Dense{true, typeof(NNlib.tanh_fast), typeof(Lux.glorot_uniform), typeof(Lux.zeros32)}, Dense{true, typeof(NNlib.tanh_fast), typeof(Lux.glorot_uniform), typeof(Lux.zeros32)}, Dense{true, typeof(NNlib.tanh_fast), typeof(Lux.glorot_uniform), typeof(Lux.zeros32)}, Dense{true, typeof(identity), typeof(Lux.glorot_uniform), typeof(Lux.zeros32)}}}}, NamedTuple{(:layer_1, :layer_2, :layer_3, :layer_4, :layer_5, :layer_6), NTuple{6, NamedTuple{(:weight, :bias), Tuple{Base.ReshapedArray{ForwardDiff.Dual{ForwardDiff.Tag{var\"#74#75\", Float64}, Float64, 12}, 2, SubArray{ForwardDiff.Dual{ForwardDiff.Tag{var\"#74#75\", Float64}, Float64, 12}, 1, Vector{ForwardDiff.Dual{ForwardDiff.Tag{var\"#74#75\", Float64}, Float64, 12}}, Tuple{UnitRange{Int64}}, true}, Tuple{}}, Base.ReshapedArray{ForwardDiff.Dual{ForwardDiff.Tag{var\"#74#75\", Float64}, Float64, 12}, 2, SubArray{ForwardDiff.Dual{ForwardDiff.Tag{var\"#74#75\", Float64}, Float64, 12}, 1, Vector{ForwardDiff.Dual{ForwardDiff.Tag{var\"#74#75\", Float64}, Float64, 12}}, Tuple{UnitRange{Int64}}, true}, Tuple{}}}}}}}, Float64}, Float64}, Float64, 1}, 1}}, ps::NamedTuple{(:layer_1, :layer_2, :layer_3, :layer_4, :layer_5, :layer_6), NTuple{6, NamedTuple{(:weight, :bias), Tuple{Base.ReshapedArray{ForwardDiff.Dual{ForwardDiff.Tag{var\"#74#75\", Float64}, Float64, 12}, 2, SubArray{ForwardDiff.Dual{ForwardDiff.Tag{var\"#74#75\", Float64}, Float64, 12}, 1, Vector{ForwardDiff.Dual{ForwardDiff.Tag{var\"#74#75\", Float64}, Float64, 12}}, Tuple{UnitRange{Int64}}, true}, Tuple{}}, Base.ReshapedArray{ForwardDiff.Dual{ForwardDiff.Tag{var\"#74#75\", Float64}, Float64, 12}, 2, SubArray{ForwardDiff.Dual{ForwardDiff.Tag{var\"#74#75\", Float64}, Float64, 12}, 1, Vector{ForwardDiff.Dual{ForwardDiff.Tag{var\"#74#75\", Float64}, Float64, 12}}, Tuple{UnitRange{Int64}}, true}, Tuple{}}}}}}, st::NamedTuple{(:layer_1, :layer_2, :layer_3, :layer_4, :layer_5, :layer_6), NTuple{6, NamedTuple{(), Tuple{}}}})\n",
      "    @ Lux ~/.julia/packages/Lux/oZ6u5/src/core.jl:86\n",
      " [16] (::var\"#ψNN#63\"{Chain{NamedTuple{(:layer_1, :layer_2, :layer_3, :layer_4, :layer_5, :layer_6), Tuple{Dense{true, typeof(NNlib.tanh_fast), typeof(Lux.glorot_uniform), typeof(Lux.zeros32)}, Dense{true, typeof(NNlib.tanh_fast), typeof(Lux.glorot_uniform), typeof(Lux.zeros32)}, Dense{true, typeof(NNlib.tanh_fast), typeof(Lux.glorot_uniform), typeof(Lux.zeros32)}, Dense{true, typeof(NNlib.tanh_fast), typeof(Lux.glorot_uniform), typeof(Lux.zeros32)}, Dense{true, typeof(NNlib.tanh_fast), typeof(Lux.glorot_uniform), typeof(Lux.zeros32)}, Dense{true, typeof(identity), typeof(Lux.glorot_uniform), typeof(Lux.zeros32)}}}}, NamedTuple{(:layer_1, :layer_2, :layer_3, :layer_4, :layer_5, :layer_6), NTuple{6, NamedTuple{(:weight, :bias), Tuple{Base.ReshapedArray{ForwardDiff.Dual{ForwardDiff.Tag{var\"#74#75\", Float64}, Float64, 12}, 2, SubArray{ForwardDiff.Dual{ForwardDiff.Tag{var\"#74#75\", Float64}, Float64, 12}, 1, Vector{ForwardDiff.Dual{ForwardDiff.Tag{var\"#74#75\", Float64}, Float64, 12}}, Tuple{UnitRange{Int64}}, true}, Tuple{}}, Base.ReshapedArray{ForwardDiff.Dual{ForwardDiff.Tag{var\"#74#75\", Float64}, Float64, 12}, 2, SubArray{ForwardDiff.Dual{ForwardDiff.Tag{var\"#74#75\", Float64}, Float64, 12}, 1, Vector{ForwardDiff.Dual{ForwardDiff.Tag{var\"#74#75\", Float64}, Float64, 12}}, Tuple{UnitRange{Int64}}, true}, Tuple{}}}}}}})(x::ForwardDiff.Dual{ForwardDiff.Tag{var\"#56#59\"{var\"#ψNN#63\"{Chain{NamedTuple{(:layer_1, :layer_2, :layer_3, :layer_4, :layer_5, :layer_6), Tuple{Dense{true, typeof(NNlib.tanh_fast), typeof(Lux.glorot_uniform), typeof(Lux.zeros32)}, Dense{true, typeof(NNlib.tanh_fast), typeof(Lux.glorot_uniform), typeof(Lux.zeros32)}, Dense{true, typeof(NNlib.tanh_fast), typeof(Lux.glorot_uniform), typeof(Lux.zeros32)}, Dense{true, typeof(NNlib.tanh_fast), typeof(Lux.glorot_uniform), typeof(Lux.zeros32)}, Dense{true, typeof(NNlib.tanh_fast), typeof(Lux.glorot_uniform), typeof(Lux.zeros32)}, Dense{true, typeof(identity), typeof(Lux.glorot_uniform), typeof(Lux.zeros32)}}}}, NamedTuple{(:layer_1, :layer_2, :layer_3, :layer_4, :layer_5, :layer_6), NTuple{6, NamedTuple{(:weight, :bias), Tuple{Base.ReshapedArray{ForwardDiff.Dual{ForwardDiff.Tag{var\"#74#75\", Float64}, Float64, 12}, 2, SubArray{ForwardDiff.Dual{ForwardDiff.Tag{var\"#74#75\", Float64}, Float64, 12}, 1, Vector{ForwardDiff.Dual{ForwardDiff.Tag{var\"#74#75\", Float64}, Float64, 12}}, Tuple{UnitRange{Int64}}, true}, Tuple{}}, Base.ReshapedArray{ForwardDiff.Dual{ForwardDiff.Tag{var\"#74#75\", Float64}, Float64, 12}, 2, SubArray{ForwardDiff.Dual{ForwardDiff.Tag{var\"#74#75\", Float64}, Float64, 12}, 1, Vector{ForwardDiff.Dual{ForwardDiff.Tag{var\"#74#75\", Float64}, Float64, 12}}, Tuple{UnitRange{Int64}}, true}, Tuple{}}}}}}}, Float64}, ForwardDiff.Dual{ForwardDiff.Tag{var\"#55#58\"{var\"#ψNN#63\"{Chain{NamedTuple{(:layer_1, :layer_2, :layer_3, :layer_4, :layer_5, :layer_6), Tuple{Dense{true, typeof(NNlib.tanh_fast), typeof(Lux.glorot_uniform), typeof(Lux.zeros32)}, Dense{true, typeof(NNlib.tanh_fast), typeof(Lux.glorot_uniform), typeof(Lux.zeros32)}, Dense{true, typeof(NNlib.tanh_fast), typeof(Lux.glorot_uniform), typeof(Lux.zeros32)}, Dense{true, typeof(NNlib.tanh_fast), typeof(Lux.glorot_uniform), typeof(Lux.zeros32)}, Dense{true, typeof(NNlib.tanh_fast), typeof(Lux.glorot_uniform), typeof(Lux.zeros32)}, Dense{true, typeof(identity), typeof(Lux.glorot_uniform), typeof(Lux.zeros32)}}}}, NamedTuple{(:layer_1, :layer_2, :layer_3, :layer_4, :layer_5, :layer_6), NTuple{6, NamedTuple{(:weight, :bias), Tuple{Base.ReshapedArray{ForwardDiff.Dual{ForwardDiff.Tag{var\"#74#75\", Float64}, Float64, 12}, 2, SubArray{ForwardDiff.Dual{ForwardDiff.Tag{var\"#74#75\", Float64}, Float64, 12}, 1, Vector{ForwardDiff.Dual{ForwardDiff.Tag{var\"#74#75\", Float64}, Float64, 12}}, Tuple{UnitRange{Int64}}, true}, Tuple{}}, Base.ReshapedArray{ForwardDiff.Dual{ForwardDiff.Tag{var\"#74#75\", Float64}, Float64, 12}, 2, SubArray{ForwardDiff.Dual{ForwardDiff.Tag{var\"#74#75\", Float64}, Float64, 12}, 1, Vector{ForwardDiff.Dual{ForwardDiff.Tag{var\"#74#75\", Float64}, Float64, 12}}, Tuple{UnitRange{Int64}}, true}, Tuple{}}}}}}}, Float64}, Float64}, Float64, 1}}, ForwardDiff.Dual{ForwardDiff.Tag{var\"#55#58\"{var\"#ψNN#63\"{Chain{NamedTuple{(:layer_1, :layer_2, :layer_3, :layer_4, :layer_5, :layer_6), Tuple{Dense{true, typeof(NNlib.tanh_fast), typeof(Lux.glorot_uniform), typeof(Lux.zeros32)}, Dense{true, typeof(NNlib.tanh_fast), typeof(Lux.glorot_uniform), typeof(Lux.zeros32)}, Dense{true, typeof(NNlib.tanh_fast), typeof(Lux.glorot_uniform), typeof(Lux.zeros32)}, Dense{true, typeof(NNlib.tanh_fast), typeof(Lux.glorot_uniform), typeof(Lux.zeros32)}, Dense{true, typeof(NNlib.tanh_fast), typeof(Lux.glorot_uniform), typeof(Lux.zeros32)}, Dense{true, typeof(identity), typeof(Lux.glorot_uniform), typeof(Lux.zeros32)}}}}, NamedTuple{(:layer_1, :layer_2, :layer_3, :layer_4, :layer_5, :layer_6), NTuple{6, NamedTuple{(:weight, :bias), Tuple{Base.ReshapedArray{ForwardDiff.Dual{ForwardDiff.Tag{var\"#74#75\", Float64}, Float64, 12}, 2, SubArray{ForwardDiff.Dual{ForwardDiff.Tag{var\"#74#75\", Float64}, Float64, 12}, 1, Vector{ForwardDiff.Dual{ForwardDiff.Tag{var\"#74#75\", Float64}, Float64, 12}}, Tuple{UnitRange{Int64}}, true}, Tuple{}}, Base.ReshapedArray{ForwardDiff.Dual{ForwardDiff.Tag{var\"#74#75\", Float64}, Float64, 12}, 2, SubArray{ForwardDiff.Dual{ForwardDiff.Tag{var\"#74#75\", Float64}, Float64, 12}, 1, Vector{ForwardDiff.Dual{ForwardDiff.Tag{var\"#74#75\", Float64}, Float64, 12}}, Tuple{UnitRange{Int64}}, true}, Tuple{}}}}}}}, Float64}, Float64}, Float64, 1}, 1}, t::Float64)\n",
      "    @ Main ~/Documents/GitHub/ma539-PINNs/Drafting code/Untitled-2.ipynb:11\n",
      " [17] #56\n",
      "    @ ~/Documents/GitHub/ma539-PINNs/Drafting code/Untitled-2.ipynb:5 [inlined]\n",
      " [18] derivative\n",
      "    @ ~/.julia/packages/ForwardDiff/pDtsf/src/derivative.jl:14 [inlined]\n",
      " [19] #55\n",
      "    @ ~/Documents/GitHub/ma539-PINNs/Drafting code/Untitled-2.ipynb:5 [inlined]\n",
      " [20] derivative\n",
      "    @ ~/.julia/packages/ForwardDiff/pDtsf/src/derivative.jl:14 [inlined]\n",
      " [21] ∂²ψ∂x²\n",
      "    @ ~/Documents/GitHub/ma539-PINNs/Drafting code/Untitled-2.ipynb:5 [inlined]\n",
      " [22] TDSE(ψ::var\"#ψNN#63\"{Chain{NamedTuple{(:layer_1, :layer_2, :layer_3, :layer_4, :layer_5, :layer_6), Tuple{Dense{true, typeof(NNlib.tanh_fast), typeof(Lux.glorot_uniform), typeof(Lux.zeros32)}, Dense{true, typeof(NNlib.tanh_fast), typeof(Lux.glorot_uniform), typeof(Lux.zeros32)}, Dense{true, typeof(NNlib.tanh_fast), typeof(Lux.glorot_uniform), typeof(Lux.zeros32)}, Dense{true, typeof(NNlib.tanh_fast), typeof(Lux.glorot_uniform), typeof(Lux.zeros32)}, Dense{true, typeof(NNlib.tanh_fast), typeof(Lux.glorot_uniform), typeof(Lux.zeros32)}, Dense{true, typeof(identity), typeof(Lux.glorot_uniform), typeof(Lux.zeros32)}}}}, NamedTuple{(:layer_1, :layer_2, :layer_3, :layer_4, :layer_5, :layer_6), NTuple{6, NamedTuple{(:weight, :bias), Tuple{Base.ReshapedArray{ForwardDiff.Dual{ForwardDiff.Tag{var\"#74#75\", Float64}, Float64, 12}, 2, SubArray{ForwardDiff.Dual{ForwardDiff.Tag{var\"#74#75\", Float64}, Float64, 12}, 1, Vector{ForwardDiff.Dual{ForwardDiff.Tag{var\"#74#75\", Float64}, Float64, 12}}, Tuple{UnitRange{Int64}}, true}, Tuple{}}, Base.ReshapedArray{ForwardDiff.Dual{ForwardDiff.Tag{var\"#74#75\", Float64}, Float64, 12}, 2, SubArray{ForwardDiff.Dual{ForwardDiff.Tag{var\"#74#75\", Float64}, Float64, 12}, 1, Vector{ForwardDiff.Dual{ForwardDiff.Tag{var\"#74#75\", Float64}, Float64, 12}}, Tuple{UnitRange{Int64}}, true}, Tuple{}}}}}}}, x::Float64, t::Float64)\n",
      "    @ Main ~/Documents/GitHub/ma539-PINNs/Drafting code/Untitled-2.ipynb:9\n",
      " [23] (::var\"#61#64\"{var\"#ψNN#63\"{Chain{NamedTuple{(:layer_1, :layer_2, :layer_3, :layer_4, :layer_5, :layer_6), Tuple{Dense{true, typeof(NNlib.tanh_fast), typeof(Lux.glorot_uniform), typeof(Lux.zeros32)}, Dense{true, typeof(NNlib.tanh_fast), typeof(Lux.glorot_uniform), typeof(Lux.zeros32)}, Dense{true, typeof(NNlib.tanh_fast), typeof(Lux.glorot_uniform), typeof(Lux.zeros32)}, Dense{true, typeof(NNlib.tanh_fast), typeof(Lux.glorot_uniform), typeof(Lux.zeros32)}, Dense{true, typeof(NNlib.tanh_fast), typeof(Lux.glorot_uniform), typeof(Lux.zeros32)}, Dense{true, typeof(identity), typeof(Lux.glorot_uniform), typeof(Lux.zeros32)}}}}, NamedTuple{(:layer_1, :layer_2, :layer_3, :layer_4, :layer_5, :layer_6), NTuple{6, NamedTuple{(:weight, :bias), Tuple{Base.ReshapedArray{ForwardDiff.Dual{ForwardDiff.Tag{var\"#74#75\", Float64}, Float64, 12}, 2, SubArray{ForwardDiff.Dual{ForwardDiff.Tag{var\"#74#75\", Float64}, Float64, 12}, 1, Vector{ForwardDiff.Dual{ForwardDiff.Tag{var\"#74#75\", Float64}, Float64, 12}}, Tuple{UnitRange{Int64}}, true}, Tuple{}}, Base.ReshapedArray{ForwardDiff.Dual{ForwardDiff.Tag{var\"#74#75\", Float64}, Float64, 12}, 2, SubArray{ForwardDiff.Dual{ForwardDiff.Tag{var\"#74#75\", Float64}, Float64, 12}, 1, Vector{ForwardDiff.Dual{ForwardDiff.Tag{var\"#74#75\", Float64}, Float64, 12}}, Tuple{UnitRange{Int64}}, true}, Tuple{}}}}}}}})(X::SubArray{Float64, 1, Matrix{Float64}, Tuple{Int64, Base.Slice{Base.OneTo{Int64}}}, true})\n",
      "    @ Main ./none:0\n",
      " [24] iterate\n",
      "    @ ./generator.jl:47 [inlined]\n",
      " [25] collect_to!\n",
      "    @ ./array.jl:845 [inlined]\n",
      " [26] collect_to_with_first!\n",
      "    @ ./array.jl:823 [inlined]\n",
      " [27] collect(itr::Base.Generator{Vector{SubArray{Float64, 1, Matrix{Float64}, Tuple{Int64, Base.Slice{Base.OneTo{Int64}}}, true}}, var\"#61#64\"{var\"#ψNN#63\"{Chain{NamedTuple{(:layer_1, :layer_2, :layer_3, :layer_4, :layer_5, :layer_6), Tuple{Dense{true, typeof(NNlib.tanh_fast), typeof(Lux.glorot_uniform), typeof(Lux.zeros32)}, Dense{true, typeof(NNlib.tanh_fast), typeof(Lux.glorot_uniform), typeof(Lux.zeros32)}, Dense{true, typeof(NNlib.tanh_fast), typeof(Lux.glorot_uniform), typeof(Lux.zeros32)}, Dense{true, typeof(NNlib.tanh_fast), typeof(Lux.glorot_uniform), typeof(Lux.zeros32)}, Dense{true, typeof(NNlib.tanh_fast), typeof(Lux.glorot_uniform), typeof(Lux.zeros32)}, Dense{true, typeof(identity), typeof(Lux.glorot_uniform), typeof(Lux.zeros32)}}}}, NamedTuple{(:layer_1, :layer_2, :layer_3, :layer_4, :layer_5, :layer_6), NTuple{6, NamedTuple{(:weight, :bias), Tuple{Base.ReshapedArray{ForwardDiff.Dual{ForwardDiff.Tag{var\"#74#75\", Float64}, Float64, 12}, 2, SubArray{ForwardDiff.Dual{ForwardDiff.Tag{var\"#74#75\", Float64}, Float64, 12}, 1, Vector{ForwardDiff.Dual{ForwardDiff.Tag{var\"#74#75\", Float64}, Float64, 12}}, Tuple{UnitRange{Int64}}, true}, Tuple{}}, Base.ReshapedArray{ForwardDiff.Dual{ForwardDiff.Tag{var\"#74#75\", Float64}, Float64, 12}, 2, SubArray{ForwardDiff.Dual{ForwardDiff.Tag{var\"#74#75\", Float64}, Float64, 12}, 1, Vector{ForwardDiff.Dual{ForwardDiff.Tag{var\"#74#75\", Float64}, Float64, 12}}, Tuple{UnitRange{Int64}}, true}, Tuple{}}}}}}}}})\n",
      "    @ Base ./array.jl:797\n",
      " [28] compute_loss(model::Chain{NamedTuple{(:layer_1, :layer_2, :layer_3, :layer_4, :layer_5, :layer_6), Tuple{Dense{true, typeof(NNlib.tanh_fast), typeof(Lux.glorot_uniform), typeof(Lux.zeros32)}, Dense{true, typeof(NNlib.tanh_fast), typeof(Lux.glorot_uniform), typeof(Lux.zeros32)}, Dense{true, typeof(NNlib.tanh_fast), typeof(Lux.glorot_uniform), typeof(Lux.zeros32)}, Dense{true, typeof(NNlib.tanh_fast), typeof(Lux.glorot_uniform), typeof(Lux.zeros32)}, Dense{true, typeof(NNlib.tanh_fast), typeof(Lux.glorot_uniform), typeof(Lux.zeros32)}, Dense{true, typeof(identity), typeof(Lux.glorot_uniform), typeof(Lux.zeros32)}}}}, ps::NamedTuple{(:layer_1, :layer_2, :layer_3, :layer_4, :layer_5, :layer_6), NTuple{6, NamedTuple{(:weight, :bias), Tuple{Base.ReshapedArray{ForwardDiff.Dual{ForwardDiff.Tag{var\"#74#75\", Float64}, Float64, 12}, 2, SubArray{ForwardDiff.Dual{ForwardDiff.Tag{var\"#74#75\", Float64}, Float64, 12}, 1, Vector{ForwardDiff.Dual{ForwardDiff.Tag{var\"#74#75\", Float64}, Float64, 12}}, Tuple{UnitRange{Int64}}, true}, Tuple{}}, Base.ReshapedArray{ForwardDiff.Dual{ForwardDiff.Tag{var\"#74#75\", Float64}, Float64, 12}, 2, SubArray{ForwardDiff.Dual{ForwardDiff.Tag{var\"#74#75\", Float64}, Float64, 12}, 1, Vector{ForwardDiff.Dual{ForwardDiff.Tag{var\"#74#75\", Float64}, Float64, 12}}, Tuple{UnitRange{Int64}}, true}, Tuple{}}}}}})\n",
      "    @ Main ~/Documents/GitHub/ma539-PINNs/Drafting code/Untitled-2.ipynb:12\n",
      " [29] (::var\"#74#75\")(p::Vector{ForwardDiff.Dual{ForwardDiff.Tag{var\"#74#75\", Float64}, Float64, 12}})\n",
      "    @ Main ~/Documents/GitHub/ma539-PINNs/Drafting code/Untitled-2.ipynb:1\n",
      " [30] chunk_mode_gradient(f::var\"#74#75\", x::Vector{Float64}, cfg::ForwardDiff.GradientConfig{ForwardDiff.Tag{var\"#74#75\", Float64}, Float64, 12, Vector{ForwardDiff.Dual{ForwardDiff.Tag{var\"#74#75\", Float64}, Float64, 12}}})\n",
      "    @ ForwardDiff ~/.julia/packages/ForwardDiff/pDtsf/src/gradient.jl:159\n",
      " [31] gradient(f::Function, x::Vector{Float64}, cfg::ForwardDiff.GradientConfig{ForwardDiff.Tag{var\"#74#75\", Float64}, Float64, 12, Vector{ForwardDiff.Dual{ForwardDiff.Tag{var\"#74#75\", Float64}, Float64, 12}}}, ::Val{true})\n",
      "    @ ForwardDiff ~/.julia/packages/ForwardDiff/pDtsf/src/gradient.jl:21\n",
      " [32] gradient(f::Function, x::Vector{Float64}, cfg::ForwardDiff.GradientConfig{ForwardDiff.Tag{var\"#74#75\", Float64}, Float64, 12, Vector{ForwardDiff.Dual{ForwardDiff.Tag{var\"#74#75\", Float64}, Float64, 12}}}) (repeats 2 times)\n",
      "    @ ForwardDiff ~/.julia/packages/ForwardDiff/pDtsf/src/gradient.jl:17\n",
      " [33] eval\n",
      "    @ ./boot.jl:368 [inlined]\n",
      " [34] include_string(mapexpr::typeof(REPL.softscope), mod::Module, code::String, filename::String)\n",
      "    @ Base ./loading.jl:1428\n",
      " [35] #invokelatest#2\n",
      "    @ ./essentials.jl:729 [inlined]\n",
      " [36] invokelatest\n",
      "    @ ./essentials.jl:726 [inlined]\n",
      " [37] (::VSCodeServer.var\"#198#199\"{VSCodeServer.NotebookRunCellArguments, String})()\n",
      "    @ VSCodeServer ~/.vscode/extensions/julialang.language-julia-1.38.2/scripts/packages/VSCodeServer/src/serve_notebook.jl:19\n",
      " [38] withpath(f::VSCodeServer.var\"#198#199\"{VSCodeServer.NotebookRunCellArguments, String}, path::String)\n",
      "    @ VSCodeServer ~/.vscode/extensions/julialang.language-julia-1.38.2/scripts/packages/VSCodeServer/src/repl.jl:249\n",
      " [39] notebook_runcell_request(conn::VSCodeServer.JSONRPC.JSONRPCEndpoint{Base.PipeEndpoint, Base.PipeEndpoint}, params::VSCodeServer.NotebookRunCellArguments)\n",
      "    @ VSCodeServer ~/.vscode/extensions/julialang.language-julia-1.38.2/scripts/packages/VSCodeServer/src/serve_notebook.jl:13\n",
      " [40] dispatch_msg(x::VSCodeServer.JSONRPC.JSONRPCEndpoint{Base.PipeEndpoint, Base.PipeEndpoint}, dispatcher::VSCodeServer.JSONRPC.MsgDispatcher, msg::Dict{String, Any})\n",
      "    @ VSCodeServer.JSONRPC ~/.vscode/extensions/julialang.language-julia-1.38.2/scripts/packages/JSONRPC/src/typed.jl:67\n",
      " [41] serve_notebook(pipename::String, outputchannel_logger::Base.CoreLogging.SimpleLogger; crashreporting_pipename::String)\n",
      "    @ VSCodeServer ~/.vscode/extensions/julialang.language-julia-1.38.2/scripts/packages/VSCodeServer/src/serve_notebook.jl:139\n",
      " [42] top-level scope\n",
      "    @ ~/.vscode/extensions/julialang.language-julia-1.38.2/scripts/notebook/notebook.jl:32"
     ]
    }
   ],
   "source": [
    "FD.gradient(p -> compute_loss(ψmodel, vector_to_parameters(p,ps)),randn(6762))"
   ]
  },
  {
   "cell_type": "code",
   "execution_count": 13,
   "metadata": {},
   "outputs": [
    {
     "data": {
      "text/plain": [
       "asdkjfh (generic function with 1 method)"
      ]
     },
     "metadata": {},
     "output_type": "display_data"
    }
   ],
   "source": [
    "function asdkjfh(XXX)\n",
    "    norm(FD.derivative(x -> XXX.*x.+sin(x),1.0))\n",
    "    # return (ksjd)\n",
    "end"
   ]
  },
  {
   "cell_type": "code",
   "execution_count": 18,
   "metadata": {},
   "outputs": [
    {
     "data": {
      "text/plain": [
       "10-element Vector{Float64}:\n",
       " -0.06834266719173486\n",
       "  0.36602087795647786\n",
       "  0.03428598257031859\n",
       "  0.12418049428321015\n",
       "  0.1720358243281976\n",
       "  0.2462183939024871\n",
       " -0.42638066509294764\n",
       " -0.5736377503592653\n",
       "  0.27238914199328457\n",
       "  0.41168588238300136"
      ]
     },
     "metadata": {},
     "output_type": "display_data"
    }
   ],
   "source": [
    "FD.gradient(X -> asdkjfh(X),randn(10))"
   ]
  },
  {
   "cell_type": "code",
   "execution_count": 231,
   "metadata": {},
   "outputs": [
    {
     "data": {
      "text/plain": [
       "(nothing,)"
      ]
     },
     "metadata": {},
     "output_type": "display_data"
    }
   ],
   "source": [
    "Zygote.gradient(X->asdkjfh(X),randn(50))"
   ]
  },
  {
   "cell_type": "code",
   "execution_count": 210,
   "metadata": {},
   "outputs": [
    {
     "data": {
      "text/plain": [
       "(0.6382347991390347, Zygote.var\"#60#61\"{typeof(∂(#403))}(∂(#403)))"
      ]
     },
     "metadata": {},
     "output_type": "display_data"
    }
   ],
   "source": [
    "ψNN(x,t,p) = (Lux.apply(ψmodel, [x,t], p, st)[1]);\n",
    "sjkdfjdsf = pullback(p -> Zygote.forwarddiff(x -> ψNN(x,1.0,p),1.0) |> norm,ps)"
   ]
  },
  {
   "cell_type": "code",
   "execution_count": 221,
   "metadata": {},
   "outputs": [
    {
     "ename": "InterruptException",
     "evalue": "InterruptException:",
     "output_type": "error",
     "traceback": [
      "InterruptException:\n",
      "\n",
      "Stacktrace:\n",
      "  [1] _apply(::Function, ::Vararg{Any})\n",
      "    @ Core ./boot.jl:816\n",
      "  [2] adjoint\n",
      "    @ ~/.julia/packages/Zygote/dABKa/src/lib/lib.jl:203 [inlined]\n",
      "  [3] _pullback (repeats 2 times)\n",
      "    @ ~/.julia/packages/ZygoteRules/AIbCs/src/adjoint.jl:65 [inlined]\n",
      "  [4] _pullback(::Zygote.Context{false}, ::typeof(ZygoteRules._pullback), ::Zygote.Context{false}, ::typeof(Core._apply_iterate), ::typeof(iterate), ::var\"#426#428\"{NamedTuple{(:layer_1, :layer_2, :layer_3, :layer_4, :layer_5, :layer_6), NTuple{6, NamedTuple{(:weight, :bias), Tuple{Matrix{Float32}, Matrix{Float32}}}}}}, ::Tuple{Float64})\n",
      "    @ Zygote ~/.julia/packages/Zygote/dABKa/src/compiler/interface2.jl:0\n",
      "  [5] _pullback\n",
      "    @ ./operators.jl:1035 [inlined]\n",
      "  [6] _pullback(::Zygote.Context{false}, ::typeof(ZygoteRules._pullback), ::Zygote.Context{false}, ::Base.var\"##_#95\", ::Base.Pairs{Symbol, Union{}, Tuple{}, NamedTuple{(), Tuple{}}}, ::ComposedFunction{typeof(Zygote._jvec), var\"#426#428\"{NamedTuple{(:layer_1, :layer_2, :layer_3, :layer_4, :layer_5, :layer_6), NTuple{6, NamedTuple{(:weight, :bias), Tuple{Matrix{Float32}, Matrix{Float32}}}}}}}, ::Float64)\n",
      "    @ Zygote ~/.julia/packages/Zygote/dABKa/src/compiler/interface2.jl:0\n",
      "  [7] _apply\n",
      "    @ ./boot.jl:816 [inlined]\n",
      "  [8] adjoint\n",
      "    @ ~/.julia/packages/Zygote/dABKa/src/lib/lib.jl:192 [inlined]\n",
      "  [9] _pullback\n",
      "    @ ~/.julia/packages/ZygoteRules/AIbCs/src/adjoint.jl:65 [inlined]\n",
      " [10] _apply\n",
      "    @ ./boot.jl:816 [inlined]\n",
      " [11] adjoint\n",
      "    @ ~/.julia/packages/Zygote/dABKa/src/lib/lib.jl:203 [inlined]\n",
      " [12] _pullback\n",
      "    @ ~/.julia/packages/ZygoteRules/AIbCs/src/adjoint.jl:65 [inlined]\n",
      " [13] _pullback\n",
      "    @ ~/.julia/packages/Zygote/dABKa/src/lib/lib.jl:203 [inlined]\n",
      " [14] _pullback(::Zygote.Context{false}, ::typeof(ZygoteRules.adjoint), ::Zygote.Context{false}, ::typeof(Core._apply_iterate), ::typeof(iterate), ::Base.var\"##_#95\", ::Tuple{Base.Pairs{Symbol, Union{}, Tuple{}, NamedTuple{(), Tuple{}}}, ComposedFunction{typeof(Zygote._jvec), var\"#426#428\"{NamedTuple{(:layer_1, :layer_2, :layer_3, :layer_4, :layer_5, :layer_6), NTuple{6, NamedTuple{(:weight, :bias), Tuple{Matrix{Float32}, Matrix{Float32}}}}}}}}, ::Tuple{Float64})\n",
      "    @ Zygote ~/.julia/packages/Zygote/dABKa/src/compiler/interface2.jl:0\n",
      " [15] _apply(::Function, ::Vararg{Any})\n",
      "    @ Core ./boot.jl:816\n",
      " [16] adjoint\n",
      "    @ ~/.julia/packages/Zygote/dABKa/src/lib/lib.jl:203 [inlined]\n",
      " [17] _pullback (repeats 2 times)\n",
      "    @ ~/.julia/packages/ZygoteRules/AIbCs/src/adjoint.jl:65 [inlined]\n",
      " [18] _pullback(::Zygote.Context{false}, ::typeof(ZygoteRules._pullback), ::Zygote.Context{false}, ::typeof(Core._apply_iterate), ::typeof(iterate), ::Base.var\"##_#95\", ::Tuple{Base.Pairs{Symbol, Union{}, Tuple{}, NamedTuple{(), Tuple{}}}, ComposedFunction{typeof(Zygote._jvec), var\"#426#428\"{NamedTuple{(:layer_1, :layer_2, :layer_3, :layer_4, :layer_5, :layer_6), NTuple{6, NamedTuple{(:weight, :bias), Tuple{Matrix{Float32}, Matrix{Float32}}}}}}}}, ::Tuple{Float64})\n",
      "    @ Zygote ~/.julia/packages/Zygote/dABKa/src/compiler/interface2.jl:0\n",
      " [19] _pullback\n",
      "    @ ./operators.jl:1033 [inlined]\n",
      " [20] _pullback(::Zygote.Context{false}, ::typeof(ZygoteRules._pullback), ::Zygote.Context{false}, ::ComposedFunction{typeof(Zygote._jvec), var\"#426#428\"{NamedTuple{(:layer_1, :layer_2, :layer_3, :layer_4, :layer_5, :layer_6), NTuple{6, NamedTuple{(:weight, :bias), Tuple{Matrix{Float32}, Matrix{Float32}}}}}}}, ::Float64)\n",
      "    @ Zygote ~/.julia/packages/Zygote/dABKa/src/compiler/interface2.jl:0\n",
      " [21] _apply\n",
      "    @ ./boot.jl:816 [inlined]\n",
      " [22] adjoint\n",
      "    @ ~/.julia/packages/Zygote/dABKa/src/lib/lib.jl:203 [inlined]\n",
      " [23] _pullback\n",
      "    @ ~/.julia/packages/ZygoteRules/AIbCs/src/adjoint.jl:65 [inlined]\n",
      " [24] _pullback\n",
      "    @ ~/.julia/packages/Zygote/dABKa/src/compiler/interface.jl:44 [inlined]\n",
      " [25] _pullback(::Zygote.Context{false}, ::typeof(pullback), ::ComposedFunction{typeof(Zygote._jvec), var\"#426#428\"{NamedTuple{(:layer_1, :layer_2, :layer_3, :layer_4, :layer_5, :layer_6), NTuple{6, NamedTuple{(:weight, :bias), Tuple{Matrix{Float32}, Matrix{Float32}}}}}}}, ::Zygote.Context{false}, ::Float64)\n",
      "    @ Zygote ~/.julia/packages/Zygote/dABKa/src/compiler/interface2.jl:0\n",
      " [26] _apply(::Function, ::Vararg{Any})\n",
      "    @ Core ./boot.jl:816\n",
      " [27] adjoint\n",
      "    @ ~/.julia/packages/Zygote/dABKa/src/lib/lib.jl:203 [inlined]\n",
      " [28] _pullback\n",
      "    @ ~/.julia/packages/ZygoteRules/AIbCs/src/adjoint.jl:65 [inlined]\n",
      " [29] _pullback\n",
      "    @ ~/.julia/packages/Zygote/dABKa/src/compiler/interface.jl:42 [inlined]\n",
      " [30] _pullback(::Zygote.Context{false}, ::typeof(pullback), ::ComposedFunction{typeof(Zygote._jvec), var\"#426#428\"{NamedTuple{(:layer_1, :layer_2, :layer_3, :layer_4, :layer_5, :layer_6), NTuple{6, NamedTuple{(:weight, :bias), Tuple{Matrix{Float32}, Matrix{Float32}}}}}}}, ::Float64)\n",
      "    @ Zygote ~/.julia/packages/Zygote/dABKa/src/compiler/interface2.jl:0\n",
      " [31] _apply(::Function, ::Vararg{Any})\n",
      "    @ Core ./boot.jl:816\n",
      " [32] adjoint\n",
      "    @ ~/.julia/packages/Zygote/dABKa/src/lib/lib.jl:203 [inlined]\n",
      " [33] _pullback\n",
      "    @ ~/.julia/packages/ZygoteRules/AIbCs/src/adjoint.jl:65 [inlined]\n",
      " [34] _pullback\n",
      "    @ ~/.julia/packages/Zygote/dABKa/src/lib/grad.jl:141 [inlined]\n",
      " [35] _pullback(::Zygote.Context{false}, ::typeof(withjacobian), ::var\"#426#428\"{NamedTuple{(:layer_1, :layer_2, :layer_3, :layer_4, :layer_5, :layer_6), NTuple{6, NamedTuple{(:weight, :bias), Tuple{Matrix{Float32}, Matrix{Float32}}}}}}, ::Float64)\n",
      "    @ Zygote ~/.julia/packages/Zygote/dABKa/src/compiler/interface2.jl:0\n",
      " [36] _apply(::Function, ::Vararg{Any})\n",
      "    @ Core ./boot.jl:816\n",
      " [37] adjoint\n",
      "    @ ~/.julia/packages/Zygote/dABKa/src/lib/lib.jl:203 [inlined]\n",
      " [38] _pullback\n",
      "    @ ~/.julia/packages/ZygoteRules/AIbCs/src/adjoint.jl:65 [inlined]\n",
      " [39] _pullback\n",
      "    @ ~/.julia/packages/Zygote/dABKa/src/lib/grad.jl:128 [inlined]\n",
      " [40] _pullback(::Zygote.Context{false}, ::typeof(jacobian), ::var\"#426#428\"{NamedTuple{(:layer_1, :layer_2, :layer_3, :layer_4, :layer_5, :layer_6), NTuple{6, NamedTuple{(:weight, :bias), Tuple{Matrix{Float32}, Matrix{Float32}}}}}}, ::Float64)\n",
      "    @ Zygote ~/.julia/packages/Zygote/dABKa/src/compiler/interface2.jl:0\n",
      " [41] _pullback\n",
      "    @ ~/Documents/GitHub/ma539-PINNs/Drafting code/Untitled-2.ipynb:1 [inlined]\n",
      " [42] _pullback(ctx::Zygote.Context{false}, f::var\"#425#427\", args::NamedTuple{(:layer_1, :layer_2, :layer_3, :layer_4, :layer_5, :layer_6), NTuple{6, NamedTuple{(:weight, :bias), Tuple{Matrix{Float32}, Matrix{Float32}}}}})\n",
      "    @ Zygote ~/.julia/packages/Zygote/dABKa/src/compiler/interface2.jl:0\n",
      " [43] pullback(f::Function, cx::Zygote.Context{false}, args::NamedTuple{(:layer_1, :layer_2, :layer_3, :layer_4, :layer_5, :layer_6), NTuple{6, NamedTuple{(:weight, :bias), Tuple{Matrix{Float32}, Matrix{Float32}}}}})\n",
      "    @ Zygote ~/.julia/packages/Zygote/dABKa/src/compiler/interface.jl:44\n",
      " [44] pullback\n",
      "    @ ~/.julia/packages/Zygote/dABKa/src/compiler/interface.jl:42 [inlined]\n",
      " [45] gradient(f::Function, args::NamedTuple{(:layer_1, :layer_2, :layer_3, :layer_4, :layer_5, :layer_6), NTuple{6, NamedTuple{(:weight, :bias), Tuple{Matrix{Float32}, Matrix{Float32}}}}})\n",
      "    @ Zygote ~/.julia/packages/Zygote/dABKa/src/compiler/interface.jl:96\n",
      " [46] eval\n",
      "    @ ./boot.jl:368 [inlined]\n",
      " [47] include_string(mapexpr::typeof(REPL.softscope), mod::Module, code::String, filename::String)\n",
      "    @ Base ./loading.jl:1428\n",
      " [48] #invokelatest#2\n",
      "    @ ./essentials.jl:729 [inlined]\n",
      " [49] invokelatest\n",
      "    @ ./essentials.jl:726 [inlined]\n",
      " [50] (::VSCodeServer.var\"#198#199\"{VSCodeServer.NotebookRunCellArguments, String})()\n",
      "    @ VSCodeServer ~/.vscode/extensions/julialang.language-julia-1.38.2/scripts/packages/VSCodeServer/src/serve_notebook.jl:19\n",
      " [51] withpath(f::VSCodeServer.var\"#198#199\"{VSCodeServer.NotebookRunCellArguments, String}, path::String)\n",
      "    @ VSCodeServer ~/.vscode/extensions/julialang.language-julia-1.38.2/scripts/packages/VSCodeServer/src/repl.jl:249\n",
      " [52] notebook_runcell_request(conn::VSCodeServer.JSONRPC.JSONRPCEndpoint{Base.PipeEndpoint, Base.PipeEndpoint}, params::VSCodeServer.NotebookRunCellArguments)\n",
      "    @ VSCodeServer ~/.vscode/extensions/julialang.language-julia-1.38.2/scripts/packages/VSCodeServer/src/serve_notebook.jl:13\n",
      " [53] dispatch_msg(x::VSCodeServer.JSONRPC.JSONRPCEndpoint{Base.PipeEndpoint, Base.PipeEndpoint}, dispatcher::VSCodeServer.JSONRPC.MsgDispatcher, msg::Dict{String, Any})\n",
      "    @ VSCodeServer.JSONRPC ~/.vscode/extensions/julialang.language-julia-1.38.2/scripts/packages/JSONRPC/src/typed.jl:67\n",
      " [54] serve_notebook(pipename::String, outputchannel_logger::Base.CoreLogging.SimpleLogger; crashreporting_pipename::String)\n",
      "    @ VSCodeServer ~/.vscode/extensions/julialang.language-julia-1.38.2/scripts/packages/VSCodeServer/src/serve_notebook.jl:139"
     ]
    }
   ],
   "source": [
    "gradient(p -> norm(Zygote.jacobian(x -> ψNN(x,1.0,p),1.0)[1]),ps)"
   ]
  },
  {
   "cell_type": "code",
   "execution_count": 199,
   "metadata": {},
   "outputs": [
    {
     "data": {
      "text/plain": [
       "compute_loss (generic function with 2 methods)"
      ]
     },
     "metadata": {},
     "output_type": "display_data"
    }
   ],
   "source": [
    "# # ψNN(x,t,model,params) = (Lux.apply(model, [x,t], params, st)[1]);\n",
    "# akjsd(x,t,model,params) = Zygote.forwarddiff(t -> (Lux.apply(model, [x,t], params, st)[1]),t);\n",
    "# function test_loss(model, p, st) \n",
    "#     (Lux.apply(ψmodel, [1.0,1.0], p, st)[1])\n",
    "#     # return norm(akjsd(1.0,1.0,model,p))\n",
    "# end\n",
    "\n",
    "function compute_loss(model, p, st)\n",
    "    ψNN(x,t) = (Lux.apply(model, [x,t], p, st)[1]);\n",
    "    akjsdhf = Zygote.forwarddiff(x -> ψNN(x,1.0),1.0);\n",
    "    sum(akjsdhf)\n",
    "end"
   ]
  },
  {
   "cell_type": "code",
   "execution_count": 200,
   "metadata": {},
   "outputs": [
    {
     "data": {
      "text/plain": [
       "0.6247648228951997"
      ]
     },
     "metadata": {},
     "output_type": "display_data"
    }
   ],
   "source": [
    "compute_loss(ψmodel, ps, st)"
   ]
  },
  {
   "cell_type": "code",
   "execution_count": 201,
   "metadata": {},
   "outputs": [
    {
     "data": {
      "text/plain": [
       "(nothing,)"
      ]
     },
     "metadata": {},
     "output_type": "display_data"
    }
   ],
   "source": [
    "gradient(p -> compute_loss(ψmodel, p, st),ps)"
   ]
  },
  {
   "cell_type": "code",
   "execution_count": 192,
   "metadata": {},
   "outputs": [
    {
     "data": {
      "text/plain": [
       "((layer_1 = (weight = Float32[0.26927152 0.26927152; -0.033846136 -0.033846136; … ; 0.008234615 0.008234615; 0.0119566135 0.0119566135], bias = Float32[0.26927152; -0.033846136; … ; 0.008234615; 0.0119566135;;]), layer_2 = (weight = Float32[0.002017301 -0.0068085627 … -0.013755695 -0.005021977; 0.012315847 -0.04156703 … -0.083980046 -0.030659724; … ; -0.020872762 0.07044735 … 0.14232847 0.051961765; -0.0042685885 0.01440685 … 0.029106911 0.010626451], bias = Float32[-0.029363498; -0.1792674; … ; 0.30382043; 0.062132858;;]), layer_3 = (weight = Float32[0.07549549 0.048263866 … -0.02029597 0.045695137; -0.19612126 -0.12537928 … 0.052724622 -0.11870627; … ; -0.061590243 -0.039374318 … 0.016557729 -0.037278716; 0.16003342 0.10230852 … -0.043022882 0.09686339], bias = Float32[0.11760719; -0.30551854; … ; -0.095945545; 0.24930073;;]), layer_4 = (weight = Float32[0.060098857 0.0009541092 … -0.0149186775 -0.042176608; 0.035513546 0.0005638011 … -0.008815727 -0.024922952; … ; 0.002873935 4.5625624f-5 … -0.00071341306 -0.0020168908; 0.041178577 0.00065373717 … -0.01022199 -0.028898597], bias = Float32[0.1665905; 0.09844146; … ; 0.007966379; 0.114144586;;]), layer_5 = (weight = Float32[-0.020228336 -0.002954651 … -0.046780035 -0.0067106723; -0.02306603 -0.0033691388 … -0.053342488 -0.0076520666; … ; 0.03756007 0.0054862103 … 0.086861394 0.012460409; 0.021506283 0.0031413143 … 0.049735416 0.007134626], bias = Float32[-0.15906034; -0.18137385; … ; 0.29534402; 0.16910917;;]), layer_6 = (weight = Float32[-0.034127314 -0.050462622 … 0.042800914 -0.08023486; -0.0 -0.0 … 0.0 -0.0], bias = Float32[1.0; 0.0;;])),)"
      ]
     },
     "metadata": {},
     "output_type": "display_data"
    }
   ],
   "source": [
    "Zygote.gradient(ps) do p \n",
    "    # ψNN(x,t) = (Lux.apply(ψmodel, [x,t], p, st)[1]);\n",
    "    # akjsd = Zygote.forwarddiff(t -> ψNN(1.0,t),1.0);\n",
    "    # akjsd[1]\n",
    "    # Zygote.forwarddiff(x -> (Lux.apply(ψmodel, [x,1.0], p, st)[1]),1.0)\n",
    "    (Lux.apply(ψmodel, [1.0,1.0], p, st)[1])[1]\n",
    "end"
   ]
  },
  {
   "cell_type": "code",
   "execution_count": 142,
   "metadata": {},
   "outputs": [
    {
     "data": {
      "text/plain": [
       "(nothing,)"
      ]
     },
     "metadata": {},
     "output_type": "display_data"
    }
   ],
   "source": [
    "back(one(lo))"
   ]
  },
  {
   "cell_type": "code",
   "execution_count": 95,
   "metadata": {},
   "outputs": [
    {
     "data": {
      "text/plain": [
       "ψNN (generic function with 1 method)"
      ]
     },
     "metadata": {},
     "output_type": "display_data"
    }
   ],
   "source": [
    "ψNN(x,t) = (Lux.apply(ψmodel, [x,t], ps, st)[1]);\n",
    "# ∂²ψ∂x²(ψNN,1.0,1.0)\n",
    "# ∂ψ∂ttest(ψ,x,t) = jacobian(t -> ψ(x,t),t) #|> X -> complex(X[1]...);\n",
    "# gradient(t->∂ψ∂ttest(ψNN,randn(1),t),1.0)"
   ]
  },
  {
   "cell_type": "code",
   "execution_count": null,
   "metadata": {},
   "outputs": [],
   "source": []
  },
  {
   "cell_type": "code",
   "execution_count": null,
   "metadata": {},
   "outputs": [],
   "source": [
    "ψNN()"
   ]
  },
  {
   "cell_type": "code",
   "execution_count": 70,
   "metadata": {},
   "outputs": [
    {
     "data": {
      "text/plain": [
       "2-element Vector{Float64}:\n",
       "  0.389557309053664\n",
       " -0.21308411399776828"
      ]
     },
     "metadata": {},
     "output_type": "display_data"
    }
   ],
   "source": [
    "ψNN(1.0,1.0)"
   ]
  },
  {
   "cell_type": "code",
   "execution_count": 34,
   "metadata": {},
   "outputs": [
    {
     "data": {
      "text/plain": [
       "2-element Vector{Float64}:\n",
       " -0.07894674124826392\n",
       "  0.10281774775404108"
      ]
     },
     "metadata": {},
     "output_type": "display_data"
    }
   ],
   "source": [
    "# jacobian(t->∂ψ∂ttest(ψNN,1.0,t)[1],1.0)\n",
    "# (x->complex(ψNN(x,1.0)...),1.0)\n",
    "Zygote.forward_jacobian(x -> Zygote.forward_jacobian(x -> ψNN(x,1.0),x)[2],1.0)[2] |> vec"
   ]
  },
  {
   "cell_type": "code",
   "execution_count": 81,
   "metadata": {},
   "outputs": [
    {
     "data": {
      "text/plain": [
       "0.40630980747127243"
      ]
     },
     "metadata": {},
     "output_type": "display_data"
    }
   ],
   "source": [
    "compute_loss(ψmodel,ps)"
   ]
  },
  {
   "cell_type": "code",
   "execution_count": 31,
   "metadata": {},
   "outputs": [
    {
     "data": {
      "text/plain": [
       "3.169924077987605e-30"
      ]
     },
     "metadata": {},
     "output_type": "display_data"
    }
   ],
   "source": [
    "ψtest(x,t) = (collect∘reim)( sin(π*x)*exp(-1.0im*π^2*t/2) + sin(2π*x)*exp(-1.0im*π^2*2^2*t/2));\n",
    "mean([abs(TDSE(ψtest,X...))^2 for X ∈ collocationPts]) + mean([norm(ψtest(∂xt[i]...) - ∂ψxt[i])^2 for i ∈ eachindex(∂xt)])"
   ]
  },
  {
   "cell_type": "code",
   "execution_count": 29,
   "metadata": {},
   "outputs": [],
   "source": [
    "using Zygote"
   ]
  },
  {
   "cell_type": "code",
   "execution_count": 60,
   "metadata": {},
   "outputs": [],
   "source": [
    "function create_optimiser(ps)\n",
    "    opt = Optimisers.ADAM(0.01f0)\n",
    "    return Optimisers.setup(opt, ps)\n",
    "end\n",
    "opt_state = create_optimiser(ps);"
   ]
  },
  {
   "cell_type": "code",
   "execution_count": null,
   "metadata": {},
   "outputs": [],
   "source": [
    "Zygote.pullback()"
   ]
  },
  {
   "cell_type": "code",
   "execution_count": 83,
   "metadata": {},
   "outputs": [
    {
     "data": {
      "text/plain": [
       "(0.40630980747127243, Zygote.var\"#60#61\"{typeof(∂(#151))}(∂(#151)))"
      ]
     },
     "metadata": {},
     "output_type": "display_data"
    }
   ],
   "source": [
    "lo, pb = Zygote.pullback(p -> compute_loss(ψmodel,p),ps)\n",
    "# opt_state, ps = Optimisers.update(opt_state, ps, back(1.0))\n",
    "# back(1)"
   ]
  },
  {
   "cell_type": "code",
   "execution_count": 80,
   "metadata": {},
   "outputs": [
    {
     "ename": "MethodError",
     "evalue": "MethodError: no method matching (::ChainRulesCore.ProjectTo{AbstractArray, NamedTuple{(:element, :axes), Tuple{ChainRulesCore.ProjectTo{Float64, NamedTuple{(), Tuple{}}}, Tuple{Base.OneTo{Int64}}}}})(::Tuple{Float64, Float64})\nClosest candidates are:\n  (::ChainRulesCore.ProjectTo{AbstractArray})(!Matched::Union{Adjoint{T, var\"#s885\"}, Transpose{T, var\"#s885\"}} where {T, var\"#s885\"<:(AbstractVector)}) at ~/.julia/packages/ChainRulesCore/C73ay/src/projection.jl:247\n  (::ChainRulesCore.ProjectTo{T})(!Matched::ChainRulesCore.AbstractZero) where T at ~/.julia/packages/ChainRulesCore/C73ay/src/projection.jl:120\n  (::ChainRulesCore.ProjectTo{AbstractArray})(!Matched::AbstractArray{<:ChainRulesCore.AbstractZero}) at ~/.julia/packages/ChainRulesCore/C73ay/src/projection.jl:244\n  ...",
     "output_type": "error",
     "traceback": [
      "MethodError: no method matching (::ChainRulesCore.ProjectTo{AbstractArray, NamedTuple{(:element, :axes), Tuple{ChainRulesCore.ProjectTo{Float64, NamedTuple{(), Tuple{}}}, Tuple{Base.OneTo{Int64}}}}})(::Tuple{Float64, Float64})\n",
      "Closest candidates are:\n",
      "  (::ChainRulesCore.ProjectTo{AbstractArray})(!Matched::Union{Adjoint{T, var\"#s885\"}, Transpose{T, var\"#s885\"}} where {T, var\"#s885\"<:(AbstractVector)}) at ~/.julia/packages/ChainRulesCore/C73ay/src/projection.jl:247\n",
      "  (::ChainRulesCore.ProjectTo{T})(!Matched::ChainRulesCore.AbstractZero) where T at ~/.julia/packages/ChainRulesCore/C73ay/src/projection.jl:120\n",
      "  (::ChainRulesCore.ProjectTo{AbstractArray})(!Matched::AbstractArray{<:ChainRulesCore.AbstractZero}) at ~/.julia/packages/ChainRulesCore/C73ay/src/projection.jl:244\n",
      "  ...\n",
      "\n",
      "Stacktrace:\n",
      "  [1] (::ChainRulesCore.var\"#59#60\")(f::ChainRulesCore.ProjectTo{AbstractArray, NamedTuple{(:element, :axes), Tuple{ChainRulesCore.ProjectTo{Float64, NamedTuple{(), Tuple{}}}, Tuple{Base.OneTo{Int64}}}}}, y::Tuple{Float64, Float64})\n",
      "    @ ChainRulesCore ~/.julia/packages/ChainRulesCore/C73ay/src/projection.jl:238\n",
      "  [2] (::Base.var\"#4#5\"{ChainRulesCore.var\"#59#60\"})(a::Tuple{ChainRulesCore.ProjectTo{AbstractArray, NamedTuple{(:element, :axes), Tuple{ChainRulesCore.ProjectTo{Float64, NamedTuple{(), Tuple{}}}, Tuple{Base.OneTo{Int64}}}}}, Tuple{Float64, Float64}})\n",
      "    @ Base ./generator.jl:36\n",
      "  [3] iterate\n",
      "    @ ./generator.jl:47 [inlined]\n",
      "  [4] collect_to!(dest::Vector{ChainRulesCore.NoTangent}, itr::Base.Generator{Base.Iterators.Zip{Tuple{Vector{ChainRulesCore.ProjectTo{AbstractArray, NamedTuple{(:element, :axes), Tuple{ChainRulesCore.ProjectTo{Float64, NamedTuple{(), Tuple{}}}, Tuple{Base.OneTo{Int64}}}}}}, Vector{Any}}}, Base.var\"#4#5\"{ChainRulesCore.var\"#59#60\"}}, offs::Int64, st::Tuple{Int64, Int64})\n",
      "    @ Base ./array.jl:845\n",
      "  [5] collect_to_with_first!(dest::Vector{ChainRulesCore.NoTangent}, v1::ChainRulesCore.NoTangent, itr::Base.Generator{Base.Iterators.Zip{Tuple{Vector{ChainRulesCore.ProjectTo{AbstractArray, NamedTuple{(:element, :axes), Tuple{ChainRulesCore.ProjectTo{Float64, NamedTuple{(), Tuple{}}}, Tuple{Base.OneTo{Int64}}}}}}, Vector{Any}}}, Base.var\"#4#5\"{ChainRulesCore.var\"#59#60\"}}, st::Tuple{Int64, Int64})\n",
      "    @ Base ./array.jl:823\n",
      "  [6] collect(itr::Base.Generator{Base.Iterators.Zip{Tuple{Vector{ChainRulesCore.ProjectTo{AbstractArray, NamedTuple{(:element, :axes), Tuple{ChainRulesCore.ProjectTo{Float64, NamedTuple{(), Tuple{}}}, Tuple{Base.OneTo{Int64}}}}}}, Vector{Any}}}, Base.var\"#4#5\"{ChainRulesCore.var\"#59#60\"}})\n",
      "    @ Base ./array.jl:797\n",
      "  [7] map\n",
      "    @ ./abstractarray.jl:3055 [inlined]\n",
      "  [8] (::ChainRulesCore.ProjectTo{AbstractArray, NamedTuple{(:elements, :axes), Tuple{Vector{ChainRulesCore.ProjectTo{AbstractArray, NamedTuple{(:element, :axes), Tuple{ChainRulesCore.ProjectTo{Float64, NamedTuple{(), Tuple{}}}, Tuple{Base.OneTo{Int64}}}}}}, Tuple{Base.OneTo{Int64}}}}})(dx::Vector{Any})\n",
      "    @ ChainRulesCore ~/.julia/packages/ChainRulesCore/C73ay/src/projection.jl:238\n",
      "  [9] _project\n",
      "    @ ~/.julia/packages/Zygote/dABKa/src/compiler/chainrules.jl:184 [inlined]\n",
      " [10] (::Zygote.var\"#377#379\"{1, SubArray{Float64, 1, Matrix{Float64}, Tuple{Int64, Base.Slice{Base.OneTo{Int64}}}, true}, Vector{SubArray{Float64, 1, Matrix{Float64}, Tuple{Int64, Base.Slice{Base.OneTo{Int64}}}, true}}, Tuple{Int64}})(dy::Tuple{Float64, Float64})\n",
      "    @ Zygote ~/.julia/packages/Zygote/dABKa/src/lib/array.jl:39\n",
      " [11] (::Zygote.var\"#2427#back#373\"{Zygote.var\"#377#379\"{1, SubArray{Float64, 1, Matrix{Float64}, Tuple{Int64, Base.Slice{Base.OneTo{Int64}}}, true}, Vector{SubArray{Float64, 1, Matrix{Float64}, Tuple{Int64, Base.Slice{Base.OneTo{Int64}}}, true}}, Tuple{Int64}}})(Δ::Tuple{Float64, Float64})\n",
      "    @ Zygote ~/.julia/packages/ZygoteRules/AIbCs/src/adjoint.jl:67\n",
      " [12] Pullback\n",
      "    @ ./none:0 [inlined]\n",
      " [13] (::typeof(∂(λ)))(Δ::Float64)\n",
      "    @ Zygote ~/.julia/packages/Zygote/dABKa/src/compiler/interface2.jl:0\n",
      " [14] #470\n",
      "    @ ~/.julia/packages/Zygote/dABKa/src/lib/array.jl:186 [inlined]\n",
      " [15] #4\n",
      "    @ ./generator.jl:36 [inlined]\n",
      " [16] iterate\n",
      "    @ ./generator.jl:47 [inlined]\n",
      " [17] collect(itr::Base.Generator{Base.Iterators.Zip{Tuple{Vector{Tuple{Float64, typeof(∂(λ))}}, Vector{Float64}}}, Base.var\"#4#5\"{Zygote.var\"#470#475\"}})\n",
      "    @ Base ./array.jl:787\n",
      " [18] map\n",
      "    @ ./abstractarray.jl:3055 [inlined]\n",
      " [19] map_back\n",
      "    @ ~/.julia/packages/Zygote/dABKa/src/lib/array.jl:186 [inlined]\n",
      " [20] (::Zygote.var\"#back#498\"{Zygote.var\"#map_back#472\"{var\"#119#122\"{var\"#ψNN#120\"{Chain{NamedTuple{(:layer_1, :layer_2, :layer_3, :layer_4, :layer_5, :layer_6), Tuple{Dense{true, typeof(NNlib.tanh_fast), typeof(Lux.glorot_uniform), typeof(Lux.zeros32)}, Dense{true, typeof(NNlib.tanh_fast), typeof(Lux.glorot_uniform), typeof(Lux.zeros32)}, Dense{true, typeof(NNlib.tanh_fast), typeof(Lux.glorot_uniform), typeof(Lux.zeros32)}, Dense{true, typeof(NNlib.tanh_fast), typeof(Lux.glorot_uniform), typeof(Lux.zeros32)}, Dense{true, typeof(NNlib.tanh_fast), typeof(Lux.glorot_uniform), typeof(Lux.zeros32)}, Dense{true, typeof(identity), typeof(Lux.glorot_uniform), typeof(Lux.zeros32)}}}}, NamedTuple{(:layer_1, :layer_2, :layer_3, :layer_4, :layer_5, :layer_6), NTuple{6, NamedTuple{(:weight, :bias), Tuple{Matrix{Float32}, Matrix{Float32}}}}}}}, 1, Tuple{Base.OneTo{Int64}}, Tuple{Tuple{Base.OneTo{Int64}}}, Vector{Tuple{Float64, typeof(∂(λ))}}}})(ȳ::Vector{Float64})\n",
      "    @ Zygote ~/.julia/packages/Zygote/dABKa/src/lib/array.jl:217\n",
      " [21] Pullback\n",
      "    @ ~/Documents/GitHub/ma539-PINNs/Drafting code/Untitled-2.ipynb:12 [inlined]\n",
      " [22] (::typeof(∂(compute_loss)))(Δ::Int64)\n",
      "    @ Zygote ~/.julia/packages/Zygote/dABKa/src/compiler/interface2.jl:0\n",
      " [23] Pullback\n",
      "    @ ~/Documents/GitHub/ma539-PINNs/Drafting code/Untitled-2.ipynb:1 [inlined]\n",
      " [24] (::typeof(∂(#149)))(Δ::Int64)\n",
      "    @ Zygote ~/.julia/packages/Zygote/dABKa/src/compiler/interface2.jl:0\n",
      " [25] (::Zygote.var\"#60#61\"{typeof(∂(#149))})(Δ::Int64)\n",
      "    @ Zygote ~/.julia/packages/Zygote/dABKa/src/compiler/interface.jl:45\n",
      " [26] top-level scope\n",
      "    @ ~/Documents/GitHub/ma539-PINNs/Drafting code/Untitled-2.ipynb:1"
     ]
    }
   ],
   "source": [
    "pb(1)"
   ]
  },
  {
   "cell_type": "code",
   "execution_count": 10,
   "metadata": {},
   "outputs": [
    {
     "data": {
      "text/plain": [
       "BenchmarkTools.Trial: 10000 samples with 1 evaluation.\n",
       " Range \u001b[90m(\u001b[39m\u001b[36m\u001b[1mmin\u001b[22m\u001b[39m … \u001b[35mmax\u001b[39m\u001b[90m):  \u001b[39m\u001b[36m\u001b[1m25.865 μs\u001b[22m\u001b[39m … \u001b[35m 21.215 ms\u001b[39m  \u001b[90m┊\u001b[39m GC \u001b[90m(\u001b[39mmin … max\u001b[90m): \u001b[39m0.00% … 99.56%\n",
       " Time  \u001b[90m(\u001b[39m\u001b[34m\u001b[1mmedian\u001b[22m\u001b[39m\u001b[90m):     \u001b[39m\u001b[34m\u001b[1m29.320 μs               \u001b[22m\u001b[39m\u001b[90m┊\u001b[39m GC \u001b[90m(\u001b[39mmedian\u001b[90m):    \u001b[39m0.00%\n",
       " Time  \u001b[90m(\u001b[39m\u001b[32m\u001b[1mmean\u001b[22m\u001b[39m ± \u001b[32mσ\u001b[39m\u001b[90m):   \u001b[39m\u001b[32m\u001b[1m33.811 μs\u001b[22m\u001b[39m ± \u001b[32m211.990 μs\u001b[39m  \u001b[90m┊\u001b[39m GC \u001b[90m(\u001b[39mmean ± σ\u001b[90m):  \u001b[39m6.25% ±  1.00%\n",
       "\n",
       "  \u001b[39m \u001b[39m▁\u001b[39m█\u001b[39m▃\u001b[39m \u001b[34m \u001b[39m\u001b[39m \u001b[39m \u001b[39m \u001b[39m \u001b[39m \u001b[32m \u001b[39m\u001b[39m \u001b[39m \u001b[39m \u001b[39m \u001b[39m \u001b[39m \u001b[39m \u001b[39m \u001b[39m \u001b[39m \u001b[39m \u001b[39m \u001b[39m \u001b[39m \u001b[39m \u001b[39m \u001b[39m \u001b[39m \u001b[39m \u001b[39m \u001b[39m \u001b[39m \u001b[39m \u001b[39m \u001b[39m \u001b[39m \u001b[39m \u001b[39m \u001b[39m \u001b[39m \u001b[39m \u001b[39m \u001b[39m \u001b[39m \u001b[39m \u001b[39m \u001b[39m \u001b[39m \u001b[39m \u001b[39m \u001b[39m \u001b[39m \u001b[39m \u001b[39m \u001b[39m \u001b[39m \u001b[39m \u001b[39m \u001b[39m \u001b[39m \n",
       "  \u001b[39m▃\u001b[39m█\u001b[39m█\u001b[39m█\u001b[39m▅\u001b[34m▄\u001b[39m\u001b[39m▄\u001b[39m▇\u001b[39m▇\u001b[39m▆\u001b[39m▆\u001b[32m▅\u001b[39m\u001b[39m▃\u001b[39m▃\u001b[39m▂\u001b[39m▂\u001b[39m▂\u001b[39m▂\u001b[39m▂\u001b[39m▂\u001b[39m▃\u001b[39m▃\u001b[39m▃\u001b[39m▃\u001b[39m▂\u001b[39m▂\u001b[39m▂\u001b[39m▂\u001b[39m▂\u001b[39m▂\u001b[39m▂\u001b[39m▂\u001b[39m▂\u001b[39m▂\u001b[39m▂\u001b[39m▂\u001b[39m▂\u001b[39m▂\u001b[39m▂\u001b[39m▂\u001b[39m▂\u001b[39m▂\u001b[39m▂\u001b[39m▂\u001b[39m▂\u001b[39m▂\u001b[39m▂\u001b[39m▂\u001b[39m▂\u001b[39m▂\u001b[39m▂\u001b[39m▂\u001b[39m▁\u001b[39m▂\u001b[39m▂\u001b[39m▂\u001b[39m▂\u001b[39m▂\u001b[39m▂\u001b[39m▂\u001b[39m \u001b[39m▃\n",
       "  25.9 μs\u001b[90m         Histogram: frequency by time\u001b[39m           68 μs \u001b[0m\u001b[1m<\u001b[22m\n",
       "\n",
       " Memory estimate\u001b[90m: \u001b[39m\u001b[33m27.77 KiB\u001b[39m, allocs estimate\u001b[90m: \u001b[39m\u001b[33m109\u001b[39m."
      ]
     },
     "metadata": {},
     "output_type": "display_data"
    }
   ],
   "source": [
    "using BenchmarkTools\n",
    "@benchmark TDSE(ψNN,randn(2)...)\n"
   ]
  },
  {
   "cell_type": "code",
   "execution_count": 11,
   "metadata": {},
   "outputs": [
    {
     "data": {
      "text/plain": [
       "0.0"
      ]
     },
     "metadata": {},
     "output_type": "display_data"
    }
   ],
   "source": [
    "ψtest(x,t) = (collect∘reim)(sin(π*(x-1/2))*exp(-1.0im*π^2*t/2))\n",
    "abs(TDSE(ψtest,randn(2)...))/eps()\n"
   ]
  },
  {
   "cell_type": "code",
   "execution_count": 15,
   "metadata": {},
   "outputs": [
    {
     "data": {
      "image/png": "[encoded data removed]",
      "image/svg+xml": "<?xml version=\"1.0\" encoding=\"utf-8\"?>\n<svg xmlns=\"http://www.w3.org/2000/svg\" xmlns:xlink=\"http://www.w3.org/1999/xlink\" width=\"600\" height=\"400\" viewBox=\"0 0 2400 1600\">\n<defs>\n  <clipPath id=\"clip230\">\n    <rect x=\"0\" y=\"0\" width=\"2400\" height=\"1600\"/>\n  </clipPath>\n</defs>\n<path clip-path=\"url(#clip230)\" d=\"\nM0 1600 L2400 1600 L2400 0 L0 0  Z\n  \" fill=\"#ffffff\" fill-rule=\"evenodd\" fill-opacity=\"1\"/>\n<defs>\n  <clipPath id=\"clip231\">\n    <rect x=\"480\" y=\"0\" width=\"1681\" height=\"1600\"/>\n  </clipPath>\n</defs>\n<path clip-path=\"url(#clip230)\" d=\"\nM173.503 1486.45 L1991.09 1486.45 L1991.09 47.2441 L173.503 47.2441  Z\n  \" fill=\"#ffffff\" fill-rule=\"evenodd\" fill-opacity=\"1\"/>\n<defs>\n  <clipPath id=\"clip232\">\n    <rect x=\"173\" y=\"47\" width=\"1819\" height=\"1440\"/>\n  </clipPath>\n</defs>\n<polyline clip-path=\"url(#clip232)\" style=\"stroke:#000000; stroke-linecap:round; stroke-linejoin:round; stroke-width:2.8; stroke-opacity:0.4; fill:none\" points=\"\n  224.944,1486.45 224.944,47.2441 \n  \"/>\n<polyline clip-path=\"url(#clip232)\" style=\"stroke:#000000; stroke-linecap:round; stroke-linejoin:round; stroke-width:2.8; stroke-opacity:0.4; fill:none\" points=\"\n  653.62,1486.45 653.62,47.2441 \n  \"/>\n<polyline clip-path=\"url(#clip232)\" style=\"stroke:#000000; stroke-linecap:round; stroke-linejoin:round; stroke-width:2.8; stroke-opacity:0.4; fill:none\" points=\"\n  1082.3,1486.45 1082.3,47.2441 \n  \"/>\n<polyline clip-path=\"url(#clip232)\" style=\"stroke:#000000; stroke-linecap:round; stroke-linejoin:round; stroke-width:2.8; stroke-opacity:0.4; fill:none\" points=\"\n  1510.97,1486.45 1510.97,47.2441 \n  \"/>\n<polyline clip-path=\"url(#clip232)\" style=\"stroke:#000000; stroke-linecap:round; stroke-linejoin:round; stroke-width:2.8; stroke-opacity:0.4; fill:none\" points=\"\n  1939.65,1486.45 1939.65,47.2441 \n  \"/>\n<polyline clip-path=\"url(#clip232)\" style=\"stroke:#000000; stroke-linecap:round; stroke-linejoin:round; stroke-width:2; stroke-opacity:0.06; fill:none\" points=\"\n  310.679,1486.45 310.679,47.2441 \n  \"/>\n<polyline clip-path=\"url(#clip232)\" style=\"stroke:#000000; stroke-linecap:round; stroke-linejoin:round; stroke-width:2; stroke-opacity:0.06; fill:none\" points=\"\n  396.415,1486.45 396.415,47.2441 \n  \"/>\n<polyline clip-path=\"url(#clip232)\" style=\"stroke:#000000; stroke-linecap:round; stroke-linejoin:round; stroke-width:2; stroke-opacity:0.06; fill:none\" points=\"\n  482.15,1486.45 482.15,47.2441 \n  \"/>\n<polyline clip-path=\"url(#clip232)\" style=\"stroke:#000000; stroke-linecap:round; stroke-linejoin:round; stroke-width:2; stroke-opacity:0.06; fill:none\" points=\"\n  567.885,1486.45 567.885,47.2441 \n  \"/>\n<polyline clip-path=\"url(#clip232)\" style=\"stroke:#000000; stroke-linecap:round; stroke-linejoin:round; stroke-width:2; stroke-opacity:0.06; fill:none\" points=\"\n  739.355,1486.45 739.355,47.2441 \n  \"/>\n<polyline clip-path=\"url(#clip232)\" style=\"stroke:#000000; stroke-linecap:round; stroke-linejoin:round; stroke-width:2; stroke-opacity:0.06; fill:none\" points=\"\n  825.09,1486.45 825.09,47.2441 \n  \"/>\n<polyline clip-path=\"url(#clip232)\" style=\"stroke:#000000; stroke-linecap:round; stroke-linejoin:round; stroke-width:2; stroke-opacity:0.06; fill:none\" points=\"\n  910.825,1486.45 910.825,47.2441 \n  \"/>\n<polyline clip-path=\"url(#clip232)\" style=\"stroke:#000000; stroke-linecap:round; stroke-linejoin:round; stroke-width:2; stroke-opacity:0.06; fill:none\" points=\"\n  996.561,1486.45 996.561,47.2441 \n  \"/>\n<polyline clip-path=\"url(#clip232)\" style=\"stroke:#000000; stroke-linecap:round; stroke-linejoin:round; stroke-width:2; stroke-opacity:0.06; fill:none\" points=\"\n  1168.03,1486.45 1168.03,47.2441 \n  \"/>\n<polyline clip-path=\"url(#clip232)\" style=\"stroke:#000000; stroke-linecap:round; stroke-linejoin:round; stroke-width:2; stroke-opacity:0.06; fill:none\" points=\"\n  1253.77,1486.45 1253.77,47.2441 \n  \"/>\n<polyline clip-path=\"url(#clip232)\" style=\"stroke:#000000; stroke-linecap:round; stroke-linejoin:round; stroke-width:2; stroke-opacity:0.06; fill:none\" points=\"\n  1339.5,1486.45 1339.5,47.2441 \n  \"/>\n<polyline clip-path=\"url(#clip232)\" style=\"stroke:#000000; stroke-linecap:round; stroke-linejoin:round; stroke-width:2; stroke-opacity:0.06; fill:none\" points=\"\n  1425.24,1486.45 1425.24,47.2441 \n  \"/>\n<polyline clip-path=\"url(#clip232)\" style=\"stroke:#000000; stroke-linecap:round; stroke-linejoin:round; stroke-width:2; stroke-opacity:0.06; fill:none\" points=\"\n  1596.71,1486.45 1596.71,47.2441 \n  \"/>\n<polyline clip-path=\"url(#clip232)\" style=\"stroke:#000000; stroke-linecap:round; stroke-linejoin:round; stroke-width:2; stroke-opacity:0.06; fill:none\" points=\"\n  1682.44,1486.45 1682.44,47.2441 \n  \"/>\n<polyline clip-path=\"url(#clip232)\" style=\"stroke:#000000; stroke-linecap:round; stroke-linejoin:round; stroke-width:2; stroke-opacity:0.06; fill:none\" points=\"\n  1768.18,1486.45 1768.18,47.2441 \n  \"/>\n<polyline clip-path=\"url(#clip232)\" style=\"stroke:#000000; stroke-linecap:round; stroke-linejoin:round; stroke-width:2; stroke-opacity:0.06; fill:none\" points=\"\n  1853.91,1486.45 1853.91,47.2441 \n  \"/>\n<polyline clip-path=\"url(#clip230)\" style=\"stroke:#000000; stroke-linecap:round; stroke-linejoin:round; stroke-width:4; stroke-opacity:1; fill:none\" points=\"\n  173.503,1486.45 1991.09,1486.45 \n  \"/>\n<polyline clip-path=\"url(#clip230)\" style=\"stroke:#000000; stroke-linecap:round; stroke-linejoin:round; stroke-width:4; stroke-opacity:1; fill:none\" points=\"\n  173.503,47.2441 1991.09,47.2441 \n  \"/>\n<polyline clip-path=\"url(#clip230)\" style=\"stroke:#000000; stroke-linecap:round; stroke-linejoin:round; stroke-width:4; stroke-opacity:1; fill:none\" points=\"\n  224.944,1486.45 224.944,1467.55 \n  \"/>\n<polyline clip-path=\"url(#clip230)\" style=\"stroke:#000000; stroke-linecap:round; stroke-linejoin:round; stroke-width:4; stroke-opacity:1; fill:none\" points=\"\n  653.62,1486.45 653.62,1467.55 \n  \"/>\n<polyline clip-path=\"url(#clip230)\" style=\"stroke:#000000; stroke-linecap:round; stroke-linejoin:round; stroke-width:4; stroke-opacity:1; fill:none\" points=\"\n  1082.3,1486.45 1082.3,1467.55 \n  \"/>\n<polyline clip-path=\"url(#clip230)\" style=\"stroke:#000000; stroke-linecap:round; stroke-linejoin:round; stroke-width:4; stroke-opacity:1; fill:none\" points=\"\n  1510.97,1486.45 1510.97,1467.55 \n  \"/>\n<polyline clip-path=\"url(#clip230)\" style=\"stroke:#000000; stroke-linecap:round; stroke-linejoin:round; stroke-width:4; stroke-opacity:1; fill:none\" points=\"\n  1939.65,1486.45 1939.65,1467.55 \n  \"/>\n<polyline clip-path=\"url(#clip230)\" style=\"stroke:#000000; stroke-linecap:round; stroke-linejoin:round; stroke-width:4; stroke-opacity:1; fill:none\" points=\"\n  310.679,1486.45 310.679,1477 \n  \"/>\n<polyline clip-path=\"url(#clip230)\" style=\"stroke:#000000; stroke-linecap:round; stroke-linejoin:round; stroke-width:4; stroke-opacity:1; fill:none\" points=\"\n  396.415,1486.45 396.415,1477 \n  \"/>\n<polyline clip-path=\"url(#clip230)\" style=\"stroke:#000000; stroke-linecap:round; stroke-linejoin:round; stroke-width:4; stroke-opacity:1; fill:none\" points=\"\n  482.15,1486.45 482.15,1477 \n  \"/>\n<polyline clip-path=\"url(#clip230)\" style=\"stroke:#000000; stroke-linecap:round; stroke-linejoin:round; stroke-width:4; stroke-opacity:1; fill:none\" points=\"\n  567.885,1486.45 567.885,1477 \n  \"/>\n<polyline clip-path=\"url(#clip230)\" style=\"stroke:#000000; stroke-linecap:round; stroke-linejoin:round; stroke-width:4; stroke-opacity:1; fill:none\" points=\"\n  739.355,1486.45 739.355,1477 \n  \"/>\n<polyline clip-path=\"url(#clip230)\" style=\"stroke:#000000; stroke-linecap:round; stroke-linejoin:round; stroke-width:4; stroke-opacity:1; fill:none\" points=\"\n  825.09,1486.45 825.09,1477 \n  \"/>\n<polyline clip-path=\"url(#clip230)\" style=\"stroke:#000000; stroke-linecap:round; stroke-linejoin:round; stroke-width:4; stroke-opacity:1; fill:none\" points=\"\n  910.825,1486.45 910.825,1477 \n  \"/>\n<polyline clip-path=\"url(#clip230)\" style=\"stroke:#000000; stroke-linecap:round; stroke-linejoin:round; stroke-width:4; stroke-opacity:1; fill:none\" points=\"\n  996.561,1486.45 996.561,1477 \n  \"/>\n<polyline clip-path=\"url(#clip230)\" style=\"stroke:#000000; stroke-linecap:round; stroke-linejoin:round; stroke-width:4; stroke-opacity:1; fill:none\" points=\"\n  1168.03,1486.45 1168.03,1477 \n  \"/>\n<polyline clip-path=\"url(#clip230)\" style=\"stroke:#000000; stroke-linecap:round; stroke-linejoin:round; stroke-width:4; stroke-opacity:1; fill:none\" points=\"\n  1253.77,1486.45 1253.77,1477 \n  \"/>\n<polyline clip-path=\"url(#clip230)\" style=\"stroke:#000000; stroke-linecap:round; stroke-linejoin:round; stroke-width:4; stroke-opacity:1; fill:none\" points=\"\n  1339.5,1486.45 1339.5,1477 \n  \"/>\n<polyline clip-path=\"url(#clip230)\" style=\"stroke:#000000; stroke-linecap:round; stroke-linejoin:round; stroke-width:4; stroke-opacity:1; fill:none\" points=\"\n  1425.24,1486.45 1425.24,1477 \n  \"/>\n<polyline clip-path=\"url(#clip230)\" style=\"stroke:#000000; stroke-linecap:round; stroke-linejoin:round; stroke-width:4; stroke-opacity:1; fill:none\" points=\"\n  1596.71,1486.45 1596.71,1477 \n  \"/>\n<polyline clip-path=\"url(#clip230)\" style=\"stroke:#000000; stroke-linecap:round; stroke-linejoin:round; stroke-width:4; stroke-opacity:1; fill:none\" points=\"\n  1682.44,1486.45 1682.44,1477 \n  \"/>\n<polyline clip-path=\"url(#clip230)\" style=\"stroke:#000000; stroke-linecap:round; stroke-linejoin:round; stroke-width:4; stroke-opacity:1; fill:none\" points=\"\n  1768.18,1486.45 1768.18,1477 \n  \"/>\n<polyline clip-path=\"url(#clip230)\" style=\"stroke:#000000; stroke-linecap:round; stroke-linejoin:round; stroke-width:4; stroke-opacity:1; fill:none\" points=\"\n  1853.91,1486.45 1853.91,1477 \n  \"/>\n<path clip-path=\"url(#clip230)\" d=\"M181.973 1532.67 Q181.973 1525.23 183.85 1521.18 Q186.469 1515.15 192.645 1515.15 Q193.954 1515.15 195.313 1515.52 Q196.696 1515.87 198.425 1517.23 Q200.179 1518.59 201.241 1520.81 Q203.267 1525.11 203.267 1532.67 Q203.267 1540.05 201.39 1544.08 Q198.648 1549.96 192.595 1549.96 Q190.323 1549.96 188 1548.8 Q185.703 1547.64 184.246 1544.85 Q181.973 1540.67 181.973 1532.67 M186.172 1532.05 Q186.172 1539.68 186.716 1542.72 Q187.334 1546.01 189.013 1547.44 Q190.718 1548.85 192.595 1548.85 Q194.621 1548.85 196.301 1547.34 Q198.005 1545.81 198.524 1542.52 Q199.092 1539.29 199.068 1532.05 Q199.068 1525.01 198.574 1522.19 Q197.907 1518.91 196.128 1517.6 Q194.374 1516.26 192.595 1516.26 Q191.928 1516.26 191.212 1516.46 Q190.52 1516.66 189.507 1517.23 Q188.495 1517.8 187.704 1519.2 Q186.938 1520.61 186.568 1522.74 Q186.172 1525.48 186.172 1532.05 Z\" fill=\"#000000\" fill-rule=\"evenodd\" fill-opacity=\"1\" /><path clip-path=\"url(#clip230)\" d=\"M210.357 1548.03 Q209.591 1547.22 209.591 1546.16 Q209.591 1545.09 210.357 1544.33 Q211.123 1543.54 212.284 1543.54 Q213.396 1543.54 214.137 1544.28 Q214.902 1544.99 214.902 1546.18 Q214.902 1547.34 214.087 1548.11 Q213.297 1548.85 212.284 1548.85 Q211.123 1548.85 210.357 1548.03 Z\" fill=\"#000000\" fill-rule=\"evenodd\" fill-opacity=\"1\" /><path clip-path=\"url(#clip230)\" d=\"M221.325 1532.67 Q221.325 1525.23 223.203 1521.18 Q225.821 1515.15 231.997 1515.15 Q233.306 1515.15 234.665 1515.52 Q236.049 1515.87 237.778 1517.23 Q239.532 1518.59 240.594 1520.81 Q242.62 1525.11 242.62 1532.67 Q242.62 1540.05 240.742 1544.08 Q238 1549.96 231.948 1549.96 Q229.675 1549.96 227.353 1548.8 Q225.056 1547.64 223.598 1544.85 Q221.325 1540.67 221.325 1532.67 M225.525 1532.05 Q225.525 1539.68 226.068 1542.72 Q226.686 1546.01 228.366 1547.44 Q230.07 1548.85 231.948 1548.85 Q233.973 1548.85 235.653 1547.34 Q237.358 1545.81 237.877 1542.52 Q238.445 1539.29 238.42 1532.05 Q238.42 1525.01 237.926 1522.19 Q237.259 1518.91 235.48 1517.6 Q233.726 1516.26 231.948 1516.26 Q231.281 1516.26 230.564 1516.46 Q229.873 1516.66 228.86 1517.23 Q227.847 1517.8 227.057 1519.2 Q226.291 1520.61 225.92 1522.74 Q225.525 1525.48 225.525 1532.05 Z\" fill=\"#000000\" fill-rule=\"evenodd\" fill-opacity=\"1\" /><path clip-path=\"url(#clip230)\" d=\"M246.622 1532.67 Q246.622 1525.23 248.499 1521.18 Q251.118 1515.15 257.293 1515.15 Q258.603 1515.15 259.961 1515.52 Q261.345 1515.87 263.074 1517.23 Q264.828 1518.59 265.89 1520.81 Q267.916 1525.11 267.916 1532.67 Q267.916 1540.05 266.038 1544.08 Q263.296 1549.96 257.244 1549.96 Q254.971 1549.96 252.649 1548.8 Q250.352 1547.64 248.894 1544.85 Q246.622 1540.67 246.622 1532.67 M250.821 1532.05 Q250.821 1539.68 251.365 1542.72 Q251.982 1546.01 253.662 1547.44 Q255.367 1548.85 257.244 1548.85 Q259.27 1548.85 260.95 1547.34 Q262.654 1545.81 263.173 1542.52 Q263.741 1539.29 263.716 1532.05 Q263.716 1525.01 263.222 1522.19 Q262.555 1518.91 260.777 1517.6 Q259.023 1516.26 257.244 1516.26 Q256.577 1516.26 255.861 1516.46 Q255.169 1516.66 254.156 1517.23 Q253.143 1517.8 252.353 1519.2 Q251.587 1520.61 251.216 1522.74 Q250.821 1525.48 250.821 1532.05 Z\" fill=\"#000000\" fill-rule=\"evenodd\" fill-opacity=\"1\" /><path clip-path=\"url(#clip230)\" d=\"M610.92 1532.67 Q610.92 1525.23 612.798 1521.18 Q615.416 1515.15 621.592 1515.15 Q622.901 1515.15 624.26 1515.52 Q625.643 1515.87 627.373 1517.23 Q629.127 1518.59 630.189 1520.81 Q632.215 1525.11 632.215 1532.67 Q632.215 1540.05 630.337 1544.08 Q627.595 1549.96 621.543 1549.96 Q619.27 1549.96 616.948 1548.8 Q614.65 1547.64 613.193 1544.85 Q610.92 1540.67 610.92 1532.67 M615.12 1532.05 Q615.12 1539.68 615.663 1542.72 Q616.281 1546.01 617.961 1547.44 Q619.665 1548.85 621.543 1548.85 Q623.568 1548.85 625.248 1547.34 Q626.953 1545.81 627.471 1542.52 Q628.04 1539.29 628.015 1532.05 Q628.015 1525.01 627.521 1522.19 Q626.854 1518.91 625.075 1517.6 Q623.321 1516.26 621.543 1516.26 Q620.876 1516.26 620.159 1516.46 Q619.468 1516.66 618.455 1517.23 Q617.442 1517.8 616.651 1519.2 Q615.886 1520.61 615.515 1522.74 Q615.12 1525.48 615.12 1532.05 Z\" fill=\"#000000\" fill-rule=\"evenodd\" fill-opacity=\"1\" /><path clip-path=\"url(#clip230)\" d=\"M639.304 1548.03 Q638.539 1547.22 638.539 1546.16 Q638.539 1545.09 639.304 1544.33 Q640.07 1543.54 641.231 1543.54 Q642.343 1543.54 643.084 1544.28 Q643.85 1544.99 643.85 1546.18 Q643.85 1547.34 643.035 1548.11 Q642.244 1548.85 641.231 1548.85 Q640.07 1548.85 639.304 1548.03 Z\" fill=\"#000000\" fill-rule=\"evenodd\" fill-opacity=\"1\" /><path clip-path=\"url(#clip230)\" d=\"M650.816 1548.85 Q650.816 1547.93 650.89 1547.66 Q650.989 1547.39 651.384 1546.97 L661.093 1536.15 Q666.404 1530.17 666.404 1524.96 Q666.404 1521.58 664.625 1519.15 Q662.871 1516.73 659.635 1516.73 Q657.412 1516.73 655.535 1518.09 Q653.657 1519.45 652.792 1521.87 Q652.941 1521.82 653.459 1521.82 Q654.719 1521.82 655.411 1522.61 Q656.127 1523.4 656.127 1524.47 Q656.127 1525.82 655.238 1526.49 Q654.373 1527.13 653.509 1527.13 Q653.163 1527.13 652.694 1527.06 Q652.249 1526.99 651.533 1526.29 Q650.816 1525.58 650.816 1524.32 Q650.816 1520.78 653.484 1517.97 Q656.177 1515.15 660.278 1515.15 Q664.922 1515.15 667.96 1517.92 Q671.024 1520.66 671.024 1524.96 Q671.024 1526.47 670.554 1527.85 Q670.109 1529.21 669.492 1530.27 Q668.899 1531.33 667.269 1533.04 Q665.638 1534.74 664.329 1535.95 Q663.02 1537.16 660.08 1539.73 L654.719 1544.94 L663.835 1544.94 Q668.281 1544.94 668.627 1544.55 Q669.121 1543.83 669.739 1540.05 L671.024 1540.05 L669.591 1548.85 L650.816 1548.85 Z\" fill=\"#000000\" fill-rule=\"evenodd\" fill-opacity=\"1\" /><path clip-path=\"url(#clip230)\" d=\"M676.112 1540.7 Q676.112 1539.19 676.928 1538.62 Q677.743 1538.03 678.607 1538.03 Q679.769 1538.03 680.436 1538.77 Q681.127 1539.49 681.127 1540.5 Q681.127 1541.51 680.436 1542.25 Q679.769 1542.97 678.607 1542.97 Q678.039 1542.97 677.743 1542.87 Q678.41 1545.19 680.436 1546.87 Q682.486 1548.55 685.179 1548.55 Q688.563 1548.55 690.589 1545.27 Q691.799 1543.14 691.799 1538.32 Q691.799 1534.08 690.885 1531.95 Q689.477 1528.71 686.587 1528.71 Q682.486 1528.71 680.065 1532.25 Q679.769 1532.69 679.423 1532.72 Q678.929 1532.72 678.805 1532.44 Q678.706 1532.15 678.706 1531.38 L678.706 1516.41 Q678.706 1515.2 679.2 1515.2 Q679.398 1515.2 679.818 1515.35 Q683.005 1516.76 686.537 1516.78 Q690.169 1516.78 693.429 1515.3 Q693.677 1515.15 693.825 1515.15 Q694.319 1515.15 694.343 1515.72 Q694.343 1515.92 693.924 1516.51 Q693.528 1517.08 692.664 1517.85 Q691.799 1518.59 690.687 1519.3 Q689.576 1520.02 687.945 1520.51 Q686.34 1520.98 684.561 1520.98 Q682.436 1520.98 680.263 1520.32 L680.263 1530.17 Q682.881 1527.6 686.685 1527.6 Q690.737 1527.6 693.528 1530.86 Q696.32 1534.12 696.32 1538.67 Q696.32 1543.44 693.01 1546.7 Q689.724 1549.96 685.277 1549.96 Q681.226 1549.96 678.657 1547.07 Q676.112 1544.18 676.112 1540.7 Z\" fill=\"#000000\" fill-rule=\"evenodd\" fill-opacity=\"1\" /><path clip-path=\"url(#clip230)\" d=\"M1039.32 1532.67 Q1039.32 1525.23 1041.2 1521.18 Q1043.82 1515.15 1050 1515.15 Q1051.31 1515.15 1052.66 1515.52 Q1054.05 1515.87 1055.78 1517.23 Q1057.53 1518.59 1058.59 1520.81 Q1060.62 1525.11 1060.62 1532.67 Q1060.62 1540.05 1058.74 1544.08 Q1056 1549.96 1049.95 1549.96 Q1047.67 1549.96 1045.35 1548.8 Q1043.05 1547.64 1041.6 1544.85 Q1039.32 1540.67 1039.32 1532.67 M1043.52 1532.05 Q1043.52 1539.68 1044.07 1542.72 Q1044.68 1546.01 1046.36 1547.44 Q1048.07 1548.85 1049.95 1548.85 Q1051.97 1548.85 1053.65 1547.34 Q1055.36 1545.81 1055.88 1542.52 Q1056.44 1539.29 1056.42 1532.05 Q1056.42 1525.01 1055.92 1522.19 Q1055.26 1518.91 1053.48 1517.6 Q1051.73 1516.26 1049.95 1516.26 Q1049.28 1516.26 1048.56 1516.46 Q1047.87 1516.66 1046.86 1517.23 Q1045.85 1517.8 1045.06 1519.2 Q1044.29 1520.61 1043.92 1522.74 Q1043.52 1525.48 1043.52 1532.05 Z\" fill=\"#000000\" fill-rule=\"evenodd\" fill-opacity=\"1\" /><path clip-path=\"url(#clip230)\" d=\"M1067.71 1548.03 Q1066.94 1547.22 1066.94 1546.16 Q1066.94 1545.09 1067.71 1544.33 Q1068.47 1543.54 1069.64 1543.54 Q1070.75 1543.54 1071.49 1544.28 Q1072.25 1544.99 1072.25 1546.18 Q1072.25 1547.34 1071.44 1548.11 Q1070.65 1548.85 1069.64 1548.85 Q1068.47 1548.85 1067.71 1548.03 Z\" fill=\"#000000\" fill-rule=\"evenodd\" fill-opacity=\"1\" /><path clip-path=\"url(#clip230)\" d=\"M1079.22 1540.7 Q1079.22 1539.19 1080.04 1538.62 Q1080.85 1538.03 1081.72 1538.03 Q1082.88 1538.03 1083.54 1538.77 Q1084.23 1539.49 1084.23 1540.5 Q1084.23 1541.51 1083.54 1542.25 Q1082.88 1542.97 1081.72 1542.97 Q1081.15 1542.97 1080.85 1542.87 Q1081.52 1545.19 1083.54 1546.87 Q1085.59 1548.55 1088.29 1548.55 Q1091.67 1548.55 1093.7 1545.27 Q1094.91 1543.14 1094.91 1538.32 Q1094.91 1534.08 1093.99 1531.95 Q1092.58 1528.71 1089.69 1528.71 Q1085.59 1528.71 1083.17 1532.25 Q1082.88 1532.69 1082.53 1532.72 Q1082.04 1532.72 1081.91 1532.44 Q1081.81 1532.15 1081.81 1531.38 L1081.81 1516.41 Q1081.81 1515.2 1082.31 1515.2 Q1082.51 1515.2 1082.93 1515.35 Q1086.11 1516.76 1089.64 1516.78 Q1093.28 1516.78 1096.54 1515.3 Q1096.78 1515.15 1096.93 1515.15 Q1097.43 1515.15 1097.45 1515.72 Q1097.45 1515.92 1097.03 1516.51 Q1096.64 1517.08 1095.77 1517.85 Q1094.91 1518.59 1093.8 1519.3 Q1092.68 1520.02 1091.05 1520.51 Q1089.45 1520.98 1087.67 1520.98 Q1085.54 1520.98 1083.37 1520.32 L1083.37 1530.17 Q1085.99 1527.6 1089.79 1527.6 Q1093.84 1527.6 1096.64 1530.86 Q1099.43 1534.12 1099.43 1538.67 Q1099.43 1543.44 1096.12 1546.7 Q1092.83 1549.96 1088.39 1549.96 Q1084.33 1549.96 1081.76 1547.07 Q1079.22 1544.18 1079.22 1540.7 Z\" fill=\"#000000\" fill-rule=\"evenodd\" fill-opacity=\"1\" /><path clip-path=\"url(#clip230)\" d=\"M1103.97 1532.67 Q1103.97 1525.23 1105.85 1521.18 Q1108.47 1515.15 1114.64 1515.15 Q1115.95 1515.15 1117.31 1515.52 Q1118.7 1515.87 1120.43 1517.23 Q1122.18 1518.59 1123.24 1520.81 Q1125.27 1525.11 1125.27 1532.67 Q1125.27 1540.05 1123.39 1544.08 Q1120.65 1549.96 1114.6 1549.96 Q1112.32 1549.96 1110 1548.8 Q1107.7 1547.64 1106.25 1544.85 Q1103.97 1540.67 1103.97 1532.67 M1108.17 1532.05 Q1108.17 1539.68 1108.72 1542.72 Q1109.33 1546.01 1111.01 1547.44 Q1112.72 1548.85 1114.6 1548.85 Q1116.62 1548.85 1118.3 1547.34 Q1120.01 1545.81 1120.52 1542.52 Q1121.09 1539.29 1121.07 1532.05 Q1121.07 1525.01 1120.57 1522.19 Q1119.91 1518.91 1118.13 1517.6 Q1116.37 1516.26 1114.6 1516.26 Q1113.93 1516.26 1113.21 1516.46 Q1112.52 1516.66 1111.51 1517.23 Q1110.49 1517.8 1109.7 1519.2 Q1108.94 1520.61 1108.57 1522.74 Q1108.17 1525.48 1108.17 1532.05 Z\" fill=\"#000000\" fill-rule=\"evenodd\" fill-opacity=\"1\" /><path clip-path=\"url(#clip230)\" d=\"M1468.27 1532.67 Q1468.27 1525.23 1470.15 1521.18 Q1472.77 1515.15 1478.94 1515.15 Q1480.25 1515.15 1481.61 1515.52 Q1482.99 1515.87 1484.72 1517.23 Q1486.48 1518.59 1487.54 1520.81 Q1489.57 1525.11 1489.57 1532.67 Q1489.57 1540.05 1487.69 1544.08 Q1484.95 1549.96 1478.89 1549.96 Q1476.62 1549.96 1474.3 1548.8 Q1472 1547.64 1470.54 1544.85 Q1468.27 1540.67 1468.27 1532.67 M1472.47 1532.05 Q1472.47 1539.68 1473.01 1542.72 Q1473.63 1546.01 1475.31 1547.44 Q1477.02 1548.85 1478.89 1548.85 Q1480.92 1548.85 1482.6 1547.34 Q1484.3 1545.81 1484.82 1542.52 Q1485.39 1539.29 1485.37 1532.05 Q1485.37 1525.01 1484.87 1522.19 Q1484.21 1518.91 1482.43 1517.6 Q1480.67 1516.26 1478.89 1516.26 Q1478.23 1516.26 1477.51 1516.46 Q1476.82 1516.66 1475.81 1517.23 Q1474.79 1517.8 1474 1519.2 Q1473.24 1520.61 1472.87 1522.74 Q1472.47 1525.48 1472.47 1532.05 Z\" fill=\"#000000\" fill-rule=\"evenodd\" fill-opacity=\"1\" /><path clip-path=\"url(#clip230)\" d=\"M1496.66 1548.03 Q1495.89 1547.22 1495.89 1546.16 Q1495.89 1545.09 1496.66 1544.33 Q1497.42 1543.54 1498.58 1543.54 Q1499.69 1543.54 1500.44 1544.28 Q1501.2 1544.99 1501.2 1546.18 Q1501.2 1547.34 1500.39 1548.11 Q1499.6 1548.85 1498.58 1548.85 Q1497.42 1548.85 1496.66 1548.03 Z\" fill=\"#000000\" fill-rule=\"evenodd\" fill-opacity=\"1\" /><path clip-path=\"url(#clip230)\" d=\"M1508.49 1525.06 L1510.14 1514.66 L1511.4 1514.66 Q1511.55 1515.28 1511.8 1515.55 Q1512.07 1515.82 1513.5 1516.04 Q1514.96 1516.26 1517.9 1516.26 L1530.18 1516.26 Q1530.18 1517.43 1529.73 1518.04 L1522.89 1527.65 Q1520.72 1530.69 1519.75 1536.3 Q1519.19 1540.05 1519.21 1544.6 L1519.21 1547.17 Q1519.21 1549.96 1516.86 1549.96 Q1514.54 1549.96 1514.54 1547.17 Q1514.54 1537.51 1520.77 1528.15 Q1521.43 1527.18 1523.88 1523.75 Q1526.35 1520.32 1526.45 1520.17 L1515.97 1520.17 Q1511.38 1520.17 1511.01 1520.46 Q1510.51 1520.91 1509.75 1525.06 L1508.49 1525.06 Z\" fill=\"#000000\" fill-rule=\"evenodd\" fill-opacity=\"1\" /><path clip-path=\"url(#clip230)\" d=\"M1533.46 1540.7 Q1533.46 1539.19 1534.28 1538.62 Q1535.09 1538.03 1535.96 1538.03 Q1537.12 1538.03 1537.79 1538.77 Q1538.48 1539.49 1538.48 1540.5 Q1538.48 1541.51 1537.79 1542.25 Q1537.12 1542.97 1535.96 1542.97 Q1535.39 1542.97 1535.09 1542.87 Q1535.76 1545.19 1537.79 1546.87 Q1539.84 1548.55 1542.53 1548.55 Q1545.91 1548.55 1547.94 1545.27 Q1549.15 1543.14 1549.15 1538.32 Q1549.15 1534.08 1548.24 1531.95 Q1546.83 1528.71 1543.94 1528.71 Q1539.84 1528.71 1537.42 1532.25 Q1537.12 1532.69 1536.77 1532.72 Q1536.28 1532.72 1536.16 1532.44 Q1536.06 1532.15 1536.06 1531.38 L1536.06 1516.41 Q1536.06 1515.2 1536.55 1515.2 Q1536.75 1515.2 1537.17 1515.35 Q1540.36 1516.76 1543.89 1516.78 Q1547.52 1516.78 1550.78 1515.3 Q1551.03 1515.15 1551.18 1515.15 Q1551.67 1515.15 1551.69 1515.72 Q1551.69 1515.92 1551.27 1516.51 Q1550.88 1517.08 1550.01 1517.85 Q1549.15 1518.59 1548.04 1519.3 Q1546.93 1520.02 1545.3 1520.51 Q1543.69 1520.98 1541.91 1520.98 Q1539.79 1520.98 1537.61 1520.32 L1537.61 1530.17 Q1540.23 1527.6 1544.04 1527.6 Q1548.09 1527.6 1550.88 1530.86 Q1553.67 1534.12 1553.67 1538.67 Q1553.67 1543.44 1550.36 1546.7 Q1547.08 1549.96 1542.63 1549.96 Q1538.58 1549.96 1536.01 1547.07 Q1533.46 1544.18 1533.46 1540.7 Z\" fill=\"#000000\" fill-rule=\"evenodd\" fill-opacity=\"1\" /><path clip-path=\"url(#clip230)\" d=\"M1897.94 1519.97 L1897.94 1518.39 Q1904.01 1518.39 1907.15 1515.15 Q1908.01 1515.15 1908.16 1515.35 Q1908.31 1515.55 1908.31 1516.46 L1908.31 1544.85 Q1908.31 1546.35 1909.05 1546.82 Q1909.79 1547.29 1913.03 1547.29 L1914.63 1547.29 L1914.63 1548.85 Q1912.86 1548.7 1906.43 1548.7 Q1900.01 1548.7 1898.26 1548.85 L1898.26 1547.29 L1899.86 1547.29 Q1903.05 1547.29 1903.81 1546.85 Q1904.58 1546.38 1904.58 1544.85 L1904.58 1518.64 Q1901.94 1519.97 1897.94 1519.97 Z\" fill=\"#000000\" fill-rule=\"evenodd\" fill-opacity=\"1\" /><path clip-path=\"url(#clip230)\" d=\"M1923.8 1548.03 Q1923.03 1547.22 1923.03 1546.16 Q1923.03 1545.09 1923.8 1544.33 Q1924.57 1543.54 1925.73 1543.54 Q1926.84 1543.54 1927.58 1544.28 Q1928.35 1544.99 1928.35 1546.18 Q1928.35 1547.34 1927.53 1548.11 Q1926.74 1548.85 1925.73 1548.85 Q1924.57 1548.85 1923.8 1548.03 Z\" fill=\"#000000\" fill-rule=\"evenodd\" fill-opacity=\"1\" /><path clip-path=\"url(#clip230)\" d=\"M1934.77 1532.67 Q1934.77 1525.23 1936.65 1521.18 Q1939.26 1515.15 1945.44 1515.15 Q1946.75 1515.15 1948.11 1515.52 Q1949.49 1515.87 1951.22 1517.23 Q1952.97 1518.59 1954.04 1520.81 Q1956.06 1525.11 1956.06 1532.67 Q1956.06 1540.05 1954.18 1544.08 Q1951.44 1549.96 1945.39 1549.96 Q1943.12 1549.96 1940.8 1548.8 Q1938.5 1547.64 1937.04 1544.85 Q1934.77 1540.67 1934.77 1532.67 M1938.97 1532.05 Q1938.97 1539.68 1939.51 1542.72 Q1940.13 1546.01 1941.81 1547.44 Q1943.51 1548.85 1945.39 1548.85 Q1947.42 1548.85 1949.1 1547.34 Q1950.8 1545.81 1951.32 1542.52 Q1951.89 1539.29 1951.86 1532.05 Q1951.86 1525.01 1951.37 1522.19 Q1950.7 1518.91 1948.92 1517.6 Q1947.17 1516.26 1945.39 1516.26 Q1944.72 1516.26 1944.01 1516.46 Q1943.32 1516.66 1942.3 1517.23 Q1941.29 1517.8 1940.5 1519.2 Q1939.73 1520.61 1939.36 1522.74 Q1938.97 1525.48 1938.97 1532.05 Z\" fill=\"#000000\" fill-rule=\"evenodd\" fill-opacity=\"1\" /><path clip-path=\"url(#clip230)\" d=\"M1960.06 1532.67 Q1960.06 1525.23 1961.94 1521.18 Q1964.56 1515.15 1970.74 1515.15 Q1972.05 1515.15 1973.4 1515.52 Q1974.79 1515.87 1976.52 1517.23 Q1978.27 1518.59 1979.33 1520.81 Q1981.36 1525.11 1981.36 1532.67 Q1981.36 1540.05 1979.48 1544.08 Q1976.74 1549.96 1970.69 1549.96 Q1968.41 1549.96 1966.09 1548.8 Q1963.79 1547.64 1962.34 1544.85 Q1960.06 1540.67 1960.06 1532.67 M1964.26 1532.05 Q1964.26 1539.68 1964.81 1542.72 Q1965.42 1546.01 1967.1 1547.44 Q1968.81 1548.85 1970.69 1548.85 Q1972.71 1548.85 1974.39 1547.34 Q1976.1 1545.81 1976.62 1542.52 Q1977.18 1539.29 1977.16 1532.05 Q1977.16 1525.01 1976.66 1522.19 Q1976 1518.91 1974.22 1517.6 Q1972.47 1516.26 1970.69 1516.26 Q1970.02 1516.26 1969.3 1516.46 Q1968.61 1516.66 1967.6 1517.23 Q1966.59 1517.8 1965.8 1519.2 Q1965.03 1520.61 1964.66 1522.74 Q1964.26 1525.48 1964.26 1532.05 Z\" fill=\"#000000\" fill-rule=\"evenodd\" fill-opacity=\"1\" /><polyline clip-path=\"url(#clip232)\" style=\"stroke:#000000; stroke-linecap:round; stroke-linejoin:round; stroke-width:2.8; stroke-opacity:0.4; fill:none\" points=\"\n  173.503,1445.72 1991.09,1445.72 \n  \"/>\n<polyline clip-path=\"url(#clip232)\" style=\"stroke:#000000; stroke-linecap:round; stroke-linejoin:round; stroke-width:2.8; stroke-opacity:0.4; fill:none\" points=\"\n  173.503,1152.45 1991.09,1152.45 \n  \"/>\n<polyline clip-path=\"url(#clip232)\" style=\"stroke:#000000; stroke-linecap:round; stroke-linejoin:round; stroke-width:2.8; stroke-opacity:0.4; fill:none\" points=\"\n  173.503,859.192 1991.09,859.192 \n  \"/>\n<polyline clip-path=\"url(#clip232)\" style=\"stroke:#000000; stroke-linecap:round; stroke-linejoin:round; stroke-width:2.8; stroke-opacity:0.4; fill:none\" points=\"\n  173.503,565.93 1991.09,565.93 \n  \"/>\n<polyline clip-path=\"url(#clip232)\" style=\"stroke:#000000; stroke-linecap:round; stroke-linejoin:round; stroke-width:2.8; stroke-opacity:0.4; fill:none\" points=\"\n  173.503,272.668 1991.09,272.668 \n  \"/>\n<polyline clip-path=\"url(#clip232)\" style=\"stroke:#000000; stroke-linecap:round; stroke-linejoin:round; stroke-width:2; stroke-opacity:0.06; fill:none\" points=\"\n  173.503,1387.06 1991.09,1387.06 \n  \"/>\n<polyline clip-path=\"url(#clip232)\" style=\"stroke:#000000; stroke-linecap:round; stroke-linejoin:round; stroke-width:2; stroke-opacity:0.06; fill:none\" points=\"\n  173.503,1328.41 1991.09,1328.41 \n  \"/>\n<polyline clip-path=\"url(#clip232)\" style=\"stroke:#000000; stroke-linecap:round; stroke-linejoin:round; stroke-width:2; stroke-opacity:0.06; fill:none\" points=\"\n  173.503,1269.76 1991.09,1269.76 \n  \"/>\n<polyline clip-path=\"url(#clip232)\" style=\"stroke:#000000; stroke-linecap:round; stroke-linejoin:round; stroke-width:2; stroke-opacity:0.06; fill:none\" points=\"\n  173.503,1211.11 1991.09,1211.11 \n  \"/>\n<polyline clip-path=\"url(#clip232)\" style=\"stroke:#000000; stroke-linecap:round; stroke-linejoin:round; stroke-width:2; stroke-opacity:0.06; fill:none\" points=\"\n  173.503,1093.8 1991.09,1093.8 \n  \"/>\n<polyline clip-path=\"url(#clip232)\" style=\"stroke:#000000; stroke-linecap:round; stroke-linejoin:round; stroke-width:2; stroke-opacity:0.06; fill:none\" points=\"\n  173.503,1035.15 1991.09,1035.15 \n  \"/>\n<polyline clip-path=\"url(#clip232)\" style=\"stroke:#000000; stroke-linecap:round; stroke-linejoin:round; stroke-width:2; stroke-opacity:0.06; fill:none\" points=\"\n  173.503,976.497 1991.09,976.497 \n  \"/>\n<polyline clip-path=\"url(#clip232)\" style=\"stroke:#000000; stroke-linecap:round; stroke-linejoin:round; stroke-width:2; stroke-opacity:0.06; fill:none\" points=\"\n  173.503,917.844 1991.09,917.844 \n  \"/>\n<polyline clip-path=\"url(#clip232)\" style=\"stroke:#000000; stroke-linecap:round; stroke-linejoin:round; stroke-width:2; stroke-opacity:0.06; fill:none\" points=\"\n  173.503,800.54 1991.09,800.54 \n  \"/>\n<polyline clip-path=\"url(#clip232)\" style=\"stroke:#000000; stroke-linecap:round; stroke-linejoin:round; stroke-width:2; stroke-opacity:0.06; fill:none\" points=\"\n  173.503,741.887 1991.09,741.887 \n  \"/>\n<polyline clip-path=\"url(#clip232)\" style=\"stroke:#000000; stroke-linecap:round; stroke-linejoin:round; stroke-width:2; stroke-opacity:0.06; fill:none\" points=\"\n  173.503,683.235 1991.09,683.235 \n  \"/>\n<polyline clip-path=\"url(#clip232)\" style=\"stroke:#000000; stroke-linecap:round; stroke-linejoin:round; stroke-width:2; stroke-opacity:0.06; fill:none\" points=\"\n  173.503,624.583 1991.09,624.583 \n  \"/>\n<polyline clip-path=\"url(#clip232)\" style=\"stroke:#000000; stroke-linecap:round; stroke-linejoin:round; stroke-width:2; stroke-opacity:0.06; fill:none\" points=\"\n  173.503,507.278 1991.09,507.278 \n  \"/>\n<polyline clip-path=\"url(#clip232)\" style=\"stroke:#000000; stroke-linecap:round; stroke-linejoin:round; stroke-width:2; stroke-opacity:0.06; fill:none\" points=\"\n  173.503,448.626 1991.09,448.626 \n  \"/>\n<polyline clip-path=\"url(#clip232)\" style=\"stroke:#000000; stroke-linecap:round; stroke-linejoin:round; stroke-width:2; stroke-opacity:0.06; fill:none\" points=\"\n  173.503,389.973 1991.09,389.973 \n  \"/>\n<polyline clip-path=\"url(#clip232)\" style=\"stroke:#000000; stroke-linecap:round; stroke-linejoin:round; stroke-width:2; stroke-opacity:0.06; fill:none\" points=\"\n  173.503,331.321 1991.09,331.321 \n  \"/>\n<polyline clip-path=\"url(#clip232)\" style=\"stroke:#000000; stroke-linecap:round; stroke-linejoin:round; stroke-width:2; stroke-opacity:0.06; fill:none\" points=\"\n  173.503,214.016 1991.09,214.016 \n  \"/>\n<polyline clip-path=\"url(#clip232)\" style=\"stroke:#000000; stroke-linecap:round; stroke-linejoin:round; stroke-width:2; stroke-opacity:0.06; fill:none\" points=\"\n  173.503,155.364 1991.09,155.364 \n  \"/>\n<polyline clip-path=\"url(#clip232)\" style=\"stroke:#000000; stroke-linecap:round; stroke-linejoin:round; stroke-width:2; stroke-opacity:0.06; fill:none\" points=\"\n  173.503,96.7114 1991.09,96.7114 \n  \"/>\n<polyline clip-path=\"url(#clip230)\" style=\"stroke:#000000; stroke-linecap:round; stroke-linejoin:round; stroke-width:4; stroke-opacity:1; fill:none\" points=\"\n  173.503,1486.45 173.503,47.2441 \n  \"/>\n<polyline clip-path=\"url(#clip230)\" style=\"stroke:#000000; stroke-linecap:round; stroke-linejoin:round; stroke-width:4; stroke-opacity:1; fill:none\" points=\"\n  1991.09,1486.45 1991.09,47.2441 \n  \"/>\n<polyline clip-path=\"url(#clip230)\" style=\"stroke:#000000; stroke-linecap:round; stroke-linejoin:round; stroke-width:4; stroke-opacity:1; fill:none\" points=\"\n  173.503,1445.72 189.265,1445.72 \n  \"/>\n<polyline clip-path=\"url(#clip230)\" style=\"stroke:#000000; stroke-linecap:round; stroke-linejoin:round; stroke-width:4; stroke-opacity:1; fill:none\" points=\"\n  173.503,1152.45 189.265,1152.45 \n  \"/>\n<polyline clip-path=\"url(#clip230)\" style=\"stroke:#000000; stroke-linecap:round; stroke-linejoin:round; stroke-width:4; stroke-opacity:1; fill:none\" points=\"\n  173.503,859.192 189.265,859.192 \n  \"/>\n<polyline clip-path=\"url(#clip230)\" style=\"stroke:#000000; stroke-linecap:round; stroke-linejoin:round; stroke-width:4; stroke-opacity:1; fill:none\" points=\"\n  173.503,565.93 189.265,565.93 \n  \"/>\n<polyline clip-path=\"url(#clip230)\" style=\"stroke:#000000; stroke-linecap:round; stroke-linejoin:round; stroke-width:4; stroke-opacity:1; fill:none\" points=\"\n  173.503,272.668 189.265,272.668 \n  \"/>\n<polyline clip-path=\"url(#clip230)\" style=\"stroke:#000000; stroke-linecap:round; stroke-linejoin:round; stroke-width:4; stroke-opacity:1; fill:none\" points=\"\n  173.503,1387.06 181.384,1387.06 \n  \"/>\n<polyline clip-path=\"url(#clip230)\" style=\"stroke:#000000; stroke-linecap:round; stroke-linejoin:round; stroke-width:4; stroke-opacity:1; fill:none\" points=\"\n  173.503,1328.41 181.384,1328.41 \n  \"/>\n<polyline clip-path=\"url(#clip230)\" style=\"stroke:#000000; stroke-linecap:round; stroke-linejoin:round; stroke-width:4; stroke-opacity:1; fill:none\" points=\"\n  173.503,1269.76 181.384,1269.76 \n  \"/>\n<polyline clip-path=\"url(#clip230)\" style=\"stroke:#000000; stroke-linecap:round; stroke-linejoin:round; stroke-width:4; stroke-opacity:1; fill:none\" points=\"\n  173.503,1211.11 181.384,1211.11 \n  \"/>\n<polyline clip-path=\"url(#clip230)\" style=\"stroke:#000000; stroke-linecap:round; stroke-linejoin:round; stroke-width:4; stroke-opacity:1; fill:none\" points=\"\n  173.503,1093.8 181.384,1093.8 \n  \"/>\n<polyline clip-path=\"url(#clip230)\" style=\"stroke:#000000; stroke-linecap:round; stroke-linejoin:round; stroke-width:4; stroke-opacity:1; fill:none\" points=\"\n  173.503,1035.15 181.384,1035.15 \n  \"/>\n<polyline clip-path=\"url(#clip230)\" style=\"stroke:#000000; stroke-linecap:round; stroke-linejoin:round; stroke-width:4; stroke-opacity:1; fill:none\" points=\"\n  173.503,976.497 181.384,976.497 \n  \"/>\n<polyline clip-path=\"url(#clip230)\" style=\"stroke:#000000; stroke-linecap:round; stroke-linejoin:round; stroke-width:4; stroke-opacity:1; fill:none\" points=\"\n  173.503,917.844 181.384,917.844 \n  \"/>\n<polyline clip-path=\"url(#clip230)\" style=\"stroke:#000000; stroke-linecap:round; stroke-linejoin:round; stroke-width:4; stroke-opacity:1; fill:none\" points=\"\n  173.503,800.54 181.384,800.54 \n  \"/>\n<polyline clip-path=\"url(#clip230)\" style=\"stroke:#000000; stroke-linecap:round; stroke-linejoin:round; stroke-width:4; stroke-opacity:1; fill:none\" points=\"\n  173.503,741.887 181.384,741.887 \n  \"/>\n<polyline clip-path=\"url(#clip230)\" style=\"stroke:#000000; stroke-linecap:round; stroke-linejoin:round; stroke-width:4; stroke-opacity:1; fill:none\" points=\"\n  173.503,683.235 181.384,683.235 \n  \"/>\n<polyline clip-path=\"url(#clip230)\" style=\"stroke:#000000; stroke-linecap:round; stroke-linejoin:round; stroke-width:4; stroke-opacity:1; fill:none\" points=\"\n  173.503,624.583 181.384,624.583 \n  \"/>\n<polyline clip-path=\"url(#clip230)\" style=\"stroke:#000000; stroke-linecap:round; stroke-linejoin:round; stroke-width:4; stroke-opacity:1; fill:none\" points=\"\n  173.503,507.278 181.384,507.278 \n  \"/>\n<polyline clip-path=\"url(#clip230)\" style=\"stroke:#000000; stroke-linecap:round; stroke-linejoin:round; stroke-width:4; stroke-opacity:1; fill:none\" points=\"\n  173.503,448.626 181.384,448.626 \n  \"/>\n<polyline clip-path=\"url(#clip230)\" style=\"stroke:#000000; stroke-linecap:round; stroke-linejoin:round; stroke-width:4; stroke-opacity:1; fill:none\" points=\"\n  173.503,389.973 181.384,389.973 \n  \"/>\n<polyline clip-path=\"url(#clip230)\" style=\"stroke:#000000; stroke-linecap:round; stroke-linejoin:round; stroke-width:4; stroke-opacity:1; fill:none\" points=\"\n  173.503,331.321 181.384,331.321 \n  \"/>\n<polyline clip-path=\"url(#clip230)\" style=\"stroke:#000000; stroke-linecap:round; stroke-linejoin:round; stroke-width:4; stroke-opacity:1; fill:none\" points=\"\n  173.503,214.016 181.384,214.016 \n  \"/>\n<polyline clip-path=\"url(#clip230)\" style=\"stroke:#000000; stroke-linecap:round; stroke-linejoin:round; stroke-width:4; stroke-opacity:1; fill:none\" points=\"\n  173.503,155.364 181.384,155.364 \n  \"/>\n<polyline clip-path=\"url(#clip230)\" style=\"stroke:#000000; stroke-linecap:round; stroke-linejoin:round; stroke-width:4; stroke-opacity:1; fill:none\" points=\"\n  173.503,96.7114 181.384,96.7114 \n  \"/>\n<path clip-path=\"url(#clip230)\" d=\"M51.5603 1446.81 Q51.5603 1439.38 53.4378 1435.33 Q56.0563 1429.3 62.2322 1429.3 Q63.5414 1429.3 64.9001 1429.67 Q66.2835 1430.02 68.0127 1431.38 Q69.7667 1432.73 70.8289 1434.96 Q72.8546 1439.26 72.8546 1446.81 Q72.8546 1454.2 70.9771 1458.23 Q68.2351 1464.11 62.1827 1464.11 Q59.91 1464.11 57.5879 1462.95 Q55.2905 1461.79 53.833 1458.99 Q51.5603 1454.82 51.5603 1446.81 M55.7599 1446.2 Q55.7599 1453.83 56.3033 1456.87 Q56.9209 1460.15 58.6008 1461.59 Q60.3053 1463 62.1827 1463 Q64.2084 1463 65.8883 1461.49 Q67.5928 1459.96 68.1116 1456.67 Q68.6797 1453.44 68.655 1446.2 Q68.655 1439.16 68.161 1436.34 Q67.494 1433.06 65.7153 1431.75 Q63.9614 1430.41 62.1827 1430.41 Q61.5158 1430.41 60.7994 1430.61 Q60.1077 1430.81 59.0948 1431.38 Q58.082 1431.94 57.2915 1433.35 Q56.5257 1434.76 56.1551 1436.88 Q55.7599 1439.63 55.7599 1446.2 Z\" fill=\"#000000\" fill-rule=\"evenodd\" fill-opacity=\"1\" /><path clip-path=\"url(#clip230)\" d=\"M79.9445 1462.18 Q79.1787 1461.37 79.1787 1460.3 Q79.1787 1459.24 79.9445 1458.47 Q80.7103 1457.68 81.8713 1457.68 Q82.983 1457.68 83.7241 1458.43 Q84.4899 1459.14 84.4899 1460.33 Q84.4899 1461.49 83.6747 1462.25 Q82.8842 1463 81.8713 1463 Q80.7103 1463 79.9445 1462.18 Z\" fill=\"#000000\" fill-rule=\"evenodd\" fill-opacity=\"1\" /><path clip-path=\"url(#clip230)\" d=\"M90.9128 1446.81 Q90.9128 1439.38 92.7902 1435.33 Q95.4088 1429.3 101.585 1429.3 Q102.894 1429.3 104.253 1429.67 Q105.636 1430.02 107.365 1431.38 Q109.119 1432.73 110.181 1434.96 Q112.207 1439.26 112.207 1446.81 Q112.207 1454.2 110.33 1458.23 Q107.588 1464.11 101.535 1464.11 Q99.2625 1464.11 96.9404 1462.95 Q94.643 1461.79 93.1855 1458.99 Q90.9128 1454.82 90.9128 1446.81 M95.1123 1446.2 Q95.1123 1453.83 95.6558 1456.87 Q96.2734 1460.15 97.9532 1461.59 Q99.6577 1463 101.535 1463 Q103.561 1463 105.241 1461.49 Q106.945 1459.96 107.464 1456.67 Q108.032 1453.44 108.007 1446.2 Q108.007 1439.16 107.513 1436.34 Q106.846 1433.06 105.068 1431.75 Q103.314 1430.41 101.535 1430.41 Q100.868 1430.41 100.152 1430.61 Q99.4601 1430.81 98.4473 1431.38 Q97.4344 1431.94 96.6439 1433.35 Q95.8781 1434.76 95.5076 1436.88 Q95.1123 1439.63 95.1123 1446.2 Z\" fill=\"#000000\" fill-rule=\"evenodd\" fill-opacity=\"1\" /><path clip-path=\"url(#clip230)\" d=\"M116.209 1446.81 Q116.209 1439.38 118.086 1435.33 Q120.705 1429.3 126.881 1429.3 Q128.19 1429.3 129.549 1429.67 Q130.932 1430.02 132.661 1431.38 Q134.415 1432.73 135.478 1434.96 Q137.503 1439.26 137.503 1446.81 Q137.503 1454.2 135.626 1458.23 Q132.884 1464.11 126.831 1464.11 Q124.559 1464.11 122.237 1462.95 Q119.939 1461.79 118.482 1458.99 Q116.209 1454.82 116.209 1446.81 M120.409 1446.2 Q120.409 1453.83 120.952 1456.87 Q121.57 1460.15 123.249 1461.59 Q124.954 1463 126.831 1463 Q128.857 1463 130.537 1461.49 Q132.241 1459.96 132.76 1456.67 Q133.328 1453.44 133.304 1446.2 Q133.304 1439.16 132.81 1436.34 Q132.143 1433.06 130.364 1431.75 Q128.61 1430.41 126.831 1430.41 Q126.164 1430.41 125.448 1430.61 Q124.756 1430.81 123.744 1431.38 Q122.731 1431.94 121.94 1433.35 Q121.174 1434.76 120.804 1436.88 Q120.409 1439.63 120.409 1446.2 Z\" fill=\"#000000\" fill-rule=\"evenodd\" fill-opacity=\"1\" /><path clip-path=\"url(#clip230)\" d=\"M53.6354 1153.55 Q53.6354 1146.12 55.5128 1142.07 Q58.1314 1136.04 64.3072 1136.04 Q65.6165 1136.04 66.9752 1136.41 Q68.3586 1136.75 70.0878 1138.11 Q71.8418 1139.47 72.904 1141.7 Q74.9297 1145.99 74.9297 1153.55 Q74.9297 1160.94 73.0522 1164.97 Q70.3102 1170.85 64.2578 1170.85 Q61.9851 1170.85 59.663 1169.68 Q57.3656 1168.52 55.9081 1165.73 Q53.6354 1161.56 53.6354 1153.55 M57.835 1152.94 Q57.835 1160.57 58.3784 1163.61 Q58.996 1166.89 60.6758 1168.33 Q62.3804 1169.73 64.2578 1169.73 Q66.2835 1169.73 67.9633 1168.23 Q69.6679 1166.7 70.1866 1163.41 Q70.7548 1160.17 70.7301 1152.94 Q70.7301 1145.9 70.236 1143.08 Q69.5691 1139.79 67.7904 1138.48 Q66.0365 1137.15 64.2578 1137.15 Q63.5908 1137.15 62.8744 1137.35 Q62.1827 1137.55 61.1699 1138.11 Q60.1571 1138.68 59.3666 1140.09 Q58.6008 1141.5 58.2302 1143.62 Q57.835 1146.36 57.835 1152.94 Z\" fill=\"#000000\" fill-rule=\"evenodd\" fill-opacity=\"1\" /><path clip-path=\"url(#clip230)\" d=\"M82.0195 1168.92 Q81.2537 1168.1 81.2537 1167.04 Q81.2537 1165.98 82.0195 1165.21 Q82.7853 1164.42 83.9464 1164.42 Q85.0581 1164.42 85.7992 1165.16 Q86.565 1165.88 86.565 1167.07 Q86.565 1168.23 85.7498 1168.99 Q84.9592 1169.73 83.9464 1169.73 Q82.7853 1169.73 82.0195 1168.92 Z\" fill=\"#000000\" fill-rule=\"evenodd\" fill-opacity=\"1\" /><path clip-path=\"url(#clip230)\" d=\"M92.9878 1153.55 Q92.9878 1146.12 94.8653 1142.07 Q97.4838 1136.04 103.66 1136.04 Q104.969 1136.04 106.328 1136.41 Q107.711 1136.75 109.44 1138.11 Q111.194 1139.47 112.256 1141.7 Q114.282 1145.99 114.282 1153.55 Q114.282 1160.94 112.405 1164.97 Q109.663 1170.85 103.61 1170.85 Q101.338 1170.85 99.0155 1169.68 Q96.718 1168.52 95.2605 1165.73 Q92.9878 1161.56 92.9878 1153.55 M97.1874 1152.94 Q97.1874 1160.57 97.7309 1163.61 Q98.3485 1166.89 100.028 1168.33 Q101.733 1169.73 103.61 1169.73 Q105.636 1169.73 107.316 1168.23 Q109.02 1166.7 109.539 1163.41 Q110.107 1160.17 110.083 1152.94 Q110.083 1145.9 109.588 1143.08 Q108.922 1139.79 107.143 1138.48 Q105.389 1137.15 103.61 1137.15 Q102.943 1137.15 102.227 1137.35 Q101.535 1137.55 100.522 1138.11 Q99.5095 1138.68 98.719 1140.09 Q97.9532 1141.5 97.5827 1143.62 Q97.1874 1146.36 97.1874 1152.94 Z\" fill=\"#000000\" fill-rule=\"evenodd\" fill-opacity=\"1\" /><path clip-path=\"url(#clip230)\" d=\"M120.804 1140.86 L120.804 1139.27 Q126.881 1139.27 130.018 1136.04 Q130.883 1136.04 131.031 1136.24 Q131.179 1136.43 131.179 1137.35 L131.179 1165.73 Q131.179 1167.24 131.92 1167.71 Q132.661 1168.18 135.898 1168.18 L137.503 1168.18 L137.503 1169.73 Q135.725 1169.59 129.302 1169.59 Q122.879 1169.59 121.125 1169.73 L121.125 1168.18 L122.731 1168.18 Q125.917 1168.18 126.683 1167.73 Q127.449 1167.26 127.449 1165.73 L127.449 1139.52 Q124.806 1140.86 120.804 1140.86 Z\" fill=\"#000000\" fill-rule=\"evenodd\" fill-opacity=\"1\" /><path clip-path=\"url(#clip230)\" d=\"M52.1038 860.291 Q52.1038 852.856 53.9812 848.804 Q56.5998 842.777 62.7756 842.777 Q64.0849 842.777 65.4436 843.147 Q66.827 843.493 68.5562 844.852 Q70.3102 846.21 71.3724 848.434 Q73.3981 852.732 73.3981 860.291 Q73.3981 867.678 71.5206 871.704 Q68.7785 877.584 62.7262 877.584 Q60.4535 877.584 58.1314 876.423 Q55.834 875.262 54.3765 872.47 Q52.1038 868.295 52.1038 860.291 M56.3033 859.674 Q56.3033 867.307 56.8468 870.346 Q57.4644 873.631 59.1442 875.064 Q60.8488 876.472 62.7262 876.472 Q64.7519 876.472 66.4317 874.965 Q68.1363 873.434 68.655 870.148 Q69.2232 866.912 69.1985 859.674 Q69.1985 852.633 68.7044 849.817 Q68.0374 846.532 66.2588 845.222 Q64.5049 843.888 62.7262 843.888 Q62.0592 843.888 61.3428 844.086 Q60.6511 844.284 59.6383 844.852 Q58.6255 845.42 57.835 846.828 Q57.0692 848.236 56.6986 850.361 Q56.3033 853.103 56.3033 859.674 Z\" fill=\"#000000\" fill-rule=\"evenodd\" fill-opacity=\"1\" /><path clip-path=\"url(#clip230)\" d=\"M80.4879 875.657 Q79.7221 874.842 79.7221 873.779 Q79.7221 872.717 80.4879 871.951 Q81.2537 871.161 82.4148 871.161 Q83.5265 871.161 84.2676 871.902 Q85.0334 872.618 85.0334 873.804 Q85.0334 874.965 84.2181 875.731 Q83.4276 876.472 82.4148 876.472 Q81.2537 876.472 80.4879 875.657 Z\" fill=\"#000000\" fill-rule=\"evenodd\" fill-opacity=\"1\" /><path clip-path=\"url(#clip230)\" d=\"M91.4562 860.291 Q91.4562 852.856 93.3337 848.804 Q95.9522 842.777 102.128 842.777 Q103.437 842.777 104.796 843.147 Q106.179 843.493 107.909 844.852 Q109.663 846.21 110.725 848.434 Q112.751 852.732 112.751 860.291 Q112.751 867.678 110.873 871.704 Q108.131 877.584 102.079 877.584 Q99.806 877.584 97.4838 876.423 Q95.1864 875.262 93.7289 872.47 Q91.4562 868.295 91.4562 860.291 M95.6558 859.674 Q95.6558 867.307 96.1993 870.346 Q96.8169 873.631 98.4967 875.064 Q100.201 876.472 102.079 876.472 Q104.104 876.472 105.784 874.965 Q107.489 873.434 108.007 870.148 Q108.576 866.912 108.551 859.674 Q108.551 852.633 108.057 849.817 Q107.39 846.532 105.611 845.222 Q103.857 843.888 102.079 843.888 Q101.412 843.888 100.695 844.086 Q100.004 844.284 98.9908 844.852 Q97.9779 845.42 97.1874 846.828 Q96.4216 848.236 96.0511 850.361 Q95.6558 853.103 95.6558 859.674 Z\" fill=\"#000000\" fill-rule=\"evenodd\" fill-opacity=\"1\" /><path clip-path=\"url(#clip230)\" d=\"M117.296 876.472 Q117.296 875.558 117.37 875.286 Q117.469 875.015 117.864 874.595 L127.573 863.775 Q132.884 857.796 132.884 852.584 Q132.884 849.2 131.105 846.779 Q129.351 844.358 126.115 844.358 Q123.892 844.358 122.014 845.716 Q120.137 847.075 119.272 849.496 Q119.42 849.447 119.939 849.447 Q121.199 849.447 121.891 850.237 Q122.607 851.028 122.607 852.09 Q122.607 853.449 121.718 854.116 Q120.853 854.758 119.989 854.758 Q119.643 854.758 119.173 854.684 Q118.729 854.61 118.012 853.918 Q117.296 853.202 117.296 851.942 Q117.296 848.409 119.964 845.593 Q122.657 842.777 126.757 842.777 Q131.402 842.777 134.44 845.543 Q137.503 848.286 137.503 852.584 Q137.503 854.091 137.034 855.474 Q136.589 856.833 135.972 857.895 Q135.379 858.957 133.748 860.662 Q132.118 862.366 130.809 863.577 Q129.499 864.787 126.56 867.357 L121.199 872.569 L130.315 872.569 Q134.761 872.569 135.107 872.174 Q135.601 871.457 136.219 867.678 L137.503 867.678 L136.07 876.472 L117.296 876.472 Z\" fill=\"#000000\" fill-rule=\"evenodd\" fill-opacity=\"1\" /><path clip-path=\"url(#clip230)\" d=\"M51.7085 567.03 Q51.7085 559.594 53.586 555.543 Q56.2045 549.515 62.3804 549.515 Q63.6897 549.515 65.0483 549.885 Q66.4317 550.231 68.161 551.59 Q69.9149 552.949 70.9771 555.172 Q73.0028 559.47 73.0028 567.03 Q73.0028 574.416 71.1254 578.443 Q68.3833 584.322 62.331 584.322 Q60.0583 584.322 57.7361 583.161 Q55.4387 582 53.9812 579.208 Q51.7085 575.033 51.7085 567.03 M55.9081 566.412 Q55.9081 574.045 56.4516 577.084 Q57.0692 580.369 58.749 581.802 Q60.4535 583.21 62.331 583.21 Q64.3566 583.21 66.0365 581.703 Q67.741 580.172 68.2598 576.886 Q68.828 573.65 68.8032 566.412 Q68.8032 559.372 68.3092 556.555 Q67.6422 553.27 65.8635 551.961 Q64.1096 550.627 62.331 550.627 Q61.664 550.627 60.9476 550.824 Q60.2559 551.022 59.243 551.59 Q58.2302 552.158 57.4397 553.566 Q56.6739 554.974 56.3033 557.099 Q55.9081 559.841 55.9081 566.412 Z\" fill=\"#000000\" fill-rule=\"evenodd\" fill-opacity=\"1\" /><path clip-path=\"url(#clip230)\" d=\"M80.0927 582.395 Q79.3269 581.58 79.3269 580.518 Q79.3269 579.455 80.0927 578.69 Q80.8585 577.899 82.0195 577.899 Q83.1312 577.899 83.8723 578.64 Q84.6381 579.357 84.6381 580.542 Q84.6381 581.703 83.8229 582.469 Q83.0324 583.21 82.0195 583.21 Q80.8585 583.21 80.0927 582.395 Z\" fill=\"#000000\" fill-rule=\"evenodd\" fill-opacity=\"1\" /><path clip-path=\"url(#clip230)\" d=\"M91.061 567.03 Q91.061 559.594 92.9384 555.543 Q95.557 549.515 101.733 549.515 Q103.042 549.515 104.401 549.885 Q105.784 550.231 107.513 551.59 Q109.267 552.949 110.33 555.172 Q112.355 559.47 112.355 567.03 Q112.355 574.416 110.478 578.443 Q107.736 584.322 101.683 584.322 Q99.4107 584.322 97.0886 583.161 Q94.7912 582 93.3337 579.208 Q91.061 575.033 91.061 567.03 M95.2605 566.412 Q95.2605 574.045 95.804 577.084 Q96.4216 580.369 98.1014 581.802 Q99.806 583.21 101.683 583.21 Q103.709 583.21 105.389 581.703 Q107.093 580.172 107.612 576.886 Q108.18 573.65 108.156 566.412 Q108.156 559.372 107.662 556.555 Q106.995 553.27 105.216 551.961 Q103.462 550.627 101.683 550.627 Q101.016 550.627 100.3 550.824 Q99.6083 551.022 98.5955 551.59 Q97.5827 552.158 96.7922 553.566 Q96.0264 554.974 95.6558 557.099 Q95.2605 559.841 95.2605 566.412 Z\" fill=\"#000000\" fill-rule=\"evenodd\" fill-opacity=\"1\" /><path clip-path=\"url(#clip230)\" d=\"M116.505 576.392 Q116.505 574.885 117.37 574.169 Q118.235 573.452 119.346 573.452 Q120.507 573.452 121.323 574.218 Q122.163 574.959 122.163 576.269 Q122.163 577.677 121.174 578.467 Q120.211 579.258 118.828 579.06 Q120.038 581.086 122.261 582 Q124.509 582.914 126.584 582.914 Q128.758 582.914 130.512 581.036 Q132.291 579.159 132.291 574.564 Q132.291 570.661 130.759 568.413 Q129.252 566.165 126.263 566.165 L124.04 566.165 Q123.274 566.165 123.052 566.091 Q122.829 566.017 122.829 565.597 Q122.829 565.103 123.595 565.004 Q124.361 565.004 125.572 564.856 Q128.511 564.757 130.068 562.212 Q131.476 559.841 131.476 556.457 Q131.476 553.369 129.993 552.084 Q128.536 550.775 126.634 550.775 Q124.855 550.775 122.904 551.516 Q120.952 552.257 119.89 553.912 Q123.027 553.912 123.027 556.457 Q123.027 557.568 122.311 558.309 Q121.619 559.026 120.458 559.026 Q119.346 559.026 118.605 558.334 Q117.864 557.618 117.864 556.407 Q117.864 553.517 120.433 551.516 Q123.027 549.515 126.831 549.515 Q130.586 549.515 133.353 551.491 Q136.145 553.467 136.145 556.506 Q136.145 559.495 134.168 561.941 Q132.192 564.386 129.055 565.399 Q132.908 566.165 135.206 568.784 Q137.503 571.377 137.503 574.564 Q137.503 578.517 134.391 581.432 Q131.278 584.322 126.733 584.322 Q122.533 584.322 119.519 582.049 Q116.505 579.777 116.505 576.392 Z\" fill=\"#000000\" fill-rule=\"evenodd\" fill-opacity=\"1\" /><path clip-path=\"url(#clip230)\" d=\"M50.9921 273.768 Q50.9921 266.332 52.8696 262.281 Q55.4881 256.253 61.664 256.253 Q62.9733 256.253 64.3319 256.624 Q65.7153 256.969 67.4446 258.328 Q69.1985 259.687 70.2607 261.91 Q72.2864 266.209 72.2864 273.768 Q72.2864 281.154 70.409 285.181 Q67.6669 291.06 61.6146 291.06 Q59.3419 291.06 57.0197 289.899 Q54.7223 288.738 53.2648 285.947 Q50.9921 281.772 50.9921 273.768 M55.1917 273.15 Q55.1917 280.784 55.7352 283.822 Q56.3528 287.108 58.0326 288.54 Q59.7371 289.948 61.6146 289.948 Q63.6402 289.948 65.3201 288.442 Q67.0246 286.91 67.5434 283.624 Q68.1116 280.388 68.0869 273.15 Q68.0869 266.11 67.5928 263.294 Q66.9258 260.008 65.1472 258.699 Q63.3932 257.365 61.6146 257.365 Q60.9476 257.365 60.2312 257.562 Q59.5395 257.76 58.5267 258.328 Q57.5138 258.896 56.7233 260.304 Q55.9575 261.713 55.587 263.837 Q55.1917 266.579 55.1917 273.15 Z\" fill=\"#000000\" fill-rule=\"evenodd\" fill-opacity=\"1\" /><path clip-path=\"url(#clip230)\" d=\"M79.3763 289.133 Q78.6105 288.318 78.6105 287.256 Q78.6105 286.194 79.3763 285.428 Q80.1421 284.637 81.3031 284.637 Q82.4148 284.637 83.1559 285.378 Q83.9217 286.095 83.9217 287.281 Q83.9217 288.442 83.1065 289.207 Q82.316 289.948 81.3031 289.948 Q80.1421 289.948 79.3763 289.133 Z\" fill=\"#000000\" fill-rule=\"evenodd\" fill-opacity=\"1\" /><path clip-path=\"url(#clip230)\" d=\"M90.3446 273.768 Q90.3446 266.332 92.222 262.281 Q94.8406 256.253 101.016 256.253 Q102.326 256.253 103.684 256.624 Q105.068 256.969 106.797 258.328 Q108.551 259.687 109.613 261.91 Q111.639 266.209 111.639 273.768 Q111.639 281.154 109.761 285.181 Q107.019 291.06 100.967 291.06 Q98.6943 291.06 96.3722 289.899 Q94.0748 288.738 92.6173 285.947 Q90.3446 281.772 90.3446 273.768 M94.5441 273.15 Q94.5441 280.784 95.0876 283.822 Q95.7052 287.108 97.385 288.54 Q99.0896 289.948 100.967 289.948 Q102.993 289.948 104.673 288.442 Q106.377 286.91 106.896 283.624 Q107.464 280.388 107.439 273.15 Q107.439 266.11 106.945 263.294 Q106.278 260.008 104.5 258.699 Q102.746 257.365 100.967 257.365 Q100.3 257.365 99.5836 257.562 Q98.8919 257.76 97.8791 258.328 Q96.8663 258.896 96.0758 260.304 Q95.31 261.713 94.9394 263.837 Q94.5441 266.579 94.5441 273.15 Z\" fill=\"#000000\" fill-rule=\"evenodd\" fill-opacity=\"1\" /><path clip-path=\"url(#clip230)\" d=\"M115.073 281.599 L115.073 280.042 L130.611 256.302 Q131.006 255.685 131.624 255.71 Q132.192 255.71 132.316 255.932 Q132.439 256.154 132.439 257.019 L132.439 280.042 L137.503 280.042 L137.503 281.599 L132.439 281.599 L132.439 285.996 Q132.439 287.453 133.032 287.923 Q133.65 288.392 136.268 288.392 L137.33 288.392 L137.33 289.948 Q135.255 289.8 130.463 289.8 Q125.695 289.8 123.62 289.948 L123.62 288.392 L124.682 288.392 Q127.301 288.392 127.918 287.947 Q128.536 287.478 128.536 285.996 L128.536 281.599 L115.073 281.599 M116.505 280.042 L128.832 280.042 L128.832 261.169 L116.505 280.042 Z\" fill=\"#000000\" fill-rule=\"evenodd\" fill-opacity=\"1\" /><polyline clip-path=\"url(#clip232)\" style=\"stroke:#d77255; stroke-linecap:round; stroke-linejoin:round; stroke-width:5.6; stroke-opacity:1; fill:none\" points=\"\n  224.944,1445.72 259.238,1407.11 293.532,1368.54 327.827,1330.05 362.121,1291.68 396.415,1253.46 430.709,1215.43 465.003,1177.64 499.297,1140.1 533.591,1102.87 \n  567.885,1065.98 602.179,1029.45 636.473,993.326 670.767,957.634 705.061,922.405 739.355,887.668 773.649,853.448 807.943,819.773 842.237,786.665 876.531,754.148 \n  910.825,722.242 945.119,690.967 979.413,660.34 1013.71,630.376 1048,601.091 1082.3,572.496 1116.59,544.603 1150.88,517.421 1185.18,490.956 1219.47,465.216 \n  1253.77,440.204 1288.06,415.924 1322.35,392.377 1356.65,369.563 1390.94,347.48 1425.24,326.126 1459.53,305.496 1493.82,285.586 1528.12,266.388 1562.41,247.896 \n  1596.71,230.101 1631,212.993 1665.29,196.562 1699.59,180.797 1733.88,165.685 1768.18,151.214 1802.47,137.369 1836.76,124.139 1871.06,111.506 1905.35,99.4572 \n  1939.65,87.9763 \n  \"/>\n<path clip-path=\"url(#clip230)\" d=\"\nM2063.73 198.898 L2352.76 198.898 L2352.76 95.2176 L2063.73 95.2176  Z\n  \" fill=\"#ffffff\" fill-rule=\"evenodd\" fill-opacity=\"1\"/>\n<polyline clip-path=\"url(#clip230)\" style=\"stroke:#000000; stroke-linecap:round; stroke-linejoin:round; stroke-width:4; stroke-opacity:1; fill:none\" points=\"\n  2063.73,198.898 2352.76,198.898 2352.76,95.2176 2063.73,95.2176 2063.73,198.898 \n  \"/>\n<polyline clip-path=\"url(#clip230)\" style=\"stroke:#d77255; stroke-linecap:round; stroke-linejoin:round; stroke-width:4; stroke-opacity:1; fill:none\" points=\"\n  2087.94,147.058 2233.23,147.058 \n  \"/>\n<path clip-path=\"url(#clip230)\" d=\"M2257.44 170.612 Q2257.44 169.55 2258.06 168.982 Q2258.7 168.438 2259.57 168.438 Q2260.48 168.438 2261.07 169.006 Q2261.69 169.599 2261.69 170.563 Q2261.69 172.44 2259.71 172.687 Q2260.68 173.601 2262.09 173.601 Q2263.59 173.601 2264.8 172.49 Q2266.04 171.378 2266.56 170.316 Q2267.1 169.254 2267.87 167.327 Q2268.58 165.82 2269.13 164.338 L2261.54 145.859 Q2261.05 144.649 2260.28 144.377 Q2259.52 144.106 2257.44 144.106 L2257.44 142.524 Q2259.71 142.673 2262.36 142.673 Q2263.91 142.673 2267.87 142.524 L2267.87 144.106 Q2265.03 144.106 2265.03 145.415 Q2265.03 145.563 2265.32 146.329 L2270.95 159.94 L2276.07 147.49 Q2276.36 146.773 2276.36 146.279 Q2276.36 144.204 2273.99 144.106 L2273.99 142.524 Q2277.33 142.673 2278.39 142.673 Q2280.46 142.673 2282.17 142.524 L2282.17 144.106 Q2278.78 144.106 2277.48 147.342 L2268.56 168.932 Q2266.14 174.688 2262.09 174.713 Q2260.16 174.713 2258.8 173.527 Q2257.44 172.341 2257.44 170.612 Z\" fill=\"#000000\" fill-rule=\"evenodd\" fill-opacity=\"1\" /><path clip-path=\"url(#clip230)\" d=\"M2287.63 135.459 L2287.63 133.878 Q2293.71 133.878 2296.84 130.642 Q2297.71 130.642 2297.86 130.84 Q2298 131.037 2298 131.951 L2298 160.336 Q2298 161.843 2298.75 162.312 Q2299.49 162.781 2302.72 162.781 L2304.33 162.781 L2304.33 164.338 Q2302.55 164.189 2296.13 164.189 Q2289.7 164.189 2287.95 164.338 L2287.95 162.781 L2289.56 162.781 Q2292.74 162.781 2293.51 162.337 Q2294.27 161.867 2294.27 160.336 L2294.27 134.125 Q2291.63 135.459 2287.63 135.459 Z\" fill=\"#000000\" fill-rule=\"evenodd\" fill-opacity=\"1\" /></svg>\n",
      "text/html": [
       "<?xml version=\"1.0\" encoding=\"utf-8\"?>\n",
       "<svg xmlns=\"http://www.w3.org/2000/svg\" xmlns:xlink=\"http://www.w3.org/1999/xlink\" width=\"600\" height=\"400\" viewBox=\"0 0 2400 1600\">\n",
       "<defs>\n",
       "  <clipPath id=\"clip280\">\n",
       "    <rect x=\"0\" y=\"0\" width=\"2400\" height=\"1600\"/>\n",
       "  </clipPath>\n",
       "</defs>\n",
       "<path clip-path=\"url(#clip280)\" d=\"\n",
       "M0 1600 L2400 1600 L2400 0 L0 0  Z\n",
       "  \" fill=\"#ffffff\" fill-rule=\"evenodd\" fill-opacity=\"1\"/>\n",
       "<defs>\n",
       "  <clipPath id=\"clip281\">\n",
       "    <rect x=\"480\" y=\"0\" width=\"1681\" height=\"1600\"/>\n",
       "  </clipPath>\n",
       "</defs>\n",
       "<path clip-path=\"url(#clip280)\" d=\"\n",
       "M173.503 1486.45 L1991.09 1486.45 L1991.09 47.2441 L173.503 47.2441  Z\n",
       "  \" fill=\"#ffffff\" fill-rule=\"evenodd\" fill-opacity=\"1\"/>\n",
       "<defs>\n",
       "  <clipPath id=\"clip282\">\n",
       "    <rect x=\"173\" y=\"47\" width=\"1819\" height=\"1440\"/>\n",
       "  </clipPath>\n",
       "</defs>\n",
       "<polyline clip-path=\"url(#clip282)\" style=\"stroke:#000000; stroke-linecap:round; stroke-linejoin:round; stroke-width:2.8; stroke-opacity:0.4; fill:none\" points=\"\n",
       "  224.944,1486.45 224.944,47.2441 \n",
       "  \"/>\n",
       "<polyline clip-path=\"url(#clip282)\" style=\"stroke:#000000; stroke-linecap:round; stroke-linejoin:round; stroke-width:2.8; stroke-opacity:0.4; fill:none\" points=\"\n",
       "  653.62,1486.45 653.62,47.2441 \n",
       "  \"/>\n",
       "<polyline clip-path=\"url(#clip282)\" style=\"stroke:#000000; stroke-linecap:round; stroke-linejoin:round; stroke-width:2.8; stroke-opacity:0.4; fill:none\" points=\"\n",
       "  1082.3,1486.45 1082.3,47.2441 \n",
       "  \"/>\n",
       "<polyline clip-path=\"url(#clip282)\" style=\"stroke:#000000; stroke-linecap:round; stroke-linejoin:round; stroke-width:2.8; stroke-opacity:0.4; fill:none\" points=\"\n",
       "  1510.97,1486.45 1510.97,47.2441 \n",
       "  \"/>\n",
       "<polyline clip-path=\"url(#clip282)\" style=\"stroke:#000000; stroke-linecap:round; stroke-linejoin:round; stroke-width:2.8; stroke-opacity:0.4; fill:none\" points=\"\n",
       "  1939.65,1486.45 1939.65,47.2441 \n",
       "  \"/>\n",
       "<polyline clip-path=\"url(#clip282)\" style=\"stroke:#000000; stroke-linecap:round; stroke-linejoin:round; stroke-width:2; stroke-opacity:0.06; fill:none\" points=\"\n",
       "  310.679,1486.45 310.679,47.2441 \n",
       "  \"/>\n",
       "<polyline clip-path=\"url(#clip282)\" style=\"stroke:#000000; stroke-linecap:round; stroke-linejoin:round; stroke-width:2; stroke-opacity:0.06; fill:none\" points=\"\n",
       "  396.415,1486.45 396.415,47.2441 \n",
       "  \"/>\n",
       "<polyline clip-path=\"url(#clip282)\" style=\"stroke:#000000; stroke-linecap:round; stroke-linejoin:round; stroke-width:2; stroke-opacity:0.06; fill:none\" points=\"\n",
       "  482.15,1486.45 482.15,47.2441 \n",
       "  \"/>\n",
       "<polyline clip-path=\"url(#clip282)\" style=\"stroke:#000000; stroke-linecap:round; stroke-linejoin:round; stroke-width:2; stroke-opacity:0.06; fill:none\" points=\"\n",
       "  567.885,1486.45 567.885,47.2441 \n",
       "  \"/>\n",
       "<polyline clip-path=\"url(#clip282)\" style=\"stroke:#000000; stroke-linecap:round; stroke-linejoin:round; stroke-width:2; stroke-opacity:0.06; fill:none\" points=\"\n",
       "  739.355,1486.45 739.355,47.2441 \n",
       "  \"/>\n",
       "<polyline clip-path=\"url(#clip282)\" style=\"stroke:#000000; stroke-linecap:round; stroke-linejoin:round; stroke-width:2; stroke-opacity:0.06; fill:none\" points=\"\n",
       "  825.09,1486.45 825.09,47.2441 \n",
       "  \"/>\n",
       "<polyline clip-path=\"url(#clip282)\" style=\"stroke:#000000; stroke-linecap:round; stroke-linejoin:round; stroke-width:2; stroke-opacity:0.06; fill:none\" points=\"\n",
       "  910.825,1486.45 910.825,47.2441 \n",
       "  \"/>\n",
       "<polyline clip-path=\"url(#clip282)\" style=\"stroke:#000000; stroke-linecap:round; stroke-linejoin:round; stroke-width:2; stroke-opacity:0.06; fill:none\" points=\"\n",
       "  996.561,1486.45 996.561,47.2441 \n",
       "  \"/>\n",
       "<polyline clip-path=\"url(#clip282)\" style=\"stroke:#000000; stroke-linecap:round; stroke-linejoin:round; stroke-width:2; stroke-opacity:0.06; fill:none\" points=\"\n",
       "  1168.03,1486.45 1168.03,47.2441 \n",
       "  \"/>\n",
       "<polyline clip-path=\"url(#clip282)\" style=\"stroke:#000000; stroke-linecap:round; stroke-linejoin:round; stroke-width:2; stroke-opacity:0.06; fill:none\" points=\"\n",
       "  1253.77,1486.45 1253.77,47.2441 \n",
       "  \"/>\n",
       "<polyline clip-path=\"url(#clip282)\" style=\"stroke:#000000; stroke-linecap:round; stroke-linejoin:round; stroke-width:2; stroke-opacity:0.06; fill:none\" points=\"\n",
       "  1339.5,1486.45 1339.5,47.2441 \n",
       "  \"/>\n",
       "<polyline clip-path=\"url(#clip282)\" style=\"stroke:#000000; stroke-linecap:round; stroke-linejoin:round; stroke-width:2; stroke-opacity:0.06; fill:none\" points=\"\n",
       "  1425.24,1486.45 1425.24,47.2441 \n",
       "  \"/>\n",
       "<polyline clip-path=\"url(#clip282)\" style=\"stroke:#000000; stroke-linecap:round; stroke-linejoin:round; stroke-width:2; stroke-opacity:0.06; fill:none\" points=\"\n",
       "  1596.71,1486.45 1596.71,47.2441 \n",
       "  \"/>\n",
       "<polyline clip-path=\"url(#clip282)\" style=\"stroke:#000000; stroke-linecap:round; stroke-linejoin:round; stroke-width:2; stroke-opacity:0.06; fill:none\" points=\"\n",
       "  1682.44,1486.45 1682.44,47.2441 \n",
       "  \"/>\n",
       "<polyline clip-path=\"url(#clip282)\" style=\"stroke:#000000; stroke-linecap:round; stroke-linejoin:round; stroke-width:2; stroke-opacity:0.06; fill:none\" points=\"\n",
       "  1768.18,1486.45 1768.18,47.2441 \n",
       "  \"/>\n",
       "<polyline clip-path=\"url(#clip282)\" style=\"stroke:#000000; stroke-linecap:round; stroke-linejoin:round; stroke-width:2; stroke-opacity:0.06; fill:none\" points=\"\n",
       "  1853.91,1486.45 1853.91,47.2441 \n",
       "  \"/>\n",
       "<polyline clip-path=\"url(#clip280)\" style=\"stroke:#000000; stroke-linecap:round; stroke-linejoin:round; stroke-width:4; stroke-opacity:1; fill:none\" points=\"\n",
       "  173.503,1486.45 1991.09,1486.45 \n",
       "  \"/>\n",
       "<polyline clip-path=\"url(#clip280)\" style=\"stroke:#000000; stroke-linecap:round; stroke-linejoin:round; stroke-width:4; stroke-opacity:1; fill:none\" points=\"\n",
       "  173.503,47.2441 1991.09,47.2441 \n",
       "  \"/>\n",
       "<polyline clip-path=\"url(#clip280)\" style=\"stroke:#000000; stroke-linecap:round; stroke-linejoin:round; stroke-width:4; stroke-opacity:1; fill:none\" points=\"\n",
       "  224.944,1486.45 224.944,1467.55 \n",
       "  \"/>\n",
       "<polyline clip-path=\"url(#clip280)\" style=\"stroke:#000000; stroke-linecap:round; stroke-linejoin:round; stroke-width:4; stroke-opacity:1; fill:none\" points=\"\n",
       "  653.62,1486.45 653.62,1467.55 \n",
       "  \"/>\n",
       "<polyline clip-path=\"url(#clip280)\" style=\"stroke:#000000; stroke-linecap:round; stroke-linejoin:round; stroke-width:4; stroke-opacity:1; fill:none\" points=\"\n",
       "  1082.3,1486.45 1082.3,1467.55 \n",
       "  \"/>\n",
       "<polyline clip-path=\"url(#clip280)\" style=\"stroke:#000000; stroke-linecap:round; stroke-linejoin:round; stroke-width:4; stroke-opacity:1; fill:none\" points=\"\n",
       "  1510.97,1486.45 1510.97,1467.55 \n",
       "  \"/>\n",
       "<polyline clip-path=\"url(#clip280)\" style=\"stroke:#000000; stroke-linecap:round; stroke-linejoin:round; stroke-width:4; stroke-opacity:1; fill:none\" points=\"\n",
       "  1939.65,1486.45 1939.65,1467.55 \n",
       "  \"/>\n",
       "<polyline clip-path=\"url(#clip280)\" style=\"stroke:#000000; stroke-linecap:round; stroke-linejoin:round; stroke-width:4; stroke-opacity:1; fill:none\" points=\"\n",
       "  310.679,1486.45 310.679,1477 \n",
       "  \"/>\n",
       "<polyline clip-path=\"url(#clip280)\" style=\"stroke:#000000; stroke-linecap:round; stroke-linejoin:round; stroke-width:4; stroke-opacity:1; fill:none\" points=\"\n",
       "  396.415,1486.45 396.415,1477 \n",
       "  \"/>\n",
       "<polyline clip-path=\"url(#clip280)\" style=\"stroke:#000000; stroke-linecap:round; stroke-linejoin:round; stroke-width:4; stroke-opacity:1; fill:none\" points=\"\n",
       "  482.15,1486.45 482.15,1477 \n",
       "  \"/>\n",
       "<polyline clip-path=\"url(#clip280)\" style=\"stroke:#000000; stroke-linecap:round; stroke-linejoin:round; stroke-width:4; stroke-opacity:1; fill:none\" points=\"\n",
       "  567.885,1486.45 567.885,1477 \n",
       "  \"/>\n",
       "<polyline clip-path=\"url(#clip280)\" style=\"stroke:#000000; stroke-linecap:round; stroke-linejoin:round; stroke-width:4; stroke-opacity:1; fill:none\" points=\"\n",
       "  739.355,1486.45 739.355,1477 \n",
       "  \"/>\n",
       "<polyline clip-path=\"url(#clip280)\" style=\"stroke:#000000; stroke-linecap:round; stroke-linejoin:round; stroke-width:4; stroke-opacity:1; fill:none\" points=\"\n",
       "  825.09,1486.45 825.09,1477 \n",
       "  \"/>\n",
       "<polyline clip-path=\"url(#clip280)\" style=\"stroke:#000000; stroke-linecap:round; stroke-linejoin:round; stroke-width:4; stroke-opacity:1; fill:none\" points=\"\n",
       "  910.825,1486.45 910.825,1477 \n",
       "  \"/>\n",
       "<polyline clip-path=\"url(#clip280)\" style=\"stroke:#000000; stroke-linecap:round; stroke-linejoin:round; stroke-width:4; stroke-opacity:1; fill:none\" points=\"\n",
       "  996.561,1486.45 996.561,1477 \n",
       "  \"/>\n",
       "<polyline clip-path=\"url(#clip280)\" style=\"stroke:#000000; stroke-linecap:round; stroke-linejoin:round; stroke-width:4; stroke-opacity:1; fill:none\" points=\"\n",
       "  1168.03,1486.45 1168.03,1477 \n",
       "  \"/>\n",
       "<polyline clip-path=\"url(#clip280)\" style=\"stroke:#000000; stroke-linecap:round; stroke-linejoin:round; stroke-width:4; stroke-opacity:1; fill:none\" points=\"\n",
       "  1253.77,1486.45 1253.77,1477 \n",
       "  \"/>\n",
       "<polyline clip-path=\"url(#clip280)\" style=\"stroke:#000000; stroke-linecap:round; stroke-linejoin:round; stroke-width:4; stroke-opacity:1; fill:none\" points=\"\n",
       "  1339.5,1486.45 1339.5,1477 \n",
       "  \"/>\n",
       "<polyline clip-path=\"url(#clip280)\" style=\"stroke:#000000; stroke-linecap:round; stroke-linejoin:round; stroke-width:4; stroke-opacity:1; fill:none\" points=\"\n",
       "  1425.24,1486.45 1425.24,1477 \n",
       "  \"/>\n",
       "<polyline clip-path=\"url(#clip280)\" style=\"stroke:#000000; stroke-linecap:round; stroke-linejoin:round; stroke-width:4; stroke-opacity:1; fill:none\" points=\"\n",
       "  1596.71,1486.45 1596.71,1477 \n",
       "  \"/>\n",
       "<polyline clip-path=\"url(#clip280)\" style=\"stroke:#000000; stroke-linecap:round; stroke-linejoin:round; stroke-width:4; stroke-opacity:1; fill:none\" points=\"\n",
       "  1682.44,1486.45 1682.44,1477 \n",
       "  \"/>\n",
       "<polyline clip-path=\"url(#clip280)\" style=\"stroke:#000000; stroke-linecap:round; stroke-linejoin:round; stroke-width:4; stroke-opacity:1; fill:none\" points=\"\n",
       "  1768.18,1486.45 1768.18,1477 \n",
       "  \"/>\n",
       "<polyline clip-path=\"url(#clip280)\" style=\"stroke:#000000; stroke-linecap:round; stroke-linejoin:round; stroke-width:4; stroke-opacity:1; fill:none\" points=\"\n",
       "  1853.91,1486.45 1853.91,1477 \n",
       "  \"/>\n",
       "<path clip-path=\"url(#clip280)\" d=\"M181.973 1532.67 Q181.973 1525.23 183.85 1521.18 Q186.469 1515.15 192.645 1515.15 Q193.954 1515.15 195.313 1515.52 Q196.696 1515.87 198.425 1517.23 Q200.179 1518.59 201.241 1520.81 Q203.267 1525.11 203.267 1532.67 Q203.267 1540.05 201.39 1544.08 Q198.648 1549.96 192.595 1549.96 Q190.323 1549.96 188 1548.8 Q185.703 1547.64 184.246 1544.85 Q181.973 1540.67 181.973 1532.67 M186.172 1532.05 Q186.172 1539.68 186.716 1542.72 Q187.334 1546.01 189.013 1547.44 Q190.718 1548.85 192.595 1548.85 Q194.621 1548.85 196.301 1547.34 Q198.005 1545.81 198.524 1542.52 Q199.092 1539.29 199.068 1532.05 Q199.068 1525.01 198.574 1522.19 Q197.907 1518.91 196.128 1517.6 Q194.374 1516.26 192.595 1516.26 Q191.928 1516.26 191.212 1516.46 Q190.52 1516.66 189.507 1517.23 Q188.495 1517.8 187.704 1519.2 Q186.938 1520.61 186.568 1522.74 Q186.172 1525.48 186.172 1532.05 Z\" fill=\"#000000\" fill-rule=\"evenodd\" fill-opacity=\"1\" /><path clip-path=\"url(#clip280)\" d=\"M210.357 1548.03 Q209.591 1547.22 209.591 1546.16 Q209.591 1545.09 210.357 1544.33 Q211.123 1543.54 212.284 1543.54 Q213.396 1543.54 214.137 1544.28 Q214.902 1544.99 214.902 1546.18 Q214.902 1547.34 214.087 1548.11 Q213.297 1548.85 212.284 1548.85 Q211.123 1548.85 210.357 1548.03 Z\" fill=\"#000000\" fill-rule=\"evenodd\" fill-opacity=\"1\" /><path clip-path=\"url(#clip280)\" d=\"M221.325 1532.67 Q221.325 1525.23 223.203 1521.18 Q225.821 1515.15 231.997 1515.15 Q233.306 1515.15 234.665 1515.52 Q236.049 1515.87 237.778 1517.23 Q239.532 1518.59 240.594 1520.81 Q242.62 1525.11 242.62 1532.67 Q242.62 1540.05 240.742 1544.08 Q238 1549.96 231.948 1549.96 Q229.675 1549.96 227.353 1548.8 Q225.056 1547.64 223.598 1544.85 Q221.325 1540.67 221.325 1532.67 M225.525 1532.05 Q225.525 1539.68 226.068 1542.72 Q226.686 1546.01 228.366 1547.44 Q230.07 1548.85 231.948 1548.85 Q233.973 1548.85 235.653 1547.34 Q237.358 1545.81 237.877 1542.52 Q238.445 1539.29 238.42 1532.05 Q238.42 1525.01 237.926 1522.19 Q237.259 1518.91 235.48 1517.6 Q233.726 1516.26 231.948 1516.26 Q231.281 1516.26 230.564 1516.46 Q229.873 1516.66 228.86 1517.23 Q227.847 1517.8 227.057 1519.2 Q226.291 1520.61 225.92 1522.74 Q225.525 1525.48 225.525 1532.05 Z\" fill=\"#000000\" fill-rule=\"evenodd\" fill-opacity=\"1\" /><path clip-path=\"url(#clip280)\" d=\"M246.622 1532.67 Q246.622 1525.23 248.499 1521.18 Q251.118 1515.15 257.293 1515.15 Q258.603 1515.15 259.961 1515.52 Q261.345 1515.87 263.074 1517.23 Q264.828 1518.59 265.89 1520.81 Q267.916 1525.11 267.916 1532.67 Q267.916 1540.05 266.038 1544.08 Q263.296 1549.96 257.244 1549.96 Q254.971 1549.96 252.649 1548.8 Q250.352 1547.64 248.894 1544.85 Q246.622 1540.67 246.622 1532.67 M250.821 1532.05 Q250.821 1539.68 251.365 1542.72 Q251.982 1546.01 253.662 1547.44 Q255.367 1548.85 257.244 1548.85 Q259.27 1548.85 260.95 1547.34 Q262.654 1545.81 263.173 1542.52 Q263.741 1539.29 263.716 1532.05 Q263.716 1525.01 263.222 1522.19 Q262.555 1518.91 260.777 1517.6 Q259.023 1516.26 257.244 1516.26 Q256.577 1516.26 255.861 1516.46 Q255.169 1516.66 254.156 1517.23 Q253.143 1517.8 252.353 1519.2 Q251.587 1520.61 251.216 1522.74 Q250.821 1525.48 250.821 1532.05 Z\" fill=\"#000000\" fill-rule=\"evenodd\" fill-opacity=\"1\" /><path clip-path=\"url(#clip280)\" d=\"M610.92 1532.67 Q610.92 1525.23 612.798 1521.18 Q615.416 1515.15 621.592 1515.15 Q622.901 1515.15 624.26 1515.52 Q625.643 1515.87 627.373 1517.23 Q629.127 1518.59 630.189 1520.81 Q632.215 1525.11 632.215 1532.67 Q632.215 1540.05 630.337 1544.08 Q627.595 1549.96 621.543 1549.96 Q619.27 1549.96 616.948 1548.8 Q614.65 1547.64 613.193 1544.85 Q610.92 1540.67 610.92 1532.67 M615.12 1532.05 Q615.12 1539.68 615.663 1542.72 Q616.281 1546.01 617.961 1547.44 Q619.665 1548.85 621.543 1548.85 Q623.568 1548.85 625.248 1547.34 Q626.953 1545.81 627.471 1542.52 Q628.04 1539.29 628.015 1532.05 Q628.015 1525.01 627.521 1522.19 Q626.854 1518.91 625.075 1517.6 Q623.321 1516.26 621.543 1516.26 Q620.876 1516.26 620.159 1516.46 Q619.468 1516.66 618.455 1517.23 Q617.442 1517.8 616.651 1519.2 Q615.886 1520.61 615.515 1522.74 Q615.12 1525.48 615.12 1532.05 Z\" fill=\"#000000\" fill-rule=\"evenodd\" fill-opacity=\"1\" /><path clip-path=\"url(#clip280)\" d=\"M639.304 1548.03 Q638.539 1547.22 638.539 1546.16 Q638.539 1545.09 639.304 1544.33 Q640.07 1543.54 641.231 1543.54 Q642.343 1543.54 643.084 1544.28 Q643.85 1544.99 643.85 1546.18 Q643.85 1547.34 643.035 1548.11 Q642.244 1548.85 641.231 1548.85 Q640.07 1548.85 639.304 1548.03 Z\" fill=\"#000000\" fill-rule=\"evenodd\" fill-opacity=\"1\" /><path clip-path=\"url(#clip280)\" d=\"M650.816 1548.85 Q650.816 1547.93 650.89 1547.66 Q650.989 1547.39 651.384 1546.97 L661.093 1536.15 Q666.404 1530.17 666.404 1524.96 Q666.404 1521.58 664.625 1519.15 Q662.871 1516.73 659.635 1516.73 Q657.412 1516.73 655.535 1518.09 Q653.657 1519.45 652.792 1521.87 Q652.941 1521.82 653.459 1521.82 Q654.719 1521.82 655.411 1522.61 Q656.127 1523.4 656.127 1524.47 Q656.127 1525.82 655.238 1526.49 Q654.373 1527.13 653.509 1527.13 Q653.163 1527.13 652.694 1527.06 Q652.249 1526.99 651.533 1526.29 Q650.816 1525.58 650.816 1524.32 Q650.816 1520.78 653.484 1517.97 Q656.177 1515.15 660.278 1515.15 Q664.922 1515.15 667.96 1517.92 Q671.024 1520.66 671.024 1524.96 Q671.024 1526.47 670.554 1527.85 Q670.109 1529.21 669.492 1530.27 Q668.899 1531.33 667.269 1533.04 Q665.638 1534.74 664.329 1535.95 Q663.02 1537.16 660.08 1539.73 L654.719 1544.94 L663.835 1544.94 Q668.281 1544.94 668.627 1544.55 Q669.121 1543.83 669.739 1540.05 L671.024 1540.05 L669.591 1548.85 L650.816 1548.85 Z\" fill=\"#000000\" fill-rule=\"evenodd\" fill-opacity=\"1\" /><path clip-path=\"url(#clip280)\" d=\"M676.112 1540.7 Q676.112 1539.19 676.928 1538.62 Q677.743 1538.03 678.607 1538.03 Q679.769 1538.03 680.436 1538.77 Q681.127 1539.49 681.127 1540.5 Q681.127 1541.51 680.436 1542.25 Q679.769 1542.97 678.607 1542.97 Q678.039 1542.97 677.743 1542.87 Q678.41 1545.19 680.436 1546.87 Q682.486 1548.55 685.179 1548.55 Q688.563 1548.55 690.589 1545.27 Q691.799 1543.14 691.799 1538.32 Q691.799 1534.08 690.885 1531.95 Q689.477 1528.71 686.587 1528.71 Q682.486 1528.71 680.065 1532.25 Q679.769 1532.69 679.423 1532.72 Q678.929 1532.72 678.805 1532.44 Q678.706 1532.15 678.706 1531.38 L678.706 1516.41 Q678.706 1515.2 679.2 1515.2 Q679.398 1515.2 679.818 1515.35 Q683.005 1516.76 686.537 1516.78 Q690.169 1516.78 693.429 1515.3 Q693.677 1515.15 693.825 1515.15 Q694.319 1515.15 694.343 1515.72 Q694.343 1515.92 693.924 1516.51 Q693.528 1517.08 692.664 1517.85 Q691.799 1518.59 690.687 1519.3 Q689.576 1520.02 687.945 1520.51 Q686.34 1520.98 684.561 1520.98 Q682.436 1520.98 680.263 1520.32 L680.263 1530.17 Q682.881 1527.6 686.685 1527.6 Q690.737 1527.6 693.528 1530.86 Q696.32 1534.12 696.32 1538.67 Q696.32 1543.44 693.01 1546.7 Q689.724 1549.96 685.277 1549.96 Q681.226 1549.96 678.657 1547.07 Q676.112 1544.18 676.112 1540.7 Z\" fill=\"#000000\" fill-rule=\"evenodd\" fill-opacity=\"1\" /><path clip-path=\"url(#clip280)\" d=\"M1039.32 1532.67 Q1039.32 1525.23 1041.2 1521.18 Q1043.82 1515.15 1050 1515.15 Q1051.31 1515.15 1052.66 1515.52 Q1054.05 1515.87 1055.78 1517.23 Q1057.53 1518.59 1058.59 1520.81 Q1060.62 1525.11 1060.62 1532.67 Q1060.62 1540.05 1058.74 1544.08 Q1056 1549.96 1049.95 1549.96 Q1047.67 1549.96 1045.35 1548.8 Q1043.05 1547.64 1041.6 1544.85 Q1039.32 1540.67 1039.32 1532.67 M1043.52 1532.05 Q1043.52 1539.68 1044.07 1542.72 Q1044.68 1546.01 1046.36 1547.44 Q1048.07 1548.85 1049.95 1548.85 Q1051.97 1548.85 1053.65 1547.34 Q1055.36 1545.81 1055.88 1542.52 Q1056.44 1539.29 1056.42 1532.05 Q1056.42 1525.01 1055.92 1522.19 Q1055.26 1518.91 1053.48 1517.6 Q1051.73 1516.26 1049.95 1516.26 Q1049.28 1516.26 1048.56 1516.46 Q1047.87 1516.66 1046.86 1517.23 Q1045.85 1517.8 1045.06 1519.2 Q1044.29 1520.61 1043.92 1522.74 Q1043.52 1525.48 1043.52 1532.05 Z\" fill=\"#000000\" fill-rule=\"evenodd\" fill-opacity=\"1\" /><path clip-path=\"url(#clip280)\" d=\"M1067.71 1548.03 Q1066.94 1547.22 1066.94 1546.16 Q1066.94 1545.09 1067.71 1544.33 Q1068.47 1543.54 1069.64 1543.54 Q1070.75 1543.54 1071.49 1544.28 Q1072.25 1544.99 1072.25 1546.18 Q1072.25 1547.34 1071.44 1548.11 Q1070.65 1548.85 1069.64 1548.85 Q1068.47 1548.85 1067.71 1548.03 Z\" fill=\"#000000\" fill-rule=\"evenodd\" fill-opacity=\"1\" /><path clip-path=\"url(#clip280)\" d=\"M1079.22 1540.7 Q1079.22 1539.19 1080.04 1538.62 Q1080.85 1538.03 1081.72 1538.03 Q1082.88 1538.03 1083.54 1538.77 Q1084.23 1539.49 1084.23 1540.5 Q1084.23 1541.51 1083.54 1542.25 Q1082.88 1542.97 1081.72 1542.97 Q1081.15 1542.97 1080.85 1542.87 Q1081.52 1545.19 1083.54 1546.87 Q1085.59 1548.55 1088.29 1548.55 Q1091.67 1548.55 1093.7 1545.27 Q1094.91 1543.14 1094.91 1538.32 Q1094.91 1534.08 1093.99 1531.95 Q1092.58 1528.71 1089.69 1528.71 Q1085.59 1528.71 1083.17 1532.25 Q1082.88 1532.69 1082.53 1532.72 Q1082.04 1532.72 1081.91 1532.44 Q1081.81 1532.15 1081.81 1531.38 L1081.81 1516.41 Q1081.81 1515.2 1082.31 1515.2 Q1082.51 1515.2 1082.93 1515.35 Q1086.11 1516.76 1089.64 1516.78 Q1093.28 1516.78 1096.54 1515.3 Q1096.78 1515.15 1096.93 1515.15 Q1097.43 1515.15 1097.45 1515.72 Q1097.45 1515.92 1097.03 1516.51 Q1096.64 1517.08 1095.77 1517.85 Q1094.91 1518.59 1093.8 1519.3 Q1092.68 1520.02 1091.05 1520.51 Q1089.45 1520.98 1087.67 1520.98 Q1085.54 1520.98 1083.37 1520.32 L1083.37 1530.17 Q1085.99 1527.6 1089.79 1527.6 Q1093.84 1527.6 1096.64 1530.86 Q1099.43 1534.12 1099.43 1538.67 Q1099.43 1543.44 1096.12 1546.7 Q1092.83 1549.96 1088.39 1549.96 Q1084.33 1549.96 1081.76 1547.07 Q1079.22 1544.18 1079.22 1540.7 Z\" fill=\"#000000\" fill-rule=\"evenodd\" fill-opacity=\"1\" /><path clip-path=\"url(#clip280)\" d=\"M1103.97 1532.67 Q1103.97 1525.23 1105.85 1521.18 Q1108.47 1515.15 1114.64 1515.15 Q1115.95 1515.15 1117.31 1515.52 Q1118.7 1515.87 1120.43 1517.23 Q1122.18 1518.59 1123.24 1520.81 Q1125.27 1525.11 1125.27 1532.67 Q1125.27 1540.05 1123.39 1544.08 Q1120.65 1549.96 1114.6 1549.96 Q1112.32 1549.96 1110 1548.8 Q1107.7 1547.64 1106.25 1544.85 Q1103.97 1540.67 1103.97 1532.67 M1108.17 1532.05 Q1108.17 1539.68 1108.72 1542.72 Q1109.33 1546.01 1111.01 1547.44 Q1112.72 1548.85 1114.6 1548.85 Q1116.62 1548.85 1118.3 1547.34 Q1120.01 1545.81 1120.52 1542.52 Q1121.09 1539.29 1121.07 1532.05 Q1121.07 1525.01 1120.57 1522.19 Q1119.91 1518.91 1118.13 1517.6 Q1116.37 1516.26 1114.6 1516.26 Q1113.93 1516.26 1113.21 1516.46 Q1112.52 1516.66 1111.51 1517.23 Q1110.49 1517.8 1109.7 1519.2 Q1108.94 1520.61 1108.57 1522.74 Q1108.17 1525.48 1108.17 1532.05 Z\" fill=\"#000000\" fill-rule=\"evenodd\" fill-opacity=\"1\" /><path clip-path=\"url(#clip280)\" d=\"M1468.27 1532.67 Q1468.27 1525.23 1470.15 1521.18 Q1472.77 1515.15 1478.94 1515.15 Q1480.25 1515.15 1481.61 1515.52 Q1482.99 1515.87 1484.72 1517.23 Q1486.48 1518.59 1487.54 1520.81 Q1489.57 1525.11 1489.57 1532.67 Q1489.57 1540.05 1487.69 1544.08 Q1484.95 1549.96 1478.89 1549.96 Q1476.62 1549.96 1474.3 1548.8 Q1472 1547.64 1470.54 1544.85 Q1468.27 1540.67 1468.27 1532.67 M1472.47 1532.05 Q1472.47 1539.68 1473.01 1542.72 Q1473.63 1546.01 1475.31 1547.44 Q1477.02 1548.85 1478.89 1548.85 Q1480.92 1548.85 1482.6 1547.34 Q1484.3 1545.81 1484.82 1542.52 Q1485.39 1539.29 1485.37 1532.05 Q1485.37 1525.01 1484.87 1522.19 Q1484.21 1518.91 1482.43 1517.6 Q1480.67 1516.26 1478.89 1516.26 Q1478.23 1516.26 1477.51 1516.46 Q1476.82 1516.66 1475.81 1517.23 Q1474.79 1517.8 1474 1519.2 Q1473.24 1520.61 1472.87 1522.74 Q1472.47 1525.48 1472.47 1532.05 Z\" fill=\"#000000\" fill-rule=\"evenodd\" fill-opacity=\"1\" /><path clip-path=\"url(#clip280)\" d=\"M1496.66 1548.03 Q1495.89 1547.22 1495.89 1546.16 Q1495.89 1545.09 1496.66 1544.33 Q1497.42 1543.54 1498.58 1543.54 Q1499.69 1543.54 1500.44 1544.28 Q1501.2 1544.99 1501.2 1546.18 Q1501.2 1547.34 1500.39 1548.11 Q1499.6 1548.85 1498.58 1548.85 Q1497.42 1548.85 1496.66 1548.03 Z\" fill=\"#000000\" fill-rule=\"evenodd\" fill-opacity=\"1\" /><path clip-path=\"url(#clip280)\" d=\"M1508.49 1525.06 L1510.14 1514.66 L1511.4 1514.66 Q1511.55 1515.28 1511.8 1515.55 Q1512.07 1515.82 1513.5 1516.04 Q1514.96 1516.26 1517.9 1516.26 L1530.18 1516.26 Q1530.18 1517.43 1529.73 1518.04 L1522.89 1527.65 Q1520.72 1530.69 1519.75 1536.3 Q1519.19 1540.05 1519.21 1544.6 L1519.21 1547.17 Q1519.21 1549.96 1516.86 1549.96 Q1514.54 1549.96 1514.54 1547.17 Q1514.54 1537.51 1520.77 1528.15 Q1521.43 1527.18 1523.88 1523.75 Q1526.35 1520.32 1526.45 1520.17 L1515.97 1520.17 Q1511.38 1520.17 1511.01 1520.46 Q1510.51 1520.91 1509.75 1525.06 L1508.49 1525.06 Z\" fill=\"#000000\" fill-rule=\"evenodd\" fill-opacity=\"1\" /><path clip-path=\"url(#clip280)\" d=\"M1533.46 1540.7 Q1533.46 1539.19 1534.28 1538.62 Q1535.09 1538.03 1535.96 1538.03 Q1537.12 1538.03 1537.79 1538.77 Q1538.48 1539.49 1538.48 1540.5 Q1538.48 1541.51 1537.79 1542.25 Q1537.12 1542.97 1535.96 1542.97 Q1535.39 1542.97 1535.09 1542.87 Q1535.76 1545.19 1537.79 1546.87 Q1539.84 1548.55 1542.53 1548.55 Q1545.91 1548.55 1547.94 1545.27 Q1549.15 1543.14 1549.15 1538.32 Q1549.15 1534.08 1548.24 1531.95 Q1546.83 1528.71 1543.94 1528.71 Q1539.84 1528.71 1537.42 1532.25 Q1537.12 1532.69 1536.77 1532.72 Q1536.28 1532.72 1536.16 1532.44 Q1536.06 1532.15 1536.06 1531.38 L1536.06 1516.41 Q1536.06 1515.2 1536.55 1515.2 Q1536.75 1515.2 1537.17 1515.35 Q1540.36 1516.76 1543.89 1516.78 Q1547.52 1516.78 1550.78 1515.3 Q1551.03 1515.15 1551.18 1515.15 Q1551.67 1515.15 1551.69 1515.72 Q1551.69 1515.92 1551.27 1516.51 Q1550.88 1517.08 1550.01 1517.85 Q1549.15 1518.59 1548.04 1519.3 Q1546.93 1520.02 1545.3 1520.51 Q1543.69 1520.98 1541.91 1520.98 Q1539.79 1520.98 1537.61 1520.32 L1537.61 1530.17 Q1540.23 1527.6 1544.04 1527.6 Q1548.09 1527.6 1550.88 1530.86 Q1553.67 1534.12 1553.67 1538.67 Q1553.67 1543.44 1550.36 1546.7 Q1547.08 1549.96 1542.63 1549.96 Q1538.58 1549.96 1536.01 1547.07 Q1533.46 1544.18 1533.46 1540.7 Z\" fill=\"#000000\" fill-rule=\"evenodd\" fill-opacity=\"1\" /><path clip-path=\"url(#clip280)\" d=\"M1897.94 1519.97 L1897.94 1518.39 Q1904.01 1518.39 1907.15 1515.15 Q1908.01 1515.15 1908.16 1515.35 Q1908.31 1515.55 1908.31 1516.46 L1908.31 1544.85 Q1908.31 1546.35 1909.05 1546.82 Q1909.79 1547.29 1913.03 1547.29 L1914.63 1547.29 L1914.63 1548.85 Q1912.86 1548.7 1906.43 1548.7 Q1900.01 1548.7 1898.26 1548.85 L1898.26 1547.29 L1899.86 1547.29 Q1903.05 1547.29 1903.81 1546.85 Q1904.58 1546.38 1904.58 1544.85 L1904.58 1518.64 Q1901.94 1519.97 1897.94 1519.97 Z\" fill=\"#000000\" fill-rule=\"evenodd\" fill-opacity=\"1\" /><path clip-path=\"url(#clip280)\" d=\"M1923.8 1548.03 Q1923.03 1547.22 1923.03 1546.16 Q1923.03 1545.09 1923.8 1544.33 Q1924.57 1543.54 1925.73 1543.54 Q1926.84 1543.54 1927.58 1544.28 Q1928.35 1544.99 1928.35 1546.18 Q1928.35 1547.34 1927.53 1548.11 Q1926.74 1548.85 1925.73 1548.85 Q1924.57 1548.85 1923.8 1548.03 Z\" fill=\"#000000\" fill-rule=\"evenodd\" fill-opacity=\"1\" /><path clip-path=\"url(#clip280)\" d=\"M1934.77 1532.67 Q1934.77 1525.23 1936.65 1521.18 Q1939.26 1515.15 1945.44 1515.15 Q1946.75 1515.15 1948.11 1515.52 Q1949.49 1515.87 1951.22 1517.23 Q1952.97 1518.59 1954.04 1520.81 Q1956.06 1525.11 1956.06 1532.67 Q1956.06 1540.05 1954.18 1544.08 Q1951.44 1549.96 1945.39 1549.96 Q1943.12 1549.96 1940.8 1548.8 Q1938.5 1547.64 1937.04 1544.85 Q1934.77 1540.67 1934.77 1532.67 M1938.97 1532.05 Q1938.97 1539.68 1939.51 1542.72 Q1940.13 1546.01 1941.81 1547.44 Q1943.51 1548.85 1945.39 1548.85 Q1947.42 1548.85 1949.1 1547.34 Q1950.8 1545.81 1951.32 1542.52 Q1951.89 1539.29 1951.86 1532.05 Q1951.86 1525.01 1951.37 1522.19 Q1950.7 1518.91 1948.92 1517.6 Q1947.17 1516.26 1945.39 1516.26 Q1944.72 1516.26 1944.01 1516.46 Q1943.32 1516.66 1942.3 1517.23 Q1941.29 1517.8 1940.5 1519.2 Q1939.73 1520.61 1939.36 1522.74 Q1938.97 1525.48 1938.97 1532.05 Z\" fill=\"#000000\" fill-rule=\"evenodd\" fill-opacity=\"1\" /><path clip-path=\"url(#clip280)\" d=\"M1960.06 1532.67 Q1960.06 1525.23 1961.94 1521.18 Q1964.56 1515.15 1970.74 1515.15 Q1972.05 1515.15 1973.4 1515.52 Q1974.79 1515.87 1976.52 1517.23 Q1978.27 1518.59 1979.33 1520.81 Q1981.36 1525.11 1981.36 1532.67 Q1981.36 1540.05 1979.48 1544.08 Q1976.74 1549.96 1970.69 1549.96 Q1968.41 1549.96 1966.09 1548.8 Q1963.79 1547.64 1962.34 1544.85 Q1960.06 1540.67 1960.06 1532.67 M1964.26 1532.05 Q1964.26 1539.68 1964.81 1542.72 Q1965.42 1546.01 1967.1 1547.44 Q1968.81 1548.85 1970.69 1548.85 Q1972.71 1548.85 1974.39 1547.34 Q1976.1 1545.81 1976.62 1542.52 Q1977.18 1539.29 1977.16 1532.05 Q1977.16 1525.01 1976.66 1522.19 Q1976 1518.91 1974.22 1517.6 Q1972.47 1516.26 1970.69 1516.26 Q1970.02 1516.26 1969.3 1516.46 Q1968.61 1516.66 1967.6 1517.23 Q1966.59 1517.8 1965.8 1519.2 Q1965.03 1520.61 1964.66 1522.74 Q1964.26 1525.48 1964.26 1532.05 Z\" fill=\"#000000\" fill-rule=\"evenodd\" fill-opacity=\"1\" /><polyline clip-path=\"url(#clip282)\" style=\"stroke:#000000; stroke-linecap:round; stroke-linejoin:round; stroke-width:2.8; stroke-opacity:0.4; fill:none\" points=\"\n",
       "  173.503,1445.72 1991.09,1445.72 \n",
       "  \"/>\n",
       "<polyline clip-path=\"url(#clip282)\" style=\"stroke:#000000; stroke-linecap:round; stroke-linejoin:round; stroke-width:2.8; stroke-opacity:0.4; fill:none\" points=\"\n",
       "  173.503,1152.45 1991.09,1152.45 \n",
       "  \"/>\n",
       "<polyline clip-path=\"url(#clip282)\" style=\"stroke:#000000; stroke-linecap:round; stroke-linejoin:round; stroke-width:2.8; stroke-opacity:0.4; fill:none\" points=\"\n",
       "  173.503,859.192 1991.09,859.192 \n",
       "  \"/>\n",
       "<polyline clip-path=\"url(#clip282)\" style=\"stroke:#000000; stroke-linecap:round; stroke-linejoin:round; stroke-width:2.8; stroke-opacity:0.4; fill:none\" points=\"\n",
       "  173.503,565.93 1991.09,565.93 \n",
       "  \"/>\n",
       "<polyline clip-path=\"url(#clip282)\" style=\"stroke:#000000; stroke-linecap:round; stroke-linejoin:round; stroke-width:2.8; stroke-opacity:0.4; fill:none\" points=\"\n",
       "  173.503,272.668 1991.09,272.668 \n",
       "  \"/>\n",
       "<polyline clip-path=\"url(#clip282)\" style=\"stroke:#000000; stroke-linecap:round; stroke-linejoin:round; stroke-width:2; stroke-opacity:0.06; fill:none\" points=\"\n",
       "  173.503,1387.06 1991.09,1387.06 \n",
       "  \"/>\n",
       "<polyline clip-path=\"url(#clip282)\" style=\"stroke:#000000; stroke-linecap:round; stroke-linejoin:round; stroke-width:2; stroke-opacity:0.06; fill:none\" points=\"\n",
       "  173.503,1328.41 1991.09,1328.41 \n",
       "  \"/>\n",
       "<polyline clip-path=\"url(#clip282)\" style=\"stroke:#000000; stroke-linecap:round; stroke-linejoin:round; stroke-width:2; stroke-opacity:0.06; fill:none\" points=\"\n",
       "  173.503,1269.76 1991.09,1269.76 \n",
       "  \"/>\n",
       "<polyline clip-path=\"url(#clip282)\" style=\"stroke:#000000; stroke-linecap:round; stroke-linejoin:round; stroke-width:2; stroke-opacity:0.06; fill:none\" points=\"\n",
       "  173.503,1211.11 1991.09,1211.11 \n",
       "  \"/>\n",
       "<polyline clip-path=\"url(#clip282)\" style=\"stroke:#000000; stroke-linecap:round; stroke-linejoin:round; stroke-width:2; stroke-opacity:0.06; fill:none\" points=\"\n",
       "  173.503,1093.8 1991.09,1093.8 \n",
       "  \"/>\n",
       "<polyline clip-path=\"url(#clip282)\" style=\"stroke:#000000; stroke-linecap:round; stroke-linejoin:round; stroke-width:2; stroke-opacity:0.06; fill:none\" points=\"\n",
       "  173.503,1035.15 1991.09,1035.15 \n",
       "  \"/>\n",
       "<polyline clip-path=\"url(#clip282)\" style=\"stroke:#000000; stroke-linecap:round; stroke-linejoin:round; stroke-width:2; stroke-opacity:0.06; fill:none\" points=\"\n",
       "  173.503,976.497 1991.09,976.497 \n",
       "  \"/>\n",
       "<polyline clip-path=\"url(#clip282)\" style=\"stroke:#000000; stroke-linecap:round; stroke-linejoin:round; stroke-width:2; stroke-opacity:0.06; fill:none\" points=\"\n",
       "  173.503,917.844 1991.09,917.844 \n",
       "  \"/>\n",
       "<polyline clip-path=\"url(#clip282)\" style=\"stroke:#000000; stroke-linecap:round; stroke-linejoin:round; stroke-width:2; stroke-opacity:0.06; fill:none\" points=\"\n",
       "  173.503,800.54 1991.09,800.54 \n",
       "  \"/>\n",
       "<polyline clip-path=\"url(#clip282)\" style=\"stroke:#000000; stroke-linecap:round; stroke-linejoin:round; stroke-width:2; stroke-opacity:0.06; fill:none\" points=\"\n",
       "  173.503,741.887 1991.09,741.887 \n",
       "  \"/>\n",
       "<polyline clip-path=\"url(#clip282)\" style=\"stroke:#000000; stroke-linecap:round; stroke-linejoin:round; stroke-width:2; stroke-opacity:0.06; fill:none\" points=\"\n",
       "  173.503,683.235 1991.09,683.235 \n",
       "  \"/>\n",
       "<polyline clip-path=\"url(#clip282)\" style=\"stroke:#000000; stroke-linecap:round; stroke-linejoin:round; stroke-width:2; stroke-opacity:0.06; fill:none\" points=\"\n",
       "  173.503,624.583 1991.09,624.583 \n",
       "  \"/>\n",
       "<polyline clip-path=\"url(#clip282)\" style=\"stroke:#000000; stroke-linecap:round; stroke-linejoin:round; stroke-width:2; stroke-opacity:0.06; fill:none\" points=\"\n",
       "  173.503,507.278 1991.09,507.278 \n",
       "  \"/>\n",
       "<polyline clip-path=\"url(#clip282)\" style=\"stroke:#000000; stroke-linecap:round; stroke-linejoin:round; stroke-width:2; stroke-opacity:0.06; fill:none\" points=\"\n",
       "  173.503,448.626 1991.09,448.626 \n",
       "  \"/>\n",
       "<polyline clip-path=\"url(#clip282)\" style=\"stroke:#000000; stroke-linecap:round; stroke-linejoin:round; stroke-width:2; stroke-opacity:0.06; fill:none\" points=\"\n",
       "  173.503,389.973 1991.09,389.973 \n",
       "  \"/>\n",
       "<polyline clip-path=\"url(#clip282)\" style=\"stroke:#000000; stroke-linecap:round; stroke-linejoin:round; stroke-width:2; stroke-opacity:0.06; fill:none\" points=\"\n",
       "  173.503,331.321 1991.09,331.321 \n",
       "  \"/>\n",
       "<polyline clip-path=\"url(#clip282)\" style=\"stroke:#000000; stroke-linecap:round; stroke-linejoin:round; stroke-width:2; stroke-opacity:0.06; fill:none\" points=\"\n",
       "  173.503,214.016 1991.09,214.016 \n",
       "  \"/>\n",
       "<polyline clip-path=\"url(#clip282)\" style=\"stroke:#000000; stroke-linecap:round; stroke-linejoin:round; stroke-width:2; stroke-opacity:0.06; fill:none\" points=\"\n",
       "  173.503,155.364 1991.09,155.364 \n",
       "  \"/>\n",
       "<polyline clip-path=\"url(#clip282)\" style=\"stroke:#000000; stroke-linecap:round; stroke-linejoin:round; stroke-width:2; stroke-opacity:0.06; fill:none\" points=\"\n",
       "  173.503,96.7114 1991.09,96.7114 \n",
       "  \"/>\n",
       "<polyline clip-path=\"url(#clip280)\" style=\"stroke:#000000; stroke-linecap:round; stroke-linejoin:round; stroke-width:4; stroke-opacity:1; fill:none\" points=\"\n",
       "  173.503,1486.45 173.503,47.2441 \n",
       "  \"/>\n",
       "<polyline clip-path=\"url(#clip280)\" style=\"stroke:#000000; stroke-linecap:round; stroke-linejoin:round; stroke-width:4; stroke-opacity:1; fill:none\" points=\"\n",
       "  1991.09,1486.45 1991.09,47.2441 \n",
       "  \"/>\n",
       "<polyline clip-path=\"url(#clip280)\" style=\"stroke:#000000; stroke-linecap:round; stroke-linejoin:round; stroke-width:4; stroke-opacity:1; fill:none\" points=\"\n",
       "  173.503,1445.72 189.265,1445.72 \n",
       "  \"/>\n",
       "<polyline clip-path=\"url(#clip280)\" style=\"stroke:#000000; stroke-linecap:round; stroke-linejoin:round; stroke-width:4; stroke-opacity:1; fill:none\" points=\"\n",
       "  173.503,1152.45 189.265,1152.45 \n",
       "  \"/>\n",
       "<polyline clip-path=\"url(#clip280)\" style=\"stroke:#000000; stroke-linecap:round; stroke-linejoin:round; stroke-width:4; stroke-opacity:1; fill:none\" points=\"\n",
       "  173.503,859.192 189.265,859.192 \n",
       "  \"/>\n",
       "<polyline clip-path=\"url(#clip280)\" style=\"stroke:#000000; stroke-linecap:round; stroke-linejoin:round; stroke-width:4; stroke-opacity:1; fill:none\" points=\"\n",
       "  173.503,565.93 189.265,565.93 \n",
       "  \"/>\n",
       "<polyline clip-path=\"url(#clip280)\" style=\"stroke:#000000; stroke-linecap:round; stroke-linejoin:round; stroke-width:4; stroke-opacity:1; fill:none\" points=\"\n",
       "  173.503,272.668 189.265,272.668 \n",
       "  \"/>\n",
       "<polyline clip-path=\"url(#clip280)\" style=\"stroke:#000000; stroke-linecap:round; stroke-linejoin:round; stroke-width:4; stroke-opacity:1; fill:none\" points=\"\n",
       "  173.503,1387.06 181.384,1387.06 \n",
       "  \"/>\n",
       "<polyline clip-path=\"url(#clip280)\" style=\"stroke:#000000; stroke-linecap:round; stroke-linejoin:round; stroke-width:4; stroke-opacity:1; fill:none\" points=\"\n",
       "  173.503,1328.41 181.384,1328.41 \n",
       "  \"/>\n",
       "<polyline clip-path=\"url(#clip280)\" style=\"stroke:#000000; stroke-linecap:round; stroke-linejoin:round; stroke-width:4; stroke-opacity:1; fill:none\" points=\"\n",
       "  173.503,1269.76 181.384,1269.76 \n",
       "  \"/>\n",
       "<polyline clip-path=\"url(#clip280)\" style=\"stroke:#000000; stroke-linecap:round; stroke-linejoin:round; stroke-width:4; stroke-opacity:1; fill:none\" points=\"\n",
       "  173.503,1211.11 181.384,1211.11 \n",
       "  \"/>\n",
       "<polyline clip-path=\"url(#clip280)\" style=\"stroke:#000000; stroke-linecap:round; stroke-linejoin:round; stroke-width:4; stroke-opacity:1; fill:none\" points=\"\n",
       "  173.503,1093.8 181.384,1093.8 \n",
       "  \"/>\n",
       "<polyline clip-path=\"url(#clip280)\" style=\"stroke:#000000; stroke-linecap:round; stroke-linejoin:round; stroke-width:4; stroke-opacity:1; fill:none\" points=\"\n",
       "  173.503,1035.15 181.384,1035.15 \n",
       "  \"/>\n",
       "<polyline clip-path=\"url(#clip280)\" style=\"stroke:#000000; stroke-linecap:round; stroke-linejoin:round; stroke-width:4; stroke-opacity:1; fill:none\" points=\"\n",
       "  173.503,976.497 181.384,976.497 \n",
       "  \"/>\n",
       "<polyline clip-path=\"url(#clip280)\" style=\"stroke:#000000; stroke-linecap:round; stroke-linejoin:round; stroke-width:4; stroke-opacity:1; fill:none\" points=\"\n",
       "  173.503,917.844 181.384,917.844 \n",
       "  \"/>\n",
       "<polyline clip-path=\"url(#clip280)\" style=\"stroke:#000000; stroke-linecap:round; stroke-linejoin:round; stroke-width:4; stroke-opacity:1; fill:none\" points=\"\n",
       "  173.503,800.54 181.384,800.54 \n",
       "  \"/>\n",
       "<polyline clip-path=\"url(#clip280)\" style=\"stroke:#000000; stroke-linecap:round; stroke-linejoin:round; stroke-width:4; stroke-opacity:1; fill:none\" points=\"\n",
       "  173.503,741.887 181.384,741.887 \n",
       "  \"/>\n",
       "<polyline clip-path=\"url(#clip280)\" style=\"stroke:#000000; stroke-linecap:round; stroke-linejoin:round; stroke-width:4; stroke-opacity:1; fill:none\" points=\"\n",
       "  173.503,683.235 181.384,683.235 \n",
       "  \"/>\n",
       "<polyline clip-path=\"url(#clip280)\" style=\"stroke:#000000; stroke-linecap:round; stroke-linejoin:round; stroke-width:4; stroke-opacity:1; fill:none\" points=\"\n",
       "  173.503,624.583 181.384,624.583 \n",
       "  \"/>\n",
       "<polyline clip-path=\"url(#clip280)\" style=\"stroke:#000000; stroke-linecap:round; stroke-linejoin:round; stroke-width:4; stroke-opacity:1; fill:none\" points=\"\n",
       "  173.503,507.278 181.384,507.278 \n",
       "  \"/>\n",
       "<polyline clip-path=\"url(#clip280)\" style=\"stroke:#000000; stroke-linecap:round; stroke-linejoin:round; stroke-width:4; stroke-opacity:1; fill:none\" points=\"\n",
       "  173.503,448.626 181.384,448.626 \n",
       "  \"/>\n",
       "<polyline clip-path=\"url(#clip280)\" style=\"stroke:#000000; stroke-linecap:round; stroke-linejoin:round; stroke-width:4; stroke-opacity:1; fill:none\" points=\"\n",
       "  173.503,389.973 181.384,389.973 \n",
       "  \"/>\n",
       "<polyline clip-path=\"url(#clip280)\" style=\"stroke:#000000; stroke-linecap:round; stroke-linejoin:round; stroke-width:4; stroke-opacity:1; fill:none\" points=\"\n",
       "  173.503,331.321 181.384,331.321 \n",
       "  \"/>\n",
       "<polyline clip-path=\"url(#clip280)\" style=\"stroke:#000000; stroke-linecap:round; stroke-linejoin:round; stroke-width:4; stroke-opacity:1; fill:none\" points=\"\n",
       "  173.503,214.016 181.384,214.016 \n",
       "  \"/>\n",
       "<polyline clip-path=\"url(#clip280)\" style=\"stroke:#000000; stroke-linecap:round; stroke-linejoin:round; stroke-width:4; stroke-opacity:1; fill:none\" points=\"\n",
       "  173.503,155.364 181.384,155.364 \n",
       "  \"/>\n",
       "<polyline clip-path=\"url(#clip280)\" style=\"stroke:#000000; stroke-linecap:round; stroke-linejoin:round; stroke-width:4; stroke-opacity:1; fill:none\" points=\"\n",
       "  173.503,96.7114 181.384,96.7114 \n",
       "  \"/>\n",
       "<path clip-path=\"url(#clip280)\" d=\"M51.5603 1446.81 Q51.5603 1439.38 53.4378 1435.33 Q56.0563 1429.3 62.2322 1429.3 Q63.5414 1429.3 64.9001 1429.67 Q66.2835 1430.02 68.0127 1431.38 Q69.7667 1432.73 70.8289 1434.96 Q72.8546 1439.26 72.8546 1446.81 Q72.8546 1454.2 70.9771 1458.23 Q68.2351 1464.11 62.1827 1464.11 Q59.91 1464.11 57.5879 1462.95 Q55.2905 1461.79 53.833 1458.99 Q51.5603 1454.82 51.5603 1446.81 M55.7599 1446.2 Q55.7599 1453.83 56.3033 1456.87 Q56.9209 1460.15 58.6008 1461.59 Q60.3053 1463 62.1827 1463 Q64.2084 1463 65.8883 1461.49 Q67.5928 1459.96 68.1116 1456.67 Q68.6797 1453.44 68.655 1446.2 Q68.655 1439.16 68.161 1436.34 Q67.494 1433.06 65.7153 1431.75 Q63.9614 1430.41 62.1827 1430.41 Q61.5158 1430.41 60.7994 1430.61 Q60.1077 1430.81 59.0948 1431.38 Q58.082 1431.94 57.2915 1433.35 Q56.5257 1434.76 56.1551 1436.88 Q55.7599 1439.63 55.7599 1446.2 Z\" fill=\"#000000\" fill-rule=\"evenodd\" fill-opacity=\"1\" /><path clip-path=\"url(#clip280)\" d=\"M79.9445 1462.18 Q79.1787 1461.37 79.1787 1460.3 Q79.1787 1459.24 79.9445 1458.47 Q80.7103 1457.68 81.8713 1457.68 Q82.983 1457.68 83.7241 1458.43 Q84.4899 1459.14 84.4899 1460.33 Q84.4899 1461.49 83.6747 1462.25 Q82.8842 1463 81.8713 1463 Q80.7103 1463 79.9445 1462.18 Z\" fill=\"#000000\" fill-rule=\"evenodd\" fill-opacity=\"1\" /><path clip-path=\"url(#clip280)\" d=\"M90.9128 1446.81 Q90.9128 1439.38 92.7902 1435.33 Q95.4088 1429.3 101.585 1429.3 Q102.894 1429.3 104.253 1429.67 Q105.636 1430.02 107.365 1431.38 Q109.119 1432.73 110.181 1434.96 Q112.207 1439.26 112.207 1446.81 Q112.207 1454.2 110.33 1458.23 Q107.588 1464.11 101.535 1464.11 Q99.2625 1464.11 96.9404 1462.95 Q94.643 1461.79 93.1855 1458.99 Q90.9128 1454.82 90.9128 1446.81 M95.1123 1446.2 Q95.1123 1453.83 95.6558 1456.87 Q96.2734 1460.15 97.9532 1461.59 Q99.6577 1463 101.535 1463 Q103.561 1463 105.241 1461.49 Q106.945 1459.96 107.464 1456.67 Q108.032 1453.44 108.007 1446.2 Q108.007 1439.16 107.513 1436.34 Q106.846 1433.06 105.068 1431.75 Q103.314 1430.41 101.535 1430.41 Q100.868 1430.41 100.152 1430.61 Q99.4601 1430.81 98.4473 1431.38 Q97.4344 1431.94 96.6439 1433.35 Q95.8781 1434.76 95.5076 1436.88 Q95.1123 1439.63 95.1123 1446.2 Z\" fill=\"#000000\" fill-rule=\"evenodd\" fill-opacity=\"1\" /><path clip-path=\"url(#clip280)\" d=\"M116.209 1446.81 Q116.209 1439.38 118.086 1435.33 Q120.705 1429.3 126.881 1429.3 Q128.19 1429.3 129.549 1429.67 Q130.932 1430.02 132.661 1431.38 Q134.415 1432.73 135.478 1434.96 Q137.503 1439.26 137.503 1446.81 Q137.503 1454.2 135.626 1458.23 Q132.884 1464.11 126.831 1464.11 Q124.559 1464.11 122.237 1462.95 Q119.939 1461.79 118.482 1458.99 Q116.209 1454.82 116.209 1446.81 M120.409 1446.2 Q120.409 1453.83 120.952 1456.87 Q121.57 1460.15 123.249 1461.59 Q124.954 1463 126.831 1463 Q128.857 1463 130.537 1461.49 Q132.241 1459.96 132.76 1456.67 Q133.328 1453.44 133.304 1446.2 Q133.304 1439.16 132.81 1436.34 Q132.143 1433.06 130.364 1431.75 Q128.61 1430.41 126.831 1430.41 Q126.164 1430.41 125.448 1430.61 Q124.756 1430.81 123.744 1431.38 Q122.731 1431.94 121.94 1433.35 Q121.174 1434.76 120.804 1436.88 Q120.409 1439.63 120.409 1446.2 Z\" fill=\"#000000\" fill-rule=\"evenodd\" fill-opacity=\"1\" /><path clip-path=\"url(#clip280)\" d=\"M53.6354 1153.55 Q53.6354 1146.12 55.5128 1142.07 Q58.1314 1136.04 64.3072 1136.04 Q65.6165 1136.04 66.9752 1136.41 Q68.3586 1136.75 70.0878 1138.11 Q71.8418 1139.47 72.904 1141.7 Q74.9297 1145.99 74.9297 1153.55 Q74.9297 1160.94 73.0522 1164.97 Q70.3102 1170.85 64.2578 1170.85 Q61.9851 1170.85 59.663 1169.68 Q57.3656 1168.52 55.9081 1165.73 Q53.6354 1161.56 53.6354 1153.55 M57.835 1152.94 Q57.835 1160.57 58.3784 1163.61 Q58.996 1166.89 60.6758 1168.33 Q62.3804 1169.73 64.2578 1169.73 Q66.2835 1169.73 67.9633 1168.23 Q69.6679 1166.7 70.1866 1163.41 Q70.7548 1160.17 70.7301 1152.94 Q70.7301 1145.9 70.236 1143.08 Q69.5691 1139.79 67.7904 1138.48 Q66.0365 1137.15 64.2578 1137.15 Q63.5908 1137.15 62.8744 1137.35 Q62.1827 1137.55 61.1699 1138.11 Q60.1571 1138.68 59.3666 1140.09 Q58.6008 1141.5 58.2302 1143.62 Q57.835 1146.36 57.835 1152.94 Z\" fill=\"#000000\" fill-rule=\"evenodd\" fill-opacity=\"1\" /><path clip-path=\"url(#clip280)\" d=\"M82.0195 1168.92 Q81.2537 1168.1 81.2537 1167.04 Q81.2537 1165.98 82.0195 1165.21 Q82.7853 1164.42 83.9464 1164.42 Q85.0581 1164.42 85.7992 1165.16 Q86.565 1165.88 86.565 1167.07 Q86.565 1168.23 85.7498 1168.99 Q84.9592 1169.73 83.9464 1169.73 Q82.7853 1169.73 82.0195 1168.92 Z\" fill=\"#000000\" fill-rule=\"evenodd\" fill-opacity=\"1\" /><path clip-path=\"url(#clip280)\" d=\"M92.9878 1153.55 Q92.9878 1146.12 94.8653 1142.07 Q97.4838 1136.04 103.66 1136.04 Q104.969 1136.04 106.328 1136.41 Q107.711 1136.75 109.44 1138.11 Q111.194 1139.47 112.256 1141.7 Q114.282 1145.99 114.282 1153.55 Q114.282 1160.94 112.405 1164.97 Q109.663 1170.85 103.61 1170.85 Q101.338 1170.85 99.0155 1169.68 Q96.718 1168.52 95.2605 1165.73 Q92.9878 1161.56 92.9878 1153.55 M97.1874 1152.94 Q97.1874 1160.57 97.7309 1163.61 Q98.3485 1166.89 100.028 1168.33 Q101.733 1169.73 103.61 1169.73 Q105.636 1169.73 107.316 1168.23 Q109.02 1166.7 109.539 1163.41 Q110.107 1160.17 110.083 1152.94 Q110.083 1145.9 109.588 1143.08 Q108.922 1139.79 107.143 1138.48 Q105.389 1137.15 103.61 1137.15 Q102.943 1137.15 102.227 1137.35 Q101.535 1137.55 100.522 1138.11 Q99.5095 1138.68 98.719 1140.09 Q97.9532 1141.5 97.5827 1143.62 Q97.1874 1146.36 97.1874 1152.94 Z\" fill=\"#000000\" fill-rule=\"evenodd\" fill-opacity=\"1\" /><path clip-path=\"url(#clip280)\" d=\"M120.804 1140.86 L120.804 1139.27 Q126.881 1139.27 130.018 1136.04 Q130.883 1136.04 131.031 1136.24 Q131.179 1136.43 131.179 1137.35 L131.179 1165.73 Q131.179 1167.24 131.92 1167.71 Q132.661 1168.18 135.898 1168.18 L137.503 1168.18 L137.503 1169.73 Q135.725 1169.59 129.302 1169.59 Q122.879 1169.59 121.125 1169.73 L121.125 1168.18 L122.731 1168.18 Q125.917 1168.18 126.683 1167.73 Q127.449 1167.26 127.449 1165.73 L127.449 1139.52 Q124.806 1140.86 120.804 1140.86 Z\" fill=\"#000000\" fill-rule=\"evenodd\" fill-opacity=\"1\" /><path clip-path=\"url(#clip280)\" d=\"M52.1038 860.291 Q52.1038 852.856 53.9812 848.804 Q56.5998 842.777 62.7756 842.777 Q64.0849 842.777 65.4436 843.147 Q66.827 843.493 68.5562 844.852 Q70.3102 846.21 71.3724 848.434 Q73.3981 852.732 73.3981 860.291 Q73.3981 867.678 71.5206 871.704 Q68.7785 877.584 62.7262 877.584 Q60.4535 877.584 58.1314 876.423 Q55.834 875.262 54.3765 872.47 Q52.1038 868.295 52.1038 860.291 M56.3033 859.674 Q56.3033 867.307 56.8468 870.346 Q57.4644 873.631 59.1442 875.064 Q60.8488 876.472 62.7262 876.472 Q64.7519 876.472 66.4317 874.965 Q68.1363 873.434 68.655 870.148 Q69.2232 866.912 69.1985 859.674 Q69.1985 852.633 68.7044 849.817 Q68.0374 846.532 66.2588 845.222 Q64.5049 843.888 62.7262 843.888 Q62.0592 843.888 61.3428 844.086 Q60.6511 844.284 59.6383 844.852 Q58.6255 845.42 57.835 846.828 Q57.0692 848.236 56.6986 850.361 Q56.3033 853.103 56.3033 859.674 Z\" fill=\"#000000\" fill-rule=\"evenodd\" fill-opacity=\"1\" /><path clip-path=\"url(#clip280)\" d=\"M80.4879 875.657 Q79.7221 874.842 79.7221 873.779 Q79.7221 872.717 80.4879 871.951 Q81.2537 871.161 82.4148 871.161 Q83.5265 871.161 84.2676 871.902 Q85.0334 872.618 85.0334 873.804 Q85.0334 874.965 84.2181 875.731 Q83.4276 876.472 82.4148 876.472 Q81.2537 876.472 80.4879 875.657 Z\" fill=\"#000000\" fill-rule=\"evenodd\" fill-opacity=\"1\" /><path clip-path=\"url(#clip280)\" d=\"M91.4562 860.291 Q91.4562 852.856 93.3337 848.804 Q95.9522 842.777 102.128 842.777 Q103.437 842.777 104.796 843.147 Q106.179 843.493 107.909 844.852 Q109.663 846.21 110.725 848.434 Q112.751 852.732 112.751 860.291 Q112.751 867.678 110.873 871.704 Q108.131 877.584 102.079 877.584 Q99.806 877.584 97.4838 876.423 Q95.1864 875.262 93.7289 872.47 Q91.4562 868.295 91.4562 860.291 M95.6558 859.674 Q95.6558 867.307 96.1993 870.346 Q96.8169 873.631 98.4967 875.064 Q100.201 876.472 102.079 876.472 Q104.104 876.472 105.784 874.965 Q107.489 873.434 108.007 870.148 Q108.576 866.912 108.551 859.674 Q108.551 852.633 108.057 849.817 Q107.39 846.532 105.611 845.222 Q103.857 843.888 102.079 843.888 Q101.412 843.888 100.695 844.086 Q100.004 844.284 98.9908 844.852 Q97.9779 845.42 97.1874 846.828 Q96.4216 848.236 96.0511 850.361 Q95.6558 853.103 95.6558 859.674 Z\" fill=\"#000000\" fill-rule=\"evenodd\" fill-opacity=\"1\" /><path clip-path=\"url(#clip280)\" d=\"M117.296 876.472 Q117.296 875.558 117.37 875.286 Q117.469 875.015 117.864 874.595 L127.573 863.775 Q132.884 857.796 132.884 852.584 Q132.884 849.2 131.105 846.779 Q129.351 844.358 126.115 844.358 Q123.892 844.358 122.014 845.716 Q120.137 847.075 119.272 849.496 Q119.42 849.447 119.939 849.447 Q121.199 849.447 121.891 850.237 Q122.607 851.028 122.607 852.09 Q122.607 853.449 121.718 854.116 Q120.853 854.758 119.989 854.758 Q119.643 854.758 119.173 854.684 Q118.729 854.61 118.012 853.918 Q117.296 853.202 117.296 851.942 Q117.296 848.409 119.964 845.593 Q122.657 842.777 126.757 842.777 Q131.402 842.777 134.44 845.543 Q137.503 848.286 137.503 852.584 Q137.503 854.091 137.034 855.474 Q136.589 856.833 135.972 857.895 Q135.379 858.957 133.748 860.662 Q132.118 862.366 130.809 863.577 Q129.499 864.787 126.56 867.357 L121.199 872.569 L130.315 872.569 Q134.761 872.569 135.107 872.174 Q135.601 871.457 136.219 867.678 L137.503 867.678 L136.07 876.472 L117.296 876.472 Z\" fill=\"#000000\" fill-rule=\"evenodd\" fill-opacity=\"1\" /><path clip-path=\"url(#clip280)\" d=\"M51.7085 567.03 Q51.7085 559.594 53.586 555.543 Q56.2045 549.515 62.3804 549.515 Q63.6897 549.515 65.0483 549.885 Q66.4317 550.231 68.161 551.59 Q69.9149 552.949 70.9771 555.172 Q73.0028 559.47 73.0028 567.03 Q73.0028 574.416 71.1254 578.443 Q68.3833 584.322 62.331 584.322 Q60.0583 584.322 57.7361 583.161 Q55.4387 582 53.9812 579.208 Q51.7085 575.033 51.7085 567.03 M55.9081 566.412 Q55.9081 574.045 56.4516 577.084 Q57.0692 580.369 58.749 581.802 Q60.4535 583.21 62.331 583.21 Q64.3566 583.21 66.0365 581.703 Q67.741 580.172 68.2598 576.886 Q68.828 573.65 68.8032 566.412 Q68.8032 559.372 68.3092 556.555 Q67.6422 553.27 65.8635 551.961 Q64.1096 550.627 62.331 550.627 Q61.664 550.627 60.9476 550.824 Q60.2559 551.022 59.243 551.59 Q58.2302 552.158 57.4397 553.566 Q56.6739 554.974 56.3033 557.099 Q55.9081 559.841 55.9081 566.412 Z\" fill=\"#000000\" fill-rule=\"evenodd\" fill-opacity=\"1\" /><path clip-path=\"url(#clip280)\" d=\"M80.0927 582.395 Q79.3269 581.58 79.3269 580.518 Q79.3269 579.455 80.0927 578.69 Q80.8585 577.899 82.0195 577.899 Q83.1312 577.899 83.8723 578.64 Q84.6381 579.357 84.6381 580.542 Q84.6381 581.703 83.8229 582.469 Q83.0324 583.21 82.0195 583.21 Q80.8585 583.21 80.0927 582.395 Z\" fill=\"#000000\" fill-rule=\"evenodd\" fill-opacity=\"1\" /><path clip-path=\"url(#clip280)\" d=\"M91.061 567.03 Q91.061 559.594 92.9384 555.543 Q95.557 549.515 101.733 549.515 Q103.042 549.515 104.401 549.885 Q105.784 550.231 107.513 551.59 Q109.267 552.949 110.33 555.172 Q112.355 559.47 112.355 567.03 Q112.355 574.416 110.478 578.443 Q107.736 584.322 101.683 584.322 Q99.4107 584.322 97.0886 583.161 Q94.7912 582 93.3337 579.208 Q91.061 575.033 91.061 567.03 M95.2605 566.412 Q95.2605 574.045 95.804 577.084 Q96.4216 580.369 98.1014 581.802 Q99.806 583.21 101.683 583.21 Q103.709 583.21 105.389 581.703 Q107.093 580.172 107.612 576.886 Q108.18 573.65 108.156 566.412 Q108.156 559.372 107.662 556.555 Q106.995 553.27 105.216 551.961 Q103.462 550.627 101.683 550.627 Q101.016 550.627 100.3 550.824 Q99.6083 551.022 98.5955 551.59 Q97.5827 552.158 96.7922 553.566 Q96.0264 554.974 95.6558 557.099 Q95.2605 559.841 95.2605 566.412 Z\" fill=\"#000000\" fill-rule=\"evenodd\" fill-opacity=\"1\" /><path clip-path=\"url(#clip280)\" d=\"M116.505 576.392 Q116.505 574.885 117.37 574.169 Q118.235 573.452 119.346 573.452 Q120.507 573.452 121.323 574.218 Q122.163 574.959 122.163 576.269 Q122.163 577.677 121.174 578.467 Q120.211 579.258 118.828 579.06 Q120.038 581.086 122.261 582 Q124.509 582.914 126.584 582.914 Q128.758 582.914 130.512 581.036 Q132.291 579.159 132.291 574.564 Q132.291 570.661 130.759 568.413 Q129.252 566.165 126.263 566.165 L124.04 566.165 Q123.274 566.165 123.052 566.091 Q122.829 566.017 122.829 565.597 Q122.829 565.103 123.595 565.004 Q124.361 565.004 125.572 564.856 Q128.511 564.757 130.068 562.212 Q131.476 559.841 131.476 556.457 Q131.476 553.369 129.993 552.084 Q128.536 550.775 126.634 550.775 Q124.855 550.775 122.904 551.516 Q120.952 552.257 119.89 553.912 Q123.027 553.912 123.027 556.457 Q123.027 557.568 122.311 558.309 Q121.619 559.026 120.458 559.026 Q119.346 559.026 118.605 558.334 Q117.864 557.618 117.864 556.407 Q117.864 553.517 120.433 551.516 Q123.027 549.515 126.831 549.515 Q130.586 549.515 133.353 551.491 Q136.145 553.467 136.145 556.506 Q136.145 559.495 134.168 561.941 Q132.192 564.386 129.055 565.399 Q132.908 566.165 135.206 568.784 Q137.503 571.377 137.503 574.564 Q137.503 578.517 134.391 581.432 Q131.278 584.322 126.733 584.322 Q122.533 584.322 119.519 582.049 Q116.505 579.777 116.505 576.392 Z\" fill=\"#000000\" fill-rule=\"evenodd\" fill-opacity=\"1\" /><path clip-path=\"url(#clip280)\" d=\"M50.9921 273.768 Q50.9921 266.332 52.8696 262.281 Q55.4881 256.253 61.664 256.253 Q62.9733 256.253 64.3319 256.624 Q65.7153 256.969 67.4446 258.328 Q69.1985 259.687 70.2607 261.91 Q72.2864 266.209 72.2864 273.768 Q72.2864 281.154 70.409 285.181 Q67.6669 291.06 61.6146 291.06 Q59.3419 291.06 57.0197 289.899 Q54.7223 288.738 53.2648 285.947 Q50.9921 281.772 50.9921 273.768 M55.1917 273.15 Q55.1917 280.784 55.7352 283.822 Q56.3528 287.108 58.0326 288.54 Q59.7371 289.948 61.6146 289.948 Q63.6402 289.948 65.3201 288.442 Q67.0246 286.91 67.5434 283.624 Q68.1116 280.388 68.0869 273.15 Q68.0869 266.11 67.5928 263.294 Q66.9258 260.008 65.1472 258.699 Q63.3932 257.365 61.6146 257.365 Q60.9476 257.365 60.2312 257.562 Q59.5395 257.76 58.5267 258.328 Q57.5138 258.896 56.7233 260.304 Q55.9575 261.713 55.587 263.837 Q55.1917 266.579 55.1917 273.15 Z\" fill=\"#000000\" fill-rule=\"evenodd\" fill-opacity=\"1\" /><path clip-path=\"url(#clip280)\" d=\"M79.3763 289.133 Q78.6105 288.318 78.6105 287.256 Q78.6105 286.194 79.3763 285.428 Q80.1421 284.637 81.3031 284.637 Q82.4148 284.637 83.1559 285.378 Q83.9217 286.095 83.9217 287.281 Q83.9217 288.442 83.1065 289.207 Q82.316 289.948 81.3031 289.948 Q80.1421 289.948 79.3763 289.133 Z\" fill=\"#000000\" fill-rule=\"evenodd\" fill-opacity=\"1\" /><path clip-path=\"url(#clip280)\" d=\"M90.3446 273.768 Q90.3446 266.332 92.222 262.281 Q94.8406 256.253 101.016 256.253 Q102.326 256.253 103.684 256.624 Q105.068 256.969 106.797 258.328 Q108.551 259.687 109.613 261.91 Q111.639 266.209 111.639 273.768 Q111.639 281.154 109.761 285.181 Q107.019 291.06 100.967 291.06 Q98.6943 291.06 96.3722 289.899 Q94.0748 288.738 92.6173 285.947 Q90.3446 281.772 90.3446 273.768 M94.5441 273.15 Q94.5441 280.784 95.0876 283.822 Q95.7052 287.108 97.385 288.54 Q99.0896 289.948 100.967 289.948 Q102.993 289.948 104.673 288.442 Q106.377 286.91 106.896 283.624 Q107.464 280.388 107.439 273.15 Q107.439 266.11 106.945 263.294 Q106.278 260.008 104.5 258.699 Q102.746 257.365 100.967 257.365 Q100.3 257.365 99.5836 257.562 Q98.8919 257.76 97.8791 258.328 Q96.8663 258.896 96.0758 260.304 Q95.31 261.713 94.9394 263.837 Q94.5441 266.579 94.5441 273.15 Z\" fill=\"#000000\" fill-rule=\"evenodd\" fill-opacity=\"1\" /><path clip-path=\"url(#clip280)\" d=\"M115.073 281.599 L115.073 280.042 L130.611 256.302 Q131.006 255.685 131.624 255.71 Q132.192 255.71 132.316 255.932 Q132.439 256.154 132.439 257.019 L132.439 280.042 L137.503 280.042 L137.503 281.599 L132.439 281.599 L132.439 285.996 Q132.439 287.453 133.032 287.923 Q133.65 288.392 136.268 288.392 L137.33 288.392 L137.33 289.948 Q135.255 289.8 130.463 289.8 Q125.695 289.8 123.62 289.948 L123.62 288.392 L124.682 288.392 Q127.301 288.392 127.918 287.947 Q128.536 287.478 128.536 285.996 L128.536 281.599 L115.073 281.599 M116.505 280.042 L128.832 280.042 L128.832 261.169 L116.505 280.042 Z\" fill=\"#000000\" fill-rule=\"evenodd\" fill-opacity=\"1\" /><polyline clip-path=\"url(#clip282)\" style=\"stroke:#d77255; stroke-linecap:round; stroke-linejoin:round; stroke-width:5.6; stroke-opacity:1; fill:none\" points=\"\n",
       "  224.944,1445.72 259.238,1407.11 293.532,1368.54 327.827,1330.05 362.121,1291.68 396.415,1253.46 430.709,1215.43 465.003,1177.64 499.297,1140.1 533.591,1102.87 \n",
       "  567.885,1065.98 602.179,1029.45 636.473,993.326 670.767,957.634 705.061,922.405 739.355,887.668 773.649,853.448 807.943,819.773 842.237,786.665 876.531,754.148 \n",
       "  910.825,722.242 945.119,690.967 979.413,660.34 1013.71,630.376 1048,601.091 1082.3,572.496 1116.59,544.603 1150.88,517.421 1185.18,490.956 1219.47,465.216 \n",
       "  1253.77,440.204 1288.06,415.924 1322.35,392.377 1356.65,369.563 1390.94,347.48 1425.24,326.126 1459.53,305.496 1493.82,285.586 1528.12,266.388 1562.41,247.896 \n",
       "  1596.71,230.101 1631,212.993 1665.29,196.562 1699.59,180.797 1733.88,165.685 1768.18,151.214 1802.47,137.369 1836.76,124.139 1871.06,111.506 1905.35,99.4572 \n",
       "  1939.65,87.9763 \n",
       "  \"/>\n",
       "<path clip-path=\"url(#clip280)\" d=\"\n",
       "M2063.73 198.898 L2352.76 198.898 L2352.76 95.2176 L2063.73 95.2176  Z\n",
       "  \" fill=\"#ffffff\" fill-rule=\"evenodd\" fill-opacity=\"1\"/>\n",
       "<polyline clip-path=\"url(#clip280)\" style=\"stroke:#000000; stroke-linecap:round; stroke-linejoin:round; stroke-width:4; stroke-opacity:1; fill:none\" points=\"\n",
       "  2063.73,198.898 2352.76,198.898 2352.76,95.2176 2063.73,95.2176 2063.73,198.898 \n",
       "  \"/>\n",
       "<polyline clip-path=\"url(#clip280)\" style=\"stroke:#d77255; stroke-linecap:round; stroke-linejoin:round; stroke-width:4; stroke-opacity:1; fill:none\" points=\"\n",
       "  2087.94,147.058 2233.23,147.058 \n",
       "  \"/>\n",
       "<path clip-path=\"url(#clip280)\" d=\"M2257.44 170.612 Q2257.44 169.55 2258.06 168.982 Q2258.7 168.438 2259.57 168.438 Q2260.48 168.438 2261.07 169.006 Q2261.69 169.599 2261.69 170.563 Q2261.69 172.44 2259.71 172.687 Q2260.68 173.601 2262.09 173.601 Q2263.59 173.601 2264.8 172.49 Q2266.04 171.378 2266.56 170.316 Q2267.1 169.254 2267.87 167.327 Q2268.58 165.82 2269.13 164.338 L2261.54 145.859 Q2261.05 144.649 2260.28 144.377 Q2259.52 144.106 2257.44 144.106 L2257.44 142.524 Q2259.71 142.673 2262.36 142.673 Q2263.91 142.673 2267.87 142.524 L2267.87 144.106 Q2265.03 144.106 2265.03 145.415 Q2265.03 145.563 2265.32 146.329 L2270.95 159.94 L2276.07 147.49 Q2276.36 146.773 2276.36 146.279 Q2276.36 144.204 2273.99 144.106 L2273.99 142.524 Q2277.33 142.673 2278.39 142.673 Q2280.46 142.673 2282.17 142.524 L2282.17 144.106 Q2278.78 144.106 2277.48 147.342 L2268.56 168.932 Q2266.14 174.688 2262.09 174.713 Q2260.16 174.713 2258.8 173.527 Q2257.44 172.341 2257.44 170.612 Z\" fill=\"#000000\" fill-rule=\"evenodd\" fill-opacity=\"1\" /><path clip-path=\"url(#clip280)\" d=\"M2287.63 135.459 L2287.63 133.878 Q2293.71 133.878 2296.84 130.642 Q2297.71 130.642 2297.86 130.84 Q2298 131.037 2298 131.951 L2298 160.336 Q2298 161.843 2298.75 162.312 Q2299.49 162.781 2302.72 162.781 L2304.33 162.781 L2304.33 164.338 Q2302.55 164.189 2296.13 164.189 Q2289.7 164.189 2287.95 164.338 L2287.95 162.781 L2289.56 162.781 Q2292.74 162.781 2293.51 162.337 Q2294.27 161.867 2294.27 160.336 L2294.27 134.125 Q2291.63 135.459 2287.63 135.459 Z\" fill=\"#000000\" fill-rule=\"evenodd\" fill-opacity=\"1\" /></svg>\n"
      ]
     },
     "metadata": {},
     "output_type": "display_data"
    }
   ],
   "source": [
    "plot(0:0.02:1,imag.((x->complex(ψNN(x,0.0)...)).(0:0.02:1)))"
   ]
  },
  {
   "cell_type": "code",
   "execution_count": 14,
   "metadata": {},
   "outputs": [],
   "source": []
  }
 ],
 "metadata": {
  "kernelspec": {
   "display_name": "Julia 1.8.2",
   "language": "julia",
   "name": "julia-1.8"
  },
  "language_info": {
   "file_extension": ".jl",
   "mimetype": "application/julia",
   "name": "julia",
   "version": "1.8.2"
  },
  "orig_nbformat": 4,
  "vscode": {
   "interpreter": {
    "hash": "1a1af0ee75eeea9e2e1ee996c87e7a2b11a0bebd85af04bb136d915cefc0abce"
   }
  }
 },
 "nbformat": 4,
 "nbformat_minor": 2
}
