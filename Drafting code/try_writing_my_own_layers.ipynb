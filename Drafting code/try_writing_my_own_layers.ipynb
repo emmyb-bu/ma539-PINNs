{
 "cells": [
  {
   "cell_type": "code",
   "execution_count": 1,
   "metadata": {},
   "outputs": [],
   "source": [
    "using ForwardDiff, LinearAlgebra, Random, Statistics\n",
    "const FD = ForwardDiff;"
   ]
  },
  {
   "cell_type": "code",
   "execution_count": 2,
   "metadata": {},
   "outputs": [
    {
     "data": {
      "text/plain": [
       "relu (generic function with 1 method)"
      ]
     },
     "execution_count": 2,
     "metadata": {},
     "output_type": "execute_result"
    }
   ],
   "source": [
    "relu(x) = x>0 ? x : 0"
   ]
  },
  {
   "cell_type": "code",
   "execution_count": 3,
   "metadata": {},
   "outputs": [],
   "source": [
    "nnLayer(x,W,b,σ) = σ.(reshape(W,(size(b,1),:))*x .+ b)\n",
    "\n",
    "function getRandomParams(layerStructure)\n",
    "    nParams = sum(X[1][1]*X[1][2]+X[1][2] for X in layerStructure);\n",
    "    return randn(nParams)\n",
    "end\n",
    "\n",
    "function neuralNet(x,layerStructure,params)\n",
    "    X = x;\n",
    "    n = 1;\n",
    "    for (layer, σ) in layerStructure\n",
    "        X = nnLayer(X,params[n:(n-1+layer[1]*layer[2])],params[(n+layer[1]*layer[2]) : (n-1+layer[1]*layer[2]+layer[2])],σ)\n",
    "        n += layer[1]*layer[2]+layer[2];\n",
    "    end\n",
    "    return X\n",
    "end\n",
    "\n",
    "layerStructure = [\n",
    "    (2 => 40,tanh),\n",
    "    (40 => 40,tanh),\n",
    "    # (40 => 40,tanh),\n",
    "    # (40 => 40,tanh),\n",
    "    # (40 => 40,tanh),\n",
    "    (40 => 2,identity) # Re, Im\n",
    "];\n",
    "\n",
    "ψmodel(xt,params) = neuralNet(xt,layerStructure,params);\n",
    "initParams = getRandomParams(layerStructure);"
   ]
  },
  {
   "cell_type": "code",
   "execution_count": 5,
   "metadata": {},
   "outputs": [
    {
     "data": {
      "text/plain": [
       "Vector{Tuple{Pair{Int64, Int64}, Function}}\u001b[90m (alias for \u001b[39m\u001b[90mArray{Tuple{Pair{Int64, Int64}, Function}, 1}\u001b[39m\u001b[90m)\u001b[39m"
      ]
     },
     "execution_count": 5,
     "metadata": {},
     "output_type": "execute_result"
    }
   ],
   "source": [
    "layerStructure |> typeof"
   ]
  },
  {
   "cell_type": "code",
   "execution_count": 484,
   "metadata": {},
   "outputs": [
    {
     "data": {
      "text/plain": [
       "2×10 Matrix{Float64}:\n",
       " 0.0268331  0.0645446  0.222067   0.182439  …  0.938917  0.85872  -0.547609\n",
       " 0.187715   1.27266    1.12085   -3.42391      0.923609  0.916    -0.727696"
      ]
     },
     "metadata": {},
     "output_type": "display_data"
    }
   ],
   "source": [
    "test = randn(2,10)"
   ]
  },
  {
   "cell_type": "code",
   "execution_count": 485,
   "metadata": {},
   "outputs": [
    {
     "data": {
      "text/plain": [
       "2×10 Matrix{Float64}:\n",
       " 3.55271e-15   1.77636e-15  -3.55271e-15  …   1.77636e-15  -8.88178e-16\n",
       " 1.77636e-15  -1.77636e-15   0.0             -1.77636e-15   3.55271e-15"
      ]
     },
     "metadata": {},
     "output_type": "display_data"
    }
   ],
   "source": [
    "hcat([ψmodel(X,initParams) for X in eachcol(test)]...) .- ψmodel(test,initParams)"
   ]
  },
  {
   "cell_type": "code",
   "execution_count": 486,
   "metadata": {},
   "outputs": [],
   "source": [
    "using Zygote"
   ]
  },
  {
   "cell_type": "code",
   "execution_count": 487,
   "metadata": {},
   "outputs": [
    {
     "data": {
      "text/plain": [
       "2×10 Matrix{Float64}:\n",
       " -2.24123  5.51409  -8.94528  -6.82338  …  -7.23743   7.10879  4.48273\n",
       "  3.00394  3.21835  -6.26823  -1.47565     -3.11407  -7.9877   2.24781"
      ]
     },
     "metadata": {},
     "output_type": "display_data"
    }
   ],
   "source": [
    "ψmodel(randn(2,10),initParams)\n"
   ]
  },
  {
   "cell_type": "code",
   "execution_count": 488,
   "metadata": {},
   "outputs": [],
   "source": []
  },
  {
   "cell_type": "markdown",
   "metadata": {},
   "source": [
    "Let $E$ be some units of energy. The dimension-less Schrodinger equation is:\n",
    "$$\n",
    "i \\frac{\\partial \\psi}{\\partial \\tau} = -\\frac{1}{2} \\frac{\\partial^2\\psi}{\\partial \\xi^2} + (V(\\beta\\xi)/E)\\psi\n",
    "\\\\\n",
    "\\beta = \\frac{\\hbar}{\\sqrt{m E}}\n",
    "\\\\\n",
    "x = \\beta \\xi\n",
    "\\\\\n",
    "t = \\frac{\\hbar}{E} \\tau\n",
    "$$"
   ]
  },
  {
   "cell_type": "code",
   "execution_count": 489,
   "metadata": {},
   "outputs": [
    {
     "ename": "MethodError",
     "evalue": "MethodError: no method matching +(::Transpose{Float64, Vector{Float64}}, ::Float64)\nFor element-wise addition, use broadcasting with dot syntax: array .+ scalar\nClosest candidates are:\n  +(::Any, ::Any, !Matched::Any, !Matched::Any...) at operators.jl:591\n  +(!Matched::T, ::T) where T<:Union{Float16, Float32, Float64} at float.jl:383\n  +(!Matched::Base.TwicePrecision, ::Number) at twiceprecision.jl:290\n  ...",
     "output_type": "error",
     "traceback": [
      "MethodError: no method matching +(::Transpose{Float64, Vector{Float64}}, ::Float64)\n",
      "For element-wise addition, use broadcasting with dot syntax: array .+ scalar\n",
      "Closest candidates are:\n",
      "  +(::Any, ::Any, !Matched::Any, !Matched::Any...) at operators.jl:591\n",
      "  +(!Matched::T, ::T) where T<:Union{Float16, Float32, Float64} at float.jl:383\n",
      "  +(!Matched::Base.TwicePrecision, ::Number) at twiceprecision.jl:290\n",
      "  ...\n",
      "\n",
      "Stacktrace:\n",
      "  [1] _broadcast_getindex_evalf\n",
      "    @ ./broadcast.jl:670 [inlined]\n",
      "  [2] _broadcast_getindex\n",
      "    @ ./broadcast.jl:643 [inlined]\n",
      "  [3] _getindex\n",
      "    @ ./broadcast.jl:667 [inlined]\n",
      "  [4] _broadcast_getindex\n",
      "    @ ./broadcast.jl:642 [inlined]\n",
      "  [5] getindex\n",
      "    @ ./broadcast.jl:597 [inlined]\n",
      "  [6] copy\n",
      "    @ ./broadcast.jl:899 [inlined]\n",
      "  [7] materialize(bc::Base.Broadcast.Broadcasted{Base.Broadcast.DefaultArrayStyle{2}, Nothing, typeof(tanh), Tuple{Base.Broadcast.Broadcasted{Base.Broadcast.DefaultArrayStyle{2}, Nothing, typeof(+), Tuple{Matrix{Transpose{Float64, Vector{Float64}}}, Vector{Float64}}}}})\n",
      "    @ Base.Broadcast ./broadcast.jl:860\n",
      "  [8] nnLayer(x::Transpose{Transpose{Float64, SubArray{Float64, 1, Matrix{Float64}, Tuple{Int64, Base.Slice{Base.OneTo{Int64}}}, true}}, Matrix{SubArray{Float64, 1, Matrix{Float64}, Tuple{Int64, Base.Slice{Base.OneTo{Int64}}}, true}}}, W::Vector{Float64}, b::Vector{Float64}, σ::Function)\n",
      "    @ Main ~/Documents/GitHub/ma539-PINNs/Drafting code/try_writing_my_own_layers.ipynb:1\n",
      "  [9] neuralNet(x::Transpose{Transpose{Float64, SubArray{Float64, 1, Matrix{Float64}, Tuple{Int64, Base.Slice{Base.OneTo{Int64}}}, true}}, Matrix{SubArray{Float64, 1, Matrix{Float64}, Tuple{Int64, Base.Slice{Base.OneTo{Int64}}}, true}}}, layerStructure::Vector{Tuple{Pair{Int64, Int64}, Function}}, params::Vector{Float64})\n",
      "    @ Main ~/Documents/GitHub/ma539-PINNs/Drafting code/try_writing_my_own_layers.ipynb:12\n",
      " [10] ψmodel(xt::Transpose{Transpose{Float64, SubArray{Float64, 1, Matrix{Float64}, Tuple{Int64, Base.Slice{Base.OneTo{Int64}}}, true}}, Matrix{SubArray{Float64, 1, Matrix{Float64}, Tuple{Int64, Base.Slice{Base.OneTo{Int64}}}, true}}}, params::Vector{Float64})\n",
      "    @ Main ~/Documents/GitHub/ma539-PINNs/Drafting code/try_writing_my_own_layers.ipynb:27\n",
      " [11] top-level scope\n",
      "    @ ~/Documents/GitHub/ma539-PINNs/Drafting code/try_writing_my_own_layers.ipynb:1"
     ]
    }
   ],
   "source": [
    "ψmodel((transpose∘hcat)(collocationPts[2,:],collocationPts[1,:]),initParams)"
   ]
  },
  {
   "cell_type": "code",
   "execution_count": 490,
   "metadata": {},
   "outputs": [
    {
     "ename": "MethodError",
     "evalue": "MethodError: no method matching one(::Type{SubArray{Float64, 1, Matrix{Float64}, Tuple{Int64, Base.Slice{Base.OneTo{Int64}}}, true}})\nClosest candidates are:\n  one(!Matched::Union{Type{T}, T}) where T<:AbstractString at strings/basic.jl:262\n  one(!Matched::Union{Type{P}, P}) where P<:Dates.Period at /Applications/Julia-1.8.app/Contents/Resources/julia/share/julia/stdlib/v1.8/Dates/src/periods.jl:54\n  one(!Matched::Bidiagonal{T, V} where V<:AbstractVector{T}) where T at /Applications/Julia-1.8.app/Contents/Resources/julia/share/julia/stdlib/v1.8/LinearAlgebra/src/special.jl:373\n  ...",
     "output_type": "error",
     "traceback": [
      "MethodError: no method matching one(::Type{SubArray{Float64, 1, Matrix{Float64}, Tuple{Int64, Base.Slice{Base.OneTo{Int64}}}, true}})\n",
      "Closest candidates are:\n",
      "  one(!Matched::Union{Type{T}, T}) where T<:AbstractString at strings/basic.jl:262\n",
      "  one(!Matched::Union{Type{P}, P}) where P<:Dates.Period at /Applications/Julia-1.8.app/Contents/Resources/julia/share/julia/stdlib/v1.8/Dates/src/periods.jl:54\n",
      "  one(!Matched::Bidiagonal{T, V} where V<:AbstractVector{T}) where T at /Applications/Julia-1.8.app/Contents/Resources/julia/share/julia/stdlib/v1.8/LinearAlgebra/src/special.jl:373\n",
      "  ...\n",
      "\n",
      "Stacktrace:\n",
      " [1] macro expansion\n",
      "   @ ~/.julia/packages/ForwardDiff/pDtsf/src/partials.jl:0 [inlined]\n",
      " [2] single_seed(#unused#::Type{ForwardDiff.Partials{1, SubArray{Float64, 1, Matrix{Float64}, Tuple{Int64, Base.Slice{Base.OneTo{Int64}}}, true}}}, #unused#::Val{1})\n",
      "   @ ForwardDiff ~/.julia/packages/ForwardDiff/pDtsf/src/partials.jl:9\n",
      " [3] macro expansion\n",
      "   @ ~/.julia/packages/ForwardDiff/pDtsf/src/apiutils.jl:0 [inlined]\n",
      " [4] construct_seeds(#unused#::Type{ForwardDiff.Partials{1, SubArray{Float64, 1, Matrix{Float64}, Tuple{Int64, Base.Slice{Base.OneTo{Int64}}}, true}}})\n",
      "   @ ForwardDiff ~/.julia/packages/ForwardDiff/pDtsf/src/apiutils.jl:52\n",
      " [5] ForwardDiff.JacobianConfig(f::var\"#681#682\", x::Vector{SubArray{Float64, 1, Matrix{Float64}, Tuple{Int64, Base.Slice{Base.OneTo{Int64}}}, true}}, ::ForwardDiff.Chunk{1}, ::ForwardDiff.Tag{var\"#681#682\", SubArray{Float64, 1, Matrix{Float64}, Tuple{Int64, Base.Slice{Base.OneTo{Int64}}}, true}}) (repeats 3 times)\n",
      "   @ ForwardDiff ~/.julia/packages/ForwardDiff/pDtsf/src/config.jl:158\n",
      " [6] jacobian(f::Function, x::Vector{SubArray{Float64, 1, Matrix{Float64}, Tuple{Int64, Base.Slice{Base.OneTo{Int64}}}, true}})\n",
      "   @ ForwardDiff ~/.julia/packages/ForwardDiff/pDtsf/src/jacobian.jl:19\n",
      " [7] top-level scope\n",
      "   @ ~/Documents/GitHub/ma539-PINNs/Drafting code/try_writing_my_own_layers.ipynb:1"
     ]
    }
   ],
   "source": [
    "test = FD.jacobian((X -> (ψmodel((transpose∘hcat)(X, collocationPts[2,:]),initParams))),collocationPts[1,:])"
   ]
  },
  {
   "cell_type": "code",
   "execution_count": 491,
   "metadata": {},
   "outputs": [],
   "source": [
    "using DiffResults"
   ]
  },
  {
   "cell_type": "code",
   "execution_count": 492,
   "metadata": {},
   "outputs": [
    {
     "data": {
      "text/plain": [
       "50"
      ]
     },
     "metadata": {},
     "output_type": "display_data"
    }
   ],
   "source": [
    "nCollocationPts"
   ]
  },
  {
   "cell_type": "code",
   "execution_count": 413,
   "metadata": {},
   "outputs": [],
   "source": [
    "∂ₓψ(ψ,xt) = FD.jacobian((X -> (ψ((transpose∘hcat)(X, xt[2,:])))),xt[1,:]) |> X -> hcat([X[2i-1:2i,i] for i in (eachindex∘eachcol)(xt)]...);\n",
    "∂ₜψ(ψ,xt) = FD.jacobian((T -> (ψ((transpose∘hcat)(xt[1,:],T)))),xt[2,:]) |> X -> hcat([X[2i-1:2i,i] for i in (eachindex∘eachcol)(xt)]...);"
   ]
  },
  {
   "cell_type": "code",
   "execution_count": 525,
   "metadata": {},
   "outputs": [
    {
     "data": {
      "text/plain": [
       "TDSE (generic function with 1 method)"
      ]
     },
     "metadata": {},
     "output_type": "display_data"
    }
   ],
   "source": [
    "# Dψ(ψ,xt) = FD.jacobian(ψ,xt);\n",
    "# ∂ₜψ(ψ,x,t) = Zygote.jacobian(t -> ψ(x,t),t)[1];\n",
    "∂ₜψ(ψ,x,t) = Zygote.forward_jacobian(t -> ψ(x,t),t)[2]';\n",
    "# ∂ₜψ(ψ,x,t) = FD.derivative(t -> ψ(x,t),t);\n",
    "# ∂ₓ²ψ(ψ,x,t) = FD.derivative(x -> FD.derivative(x -> ψ(x,t),x),x);\n",
    "∂ₓ²ψ(ψ,x,t) = Zygote.forward_jacobian(x -> Zygote.forward_jacobian(x -> ψ(x,t),x)[2],x)[2]';\n",
    "# ∂ₓ²ψ(ψ,x,t) = Zygote.jacobian(x -> Zygote.jacobian(x -> ψ(x,t),x)[2],x)[1];\n",
    "TDSE(ψ,V,x,t) = J*∂ₜψ(ψ,x,t) - (-∂ₓ²ψ(ψ,x,t)/2) #+ V(x)*ψ(x,t))"
   ]
  },
  {
   "cell_type": "code",
   "execution_count": 526,
   "metadata": {},
   "outputs": [
    {
     "data": {
      "text/plain": [
       "2×1 Matrix{Float64}:\n",
       " 1.7763568394002505e-15\n",
       " 0.0"
      ]
     },
     "metadata": {},
     "output_type": "display_data"
    }
   ],
   "source": [
    "TDSE(ψtest,V,randn(2)...)\n",
    "# ∂ₓ²ψ(ψtest,randn(2)...)"
   ]
  },
  {
   "cell_type": "code",
   "execution_count": 527,
   "metadata": {},
   "outputs": [
    {
     "data": {
      "text/plain": [
       "1000-element Vector{SubArray{Float64, 1, Matrix{Float64}, Tuple{Int64, Base.Slice{Base.OneTo{Int64}}}, true}}:\n",
       " [0.21383136651668588, 41.97353432168335]\n",
       " [0.8472980084181388, 15.365819014968402]\n",
       " [0.9919786709722269, 16.085670045777334]\n",
       " [0.17729096186680848, 24.79823889575552]\n",
       " [0.5034830181661122, 16.00049904697713]\n",
       " [0.8469995441222546, 41.41320667707322]\n",
       " [0.46822000826661425, 31.994696603132045]\n",
       " [0.41358679169598445, 21.91606388888235]\n",
       " [0.4849976530621155, 45.23655716814544]\n",
       " [0.6911793367297117, 46.04569697940715]\n",
       " ⋮\n",
       " [0.8839822960983407, 1.8914453703719303]\n",
       " [0.03622021170238965, 36.12135840741045]\n",
       " [0.10279070165454907, 13.849325905606696]\n",
       " [0.46899409086329835, 43.96809938099744]\n",
       " [0.24624997515800007, 31.32346129569671]\n",
       " [0.049918267515767334, 28.05355140204809]\n",
       " [0.44008342239674714, 37.17145725542595]\n",
       " [0.5050443677791251, 7.950988098637407]\n",
       " [0.1291197335960238, 28.173141071821213]"
      ]
     },
     "metadata": {},
     "output_type": "display_data"
    }
   ],
   "source": [
    "xmin = 0; xmax = 1; Tmax = 50;\n",
    "V(x) = 0;\n",
    "nCollocationPts = 1000;\n",
    "# collocationPts = (collect∘transpose∘hcat)(rand(nCollocationPts),Tmax*rand(nCollocationPts))\n",
    "collocationPts = (collect∘eachrow∘hcat)(rand(nCollocationPts),Tmax*rand(nCollocationPts))"
   ]
  },
  {
   "cell_type": "code",
   "execution_count": 534,
   "metadata": {},
   "outputs": [
    {
     "data": {
      "text/plain": [
       "test_loss (generic function with 1 method)"
      ]
     },
     "metadata": {},
     "output_type": "display_data"
    }
   ],
   "source": [
    "\n",
    "\n",
    "function test_loss(model, params)\n",
    "    # ψNN(x,t) = model([x,t],params);\n",
    "    return sum(TDSE((x,t) -> model([x,t],params),V,collocationPts[1]...))\n",
    "    # sum([norm(TDSE(ψNN,V,X...)) for X in collocationPts])\n",
    "end"
   ]
  },
  {
   "cell_type": "code",
   "execution_count": 535,
   "metadata": {},
   "outputs": [
    {
     "data": {
      "text/plain": [
       "-0.038446830110090965"
      ]
     },
     "metadata": {},
     "output_type": "display_data"
    }
   ],
   "source": [
    "# using Zygote\n",
    "\n",
    "test_loss(ψmodel,initParams)\n",
    "# test_loss(ψmodel,initParams)"
   ]
  },
  {
   "cell_type": "code",
   "execution_count": 536,
   "metadata": {},
   "outputs": [
    {
     "ename": "ErrorException",
     "evalue": "Mutating arrays is not supported -- called setindex!(Matrix{Float64}, ...)\nThis error occurs when you ask Zygote to differentiate operations that change\nthe elements of arrays in place (e.g. setting values with x .= ...)\n\nPossible fixes:\n- avoid mutating operations (preferred)\n- or read the documentation and solutions for this error\n  https://fluxml.ai/Zygote.jl/latest/limitations\n",
     "output_type": "error",
     "traceback": [
      "Mutating arrays is not supported -- called setindex!(Matrix{Float64}, ...)\n",
      "This error occurs when you ask Zygote to differentiate operations that change\n",
      "the elements of arrays in place (e.g. setting values with x .= ...)\n",
      "\n",
      "Possible fixes:\n",
      "- avoid mutating operations (preferred)\n",
      "- or read the documentation and solutions for this error\n",
      "  https://fluxml.ai/Zygote.jl/latest/limitations\n",
      "\n",
      "\n",
      "Stacktrace:\n",
      "  [1] error(s::String)\n",
      "    @ Base ./error.jl:35\n",
      "  [2] _throw_mutation_error(f::Function, args::Matrix{Float64})\n",
      "    @ Zygote ~/.julia/packages/Zygote/dABKa/src/lib/array.jl:68\n",
      "  [3] (::Zygote.var\"#385#386\"{Matrix{Float64}})(#unused#::Nothing)\n",
      "    @ Zygote ~/.julia/packages/Zygote/dABKa/src/lib/array.jl:80\n",
      "  [4] (::Zygote.var\"#2464#back#387\"{Zygote.var\"#385#386\"{Matrix{Float64}}})(Δ::Nothing)\n",
      "    @ Zygote ~/.julia/packages/ZygoteRules/AIbCs/src/adjoint.jl:67\n",
      "  [5] Pullback\n",
      "    @ ~/.julia/packages/Zygote/dABKa/src/lib/forward.jl:31 [inlined]\n",
      "  [6] (::typeof(∂(forward_jacobian)))(Δ::Tuple{Nothing, FillArrays.Fill{Float64, 2, Tuple{Base.OneTo{Int64}, Base.OneTo{Int64}}}})\n",
      "    @ Zygote ~/.julia/packages/Zygote/dABKa/src/compiler/interface2.jl:0\n",
      "  [7] Pullback\n",
      "    @ ~/.julia/packages/Zygote/dABKa/src/lib/forward.jl:44 [inlined]\n",
      "  [8] Pullback\n",
      "    @ ~/.julia/packages/Zygote/dABKa/src/lib/forward.jl:42 [inlined]\n",
      "  [9] Pullback\n",
      "    @ ~/Documents/GitHub/ma539-PINNs/Drafting code/try_writing_my_own_layers.ipynb:6 [inlined]\n",
      " [10] (::typeof(∂(∂ₓ²ψ)))(Δ::FillArrays.Fill{Float64, 2, Tuple{Base.OneTo{Int64}, Base.OneTo{Int64}}})\n",
      "    @ Zygote ~/.julia/packages/Zygote/dABKa/src/compiler/interface2.jl:0\n",
      " [11] Pullback\n",
      "    @ ~/Documents/GitHub/ma539-PINNs/Drafting code/try_writing_my_own_layers.ipynb:8 [inlined]\n",
      " [12] (::typeof(∂(TDSE)))(Δ::FillArrays.Fill{Float64, 2, Tuple{Base.OneTo{Int64}, Base.OneTo{Int64}}})\n",
      "    @ Zygote ~/.julia/packages/Zygote/dABKa/src/compiler/interface2.jl:0\n",
      " [13] #208\n",
      "    @ ~/.julia/packages/Zygote/dABKa/src/lib/lib.jl:206 [inlined]\n",
      " [14] #2066#back\n",
      "    @ ~/.julia/packages/ZygoteRules/AIbCs/src/adjoint.jl:67 [inlined]\n",
      " [15] Pullback\n",
      "    @ ~/Documents/GitHub/ma539-PINNs/Drafting code/try_writing_my_own_layers.ipynb:5 [inlined]\n",
      " [16] (::typeof(∂(test_loss)))(Δ::Float64)\n",
      "    @ Zygote ~/.julia/packages/Zygote/dABKa/src/compiler/interface2.jl:0\n",
      " [17] Pullback\n",
      "    @ ~/Documents/GitHub/ma539-PINNs/Drafting code/try_writing_my_own_layers.ipynb:1 [inlined]\n",
      " [18] #208\n",
      "    @ ~/.julia/packages/Zygote/dABKa/src/lib/lib.jl:206 [inlined]\n",
      " [19] (::Zygote.var\"#2066#back#210\"{Zygote.var\"#208#209\"{Tuple{Tuple{Nothing}}, typeof(∂(#761))}})(Δ::Float64)\n",
      "    @ Zygote ~/.julia/packages/ZygoteRules/AIbCs/src/adjoint.jl:67\n",
      " [20] Pullback\n",
      "    @ ./operators.jl:1035 [inlined]\n",
      " [21] (::typeof(∂(#_#95)))(Δ::Vector{Float64})\n",
      "    @ Zygote ~/.julia/packages/Zygote/dABKa/src/compiler/interface2.jl:0\n",
      " [22] (::Zygote.var\"#208#209\"{Tuple{Tuple{Nothing, Nothing}, Tuple{Nothing}}, typeof(∂(#_#95))})(Δ::Vector{Float64})\n",
      "    @ Zygote ~/.julia/packages/Zygote/dABKa/src/lib/lib.jl:206\n",
      " [23] #2066#back\n",
      "    @ ~/.julia/packages/ZygoteRules/AIbCs/src/adjoint.jl:67 [inlined]\n",
      " [24] Pullback\n",
      "    @ ./operators.jl:1033 [inlined]\n",
      " [25] (::typeof(∂(ComposedFunction{typeof(Zygote._jvec), var\"#761#762\"}(Zygote._jvec, var\"#761#762\"()))))(Δ::Vector{Float64})\n",
      "    @ Zygote ~/.julia/packages/Zygote/dABKa/src/compiler/interface2.jl:0\n",
      " [26] (::Zygote.var\"#60#61\"{typeof(∂(ComposedFunction{typeof(Zygote._jvec), var\"#761#762\"}(Zygote._jvec, var\"#761#762\"())))})(Δ::Vector{Float64})\n",
      "    @ Zygote ~/.julia/packages/Zygote/dABKa/src/compiler/interface.jl:45\n",
      " [27] withjacobian(f::Function, args::Vector{Float64})\n",
      "    @ Zygote ~/.julia/packages/Zygote/dABKa/src/lib/grad.jl:150\n",
      " [28] jacobian(f::Function, args::Vector{Float64})\n",
      "    @ Zygote ~/.julia/packages/Zygote/dABKa/src/lib/grad.jl:128\n",
      " [29] top-level scope\n",
      "    @ ~/Documents/GitHub/ma539-PINNs/Drafting code/try_writing_my_own_layers.ipynb:1"
     ]
    }
   ],
   "source": [
    "Zygote.jacobian(p->test_loss(ψmodel, p),initParams)\n",
    "# FD.gradient(p->test_loss(ψmodel, p),initParams)"
   ]
  },
  {
   "cell_type": "code",
   "execution_count": 113,
   "metadata": {},
   "outputs": [
    {
     "data": {
      "text/plain": [
       "2-element Vector{Float64}:\n",
       " 0.0\n",
       " 8.881784197001252e-16"
      ]
     },
     "metadata": {},
     "output_type": "display_data"
    }
   ],
   "source": [
    "ψtest(x,t) = (collect∘reim)( sin(π*x)*exp(-1.0im*π^2*t/2) + sin(2π*x)*exp(-1.0im*π^2*2^2*t/2));\n",
    "TDSE(ψtest,x->0,randn(2)...)"
   ]
  },
  {
   "cell_type": "code",
   "execution_count": 103,
   "metadata": {},
   "outputs": [
    {
     "data": {
      "text/plain": [
       "1.831026719408895e-15"
      ]
     },
     "metadata": {},
     "output_type": "display_data"
    }
   ],
   "source": [
    "let xt=randn(2), V(x) = 0\n",
    "    norm(J*∂ₜψ(ψtest,xt...) - (-∂ₓ²ψ(ψtest,xt...)/2 + V(xt[1])*ψtest(xt...)))\n",
    "end"
   ]
  },
  {
   "cell_type": "code",
   "execution_count": 92,
   "metadata": {},
   "outputs": [
    {
     "data": {
      "text/plain": [
       "2-element Vector{Int64}:\n",
       " 0\n",
       " 1"
      ]
     },
     "metadata": {},
     "output_type": "display_data"
    }
   ],
   "source": [
    "[0 -1; 1 0]*[1,0]"
   ]
  },
  {
   "cell_type": "code",
   "execution_count": null,
   "metadata": {},
   "outputs": [],
   "source": []
  }
 ],
 "metadata": {
  "kernelspec": {
   "display_name": "Julia 1.8.3",
   "language": "julia",
   "name": "julia-1.8"
  },
  "language_info": {
   "file_extension": ".jl",
   "mimetype": "application/julia",
   "name": "julia",
   "version": "1.8.3"
  },
  "orig_nbformat": 4,
  "vscode": {
   "interpreter": {
    "hash": "1a1af0ee75eeea9e2e1ee996c87e7a2b11a0bebd85af04bb136d915cefc0abce"
   }
  }
 },
 "nbformat": 4,
 "nbformat_minor": 2
}
