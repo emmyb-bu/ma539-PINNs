{
 "cells": [
  {
   "cell_type": "code",
   "execution_count": 1,
   "metadata": {},
   "outputs": [],
   "source": [
    "using Lux, Zygote, Random, LinearAlgebra\n",
    "rng = Random.MersenneTwister();\n"
   ]
  },
  {
   "cell_type": "code",
   "execution_count": 2,
   "metadata": {},
   "outputs": [
    {
     "data": {
      "text/plain": [
       "Chain(\n",
       "    layer_1 = Dense(2 => 40, tanh_fast),  \u001b[90m# 120 parameters\u001b[39m\n",
       "    layer_2 = Dense(40 => 40, tanh_fast),  \u001b[90m# 1_640 parameters\u001b[39m\n",
       "    layer_3 = Dense(40 => 40, tanh_fast),  \u001b[90m# 1_640 parameters\u001b[39m\n",
       "    layer_4 = Dense(40 => 2, tanh_fast),  \u001b[90m# 82 parameters\u001b[39m\n",
       ") \u001b[90m        # Total: \u001b[39m3_482 parameters,\n",
       "\u001b[90m          #        plus \u001b[39m0 states, \u001b[90msummarysize \u001b[39m64 bytes."
      ]
     },
     "execution_count": 2,
     "metadata": {},
     "output_type": "execute_result"
    }
   ],
   "source": [
    "ψmodel = Chain(\n",
    "    Dense(2 => 40, tanh),\n",
    "    Dense(40 => 40,tanh),\n",
    "    Dense(40 => 40,tanh),\n",
    "    Dense(40 => 2,tanh)\n",
    ")"
   ]
  },
  {
   "cell_type": "code",
   "execution_count": 3,
   "metadata": {},
   "outputs": [],
   "source": [
    "ps, st = Lux.setup(rng,ψmodel);"
   ]
  },
  {
   "cell_type": "code",
   "execution_count": 4,
   "metadata": {},
   "outputs": [
    {
     "data": {
      "text/plain": [
       "test (generic function with 1 method)"
      ]
     },
     "execution_count": 4,
     "metadata": {},
     "output_type": "execute_result"
    }
   ],
   "source": [
    "function test(params,st)\n",
    "    ψ(xt) = Lux.apply(ψmodel,xt,params,st)[1]\n",
    "    return norm(Zygote.jacobian(xs -> ψ(xs),randn(2)))\n",
    "end"
   ]
  },
  {
   "cell_type": "code",
   "execution_count": 5,
   "metadata": {},
   "outputs": [
    {
     "ename": "LoadError",
     "evalue": "InterruptException:",
     "output_type": "error",
     "traceback": [
      "InterruptException:",
      "",
      "Stacktrace:",
      "  [1] Pullback",
      "    @ ./operators.jl:1035 [inlined]",
      "  [2] (::typeof(∂(#_#95)))(Δ::Vector{Float64})",
      "    @ Zygote ~/.julia/packages/Zygote/dABKa/src/compiler/interface2.jl:0",
      "  [3] (::Zygote.var\"#208#209\"{Tuple{Tuple{Nothing, Nothing}, Tuple{Nothing}}, typeof(∂(#_#95))})(Δ::Vector{Float64})",
      "    @ Zygote ~/.julia/packages/Zygote/dABKa/src/lib/lib.jl:206",
      "  [4] #2066#back",
      "    @ ~/.julia/packages/ZygoteRules/AIbCs/src/adjoint.jl:67 [inlined]",
      "  [5] Pullback",
      "    @ ./operators.jl:1033 [inlined]",
      "  [6] (::typeof(∂(λ)))(Δ::Vector{Float64})",
      "    @ Zygote ~/.julia/packages/Zygote/dABKa/src/compiler/interface2.jl:0",
      "  [7] (::Zygote.var\"#60#61\"{typeof(∂(λ))})(Δ::Vector{Float64})",
      "    @ Zygote ~/.julia/packages/Zygote/dABKa/src/compiler/interface.jl:45",
      "  [8] withjacobian(f::Function, args::Vector{Float64})",
      "    @ Zygote ~/.julia/packages/Zygote/dABKa/src/lib/grad.jl:150",
      "  [9] jacobian",
      "    @ ~/.julia/packages/Zygote/dABKa/src/lib/grad.jl:128 [inlined]",
      " [10] test(params::NamedTuple{(:layer_1, :layer_2, :layer_3, :layer_4), NTuple{4, NamedTuple{(:weight, :bias), Tuple{Matrix{Float32}, Matrix{Float32}}}}}, st::NamedTuple{(:layer_1, :layer_2, :layer_3, :layer_4), NTuple{4, NamedTuple{(), Tuple{}}}})",
      "    @ Main ./In[4]:3",
      " [11] eval",
      "    @ ./boot.jl:368 [inlined]",
      " [12] include_string(mapexpr::typeof(REPL.softscope), mod::Module, code::String, filename::String)",
      "    @ Base ./loading.jl:1428"
     ]
    }
   ],
   "source": [
    "test(ps,st)"
   ]
  },
  {
   "cell_type": "code",
   "execution_count": null,
   "metadata": {},
   "outputs": [
    {
     "ename": "LoadError",
     "evalue": "InterruptException:",
     "output_type": "error",
     "traceback": [
      "InterruptException:",
      "",
      "Stacktrace:",
      "  [1] adjoint",
      "    @ ./none:0 [inlined]",
      "  [2] _pullback",
      "    @ ~/.julia/packages/ZygoteRules/AIbCs/src/adjoint.jl:65 [inlined]",
      "  [3] _pullback",
      "    @ ~/.julia/packages/ZygoteRules/AIbCs/src/adjoint.jl:68 [inlined]",
      "  [4] _pullback(::Zygote.Context{false}, ::typeof(ZygoteRules._pullback), ::Zygote.Context{false}, ::typeof(Core._apply_iterate), ::typeof(iterate), ::var\"#40#42\"{var\"#ψ#41\"{NamedTuple{(:layer_1, :layer_2, :layer_3, :layer_4), NTuple{4, NamedTuple{(:weight, :bias), Tuple{Matrix{Float32}, Matrix{Float32}}}}}, NamedTuple{(:layer_1, :layer_2, :layer_3, :layer_4), NTuple{4, NamedTuple{(), Tuple{}}}}}}, ::Tuple{Vector{Float64}})",
      "    @ Zygote ~/.julia/packages/Zygote/dABKa/src/compiler/interface2.jl:0",
      "  [5] _pullback",
      "    @ ./operators.jl:1035 [inlined]",
      "  [6] _pullback(::Zygote.Context{false}, ::typeof(ZygoteRules._pullback), ::Zygote.Context{false}, ::Base.var\"##_#95\", ::Base.Pairs{Symbol, Union{}, Tuple{}, NamedTuple{(), Tuple{}}}, ::ComposedFunction{typeof(Zygote._jvec), var\"#40#42\"{var\"#ψ#41\"{NamedTuple{(:layer_1, :layer_2, :layer_3, :layer_4), NTuple{4, NamedTuple{(:weight, :bias), Tuple{Matrix{Float32}, Matrix{Float32}}}}}, NamedTuple{(:layer_1, :layer_2, :layer_3, :layer_4), NTuple{4, NamedTuple{(), Tuple{}}}}}}}, ::Vector{Float64})",
      "    @ Zygote ~/.julia/packages/Zygote/dABKa/src/compiler/interface2.jl:0",
      "  [7] _apply",
      "    @ ./boot.jl:816 [inlined]",
      "  [8] adjoint",
      "    @ ~/.julia/packages/Zygote/dABKa/src/lib/lib.jl:192 [inlined]",
      "  [9] _pullback",
      "    @ ~/.julia/packages/ZygoteRules/AIbCs/src/adjoint.jl:65 [inlined]",
      " [10] _apply",
      "    @ ./boot.jl:816 [inlined]",
      " [11] adjoint",
      "    @ ~/.julia/packages/Zygote/dABKa/src/lib/lib.jl:203 [inlined]",
      " [12] _pullback",
      "    @ ~/.julia/packages/ZygoteRules/AIbCs/src/adjoint.jl:65 [inlined]",
      " [13] _pullback",
      "    @ ~/.julia/packages/Zygote/dABKa/src/lib/lib.jl:203 [inlined]",
      " [14] _pullback(::Zygote.Context{false}, ::typeof(ZygoteRules.adjoint), ::Zygote.Context{false}, ::typeof(Core._apply_iterate), ::typeof(iterate), ::Base.var\"##_#95\", ::Tuple{Base.Pairs{Symbol, Union{}, Tuple{}, NamedTuple{(), Tuple{}}}, ComposedFunction{typeof(Zygote._jvec), var\"#40#42\"{var\"#ψ#41\"{NamedTuple{(:layer_1, :layer_2, :layer_3, :layer_4), NTuple{4, NamedTuple{(:weight, :bias), Tuple{Matrix{Float32}, Matrix{Float32}}}}}, NamedTuple{(:layer_1, :layer_2, :layer_3, :layer_4), NTuple{4, NamedTuple{(), Tuple{}}}}}}}}, ::Tuple{Vector{Float64}})",
      "    @ Zygote ~/.julia/packages/Zygote/dABKa/src/compiler/interface2.jl:0",
      " [15] _apply(::Function, ::Vararg{Any})",
      "    @ Core ./boot.jl:816",
      " [16] adjoint",
      "    @ ~/.julia/packages/Zygote/dABKa/src/lib/lib.jl:203 [inlined]",
      " [17] _pullback (repeats 2 times)",
      "    @ ~/.julia/packages/ZygoteRules/AIbCs/src/adjoint.jl:65 [inlined]",
      " [18] _pullback(::Zygote.Context{false}, ::typeof(ZygoteRules._pullback), ::Zygote.Context{false}, ::typeof(Core._apply_iterate), ::typeof(iterate), ::Base.var\"##_#95\", ::Tuple{Base.Pairs{Symbol, Union{}, Tuple{}, NamedTuple{(), Tuple{}}}, ComposedFunction{typeof(Zygote._jvec), var\"#40#42\"{var\"#ψ#41\"{NamedTuple{(:layer_1, :layer_2, :layer_3, :layer_4), NTuple{4, NamedTuple{(:weight, :bias), Tuple{Matrix{Float32}, Matrix{Float32}}}}}, NamedTuple{(:layer_1, :layer_2, :layer_3, :layer_4), NTuple{4, NamedTuple{(), Tuple{}}}}}}}}, ::Tuple{Vector{Float64}})",
      "    @ Zygote ~/.julia/packages/Zygote/dABKa/src/compiler/interface2.jl:0",
      " [19] _pullback",
      "    @ ./operators.jl:1033 [inlined]",
      " [20] _pullback(::Zygote.Context{false}, ::typeof(ZygoteRules._pullback), ::Zygote.Context{false}, ::ComposedFunction{typeof(Zygote._jvec), var\"#40#42\"{var\"#ψ#41\"{NamedTuple{(:layer_1, :layer_2, :layer_3, :layer_4), NTuple{4, NamedTuple{(:weight, :bias), Tuple{Matrix{Float32}, Matrix{Float32}}}}}, NamedTuple{(:layer_1, :layer_2, :layer_3, :layer_4), NTuple{4, NamedTuple{(), Tuple{}}}}}}}, ::Vector{Float64})",
      "    @ Zygote ~/.julia/packages/Zygote/dABKa/src/compiler/interface2.jl:0",
      " [21] _apply(::Function, ::Vararg{Any})",
      "    @ Core ./boot.jl:816",
      " [22] adjoint",
      "    @ ~/.julia/packages/Zygote/dABKa/src/lib/lib.jl:203 [inlined]",
      " [23] _pullback",
      "    @ ~/.julia/packages/ZygoteRules/AIbCs/src/adjoint.jl:65 [inlined]",
      " [24] _pullback",
      "    @ ~/.julia/packages/Zygote/dABKa/src/compiler/interface.jl:44 [inlined]",
      " [25] _pullback(::Zygote.Context{false}, ::typeof(pullback), ::ComposedFunction{typeof(Zygote._jvec), var\"#40#42\"{var\"#ψ#41\"{NamedTuple{(:layer_1, :layer_2, :layer_3, :layer_4), NTuple{4, NamedTuple{(:weight, :bias), Tuple{Matrix{Float32}, Matrix{Float32}}}}}, NamedTuple{(:layer_1, :layer_2, :layer_3, :layer_4), NTuple{4, NamedTuple{(), Tuple{}}}}}}}, ::Zygote.Context{false}, ::Vector{Float64})",
      "    @ Zygote ~/.julia/packages/Zygote/dABKa/src/compiler/interface2.jl:0",
      " [26] _apply(::Function, ::Vararg{Any})",
      "    @ Core ./boot.jl:816",
      " [27] adjoint",
      "    @ ~/.julia/packages/Zygote/dABKa/src/lib/lib.jl:203 [inlined]",
      " [28] _pullback",
      "    @ ~/.julia/packages/ZygoteRules/AIbCs/src/adjoint.jl:65 [inlined]",
      " [29] _pullback",
      "    @ ~/.julia/packages/Zygote/dABKa/src/compiler/interface.jl:42 [inlined]",
      " [30] _pullback(::Zygote.Context{false}, ::typeof(pullback), ::ComposedFunction{typeof(Zygote._jvec), var\"#40#42\"{var\"#ψ#41\"{NamedTuple{(:layer_1, :layer_2, :layer_3, :layer_4), NTuple{4, NamedTuple{(:weight, :bias), Tuple{Matrix{Float32}, Matrix{Float32}}}}}, NamedTuple{(:layer_1, :layer_2, :layer_3, :layer_4), NTuple{4, NamedTuple{(), Tuple{}}}}}}}, ::Vector{Float64})",
      "    @ Zygote ~/.julia/packages/Zygote/dABKa/src/compiler/interface2.jl:0",
      " [31] _apply(::Function, ::Vararg{Any})",
      "    @ Core ./boot.jl:816",
      " [32] adjoint",
      "    @ ~/.julia/packages/Zygote/dABKa/src/lib/lib.jl:203 [inlined]",
      " [33] _pullback",
      "    @ ~/.julia/packages/ZygoteRules/AIbCs/src/adjoint.jl:65 [inlined]",
      " [34] _pullback",
      "    @ ~/.julia/packages/Zygote/dABKa/src/lib/grad.jl:141 [inlined]",
      " [35] _pullback(::Zygote.Context{false}, ::typeof(withjacobian), ::var\"#40#42\"{var\"#ψ#41\"{NamedTuple{(:layer_1, :layer_2, :layer_3, :layer_4), NTuple{4, NamedTuple{(:weight, :bias), Tuple{Matrix{Float32}, Matrix{Float32}}}}}, NamedTuple{(:layer_1, :layer_2, :layer_3, :layer_4), NTuple{4, NamedTuple{(), Tuple{}}}}}}, ::Vector{Float64})",
      "    @ Zygote ~/.julia/packages/Zygote/dABKa/src/compiler/interface2.jl:0",
      " [36] _apply(::Function, ::Vararg{Any})",
      "    @ Core ./boot.jl:816",
      " [37] adjoint",
      "    @ ~/.julia/packages/Zygote/dABKa/src/lib/lib.jl:203 [inlined]",
      " [38] _pullback",
      "    @ ~/.julia/packages/ZygoteRules/AIbCs/src/adjoint.jl:65 [inlined]",
      " [39] _pullback",
      "    @ ~/.julia/packages/Zygote/dABKa/src/lib/grad.jl:128 [inlined]",
      " [40] _pullback(::Zygote.Context{false}, ::typeof(jacobian), ::var\"#40#42\"{var\"#ψ#41\"{NamedTuple{(:layer_1, :layer_2, :layer_3, :layer_4), NTuple{4, NamedTuple{(:weight, :bias), Tuple{Matrix{Float32}, Matrix{Float32}}}}}, NamedTuple{(:layer_1, :layer_2, :layer_3, :layer_4), NTuple{4, NamedTuple{(), Tuple{}}}}}}, ::Vector{Float64})",
      "    @ Zygote ~/.julia/packages/Zygote/dABKa/src/compiler/interface2.jl:0",
      " [41] _pullback",
      "    @ ./In[61]:3 [inlined]",
      " [42] _pullback(::Zygote.Context{false}, ::typeof(test), ::NamedTuple{(:layer_1, :layer_2, :layer_3, :layer_4), NTuple{4, NamedTuple{(:weight, :bias), Tuple{Matrix{Float32}, Matrix{Float32}}}}}, ::NamedTuple{(:layer_1, :layer_2, :layer_3, :layer_4), NTuple{4, NamedTuple{(), Tuple{}}}})",
      "    @ Zygote ~/.julia/packages/Zygote/dABKa/src/compiler/interface2.jl:0",
      " [43] _pullback",
      "    @ ./In[63]:1 [inlined]",
      " [44] _pullback(ctx::Zygote.Context{false}, f::var\"#43#44\", args::NamedTuple{(:layer_1, :layer_2, :layer_3, :layer_4), NTuple{4, NamedTuple{(:weight, :bias), Tuple{Matrix{Float32}, Matrix{Float32}}}}})",
      "    @ Zygote ~/.julia/packages/Zygote/dABKa/src/compiler/interface2.jl:0",
      " [45] pullback(f::Function, cx::Zygote.Context{false}, args::NamedTuple{(:layer_1, :layer_2, :layer_3, :layer_4), NTuple{4, NamedTuple{(:weight, :bias), Tuple{Matrix{Float32}, Matrix{Float32}}}}})",
      "    @ Zygote ~/.julia/packages/Zygote/dABKa/src/compiler/interface.jl:44",
      " [46] pullback(f::Function, args::NamedTuple{(:layer_1, :layer_2, :layer_3, :layer_4), NTuple{4, NamedTuple{(:weight, :bias), Tuple{Matrix{Float32}, Matrix{Float32}}}}})",
      "    @ Zygote ~/.julia/packages/Zygote/dABKa/src/compiler/interface.jl:42",
      " [47] eval",
      "    @ ./boot.jl:368 [inlined]",
      " [48] include_string(mapexpr::typeof(REPL.softscope), mod::Module, code::String, filename::String)",
      "    @ Base ./loading.jl:1428"
     ]
    }
   ],
   "source": [
    "a, back = Zygote.pullback(p->test(p,st),ps)"
   ]
  },
  {
   "cell_type": "code",
   "execution_count": null,
   "metadata": {},
   "outputs": [
    {
     "ename": "LoadError",
     "evalue": "Mutating arrays is not supported -- called setindex!(Matrix{Float64}, ...)\nThis error occurs when you ask Zygote to differentiate operations that change\nthe elements of arrays in place (e.g. setting values with x .= ...)\n\nPossible fixes:\n- avoid mutating operations (preferred)\n- or read the documentation and solutions for this error\n  https://fluxml.ai/Zygote.jl/latest/limitations\n",
     "output_type": "error",
     "traceback": [
      "Mutating arrays is not supported -- called setindex!(Matrix{Float64}, ...)\nThis error occurs when you ask Zygote to differentiate operations that change\nthe elements of arrays in place (e.g. setting values with x .= ...)\n\nPossible fixes:\n- avoid mutating operations (preferred)\n- or read the documentation and solutions for this error\n  https://fluxml.ai/Zygote.jl/latest/limitations\n",
      "",
      "Stacktrace:",
      "  [1] error(s::String)",
      "    @ Base ./error.jl:35",
      "  [2] _throw_mutation_error(f::Function, args::Matrix{Float64})",
      "    @ Zygote ~/.julia/packages/Zygote/dABKa/src/lib/array.jl:68",
      "  [3] (::Zygote.var\"#385#386\"{Matrix{Float64}})(#unused#::Nothing)",
      "    @ Zygote ~/.julia/packages/Zygote/dABKa/src/lib/array.jl:80",
      "  [4] (::Zygote.var\"#2464#back#387\"{Zygote.var\"#385#386\"{Matrix{Float64}}})(Δ::Nothing)",
      "    @ Zygote ~/.julia/packages/ZygoteRules/AIbCs/src/adjoint.jl:67",
      "  [5] Pullback",
      "    @ ~/.julia/packages/Zygote/dABKa/src/lib/forward.jl:31 [inlined]",
      "  [6] (::typeof(∂(forward_jacobian)))(Δ::Tuple{Vector{Float64}, Matrix{Float64}})",
      "    @ Zygote ~/.julia/packages/Zygote/dABKa/src/compiler/interface2.jl:0",
      "  [7] Pullback",
      "    @ ~/.julia/packages/Zygote/dABKa/src/lib/forward.jl:44 [inlined]",
      "  [8] Pullback",
      "    @ ~/.julia/packages/Zygote/dABKa/src/lib/forward.jl:42 [inlined]",
      "  [9] (::typeof(∂(forward_jacobian)))(Δ::Tuple{Vector{Float64}, Matrix{Float64}})",
      "    @ Zygote ~/.julia/packages/Zygote/dABKa/src/compiler/interface2.jl:0",
      " [10] Pullback",
      "    @ ./In[56]:3 [inlined]",
      " [11] (::typeof(∂(test)))(Δ::Int64)",
      "    @ Zygote ~/.julia/packages/Zygote/dABKa/src/compiler/interface2.jl:0",
      " [12] Pullback",
      "    @ ./In[58]:1 [inlined]",
      " [13] (::typeof(∂(#35)))(Δ::Int64)",
      "    @ Zygote ~/.julia/packages/Zygote/dABKa/src/compiler/interface2.jl:0",
      " [14] (::Zygote.var\"#60#61\"{typeof(∂(#35))})(Δ::Int64)",
      "    @ Zygote ~/.julia/packages/Zygote/dABKa/src/compiler/interface.jl:45",
      " [15] top-level scope",
      "    @ In[59]:1",
      " [16] eval",
      "    @ ./boot.jl:368 [inlined]",
      " [17] include_string(mapexpr::typeof(REPL.softscope), mod::Module, code::String, filename::String)",
      "    @ Base ./loading.jl:1428"
     ]
    }
   ],
   "source": [
    "back(1)"
   ]
  },
  {
   "cell_type": "code",
   "execution_count": null,
   "metadata": {},
   "outputs": [],
   "source": []
  },
  {
   "cell_type": "code",
   "execution_count": null,
   "metadata": {},
   "outputs": [],
   "source": []
  }
 ],
 "metadata": {
  "kernelspec": {
   "display_name": "Julia 1.8.2",
   "language": "julia",
   "name": "julia-1.8"
  },
  "language_info": {
   "file_extension": ".jl",
   "mimetype": "application/julia",
   "name": "julia",
   "version": "1.8.2"
  },
  "orig_nbformat": 4
 },
 "nbformat": 4,
 "nbformat_minor": 2
}
