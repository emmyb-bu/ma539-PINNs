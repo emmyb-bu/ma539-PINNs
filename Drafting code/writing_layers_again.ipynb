{
 "cells": [
  {
   "cell_type": "code",
   "execution_count": 1,
   "metadata": {},
   "outputs": [],
   "source": [
    "using ForwardDiff, LinearAlgebra, Random, Statistics\n",
    "const FD = ForwardDiff;"
   ]
  },
  {
   "cell_type": "code",
   "execution_count": 2,
   "metadata": {},
   "outputs": [],
   "source": [
    "nnLayer(x,W,b,σ) = σ.(reshape(W,(size(b,1),:))*x .+ b)\n",
    "\n",
    "function getRandomParams(layerStructure)\n",
    "    nParams = sum(X[1][1]*X[1][2]+X[1][2] for X in layerStructure);\n",
    "    return randn(nParams)\n",
    "end\n",
    "\n",
    "function neuralNet(x,layerStructure,params)\n",
    "    X = x;\n",
    "    n = 1;\n",
    "    for (layer, σ) in layerStructure\n",
    "        X = nnLayer(X,params[n:(n-1+layer[1]*layer[2])],params[(n+layer[1]*layer[2]) : (n-1+layer[1]*layer[2]+layer[2])],σ)\n",
    "        n += layer[1]*layer[2]+layer[2];\n",
    "    end\n",
    "    return X\n",
    "end\n",
    "\n",
    "layerStructure = [\n",
    "    (2 => 40,tanh),\n",
    "    (40 => 40,tanh),\n",
    "    # (40 => 40,tanh),\n",
    "    # (40 => 40,tanh),\n",
    "    # (40 => 40,tanh),\n",
    "    (40 => 2,identity) # Re, Im\n",
    "];\n",
    "\n",
    "ψmodel(xt,params) = neuralNet(xt,layerStructure,params);\n",
    "initParams = getRandomParams(layerStructure);"
   ]
  },
  {
   "cell_type": "code",
   "execution_count": 8,
   "metadata": {},
   "outputs": [
    {
     "data": {
      "text/plain": [
       "1842-element Vector{Float64}:\n",
       " -0.06593073083680115\n",
       "  0.011749665004023782\n",
       " -0.2527582266154375\n",
       "  0.6712977641129048\n",
       " -1.0896879063582607\n",
       "  0.4903217850650451\n",
       "  0.040577304414554025\n",
       "  0.03007363172029825\n",
       " -0.01659984460062345\n",
       " -0.5369423039698723\n",
       " -4.161541696381527\n",
       " -0.3339158968155642\n",
       "  0.23572468639771454\n",
       "  ⋮\n",
       " -0.16481680501799148\n",
       " -0.3305101364555018\n",
       " -0.445311438203049\n",
       " -0.8929911254475493\n",
       " -0.39180934263905864\n",
       " -0.7857024002257526\n",
       "  0.6553055644091049\n",
       "  0.7553539056927016\n",
       " -0.6552522137974546\n",
       " -0.7552924098118944\n",
       "  0.6553105101902803\n",
       "  0.7553596065677289"
      ]
     },
     "execution_count": 8,
     "metadata": {},
     "output_type": "execute_result"
    }
   ],
   "source": [
    "FD.gradient(p->norm(ψmodel(randn(2),p)),initParams)"
   ]
  },
  {
   "cell_type": "code",
   "execution_count": null,
   "metadata": {},
   "outputs": [],
   "source": []
  }
 ],
 "metadata": {
  "kernelspec": {
   "display_name": "Julia 1.8.2",
   "language": "julia",
   "name": "julia-1.8"
  },
  "language_info": {
   "file_extension": ".jl",
   "mimetype": "application/julia",
   "name": "julia",
   "version": "1.8.2"
  },
  "orig_nbformat": 4
 },
 "nbformat": 4,
 "nbformat_minor": 2
}
