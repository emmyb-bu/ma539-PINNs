{
 "cells": [
  {
   "cell_type": "code",
   "execution_count": 1,
   "metadata": {},
   "outputs": [],
   "source": [
    "using Flux, Zygote, LinearAlgebra"
   ]
  },
  {
   "cell_type": "code",
   "execution_count": 2,
   "metadata": {},
   "outputs": [
    {
     "data": {
      "text/plain": [
       "Chain(\n",
       "  Dense(2 => 16, tanh),                 \u001b[90m# 48 parameters\u001b[39m\n",
       "  Dense(16 => 16, tanh),                \u001b[90m# 272 parameters\u001b[39m\n",
       "  Dense(16 => 2, tanh),                 \u001b[90m# 34 parameters\u001b[39m\n",
       ") \u001b[90m                  # Total: 6 arrays, \u001b[39m354 parameters, 1.758 KiB."
      ]
     },
     "execution_count": 2,
     "metadata": {},
     "output_type": "execute_result"
    }
   ],
   "source": [
    "ψmodel = Chain(\n",
    "    Dense(2 => 16,tanh),\n",
    "    Dense(16 => 16,tanh),\n",
    "    # Dense(40 => 40,tanh),\n",
    "    Dense(16 => 2,tanh)\n",
    ")"
   ]
  },
  {
   "cell_type": "code",
   "execution_count": 3,
   "metadata": {},
   "outputs": [
    {
     "data": {
      "text/plain": [
       "2×10 Matrix{Float64}:\n",
       " -0.0125259  0.166454  0.0292023  …  -0.055071    0.0469169  -0.059211\n",
       "  0.143239   0.154849  0.156331       0.00109607  0.174203   -0.017978"
      ]
     },
     "execution_count": 3,
     "metadata": {},
     "output_type": "execute_result"
    }
   ],
   "source": [
    "ψmodel(randn(2,10))"
   ]
  },
  {
   "cell_type": "code",
   "execution_count": 4,
   "metadata": {},
   "outputs": [
    {
     "data": {
      "text/plain": [
       "ψtest (generic function with 1 method)"
      ]
     },
     "execution_count": 4,
     "metadata": {},
     "output_type": "execute_result"
    }
   ],
   "source": [
    "ψtest(xt) = (X -> ((x,t)->(collect∘reim)( sin(π*x)*exp(-1.0im*π^2*t/2) + sin(2π*x)*exp(-1.0im*π^2*2^2*t/2)))(X...)).(eachcol(xt))"
   ]
  },
  {
   "cell_type": "code",
   "execution_count": 6,
   "metadata": {},
   "outputs": [
    {
     "data": {
      "text/plain": [
       "ψtest (generic function with 1 method)"
      ]
     },
     "execution_count": 6,
     "metadata": {},
     "output_type": "execute_result"
    }
   ],
   "source": [
    "ψtest(xt) = sin.(π*xt[1,:]).*exp.(-1.0im*π^2*xt[2,:]/2) .+ sin.(2π*xt[1,:]).*exp.(-1.0im*π^2*2^2*xt[2,:]/2) |> X->(collect∘transpose∘hcat)(reim(X)...)"
   ]
  },
  {
   "cell_type": "code",
   "execution_count": 7,
   "metadata": {},
   "outputs": [
    {
     "data": {
      "text/plain": [
       "2×10 Matrix{Float64}:\n",
       " -0.0758538  0.10046   0.0400557  …  0.038965  0.0277772  0.0228404\n",
       " -0.176918   0.120503  0.173477      0.172468  0.0811733  0.155802"
      ]
     },
     "execution_count": 7,
     "metadata": {},
     "output_type": "execute_result"
    }
   ],
   "source": [
    "ψmodel(randn(2,10))"
   ]
  },
  {
   "cell_type": "code",
   "execution_count": 8,
   "metadata": {},
   "outputs": [],
   "source": [
    "collocationPts = collect([rand(10) 10rand(10)]');"
   ]
  },
  {
   "cell_type": "code",
   "execution_count": 5,
   "metadata": {},
   "outputs": [
    {
     "ename": "LoadError",
     "evalue": "UndefVarError: ψtest not defined",
     "output_type": "error",
     "traceback": [
      "UndefVarError: ψtest not defined",
      "",
      "Stacktrace:",
      "  [1] _pullback(ctx::Zygote.Context{false}, f::var\"#2#4\", args::Matrix{ForwardDiff.Dual{Nothing, Float64, 12}})",
      "    @ Zygote ~/.julia/packages/Zygote/dABKa/src/compiler/interface2.jl:9",
      "  [2] _apply",
      "    @ ./boot.jl:816 [inlined]",
      "  [3] adjoint",
      "    @ ~/.julia/packages/Zygote/dABKa/src/lib/lib.jl:203 [inlined]",
      "  [4] _pullback",
      "    @ ~/.julia/packages/ZygoteRules/AIbCs/src/adjoint.jl:65 [inlined]",
      "  [5] _pullback",
      "    @ ./operators.jl:1035 [inlined]",
      "  [6] _pullback(::Zygote.Context{false}, ::Base.var\"##_#95\", ::Base.Pairs{Symbol, Union{}, Tuple{}, NamedTuple{(), Tuple{}}}, ::ComposedFunction{typeof(Zygote._jvec), var\"#2#4\"}, ::Matrix{ForwardDiff.Dual{Nothing, Float64, 12}})",
      "    @ Zygote ~/.julia/packages/Zygote/dABKa/src/compiler/interface2.jl:0",
      "  [7] _apply(::Function, ::Vararg{Any})",
      "    @ Core ./boot.jl:816",
      "  [8] adjoint",
      "    @ ~/.julia/packages/Zygote/dABKa/src/lib/lib.jl:203 [inlined]",
      "  [9] _pullback",
      "    @ ~/.julia/packages/ZygoteRules/AIbCs/src/adjoint.jl:65 [inlined]",
      " [10] _pullback",
      "    @ ./operators.jl:1033 [inlined]",
      " [11] _pullback(ctx::Zygote.Context{false}, f::ComposedFunction{typeof(Zygote._jvec), var\"#2#4\"}, args::Matrix{ForwardDiff.Dual{Nothing, Float64, 12}})",
      "    @ Zygote ~/.julia/packages/Zygote/dABKa/src/compiler/interface2.jl:0",
      " [12] pullback(f::Function, cx::Zygote.Context{false}, args::Matrix{ForwardDiff.Dual{Nothing, Float64, 12}})",
      "    @ Zygote ~/.julia/packages/Zygote/dABKa/src/compiler/interface.jl:44",
      " [13] pullback",
      "    @ ~/.julia/packages/Zygote/dABKa/src/compiler/interface.jl:42 [inlined]",
      " [14] withjacobian(f::Function, args::Matrix{ForwardDiff.Dual{Nothing, Float64, 12}})",
      "    @ Zygote ~/.julia/packages/Zygote/dABKa/src/lib/grad.jl:141",
      " [15] jacobian",
      "    @ ~/.julia/packages/Zygote/dABKa/src/lib/grad.jl:128 [inlined]",
      " [16] #1",
      "    @ ./In[5]:1 [inlined]",
      " [17] forward_jacobian(f::var\"#1#3\", x::Matrix{Float64}, #unused#::Val{12})",
      "    @ Zygote ~/.julia/packages/Zygote/dABKa/src/lib/forward.jl:29",
      " [18] forward_jacobian(f::Function, x::Matrix{Float64}; chunk_threshold::Int64)",
      "    @ Zygote ~/.julia/packages/Zygote/dABKa/src/lib/forward.jl:44",
      " [19] forward_jacobian(f::Function, x::Matrix{Float64})",
      "    @ Zygote ~/.julia/packages/Zygote/dABKa/src/lib/forward.jl:42",
      " [20] top-level scope",
      "    @ In[5]:1",
      " [21] eval",
      "    @ ./boot.jl:368 [inlined]",
      " [22] include_string(mapexpr::typeof(REPL.softscope), mod::Module, code::String, filename::String)",
      "    @ Base ./loading.jl:1428"
     ]
    }
   ],
   "source": [
    "Zygote.forward_jacobian(Y -> Zygote.jacobian(x->ψtest(x),Y)[1],collocationPts)"
   ]
  },
  {
   "cell_type": "code",
   "execution_count": 9,
   "metadata": {},
   "outputs": [
    {
     "data": {
      "text/plain": [
       "(Float32[0.34468263, 0.20744629, 0.14022475, 0.15841107, 0.21398912, 0.18607108, 0.030785583, 0.38820067, 0.52960104, 0.5375387  …  -0.49819288, -0.30440265, 0.20408162, 0.2212743, 0.5674477, 0.20339426, 0.4632388, -0.21888323, 0.0, 0.0], Restructure(Chain, ..., 354))"
      ]
     },
     "execution_count": 9,
     "metadata": {},
     "output_type": "execute_result"
    }
   ],
   "source": [
    "p,re = Flux.destructure(ψmodel)"
   ]
  },
  {
   "cell_type": "code",
   "execution_count": 10,
   "metadata": {},
   "outputs": [
    {
     "data": {
      "text/plain": [
       "a_test (generic function with 1 method)"
      ]
     },
     "execution_count": 10,
     "metadata": {},
     "output_type": "execute_result"
    }
   ],
   "source": [
    "function a_test(collocationPts,p,re)\n",
    "    Dψ, DDψ = Zygote.jacobian(Y -> Zygote.jacobian(x->re(p)(x),Y)[1],collocationPts);\n",
    "    # Dψ, DDψ = Zygote.forward_jacobian(Y -> Zygote.jacobian(x->re(p)(x),Y)[1],collocationPts);\n",
    "    norm(Dψ)\n",
    "end"
   ]
  },
  {
   "cell_type": "code",
   "execution_count": 18,
   "metadata": {},
   "outputs": [
    {
     "data": {
      "text/plain": [
       "b_test (generic function with 1 method)"
      ]
     },
     "execution_count": 18,
     "metadata": {},
     "output_type": "execute_result"
    }
   ],
   "source": [
    "function b_test(collocationPts,ψmodel)\n",
    "    Dψ = Zygote.jacobian(Y -> Zygote.jacobian(x->ψmodel(x),Y)[1],collocationPts)[1];\n",
    "    # Dψ, DDψ = Zygote.jacobian(Y -> Zygote.jacobian(x->ψmodel(x),Y)[1],collocationPts);\n",
    "    # Dψ, DDψ = Zygote.forward_jacobian(Y -> Zygote.jacobian(x->re(p)(x),Y)[1],collocationPts);\n",
    "    norm(Dψ)\n",
    "end"
   ]
  },
  {
   "cell_type": "code",
   "execution_count": 19,
   "metadata": {},
   "outputs": [],
   "source": [
    "Zygote.gradient(()->b_test(collocationPts,ψmodel),Flux.params(ψmodel))\n"
   ]
  },
  {
   "cell_type": "code",
   "execution_count": 11,
   "metadata": {},
   "outputs": [
    {
     "name": "stderr",
     "output_type": "stream",
     "text": [
      "┌ Warning: second derivatives of Restructure may not work yet, sorry!\n",
      "└ @ Optimisers /Users/emmyb320/.julia/packages/Optimisers/GKFy2/src/destructure.jl:158\n",
      "┌ Warning: second derivatives of Restructure may not work yet, sorry!\n",
      "└ @ Optimisers /Users/emmyb320/.julia/packages/Optimisers/GKFy2/src/destructure.jl:158\n",
      "┌ Warning: second derivatives of Restructure may not work yet, sorry!\n",
      "└ @ Optimisers /Users/emmyb320/.julia/packages/Optimisers/GKFy2/src/destructure.jl:158\n"
     ]
    },
    {
     "ename": "LoadError",
     "evalue": "Mutating arrays is not supported -- called copyto!(SubArray{Float64, 1, Matrix{Float64}, Tuple{Int64, Base.Slice{Base.OneTo{Int64}}}, true}, ...)\nThis error occurs when you ask Zygote to differentiate operations that change\nthe elements of arrays in place (e.g. setting values with x .= ...)\n\nPossible fixes:\n- avoid mutating operations (preferred)\n- or read the documentation and solutions for this error\n  https://fluxml.ai/Zygote.jl/latest/limitations\n",
     "output_type": "error",
     "traceback": [
      "Mutating arrays is not supported -- called copyto!(SubArray{Float64, 1, Matrix{Float64}, Tuple{Int64, Base.Slice{Base.OneTo{Int64}}}, true}, ...)\nThis error occurs when you ask Zygote to differentiate operations that change\nthe elements of arrays in place (e.g. setting values with x .= ...)\n\nPossible fixes:\n- avoid mutating operations (preferred)\n- or read the documentation and solutions for this error\n  https://fluxml.ai/Zygote.jl/latest/limitations\n",
      "",
      "Stacktrace:",
      "  [1] error(s::String)",
      "    @ Base ./error.jl:35",
      "  [2] _throw_mutation_error(f::Function, args::SubArray{Float64, 1, Matrix{Float64}, Tuple{Int64, Base.Slice{Base.OneTo{Int64}}}, true})",
      "    @ Zygote ~/.julia/packages/Zygote/dABKa/src/lib/array.jl:68",
      "  [3] (::Zygote.var\"#389#390\"{SubArray{Float64, 1, Matrix{Float64}, Tuple{Int64, Base.Slice{Base.OneTo{Int64}}}, true}})(#unused#::Nothing)",
      "    @ Zygote ~/.julia/packages/Zygote/dABKa/src/lib/array.jl:83",
      "  [4] (::Zygote.var\"#2474#back#391\"{Zygote.var\"#389#390\"{SubArray{Float64, 1, Matrix{Float64}, Tuple{Int64, Base.Slice{Base.OneTo{Int64}}}, true}}})(Δ::Nothing)",
      "    @ Zygote ~/.julia/packages/ZygoteRules/AIbCs/src/adjoint.jl:67",
      "  [5] Pullback",
      "    @ ~/.julia/packages/Zygote/dABKa/src/lib/grad.jl:171 [inlined]",
      "  [6] (::typeof(∂(_gradcopy!)))(Δ::Nothing)",
      "    @ Zygote ~/.julia/packages/Zygote/dABKa/src/compiler/interface2.jl:0",
      "  [7] Pullback",
      "    @ ~/.julia/packages/Zygote/dABKa/src/lib/grad.jl:153 [inlined]",
      "  [8] (::typeof(∂(withjacobian)))(Δ::NamedTuple{(:val, :grad), Tuple{Nothing, Tuple{Matrix{Float64}}}})",
      "    @ Zygote ~/.julia/packages/Zygote/dABKa/src/compiler/interface2.jl:0",
      "  [9] (::Zygote.var\"#208#209\"{Tuple{Tuple{Nothing}, Tuple{Nothing}}, typeof(∂(withjacobian))})(Δ::NamedTuple{(:val, :grad), Tuple{Nothing, Tuple{Matrix{Float64}}}})",
      "    @ Zygote ~/.julia/packages/Zygote/dABKa/src/lib/lib.jl:206",
      " [10] #2066#back",
      "    @ ~/.julia/packages/ZygoteRules/AIbCs/src/adjoint.jl:67 [inlined]",
      " [11] Pullback",
      "    @ ~/.julia/packages/Zygote/dABKa/src/lib/grad.jl:128 [inlined]",
      " [12] (::typeof(∂(jacobian)))(Δ::Tuple{Matrix{Float64}})",
      "    @ Zygote ~/.julia/packages/Zygote/dABKa/src/compiler/interface2.jl:0",
      " [13] Pullback",
      "    @ ./In[10]:2 [inlined]",
      " [14] (::typeof(∂(λ)))(Δ::Matrix{Float64})",
      "    @ Zygote ~/.julia/packages/Zygote/dABKa/src/compiler/interface2.jl:0",
      " [15] #208",
      "    @ ~/.julia/packages/Zygote/dABKa/src/lib/lib.jl:206 [inlined]",
      " [16] (::Zygote.var\"#2066#back#210\"{Zygote.var\"#208#209\"{Tuple{Tuple{Nothing}}, typeof(∂(λ))}})(Δ::Matrix{Float64})",
      "    @ Zygote ~/.julia/packages/ZygoteRules/AIbCs/src/adjoint.jl:67",
      " [17] Pullback",
      "    @ ./operators.jl:1035 [inlined]",
      " [18] (::typeof(∂(#_#95)))(Δ::Vector{Float64})",
      "    @ Zygote ~/.julia/packages/Zygote/dABKa/src/compiler/interface2.jl:0",
      " [19] (::Zygote.var\"#208#209\"{Tuple{Tuple{Nothing, Nothing}, Tuple{Nothing}}, typeof(∂(#_#95))})(Δ::Vector{Float64})",
      "    @ Zygote ~/.julia/packages/Zygote/dABKa/src/lib/lib.jl:206",
      " [20] #2066#back",
      "    @ ~/.julia/packages/ZygoteRules/AIbCs/src/adjoint.jl:67 [inlined]",
      " [21] Pullback",
      "    @ ./operators.jl:1033 [inlined]",
      " [22] (::typeof(∂(λ)))(Δ::Vector{Float64})",
      "    @ Zygote ~/.julia/packages/Zygote/dABKa/src/compiler/interface2.jl:0",
      " [23] (::Zygote.var\"#60#61\"{typeof(∂(λ))})(Δ::Vector{Float64})",
      "    @ Zygote ~/.julia/packages/Zygote/dABKa/src/compiler/interface.jl:45",
      " [24] withjacobian(f::Function, args::Matrix{Float64})",
      "    @ Zygote ~/.julia/packages/Zygote/dABKa/src/lib/grad.jl:150",
      " [25] jacobian",
      "    @ ~/.julia/packages/Zygote/dABKa/src/lib/grad.jl:128 [inlined]",
      " [26] a_test(collocationPts::Matrix{Float64}, p::Vector{Float32}, re::Optimisers.Restructure{Chain{Tuple{Dense{typeof(tanh), Matrix{Float32}, Vector{Float32}}, Dense{typeof(tanh), Matrix{Float32}, Vector{Float32}}, Dense{typeof(tanh), Matrix{Float32}, Vector{Float32}}}}, NamedTuple{(:layers,), Tuple{Tuple{NamedTuple{(:weight, :bias, :σ), Tuple{Int64, Int64, Tuple{}}}, NamedTuple{(:weight, :bias, :σ), Tuple{Int64, Int64, Tuple{}}}, NamedTuple{(:weight, :bias, :σ), Tuple{Int64, Int64, Tuple{}}}}}}})",
      "    @ Main ./In[10]:2",
      " [27] top-level scope",
      "    @ In[11]:1",
      " [28] eval",
      "    @ ./boot.jl:368 [inlined]",
      " [29] include_string(mapexpr::typeof(REPL.softscope), mod::Module, code::String, filename::String)",
      "    @ Base ./loading.jl:1428"
     ]
    }
   ],
   "source": [
    "a_test(collocationPts,p,re)"
   ]
  },
  {
   "cell_type": "code",
   "execution_count": null,
   "metadata": {},
   "outputs": [
    {
     "name": "stderr",
     "output_type": "stream",
     "text": [
      "┌ Warning: second derivatives of Restructure may not work yet, sorry!\n",
      "└ @ Optimisers /Users/emmyb320/.julia/packages/Optimisers/GKFy2/src/destructure.jl:158\n",
      "┌ Warning: second derivatives of Restructure may not work yet, sorry!\n",
      "└ @ Optimisers /Users/emmyb320/.julia/packages/Optimisers/GKFy2/src/destructure.jl:158\n",
      "┌ Warning: second derivatives of Restructure may not work yet, sorry!\n",
      "└ @ Optimisers /Users/emmyb320/.julia/packages/Optimisers/GKFy2/src/destructure.jl:158\n"
     ]
    },
    {
     "ename": "LoadError",
     "evalue": "Mutating arrays is not supported -- called setindex!(Matrix{Float64}, ...)\nThis error occurs when you ask Zygote to differentiate operations that change\nthe elements of arrays in place (e.g. setting values with x .= ...)\n\nPossible fixes:\n- avoid mutating operations (preferred)\n- or read the documentation and solutions for this error\n  https://fluxml.ai/Zygote.jl/latest/limitations\n",
     "output_type": "error",
     "traceback": [
      "Mutating arrays is not supported -- called setindex!(Matrix{Float64}, ...)\nThis error occurs when you ask Zygote to differentiate operations that change\nthe elements of arrays in place (e.g. setting values with x .= ...)\n\nPossible fixes:\n- avoid mutating operations (preferred)\n- or read the documentation and solutions for this error\n  https://fluxml.ai/Zygote.jl/latest/limitations\n",
      "",
      "Stacktrace:",
      "  [1] error(s::String)",
      "    @ Base ./error.jl:35",
      "  [2] _throw_mutation_error(f::Function, args::Matrix{Float64})",
      "    @ Zygote ~/.julia/packages/Zygote/dABKa/src/lib/array.jl:68",
      "  [3] (::Zygote.var\"#385#386\"{Matrix{Float64}})(#unused#::Nothing)",
      "    @ Zygote ~/.julia/packages/Zygote/dABKa/src/lib/array.jl:80",
      "  [4] (::Zygote.var\"#2464#back#387\"{Zygote.var\"#385#386\"{Matrix{Float64}}})(Δ::Nothing)",
      "    @ Zygote ~/.julia/packages/ZygoteRules/AIbCs/src/adjoint.jl:67",
      "  [5] Pullback",
      "    @ ~/.julia/packages/Zygote/dABKa/src/lib/forward.jl:37 [inlined]",
      "  [6] (::typeof(∂(forward_jacobian)))(Δ::Tuple{Matrix{Float64}, Nothing})",
      "    @ Zygote ~/.julia/packages/Zygote/dABKa/src/compiler/interface2.jl:0",
      "  [7] Pullback",
      "    @ ~/.julia/packages/Zygote/dABKa/src/lib/forward.jl:44 [inlined]",
      "  [8] Pullback",
      "    @ ~/.julia/packages/Zygote/dABKa/src/lib/forward.jl:42 [inlined]",
      "  [9] Pullback",
      "    @ ./In[28]:2 [inlined]",
      " [10] (::typeof(∂(a_test)))(Δ::Float64)",
      "    @ Zygote ~/.julia/packages/Zygote/dABKa/src/compiler/interface2.jl:0",
      " [11] Pullback",
      "    @ ./In[34]:1 [inlined]",
      " [12] (::typeof(∂(#41)))(Δ::Float64)",
      "    @ Zygote ~/.julia/packages/Zygote/dABKa/src/compiler/interface2.jl:0",
      " [13] #208",
      "    @ ~/.julia/packages/Zygote/dABKa/src/lib/lib.jl:206 [inlined]",
      " [14] (::Zygote.var\"#2066#back#210\"{Zygote.var\"#208#209\"{Tuple{Tuple{Nothing}}, typeof(∂(#41))}})(Δ::Float64)",
      "    @ Zygote ~/.julia/packages/ZygoteRules/AIbCs/src/adjoint.jl:67",
      " [15] Pullback",
      "    @ ./operators.jl:1035 [inlined]",
      " [16] (::typeof(∂(#_#95)))(Δ::Vector{Float64})",
      "    @ Zygote ~/.julia/packages/Zygote/dABKa/src/compiler/interface2.jl:0",
      " [17] (::Zygote.var\"#208#209\"{Tuple{Tuple{Nothing, Nothing}, Tuple{Nothing}}, typeof(∂(#_#95))})(Δ::Vector{Float64})",
      "    @ Zygote ~/.julia/packages/Zygote/dABKa/src/lib/lib.jl:206",
      " [18] #2066#back",
      "    @ ~/.julia/packages/ZygoteRules/AIbCs/src/adjoint.jl:67 [inlined]",
      " [19] Pullback",
      "    @ ./operators.jl:1033 [inlined]",
      " [20] (::typeof(∂(ComposedFunction{typeof(Zygote._jvec), var\"#41#42\"}(Zygote._jvec, var\"#41#42\"()))))(Δ::Vector{Float64})",
      "    @ Zygote ~/.julia/packages/Zygote/dABKa/src/compiler/interface2.jl:0",
      " [21] (::Zygote.var\"#60#61\"{typeof(∂(ComposedFunction{typeof(Zygote._jvec), var\"#41#42\"}(Zygote._jvec, var\"#41#42\"())))})(Δ::Vector{Float64})",
      "    @ Zygote ~/.julia/packages/Zygote/dABKa/src/compiler/interface.jl:45",
      " [22] withjacobian(f::Function, args::Vector{Float32})",
      "    @ Zygote ~/.julia/packages/Zygote/dABKa/src/lib/grad.jl:150",
      " [23] jacobian(f::Function, args::Vector{Float32})",
      "    @ Zygote ~/.julia/packages/Zygote/dABKa/src/lib/grad.jl:128",
      " [24] top-level scope",
      "    @ In[34]:1",
      " [25] eval",
      "    @ ./boot.jl:368 [inlined]",
      " [26] include_string(mapexpr::typeof(REPL.softscope), mod::Module, code::String, filename::String)",
      "    @ Base ./loading.jl:1428"
     ]
    }
   ],
   "source": [
    "Zygote.jacobian(p->a_test(collocationPts,p,re),p)"
   ]
  },
  {
   "cell_type": "code",
   "execution_count": 12,
   "metadata": {},
   "outputs": [
    {
     "data": {
      "text/plain": [
       "Chain(\n",
       "  Dense(2 => 40, tanh),                 \u001b[90m# 120 parameters\u001b[39m\n",
       "  Dense(40 => 40, tanh),                \u001b[90m# 1_640 parameters\u001b[39m\n",
       "  Dense(40 => 40, tanh),                \u001b[90m# 1_640 parameters\u001b[39m\n",
       "  Dense(40 => 2, tanh),                 \u001b[90m# 82 parameters\u001b[39m\n",
       ") \u001b[90m                  # Total: 8 arrays, \u001b[39m3_482 parameters, 14.102 KiB."
      ]
     },
     "execution_count": 12,
     "metadata": {},
     "output_type": "execute_result"
    }
   ],
   "source": [
    "re(p)"
   ]
  },
  {
   "cell_type": "code",
   "execution_count": 13,
   "metadata": {},
   "outputs": [],
   "source": [
    "using ForwardDiff;\n",
    "const FD = ForwardDiff;"
   ]
  },
  {
   "cell_type": "code",
   "execution_count": 14,
   "metadata": {},
   "outputs": [
    {
     "data": {
      "text/plain": [
       "a_test (generic function with 1 method)"
      ]
     },
     "execution_count": 14,
     "metadata": {},
     "output_type": "execute_result"
    }
   ],
   "source": [
    "function a_test(collocationPts,p,re)\n",
    "    DDψ = FD.jacobian(Y -> FD.jacobian(x->re(p)(x),Y),collocationPts);\n",
    "    norm(DDψ)\n",
    "end"
   ]
  },
  {
   "cell_type": "code",
   "execution_count": 15,
   "metadata": {},
   "outputs": [
    {
     "data": {
      "text/plain": [
       "0.4229002591623485"
      ]
     },
     "execution_count": 15,
     "metadata": {},
     "output_type": "execute_result"
    }
   ],
   "source": [
    "a_test(collocationPts,p,re)"
   ]
  },
  {
   "cell_type": "code",
   "execution_count": 17,
   "metadata": {},
   "outputs": [
    {
     "data": {
      "text/plain": [
       "ReverseDiff"
      ]
     },
     "execution_count": 17,
     "metadata": {},
     "output_type": "execute_result"
    }
   ],
   "source": [
    "using ReverseDiff\n",
    "const RD = ReverseDiff"
   ]
  },
  {
   "cell_type": "code",
   "execution_count": 20,
   "metadata": {},
   "outputs": [
    {
     "ename": "LoadError",
     "evalue": "InterruptException:",
     "output_type": "error",
     "traceback": [
      "InterruptException:",
      "",
      "Stacktrace:",
      "  [1] map",
      "    @ ./tuple.jl:222 [inlined]",
      "  [2] capture",
      "    @ ~/.julia/packages/ReverseDiff/YkVxM/src/tape.jl:25 [inlined]",
      "  [3] ReverseDiff.ScalarInstruction(func::Function, input::Tuple{ReverseDiff.TrackedReal{Float64, Float32, Nothing}, ReverseDiff.TrackedReal{Float64, Float32, Nothing}}, output::ReverseDiff.TrackedReal{Float64, Float32, Nothing}, cache::Base.RefValue{StaticArraysCore.SVector{2, Float64}})",
      "    @ ReverseDiff ~/.julia/packages/ReverseDiff/YkVxM/src/tape.jl:46",
      "  [4] record!",
      "    @ ~/.julia/packages/ReverseDiff/YkVxM/src/tape.jl:10 [inlined]",
      "  [5] ForwardOptimize",
      "    @ ~/.julia/packages/ReverseDiff/YkVxM/src/macros.jl:105 [inlined]",
      "  [6] *",
      "    @ ~/.julia/packages/ReverseDiff/YkVxM/src/derivatives/scalars.jl:14 [inlined]",
      "  [7] macro expansion",
      "    @ ~/.julia/packages/ForwardDiff/pDtsf/src/partials.jl:157 [inlined]",
      "  [8] mul_tuples",
      "    @ ~/.julia/packages/ForwardDiff/pDtsf/src/partials.jl:220 [inlined]",
      "  [9] _mul_partials",
      "    @ ~/.julia/packages/ForwardDiff/pDtsf/src/partials.jl:119 [inlined]",
      " [10] dual_definition_retval(#unused#::Val{ForwardDiff.Tag{var\"#15#17\"{ReverseDiff.TrackedArray{Float32, Float32, 1, Vector{Float32}, Vector{Float32}}, Optimisers.Restructure{Chain{NTuple{4, Dense{typeof(tanh), Matrix{Float32}, Vector{Float32}}}}, NamedTuple{(:layers,), Tuple{NTuple{4, NamedTuple{(:weight, :bias, :σ), Tuple{Int64, Int64, Tuple{}}}}}}}}, Float64}}, val::ReverseDiff.TrackedReal{Float64, Float32, Nothing}, deriv1::ReverseDiff.TrackedReal{Float64, Float32, Nothing}, partial1::ForwardDiff.Partials{10, ReverseDiff.TrackedReal{Float64, Float32, Nothing}}, deriv2::ReverseDiff.TrackedReal{Float64, Float32, Nothing}, partial2::ForwardDiff.Partials{10, ReverseDiff.TrackedReal{Float64, Float32, Nothing}})",
      "    @ ForwardDiff ~/.julia/packages/ForwardDiff/pDtsf/src/dual.jl:203",
      " [11] *",
      "    @ ~/.julia/packages/ForwardDiff/pDtsf/src/dual.jl:271 [inlined]",
      " [12] macro expansion",
      "    @ ~/.julia/packages/ForwardDiff/pDtsf/src/partials.jl:157 [inlined]",
      " [13] scale_tuple",
      "    @ ~/.julia/packages/ForwardDiff/pDtsf/src/partials.jl:200 [inlined]",
      " [14] *",
      "    @ ~/.julia/packages/ForwardDiff/pDtsf/src/partials.jl:111 [inlined]",
      " [15] *",
      "    @ ~/.julia/packages/ForwardDiff/pDtsf/src/partials.jl:84 [inlined]",
      " [16] dual_definition_retval(#unused#::Val{ForwardDiff.Tag{var\"#16#18\"{ReverseDiff.TrackedArray{Float32, Float32, 1, Vector{Float32}, Vector{Float32}}, Optimisers.Restructure{Chain{NTuple{4, Dense{typeof(tanh), Matrix{Float32}, Vector{Float32}}}}, NamedTuple{(:layers,), Tuple{NTuple{4, NamedTuple{(:weight, :bias, :σ), Tuple{Int64, Int64, Tuple{}}}}}}}}, ForwardDiff.Dual{ForwardDiff.Tag{var\"#15#17\"{ReverseDiff.TrackedArray{Float32, Float32, 1, Vector{Float32}, Vector{Float32}}, Optimisers.Restructure{Chain{NTuple{4, Dense{typeof(tanh), Matrix{Float32}, Vector{Float32}}}}, NamedTuple{(:layers,), Tuple{NTuple{4, NamedTuple{(:weight, :bias, :σ), Tuple{Int64, Int64, Tuple{}}}}}}}}, Float64}, Float64, 10}}}, val::ForwardDiff.Dual{ForwardDiff.Tag{var\"#15#17\"{ReverseDiff.TrackedArray{Float32, Float32, 1, Vector{Float32}, Vector{Float32}}, Optimisers.Restructure{Chain{NTuple{4, Dense{typeof(tanh), Matrix{Float32}, Vector{Float32}}}}, NamedTuple{(:layers,), Tuple{NTuple{4, NamedTuple{(:weight, :bias, :σ), Tuple{Int64, Int64, Tuple{}}}}}}}}, Float64}, ReverseDiff.TrackedReal{Float64, Float32, Nothing}, 10}, deriv::ForwardDiff.Dual{ForwardDiff.Tag{var\"#15#17\"{ReverseDiff.TrackedArray{Float32, Float32, 1, Vector{Float32}, Vector{Float32}}, Optimisers.Restructure{Chain{NTuple{4, Dense{typeof(tanh), Matrix{Float32}, Vector{Float32}}}}, NamedTuple{(:layers,), Tuple{NTuple{4, NamedTuple{(:weight, :bias, :σ), Tuple{Int64, Int64, Tuple{}}}}}}}}, Float64}, ReverseDiff.TrackedReal{Float64, Float32, Nothing}, 10}, partial::ForwardDiff.Partials{10, ForwardDiff.Dual{ForwardDiff.Tag{var\"#15#17\"{ReverseDiff.TrackedArray{Float32, Float32, 1, Vector{Float32}, Vector{Float32}}, Optimisers.Restructure{Chain{NTuple{4, Dense{typeof(tanh), Matrix{Float32}, Vector{Float32}}}}, NamedTuple{(:layers,), Tuple{NTuple{4, NamedTuple{(:weight, :bias, :σ), Tuple{Int64, Int64, Tuple{}}}}}}}}, Float64}, ReverseDiff.TrackedReal{Float64, Float32, Nothing}, 10}})",
      "    @ ForwardDiff ~/.julia/packages/ForwardDiff/pDtsf/src/dual.jl:200",
      " [17] tanh",
      "    @ ~/.julia/packages/ForwardDiff/pDtsf/src/dual.jl:241 [inlined]",
      " [18] tanh_fast(x::ForwardDiff.Dual{ForwardDiff.Tag{var\"#16#18\"{ReverseDiff.TrackedArray{Float32, Float32, 1, Vector{Float32}, Vector{Float32}}, Optimisers.Restructure{Chain{NTuple{4, Dense{typeof(tanh), Matrix{Float32}, Vector{Float32}}}}, NamedTuple{(:layers,), Tuple{NTuple{4, NamedTuple{(:weight, :bias, :σ), Tuple{Int64, Int64, Tuple{}}}}}}}}, ForwardDiff.Dual{ForwardDiff.Tag{var\"#15#17\"{ReverseDiff.TrackedArray{Float32, Float32, 1, Vector{Float32}, Vector{Float32}}, Optimisers.Restructure{Chain{NTuple{4, Dense{typeof(tanh), Matrix{Float32}, Vector{Float32}}}}, NamedTuple{(:layers,), Tuple{NTuple{4, NamedTuple{(:weight, :bias, :σ), Tuple{Int64, Int64, Tuple{}}}}}}}}, Float64}, Float64, 10}}, ForwardDiff.Dual{ForwardDiff.Tag{var\"#15#17\"{ReverseDiff.TrackedArray{Float32, Float32, 1, Vector{Float32}, Vector{Float32}}, Optimisers.Restructure{Chain{NTuple{4, Dense{typeof(tanh), Matrix{Float32}, Vector{Float32}}}}, NamedTuple{(:layers,), Tuple{NTuple{4, NamedTuple{(:weight, :bias, :σ), Tuple{Int64, Int64, Tuple{}}}}}}}}, Float64}, ReverseDiff.TrackedReal{Float64, Float32, Nothing}, 10}, 10})",
      "    @ NNlib ~/.julia/packages/NNlib/Rh36b/src/activations.jl:787",
      " [19] _broadcast_getindex_evalf",
      "    @ ./broadcast.jl:670 [inlined]",
      " [20] _broadcast_getindex",
      "    @ ./broadcast.jl:643 [inlined]",
      " [21] getindex",
      "    @ ./broadcast.jl:597 [inlined]",
      " [22] macro expansion",
      "    @ ./broadcast.jl:961 [inlined]",
      " [23] macro expansion",
      "    @ ./simdloop.jl:77 [inlined]",
      " [24] copyto!",
      "    @ ./broadcast.jl:960 [inlined]",
      " [25] copyto!",
      "    @ ./broadcast.jl:913 [inlined]",
      " [26] copy",
      "    @ ./broadcast.jl:885 [inlined]",
      " [27] materialize",
      "    @ ./broadcast.jl:860 [inlined]",
      " [28] (::Dense{typeof(tanh), Matrix{ReverseDiff.TrackedReal{Float32, Float32, ReverseDiff.TrackedArray{Float32, Float32, 2, Matrix{Float32}, Matrix{Float32}}}}, Vector{ReverseDiff.TrackedReal{Float32, Float32, ReverseDiff.TrackedArray{Float32, Float32, 1, Vector{Float32}, Vector{Float32}}}}})(x::Matrix{ForwardDiff.Dual{ForwardDiff.Tag{var\"#16#18\"{ReverseDiff.TrackedArray{Float32, Float32, 1, Vector{Float32}, Vector{Float32}}, Optimisers.Restructure{Chain{NTuple{4, Dense{typeof(tanh), Matrix{Float32}, Vector{Float32}}}}, NamedTuple{(:layers,), Tuple{NTuple{4, NamedTuple{(:weight, :bias, :σ), Tuple{Int64, Int64, Tuple{}}}}}}}}, ForwardDiff.Dual{ForwardDiff.Tag{var\"#15#17\"{ReverseDiff.TrackedArray{Float32, Float32, 1, Vector{Float32}, Vector{Float32}}, Optimisers.Restructure{Chain{NTuple{4, Dense{typeof(tanh), Matrix{Float32}, Vector{Float32}}}}, NamedTuple{(:layers,), Tuple{NTuple{4, NamedTuple{(:weight, :bias, :σ), Tuple{Int64, Int64, Tuple{}}}}}}}}, Float64}, Float64, 10}}, ForwardDiff.Dual{ForwardDiff.Tag{var\"#15#17\"{ReverseDiff.TrackedArray{Float32, Float32, 1, Vector{Float32}, Vector{Float32}}, Optimisers.Restructure{Chain{NTuple{4, Dense{typeof(tanh), Matrix{Float32}, Vector{Float32}}}}, NamedTuple{(:layers,), Tuple{NTuple{4, NamedTuple{(:weight, :bias, :σ), Tuple{Int64, Int64, Tuple{}}}}}}}}, Float64}, ReverseDiff.TrackedReal{Float64, Float32, Nothing}, 10}, 10}})",
      "    @ Flux ~/.julia/packages/Flux/nJ0IB/src/layers/basic.jl:172",
      " [29] macro expansion",
      "    @ ~/.julia/packages/Flux/nJ0IB/src/layers/basic.jl:53 [inlined]",
      " [30] _applychain",
      "    @ ~/.julia/packages/Flux/nJ0IB/src/layers/basic.jl:53 [inlined]",
      " [31] (::Chain{NTuple{4, Dense{typeof(tanh), Matrix{ReverseDiff.TrackedReal{Float32, Float32, ReverseDiff.TrackedArray{Float32, Float32, 2, Matrix{Float32}, Matrix{Float32}}}}, Vector{ReverseDiff.TrackedReal{Float32, Float32, ReverseDiff.TrackedArray{Float32, Float32, 1, Vector{Float32}, Vector{Float32}}}}}}})(x::Matrix{ForwardDiff.Dual{ForwardDiff.Tag{var\"#16#18\"{ReverseDiff.TrackedArray{Float32, Float32, 1, Vector{Float32}, Vector{Float32}}, Optimisers.Restructure{Chain{NTuple{4, Dense{typeof(tanh), Matrix{Float32}, Vector{Float32}}}}, NamedTuple{(:layers,), Tuple{NTuple{4, NamedTuple{(:weight, :bias, :σ), Tuple{Int64, Int64, Tuple{}}}}}}}}, ForwardDiff.Dual{ForwardDiff.Tag{var\"#15#17\"{ReverseDiff.TrackedArray{Float32, Float32, 1, Vector{Float32}, Vector{Float32}}, Optimisers.Restructure{Chain{NTuple{4, Dense{typeof(tanh), Matrix{Float32}, Vector{Float32}}}}, NamedTuple{(:layers,), Tuple{NTuple{4, NamedTuple{(:weight, :bias, :σ), Tuple{Int64, Int64, Tuple{}}}}}}}}, Float64}, Float64, 10}}, ForwardDiff.Dual{ForwardDiff.Tag{var\"#15#17\"{ReverseDiff.TrackedArray{Float32, Float32, 1, Vector{Float32}, Vector{Float32}}, Optimisers.Restructure{Chain{NTuple{4, Dense{typeof(tanh), Matrix{Float32}, Vector{Float32}}}}, NamedTuple{(:layers,), Tuple{NTuple{4, NamedTuple{(:weight, :bias, :σ), Tuple{Int64, Int64, Tuple{}}}}}}}}, Float64}, Float64, 10}, 10}})",
      "    @ Flux ~/.julia/packages/Flux/nJ0IB/src/layers/basic.jl:51",
      " [32] (::var\"#16#18\"{ReverseDiff.TrackedArray{Float32, Float32, 1, Vector{Float32}, Vector{Float32}}, Optimisers.Restructure{Chain{NTuple{4, Dense{typeof(tanh), Matrix{Float32}, Vector{Float32}}}}, NamedTuple{(:layers,), Tuple{NTuple{4, NamedTuple{(:weight, :bias, :σ), Tuple{Int64, Int64, Tuple{}}}}}}}})(x::Matrix{ForwardDiff.Dual{ForwardDiff.Tag{var\"#16#18\"{ReverseDiff.TrackedArray{Float32, Float32, 1, Vector{Float32}, Vector{Float32}}, Optimisers.Restructure{Chain{NTuple{4, Dense{typeof(tanh), Matrix{Float32}, Vector{Float32}}}}, NamedTuple{(:layers,), Tuple{NTuple{4, NamedTuple{(:weight, :bias, :σ), Tuple{Int64, Int64, Tuple{}}}}}}}}, ForwardDiff.Dual{ForwardDiff.Tag{var\"#15#17\"{ReverseDiff.TrackedArray{Float32, Float32, 1, Vector{Float32}, Vector{Float32}}, Optimisers.Restructure{Chain{NTuple{4, Dense{typeof(tanh), Matrix{Float32}, Vector{Float32}}}}, NamedTuple{(:layers,), Tuple{NTuple{4, NamedTuple{(:weight, :bias, :σ), Tuple{Int64, Int64, Tuple{}}}}}}}}, Float64}, Float64, 10}}, ForwardDiff.Dual{ForwardDiff.Tag{var\"#15#17\"{ReverseDiff.TrackedArray{Float32, Float32, 1, Vector{Float32}, Vector{Float32}}, Optimisers.Restructure{Chain{NTuple{4, Dense{typeof(tanh), Matrix{Float32}, Vector{Float32}}}}, NamedTuple{(:layers,), Tuple{NTuple{4, NamedTuple{(:weight, :bias, :σ), Tuple{Int64, Int64, Tuple{}}}}}}}}, Float64}, Float64, 10}, 10}})",
      "    @ Main ./In[14]:2",
      " [33] chunk_mode_jacobian(f::var\"#16#18\"{ReverseDiff.TrackedArray{Float32, Float32, 1, Vector{Float32}, Vector{Float32}}, Optimisers.Restructure{Chain{NTuple{4, Dense{typeof(tanh), Matrix{Float32}, Vector{Float32}}}}, NamedTuple{(:layers,), Tuple{NTuple{4, NamedTuple{(:weight, :bias, :σ), Tuple{Int64, Int64, Tuple{}}}}}}}}, x::Matrix{ForwardDiff.Dual{ForwardDiff.Tag{var\"#15#17\"{ReverseDiff.TrackedArray{Float32, Float32, 1, Vector{Float32}, Vector{Float32}}, Optimisers.Restructure{Chain{NTuple{4, Dense{typeof(tanh), Matrix{Float32}, Vector{Float32}}}}, NamedTuple{(:layers,), Tuple{NTuple{4, NamedTuple{(:weight, :bias, :σ), Tuple{Int64, Int64, Tuple{}}}}}}}}, Float64}, Float64, 10}}, cfg::ForwardDiff.JacobianConfig{ForwardDiff.Tag{var\"#16#18\"{ReverseDiff.TrackedArray{Float32, Float32, 1, Vector{Float32}, Vector{Float32}}, Optimisers.Restructure{Chain{NTuple{4, Dense{typeof(tanh), Matrix{Float32}, Vector{Float32}}}}, NamedTuple{(:layers,), Tuple{NTuple{4, NamedTuple{(:weight, :bias, :σ), Tuple{Int64, Int64, Tuple{}}}}}}}}, ForwardDiff.Dual{ForwardDiff.Tag{var\"#15#17\"{ReverseDiff.TrackedArray{Float32, Float32, 1, Vector{Float32}, Vector{Float32}}, Optimisers.Restructure{Chain{NTuple{4, Dense{typeof(tanh), Matrix{Float32}, Vector{Float32}}}}, NamedTuple{(:layers,), Tuple{NTuple{4, NamedTuple{(:weight, :bias, :σ), Tuple{Int64, Int64, Tuple{}}}}}}}}, Float64}, Float64, 10}}, ForwardDiff.Dual{ForwardDiff.Tag{var\"#15#17\"{ReverseDiff.TrackedArray{Float32, Float32, 1, Vector{Float32}, Vector{Float32}}, Optimisers.Restructure{Chain{NTuple{4, Dense{typeof(tanh), Matrix{Float32}, Vector{Float32}}}}, NamedTuple{(:layers,), Tuple{NTuple{4, NamedTuple{(:weight, :bias, :σ), Tuple{Int64, Int64, Tuple{}}}}}}}}, Float64}, Float64, 10}, 10, Matrix{ForwardDiff.Dual{ForwardDiff.Tag{var\"#16#18\"{ReverseDiff.TrackedArray{Float32, Float32, 1, Vector{Float32}, Vector{Float32}}, Optimisers.Restructure{Chain{NTuple{4, Dense{typeof(tanh), Matrix{Float32}, Vector{Float32}}}}, NamedTuple{(:layers,), Tuple{NTuple{4, NamedTuple{(:weight, :bias, :σ), Tuple{Int64, Int64, Tuple{}}}}}}}}, ForwardDiff.Dual{ForwardDiff.Tag{var\"#15#17\"{ReverseDiff.TrackedArray{Float32, Float32, 1, Vector{Float32}, Vector{Float32}}, Optimisers.Restructure{Chain{NTuple{4, Dense{typeof(tanh), Matrix{Float32}, Vector{Float32}}}}, NamedTuple{(:layers,), Tuple{NTuple{4, NamedTuple{(:weight, :bias, :σ), Tuple{Int64, Int64, Tuple{}}}}}}}}, Float64}, Float64, 10}}, ForwardDiff.Dual{ForwardDiff.Tag{var\"#15#17\"{ReverseDiff.TrackedArray{Float32, Float32, 1, Vector{Float32}, Vector{Float32}}, Optimisers.Restructure{Chain{NTuple{4, Dense{typeof(tanh), Matrix{Float32}, Vector{Float32}}}}, NamedTuple{(:layers,), Tuple{NTuple{4, NamedTuple{(:weight, :bias, :σ), Tuple{Int64, Int64, Tuple{}}}}}}}}, Float64}, Float64, 10}, 10}}})",
      "    @ ForwardDiff ~/.julia/packages/ForwardDiff/pDtsf/src/jacobian.jl:227",
      " [34] jacobian(f::Function, x::Matrix{ForwardDiff.Dual{ForwardDiff.Tag{var\"#15#17\"{ReverseDiff.TrackedArray{Float32, Float32, 1, Vector{Float32}, Vector{Float32}}, Optimisers.Restructure{Chain{NTuple{4, Dense{typeof(tanh), Matrix{Float32}, Vector{Float32}}}}, NamedTuple{(:layers,), Tuple{NTuple{4, NamedTuple{(:weight, :bias, :σ), Tuple{Int64, Int64, Tuple{}}}}}}}}, Float64}, Float64, 10}}, cfg::ForwardDiff.JacobianConfig{ForwardDiff.Tag{var\"#16#18\"{ReverseDiff.TrackedArray{Float32, Float32, 1, Vector{Float32}, Vector{Float32}}, Optimisers.Restructure{Chain{NTuple{4, Dense{typeof(tanh), Matrix{Float32}, Vector{Float32}}}}, NamedTuple{(:layers,), Tuple{NTuple{4, NamedTuple{(:weight, :bias, :σ), Tuple{Int64, Int64, Tuple{}}}}}}}}, ForwardDiff.Dual{ForwardDiff.Tag{var\"#15#17\"{ReverseDiff.TrackedArray{Float32, Float32, 1, Vector{Float32}, Vector{Float32}}, Optimisers.Restructure{Chain{NTuple{4, Dense{typeof(tanh), Matrix{Float32}, Vector{Float32}}}}, NamedTuple{(:layers,), Tuple{NTuple{4, NamedTuple{(:weight, :bias, :σ), Tuple{Int64, Int64, Tuple{}}}}}}}}, Float64}, Float64, 10}}, ForwardDiff.Dual{ForwardDiff.Tag{var\"#15#17\"{ReverseDiff.TrackedArray{Float32, Float32, 1, Vector{Float32}, Vector{Float32}}, Optimisers.Restructure{Chain{NTuple{4, Dense{typeof(tanh), Matrix{Float32}, Vector{Float32}}}}, NamedTuple{(:layers,), Tuple{NTuple{4, NamedTuple{(:weight, :bias, :σ), Tuple{Int64, Int64, Tuple{}}}}}}}}, Float64}, Float64, 10}, 10, Matrix{ForwardDiff.Dual{ForwardDiff.Tag{var\"#16#18\"{ReverseDiff.TrackedArray{Float32, Float32, 1, Vector{Float32}, Vector{Float32}}, Optimisers.Restructure{Chain{NTuple{4, Dense{typeof(tanh), Matrix{Float32}, Vector{Float32}}}}, NamedTuple{(:layers,), Tuple{NTuple{4, NamedTuple{(:weight, :bias, :σ), Tuple{Int64, Int64, Tuple{}}}}}}}}, ForwardDiff.Dual{ForwardDiff.Tag{var\"#15#17\"{ReverseDiff.TrackedArray{Float32, Float32, 1, Vector{Float32}, Vector{Float32}}, Optimisers.Restructure{Chain{NTuple{4, Dense{typeof(tanh), Matrix{Float32}, Vector{Float32}}}}, NamedTuple{(:layers,), Tuple{NTuple{4, NamedTuple{(:weight, :bias, :σ), Tuple{Int64, Int64, Tuple{}}}}}}}}, Float64}, Float64, 10}}, ForwardDiff.Dual{ForwardDiff.Tag{var\"#15#17\"{ReverseDiff.TrackedArray{Float32, Float32, 1, Vector{Float32}, Vector{Float32}}, Optimisers.Restructure{Chain{NTuple{4, Dense{typeof(tanh), Matrix{Float32}, Vector{Float32}}}}, NamedTuple{(:layers,), Tuple{NTuple{4, NamedTuple{(:weight, :bias, :σ), Tuple{Int64, Int64, Tuple{}}}}}}}}, Float64}, Float64, 10}, 10}}}, ::Val{true})",
      "    @ ForwardDiff ~/.julia/packages/ForwardDiff/pDtsf/src/jacobian.jl:23",
      " [35] jacobian(f::Function, x::Matrix{ForwardDiff.Dual{ForwardDiff.Tag{var\"#15#17\"{ReverseDiff.TrackedArray{Float32, Float32, 1, Vector{Float32}, Vector{Float32}}, Optimisers.Restructure{Chain{NTuple{4, Dense{typeof(tanh), Matrix{Float32}, Vector{Float32}}}}, NamedTuple{(:layers,), Tuple{NTuple{4, NamedTuple{(:weight, :bias, :σ), Tuple{Int64, Int64, Tuple{}}}}}}}}, Float64}, Float64, 10}}, cfg::ForwardDiff.JacobianConfig{ForwardDiff.Tag{var\"#16#18\"{ReverseDiff.TrackedArray{Float32, Float32, 1, Vector{Float32}, Vector{Float32}}, Optimisers.Restructure{Chain{NTuple{4, Dense{typeof(tanh), Matrix{Float32}, Vector{Float32}}}}, NamedTuple{(:layers,), Tuple{NTuple{4, NamedTuple{(:weight, :bias, :σ), Tuple{Int64, Int64, Tuple{}}}}}}}}, ForwardDiff.Dual{ForwardDiff.Tag{var\"#15#17\"{ReverseDiff.TrackedArray{Float32, Float32, 1, Vector{Float32}, Vector{Float32}}, Optimisers.Restructure{Chain{NTuple{4, Dense{typeof(tanh), Matrix{Float32}, Vector{Float32}}}}, NamedTuple{(:layers,), Tuple{NTuple{4, NamedTuple{(:weight, :bias, :σ), Tuple{Int64, Int64, Tuple{}}}}}}}}, Float64}, Float64, 10}}, ForwardDiff.Dual{ForwardDiff.Tag{var\"#15#17\"{ReverseDiff.TrackedArray{Float32, Float32, 1, Vector{Float32}, Vector{Float32}}, Optimisers.Restructure{Chain{NTuple{4, Dense{typeof(tanh), Matrix{Float32}, Vector{Float32}}}}, NamedTuple{(:layers,), Tuple{NTuple{4, NamedTuple{(:weight, :bias, :σ), Tuple{Int64, Int64, Tuple{}}}}}}}}, Float64}, Float64, 10}, 10, Matrix{ForwardDiff.Dual{ForwardDiff.Tag{var\"#16#18\"{ReverseDiff.TrackedArray{Float32, Float32, 1, Vector{Float32}, Vector{Float32}}, Optimisers.Restructure{Chain{NTuple{4, Dense{typeof(tanh), Matrix{Float32}, Vector{Float32}}}}, NamedTuple{(:layers,), Tuple{NTuple{4, NamedTuple{(:weight, :bias, :σ), Tuple{Int64, Int64, Tuple{}}}}}}}}, ForwardDiff.Dual{ForwardDiff.Tag{var\"#15#17\"{ReverseDiff.TrackedArray{Float32, Float32, 1, Vector{Float32}, Vector{Float32}}, Optimisers.Restructure{Chain{NTuple{4, Dense{typeof(tanh), Matrix{Float32}, Vector{Float32}}}}, NamedTuple{(:layers,), Tuple{NTuple{4, NamedTuple{(:weight, :bias, :σ), Tuple{Int64, Int64, Tuple{}}}}}}}}, Float64}, Float64, 10}}, ForwardDiff.Dual{ForwardDiff.Tag{var\"#15#17\"{ReverseDiff.TrackedArray{Float32, Float32, 1, Vector{Float32}, Vector{Float32}}, Optimisers.Restructure{Chain{NTuple{4, Dense{typeof(tanh), Matrix{Float32}, Vector{Float32}}}}, NamedTuple{(:layers,), Tuple{NTuple{4, NamedTuple{(:weight, :bias, :σ), Tuple{Int64, Int64, Tuple{}}}}}}}}, Float64}, Float64, 10}, 10}}}) (repeats 2 times)",
      "    @ ForwardDiff ~/.julia/packages/ForwardDiff/pDtsf/src/jacobian.jl:19",
      " [36] #15",
      "    @ ./In[14]:2 [inlined]",
      " [37] chunk_mode_jacobian(f::var\"#15#17\"{ReverseDiff.TrackedArray{Float32, Float32, 1, Vector{Float32}, Vector{Float32}}, Optimisers.Restructure{Chain{NTuple{4, Dense{typeof(tanh), Matrix{Float32}, Vector{Float32}}}}, NamedTuple{(:layers,), Tuple{NTuple{4, NamedTuple{(:weight, :bias, :σ), Tuple{Int64, Int64, Tuple{}}}}}}}}, x::Matrix{Float64}, cfg::ForwardDiff.JacobianConfig{ForwardDiff.Tag{var\"#15#17\"{ReverseDiff.TrackedArray{Float32, Float32, 1, Vector{Float32}, Vector{Float32}}, Optimisers.Restructure{Chain{NTuple{4, Dense{typeof(tanh), Matrix{Float32}, Vector{Float32}}}}, NamedTuple{(:layers,), Tuple{NTuple{4, NamedTuple{(:weight, :bias, :σ), Tuple{Int64, Int64, Tuple{}}}}}}}}, Float64}, Float64, 10, Matrix{ForwardDiff.Dual{ForwardDiff.Tag{var\"#15#17\"{ReverseDiff.TrackedArray{Float32, Float32, 1, Vector{Float32}, Vector{Float32}}, Optimisers.Restructure{Chain{NTuple{4, Dense{typeof(tanh), Matrix{Float32}, Vector{Float32}}}}, NamedTuple{(:layers,), Tuple{NTuple{4, NamedTuple{(:weight, :bias, :σ), Tuple{Int64, Int64, Tuple{}}}}}}}}, Float64}, Float64, 10}}})",
      "    @ ForwardDiff ~/.julia/packages/ForwardDiff/pDtsf/src/jacobian.jl:245",
      " [38] jacobian(f::Function, x::Matrix{Float64}, cfg::ForwardDiff.JacobianConfig{ForwardDiff.Tag{var\"#15#17\"{ReverseDiff.TrackedArray{Float32, Float32, 1, Vector{Float32}, Vector{Float32}}, Optimisers.Restructure{Chain{NTuple{4, Dense{typeof(tanh), Matrix{Float32}, Vector{Float32}}}}, NamedTuple{(:layers,), Tuple{NTuple{4, NamedTuple{(:weight, :bias, :σ), Tuple{Int64, Int64, Tuple{}}}}}}}}, Float64}, Float64, 10, Matrix{ForwardDiff.Dual{ForwardDiff.Tag{var\"#15#17\"{ReverseDiff.TrackedArray{Float32, Float32, 1, Vector{Float32}, Vector{Float32}}, Optimisers.Restructure{Chain{NTuple{4, Dense{typeof(tanh), Matrix{Float32}, Vector{Float32}}}}, NamedTuple{(:layers,), Tuple{NTuple{4, NamedTuple{(:weight, :bias, :σ), Tuple{Int64, Int64, Tuple{}}}}}}}}, Float64}, Float64, 10}}}, ::Val{true})",
      "    @ ForwardDiff ~/.julia/packages/ForwardDiff/pDtsf/src/jacobian.jl:23",
      " [39] jacobian(f::Function, x::Matrix{Float64}, cfg::ForwardDiff.JacobianConfig{ForwardDiff.Tag{var\"#15#17\"{ReverseDiff.TrackedArray{Float32, Float32, 1, Vector{Float32}, Vector{Float32}}, Optimisers.Restructure{Chain{NTuple{4, Dense{typeof(tanh), Matrix{Float32}, Vector{Float32}}}}, NamedTuple{(:layers,), Tuple{NTuple{4, NamedTuple{(:weight, :bias, :σ), Tuple{Int64, Int64, Tuple{}}}}}}}}, Float64}, Float64, 10, Matrix{ForwardDiff.Dual{ForwardDiff.Tag{var\"#15#17\"{ReverseDiff.TrackedArray{Float32, Float32, 1, Vector{Float32}, Vector{Float32}}, Optimisers.Restructure{Chain{NTuple{4, Dense{typeof(tanh), Matrix{Float32}, Vector{Float32}}}}, NamedTuple{(:layers,), Tuple{NTuple{4, NamedTuple{(:weight, :bias, :σ), Tuple{Int64, Int64, Tuple{}}}}}}}}, Float64}, Float64, 10}}}) (repeats 2 times)",
      "    @ ForwardDiff ~/.julia/packages/ForwardDiff/pDtsf/src/jacobian.jl:19",
      " [40] a_test(collocationPts::Matrix{Float64}, p::ReverseDiff.TrackedArray{Float32, Float32, 1, Vector{Float32}, Vector{Float32}}, re::Optimisers.Restructure{Chain{NTuple{4, Dense{typeof(tanh), Matrix{Float32}, Vector{Float32}}}}, NamedTuple{(:layers,), Tuple{NTuple{4, NamedTuple{(:weight, :bias, :σ), Tuple{Int64, Int64, Tuple{}}}}}}})",
      "    @ Main ./In[14]:2",
      " [41] (::var\"#21#22\")(p::ReverseDiff.TrackedArray{Float32, Float32, 1, Vector{Float32}, Vector{Float32}})",
      "    @ Main ./In[20]:1",
      " [42] ReverseDiff.GradientTape(f::var\"#21#22\", input::Vector{Float32}, cfg::ReverseDiff.GradientConfig{ReverseDiff.TrackedArray{Float32, Float32, 1, Vector{Float32}, Vector{Float32}}})",
      "    @ ReverseDiff ~/.julia/packages/ReverseDiff/YkVxM/src/api/tape.jl:199",
      " [43] gradient(f::Function, input::Vector{Float32}, cfg::ReverseDiff.GradientConfig{ReverseDiff.TrackedArray{Float32, Float32, 1, Vector{Float32}, Vector{Float32}}}) (repeats 2 times)",
      "    @ ReverseDiff ~/.julia/packages/ReverseDiff/YkVxM/src/api/gradients.jl:22",
      " [44] eval",
      "    @ ./boot.jl:368 [inlined]",
      " [45] include_string(mapexpr::typeof(REPL.softscope), mod::Module, code::String, filename::String)",
      "    @ Base ./loading.jl:1428"
     ]
    }
   ],
   "source": [
    "RD.gradient(p->a_test(collocationPts,p,re),p)"
   ]
  },
  {
   "cell_type": "code",
   "execution_count": null,
   "metadata": {},
   "outputs": [],
   "source": [
    "function a_test(collocationPts,ψmodel)\n",
    "    DDψ = FD.jacobian(Y -> FD.jacobian(x->re(p)(x),Y),collocationPts);\n",
    "    norm(DDψ)\n",
    "end"
   ]
  },
  {
   "cell_type": "code",
   "execution_count": 30,
   "metadata": {},
   "outputs": [
    {
     "data": {
      "text/plain": [
       "b_test (generic function with 1 method)"
      ]
     },
     "execution_count": 30,
     "metadata": {},
     "output_type": "execute_result"
    }
   ],
   "source": [
    "function b_test(collocationPts,ψmodel)\n",
    "    Dψ, DDψ = Zygote.forward_jacobian(Y -> Zygote.jacobian(X->ψmodel(X),Y)[1],collocationPts);\n",
    "    norm(DDψ)\n",
    "end"
   ]
  },
  {
   "cell_type": "code",
   "execution_count": 32,
   "metadata": {},
   "outputs": [
    {
     "data": {
      "text/plain": [
       "0.4229002591623486"
      ]
     },
     "execution_count": 32,
     "metadata": {},
     "output_type": "execute_result"
    }
   ],
   "source": [
    "b_test(collocationPts,ψmodel)"
   ]
  },
  {
   "cell_type": "code",
   "execution_count": 33,
   "metadata": {},
   "outputs": [
    {
     "ename": "LoadError",
     "evalue": "Mutating arrays is not supported -- called setindex!(Matrix{Float64}, ...)\nThis error occurs when you ask Zygote to differentiate operations that change\nthe elements of arrays in place (e.g. setting values with x .= ...)\n\nPossible fixes:\n- avoid mutating operations (preferred)\n- or read the documentation and solutions for this error\n  https://fluxml.ai/Zygote.jl/latest/limitations\n",
     "output_type": "error",
     "traceback": [
      "Mutating arrays is not supported -- called setindex!(Matrix{Float64}, ...)\nThis error occurs when you ask Zygote to differentiate operations that change\nthe elements of arrays in place (e.g. setting values with x .= ...)\n\nPossible fixes:\n- avoid mutating operations (preferred)\n- or read the documentation and solutions for this error\n  https://fluxml.ai/Zygote.jl/latest/limitations\n",
      "",
      "Stacktrace:",
      "  [1] error(s::String)",
      "    @ Base ./error.jl:35",
      "  [2] _throw_mutation_error(f::Function, args::Matrix{Float64})",
      "    @ Zygote ~/.julia/packages/Zygote/dABKa/src/lib/array.jl:68",
      "  [3] (::Zygote.var\"#385#386\"{Matrix{Float64}})(#unused#::Nothing)",
      "    @ Zygote ~/.julia/packages/Zygote/dABKa/src/lib/array.jl:80",
      "  [4] (::Zygote.var\"#2464#back#387\"{Zygote.var\"#385#386\"{Matrix{Float64}}})(Δ::Nothing)",
      "    @ Zygote ~/.julia/packages/ZygoteRules/AIbCs/src/adjoint.jl:67",
      "  [5] Pullback",
      "    @ ~/.julia/packages/Zygote/dABKa/src/lib/forward.jl:37 [inlined]",
      "  [6] (::typeof(∂(forward_jacobian)))(Δ::Tuple{Nothing, Matrix{Float64}})",
      "    @ Zygote ~/.julia/packages/Zygote/dABKa/src/compiler/interface2.jl:0",
      "  [7] Pullback",
      "    @ ~/.julia/packages/Zygote/dABKa/src/lib/forward.jl:44 [inlined]",
      "  [8] Pullback",
      "    @ ~/.julia/packages/Zygote/dABKa/src/lib/forward.jl:42 [inlined]",
      "  [9] Pullback",
      "    @ ./In[30]:2 [inlined]",
      " [10] (::typeof(∂(b_test)))(Δ::Float64)",
      "    @ Zygote ~/.julia/packages/Zygote/dABKa/src/compiler/interface2.jl:0",
      " [11] Pullback",
      "    @ ./In[33]:1 [inlined]",
      " [12] (::typeof(∂(#49)))(Δ::Float64)",
      "    @ Zygote ~/.julia/packages/Zygote/dABKa/src/compiler/interface2.jl:0",
      " [13] (::Zygote.var\"#99#100\"{Params{Zygote.Buffer{Any, Vector{Any}}}, typeof(∂(#49)), Zygote.Context{true}})(Δ::Float64)",
      "    @ Zygote ~/.julia/packages/Zygote/dABKa/src/compiler/interface.jl:378",
      " [14] gradient(f::Function, args::Params{Zygote.Buffer{Any, Vector{Any}}})",
      "    @ Zygote ~/.julia/packages/Zygote/dABKa/src/compiler/interface.jl:97",
      " [15] top-level scope",
      "    @ In[33]:1",
      " [16] eval",
      "    @ ./boot.jl:368 [inlined]",
      " [17] include_string(mapexpr::typeof(REPL.softscope), mod::Module, code::String, filename::String)",
      "    @ Base ./loading.jl:1428"
     ]
    },
    {
     "ename": "",
     "evalue": "",
     "output_type": "error",
     "traceback": [
      "\u001b[1;31mThe Kernel crashed while executing code in the the current cell or a previous cell. Please review the code in the cell(s) to identify a possible cause of the failure. Click <a href='https://aka.ms/vscodeJupyterKernelCrash'>here</a> for more info. View Jupyter <a href='command:jupyter.viewOutput'>log</a> for further details."
     ]
    }
   ],
   "source": [
    "Zygote.gradient(()->b_test(collocationPts,ψmodel),Flux.params(ψmodel))"
   ]
  },
  {
   "cell_type": "code",
   "execution_count": 154,
   "metadata": {},
   "outputs": [
    {
     "data": {
      "text/plain": [
       "([2.1106060931504373, 4.4614792075617515],)"
      ]
     },
     "execution_count": 154,
     "metadata": {},
     "output_type": "execute_result"
    }
   ],
   "source": [
    "Zygote.jacobian(t->ψtest([collocationPts[1,1],t]),collocationPts[2,1])"
   ]
  },
  {
   "cell_type": "code",
   "execution_count": 149,
   "metadata": {},
   "outputs": [
    {
     "data": {
      "text/plain": [
       "20×20 Matrix{Float64}:\n",
       " 1.21378  2.11061   0.0         0.0       …    0.0      0.0        0.0\n",
       " 6.16477  4.46148   0.0         0.0            0.0      0.0        0.0\n",
       " 0.0      0.0       0.839997    0.120252       0.0      0.0        0.0\n",
       " 0.0      0.0      -1.62302   -17.2143         0.0      0.0        0.0\n",
       " 0.0      0.0       0.0         0.0            0.0      0.0        0.0\n",
       " 0.0      0.0       0.0         0.0       …    0.0      0.0        0.0\n",
       " 0.0      0.0       0.0         0.0            0.0      0.0        0.0\n",
       " 0.0      0.0       0.0         0.0            0.0      0.0        0.0\n",
       " 0.0      0.0       0.0         0.0            0.0      0.0        0.0\n",
       " 0.0      0.0       0.0         0.0            0.0      0.0        0.0\n",
       " 0.0      0.0       0.0         0.0       …    0.0      0.0        0.0\n",
       " 0.0      0.0       0.0         0.0            0.0      0.0        0.0\n",
       " 0.0      0.0       0.0         0.0            0.0      0.0        0.0\n",
       " 0.0      0.0       0.0         0.0            0.0      0.0        0.0\n",
       " 0.0      0.0       0.0         0.0            0.0      0.0        0.0\n",
       " 0.0      0.0       0.0         0.0       …    0.0      0.0        0.0\n",
       " 0.0      0.0       0.0         0.0            1.63608  0.0        0.0\n",
       " 0.0      0.0       0.0         0.0          -18.131    0.0        0.0\n",
       " 0.0      0.0       0.0         0.0            0.0      1.68307  -12.0143\n",
       " 0.0      0.0       0.0         0.0            0.0      1.67301    2.77202"
      ]
     },
     "execution_count": 149,
     "metadata": {},
     "output_type": "execute_result"
    }
   ],
   "source": [
    "Dψ"
   ]
  },
  {
   "cell_type": "code",
   "execution_count": 16,
   "metadata": {},
   "outputs": [],
   "source": [
    "function a_test\n",
    "Dψ, DDψ = Zygote.forward_jacobian(Y -> Zygote.jacobian(x->ψmodel(x),Y)[1],randn(2,10));"
   ]
  },
  {
   "cell_type": "code",
   "execution_count": 83,
   "metadata": {},
   "outputs": [
    {
     "data": {
      "text/plain": [
       "20-element Vector{Int64}:\n",
       " 4\n",
       " 4\n",
       " 4\n",
       " 4\n",
       " 4\n",
       " 4\n",
       " 4\n",
       " 4\n",
       " 4\n",
       " 4\n",
       " 8\n",
       " 8\n",
       " 8\n",
       " 8\n",
       " 8\n",
       " 8\n",
       " 8\n",
       " 8\n",
       " 8\n",
       " 8"
      ]
     },
     "execution_count": 83,
     "metadata": {},
     "output_type": "execute_result"
    }
   ],
   "source": [
    "[sum([DDψ .!= 0.0][1][:,1:2 + 2i]) for i in 0:19]"
   ]
  },
  {
   "cell_type": "code",
   "execution_count": 9,
   "metadata": {},
   "outputs": [
    {
     "data": {
      "text/plain": [
       "([-0.4647458375393646, 0.40574901550852277], [0.12378217399477319 -0.18787819195596278; -0.132936019452642 -0.08764034973969359])"
      ]
     },
     "execution_count": 9,
     "metadata": {},
     "output_type": "execute_result"
    }
   ],
   "source": [
    "Zygote.forward_jacobian(x->ψmodel(x),randn(2))"
   ]
  },
  {
   "cell_type": "code",
   "execution_count": 7,
   "metadata": {},
   "outputs": [
    {
     "data": {
      "text/plain": [
       "([0.68461640813541 -0.6527095228649112; -0.29970379221004206 0.12806127706895734], [-0.09740624351262038 -0.03758997067101796 0.14113348270538417 -0.023942858537649415; 0.1411334827053841 -0.02394285853764943 -0.2333561415022148 0.021241809901526677])"
      ]
     },
     "execution_count": 7,
     "metadata": {},
     "output_type": "execute_result"
    }
   ],
   "source": [
    "Zygote.forward_jacobian(Y -> Zygote.jacobian(x->ψmodel(x),Y)[1],randn(2,1))"
   ]
  }
 ],
 "metadata": {
  "kernelspec": {
   "display_name": "Julia 1.8.2",
   "language": "julia",
   "name": "julia-1.8"
  },
  "language_info": {
   "file_extension": ".jl",
   "mimetype": "application/julia",
   "name": "julia",
   "version": "1.8.2"
  },
  "orig_nbformat": 4,
  "vscode": {
   "interpreter": {
    "hash": "1a1af0ee75eeea9e2e1ee996c87e7a2b11a0bebd85af04bb136d915cefc0abce"
   }
  }
 },
 "nbformat": 4,
 "nbformat_minor": 2
}
